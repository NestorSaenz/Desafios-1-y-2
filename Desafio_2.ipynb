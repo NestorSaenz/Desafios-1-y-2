{
  "nbformat": 4,
  "nbformat_minor": 0,
  "metadata": {
    "colab": {
      "provenance": [],
      "gpuType": "T4",
      "collapsed_sections": [
        "hsUCRGZC2M5S",
        "R1wB7uzv2pgp",
        "a5X4CZRG2x2J",
        "Da8RIwTP34TC",
        "8LRglN2zN6zo",
        "MSA3K2xV5GQu"
      ],
      "include_colab_link": true
    },
    "kernelspec": {
      "name": "python3",
      "display_name": "Python 3"
    },
    "language_info": {
      "name": "python"
    },
    "accelerator": "GPU",
    "widgets": {
      "application/vnd.jupyter.widget-state+json": {
        "d77c4588870d4fac85a719c098848688": {
          "model_module": "@jupyter-widgets/controls",
          "model_name": "HBoxModel",
          "model_module_version": "1.5.0",
          "state": {
            "_dom_classes": [],
            "_model_module": "@jupyter-widgets/controls",
            "_model_module_version": "1.5.0",
            "_model_name": "HBoxModel",
            "_view_count": null,
            "_view_module": "@jupyter-widgets/controls",
            "_view_module_version": "1.5.0",
            "_view_name": "HBoxView",
            "box_style": "",
            "children": [
              "IPY_MODEL_d53b3e8b95f9450f85a96afecc45c7c9",
              "IPY_MODEL_e1e4c537ed1e4cd38ce26d1c3f2b5442",
              "IPY_MODEL_0bdf939d86434b29b75de0d03f3947f3"
            ],
            "layout": "IPY_MODEL_72a2effc31d749ccb3c7575b5ac743f5"
          }
        },
        "d53b3e8b95f9450f85a96afecc45c7c9": {
          "model_module": "@jupyter-widgets/controls",
          "model_name": "HTMLModel",
          "model_module_version": "1.5.0",
          "state": {
            "_dom_classes": [],
            "_model_module": "@jupyter-widgets/controls",
            "_model_module_version": "1.5.0",
            "_model_name": "HTMLModel",
            "_view_count": null,
            "_view_module": "@jupyter-widgets/controls",
            "_view_module_version": "1.5.0",
            "_view_name": "HTMLView",
            "description": "",
            "description_tooltip": null,
            "layout": "IPY_MODEL_5b413d1b5296476e928226ca49910876",
            "placeholder": "​",
            "style": "IPY_MODEL_3be08083d9d5465bb6a1ae4aa82d7f5f",
            "value": "modules.json: 100%"
          }
        },
        "e1e4c537ed1e4cd38ce26d1c3f2b5442": {
          "model_module": "@jupyter-widgets/controls",
          "model_name": "FloatProgressModel",
          "model_module_version": "1.5.0",
          "state": {
            "_dom_classes": [],
            "_model_module": "@jupyter-widgets/controls",
            "_model_module_version": "1.5.0",
            "_model_name": "FloatProgressModel",
            "_view_count": null,
            "_view_module": "@jupyter-widgets/controls",
            "_view_module_version": "1.5.0",
            "_view_name": "ProgressView",
            "bar_style": "success",
            "description": "",
            "description_tooltip": null,
            "layout": "IPY_MODEL_cfa1e56ee68d449391d788e129bb915b",
            "max": 229,
            "min": 0,
            "orientation": "horizontal",
            "style": "IPY_MODEL_29b7466d8e5544588a7e17b968335b6b",
            "value": 229
          }
        },
        "0bdf939d86434b29b75de0d03f3947f3": {
          "model_module": "@jupyter-widgets/controls",
          "model_name": "HTMLModel",
          "model_module_version": "1.5.0",
          "state": {
            "_dom_classes": [],
            "_model_module": "@jupyter-widgets/controls",
            "_model_module_version": "1.5.0",
            "_model_name": "HTMLModel",
            "_view_count": null,
            "_view_module": "@jupyter-widgets/controls",
            "_view_module_version": "1.5.0",
            "_view_name": "HTMLView",
            "description": "",
            "description_tooltip": null,
            "layout": "IPY_MODEL_81c7f2773ea4431eb48866990fabc399",
            "placeholder": "​",
            "style": "IPY_MODEL_b74646a956554c3bac86896023bd6452",
            "value": " 229/229 [00:00&lt;00:00, 16.8kB/s]"
          }
        },
        "72a2effc31d749ccb3c7575b5ac743f5": {
          "model_module": "@jupyter-widgets/base",
          "model_name": "LayoutModel",
          "model_module_version": "1.2.0",
          "state": {
            "_model_module": "@jupyter-widgets/base",
            "_model_module_version": "1.2.0",
            "_model_name": "LayoutModel",
            "_view_count": null,
            "_view_module": "@jupyter-widgets/base",
            "_view_module_version": "1.2.0",
            "_view_name": "LayoutView",
            "align_content": null,
            "align_items": null,
            "align_self": null,
            "border": null,
            "bottom": null,
            "display": null,
            "flex": null,
            "flex_flow": null,
            "grid_area": null,
            "grid_auto_columns": null,
            "grid_auto_flow": null,
            "grid_auto_rows": null,
            "grid_column": null,
            "grid_gap": null,
            "grid_row": null,
            "grid_template_areas": null,
            "grid_template_columns": null,
            "grid_template_rows": null,
            "height": null,
            "justify_content": null,
            "justify_items": null,
            "left": null,
            "margin": null,
            "max_height": null,
            "max_width": null,
            "min_height": null,
            "min_width": null,
            "object_fit": null,
            "object_position": null,
            "order": null,
            "overflow": null,
            "overflow_x": null,
            "overflow_y": null,
            "padding": null,
            "right": null,
            "top": null,
            "visibility": null,
            "width": null
          }
        },
        "5b413d1b5296476e928226ca49910876": {
          "model_module": "@jupyter-widgets/base",
          "model_name": "LayoutModel",
          "model_module_version": "1.2.0",
          "state": {
            "_model_module": "@jupyter-widgets/base",
            "_model_module_version": "1.2.0",
            "_model_name": "LayoutModel",
            "_view_count": null,
            "_view_module": "@jupyter-widgets/base",
            "_view_module_version": "1.2.0",
            "_view_name": "LayoutView",
            "align_content": null,
            "align_items": null,
            "align_self": null,
            "border": null,
            "bottom": null,
            "display": null,
            "flex": null,
            "flex_flow": null,
            "grid_area": null,
            "grid_auto_columns": null,
            "grid_auto_flow": null,
            "grid_auto_rows": null,
            "grid_column": null,
            "grid_gap": null,
            "grid_row": null,
            "grid_template_areas": null,
            "grid_template_columns": null,
            "grid_template_rows": null,
            "height": null,
            "justify_content": null,
            "justify_items": null,
            "left": null,
            "margin": null,
            "max_height": null,
            "max_width": null,
            "min_height": null,
            "min_width": null,
            "object_fit": null,
            "object_position": null,
            "order": null,
            "overflow": null,
            "overflow_x": null,
            "overflow_y": null,
            "padding": null,
            "right": null,
            "top": null,
            "visibility": null,
            "width": null
          }
        },
        "3be08083d9d5465bb6a1ae4aa82d7f5f": {
          "model_module": "@jupyter-widgets/controls",
          "model_name": "DescriptionStyleModel",
          "model_module_version": "1.5.0",
          "state": {
            "_model_module": "@jupyter-widgets/controls",
            "_model_module_version": "1.5.0",
            "_model_name": "DescriptionStyleModel",
            "_view_count": null,
            "_view_module": "@jupyter-widgets/base",
            "_view_module_version": "1.2.0",
            "_view_name": "StyleView",
            "description_width": ""
          }
        },
        "cfa1e56ee68d449391d788e129bb915b": {
          "model_module": "@jupyter-widgets/base",
          "model_name": "LayoutModel",
          "model_module_version": "1.2.0",
          "state": {
            "_model_module": "@jupyter-widgets/base",
            "_model_module_version": "1.2.0",
            "_model_name": "LayoutModel",
            "_view_count": null,
            "_view_module": "@jupyter-widgets/base",
            "_view_module_version": "1.2.0",
            "_view_name": "LayoutView",
            "align_content": null,
            "align_items": null,
            "align_self": null,
            "border": null,
            "bottom": null,
            "display": null,
            "flex": null,
            "flex_flow": null,
            "grid_area": null,
            "grid_auto_columns": null,
            "grid_auto_flow": null,
            "grid_auto_rows": null,
            "grid_column": null,
            "grid_gap": null,
            "grid_row": null,
            "grid_template_areas": null,
            "grid_template_columns": null,
            "grid_template_rows": null,
            "height": null,
            "justify_content": null,
            "justify_items": null,
            "left": null,
            "margin": null,
            "max_height": null,
            "max_width": null,
            "min_height": null,
            "min_width": null,
            "object_fit": null,
            "object_position": null,
            "order": null,
            "overflow": null,
            "overflow_x": null,
            "overflow_y": null,
            "padding": null,
            "right": null,
            "top": null,
            "visibility": null,
            "width": null
          }
        },
        "29b7466d8e5544588a7e17b968335b6b": {
          "model_module": "@jupyter-widgets/controls",
          "model_name": "ProgressStyleModel",
          "model_module_version": "1.5.0",
          "state": {
            "_model_module": "@jupyter-widgets/controls",
            "_model_module_version": "1.5.0",
            "_model_name": "ProgressStyleModel",
            "_view_count": null,
            "_view_module": "@jupyter-widgets/base",
            "_view_module_version": "1.2.0",
            "_view_name": "StyleView",
            "bar_color": null,
            "description_width": ""
          }
        },
        "81c7f2773ea4431eb48866990fabc399": {
          "model_module": "@jupyter-widgets/base",
          "model_name": "LayoutModel",
          "model_module_version": "1.2.0",
          "state": {
            "_model_module": "@jupyter-widgets/base",
            "_model_module_version": "1.2.0",
            "_model_name": "LayoutModel",
            "_view_count": null,
            "_view_module": "@jupyter-widgets/base",
            "_view_module_version": "1.2.0",
            "_view_name": "LayoutView",
            "align_content": null,
            "align_items": null,
            "align_self": null,
            "border": null,
            "bottom": null,
            "display": null,
            "flex": null,
            "flex_flow": null,
            "grid_area": null,
            "grid_auto_columns": null,
            "grid_auto_flow": null,
            "grid_auto_rows": null,
            "grid_column": null,
            "grid_gap": null,
            "grid_row": null,
            "grid_template_areas": null,
            "grid_template_columns": null,
            "grid_template_rows": null,
            "height": null,
            "justify_content": null,
            "justify_items": null,
            "left": null,
            "margin": null,
            "max_height": null,
            "max_width": null,
            "min_height": null,
            "min_width": null,
            "object_fit": null,
            "object_position": null,
            "order": null,
            "overflow": null,
            "overflow_x": null,
            "overflow_y": null,
            "padding": null,
            "right": null,
            "top": null,
            "visibility": null,
            "width": null
          }
        },
        "b74646a956554c3bac86896023bd6452": {
          "model_module": "@jupyter-widgets/controls",
          "model_name": "DescriptionStyleModel",
          "model_module_version": "1.5.0",
          "state": {
            "_model_module": "@jupyter-widgets/controls",
            "_model_module_version": "1.5.0",
            "_model_name": "DescriptionStyleModel",
            "_view_count": null,
            "_view_module": "@jupyter-widgets/base",
            "_view_module_version": "1.2.0",
            "_view_name": "StyleView",
            "description_width": ""
          }
        },
        "20f9da5b3bd84386a2d1c781bdea2cbb": {
          "model_module": "@jupyter-widgets/controls",
          "model_name": "HBoxModel",
          "model_module_version": "1.5.0",
          "state": {
            "_dom_classes": [],
            "_model_module": "@jupyter-widgets/controls",
            "_model_module_version": "1.5.0",
            "_model_name": "HBoxModel",
            "_view_count": null,
            "_view_module": "@jupyter-widgets/controls",
            "_view_module_version": "1.5.0",
            "_view_name": "HBoxView",
            "box_style": "",
            "children": [
              "IPY_MODEL_2f84ffe498b84c21b3585e57484557cb",
              "IPY_MODEL_e073222b2c0841d1a2b30102fcf0a34d",
              "IPY_MODEL_d3691aa54fec4016b456871932f7638c"
            ],
            "layout": "IPY_MODEL_64cfe2c2776d402ebe45fde7047bb023"
          }
        },
        "2f84ffe498b84c21b3585e57484557cb": {
          "model_module": "@jupyter-widgets/controls",
          "model_name": "HTMLModel",
          "model_module_version": "1.5.0",
          "state": {
            "_dom_classes": [],
            "_model_module": "@jupyter-widgets/controls",
            "_model_module_version": "1.5.0",
            "_model_name": "HTMLModel",
            "_view_count": null,
            "_view_module": "@jupyter-widgets/controls",
            "_view_module_version": "1.5.0",
            "_view_name": "HTMLView",
            "description": "",
            "description_tooltip": null,
            "layout": "IPY_MODEL_a1d37385245c4ba6a2cb901e734f5256",
            "placeholder": "​",
            "style": "IPY_MODEL_12167879f0f447c1a3a31954b6ecdcd9",
            "value": "config_sentence_transformers.json: 100%"
          }
        },
        "e073222b2c0841d1a2b30102fcf0a34d": {
          "model_module": "@jupyter-widgets/controls",
          "model_name": "FloatProgressModel",
          "model_module_version": "1.5.0",
          "state": {
            "_dom_classes": [],
            "_model_module": "@jupyter-widgets/controls",
            "_model_module_version": "1.5.0",
            "_model_name": "FloatProgressModel",
            "_view_count": null,
            "_view_module": "@jupyter-widgets/controls",
            "_view_module_version": "1.5.0",
            "_view_name": "ProgressView",
            "bar_style": "success",
            "description": "",
            "description_tooltip": null,
            "layout": "IPY_MODEL_750fcf9ea77f4526a319278777b7786b",
            "max": 122,
            "min": 0,
            "orientation": "horizontal",
            "style": "IPY_MODEL_1be4d5e4292542c8ba40db7d02ea3d26",
            "value": 122
          }
        },
        "d3691aa54fec4016b456871932f7638c": {
          "model_module": "@jupyter-widgets/controls",
          "model_name": "HTMLModel",
          "model_module_version": "1.5.0",
          "state": {
            "_dom_classes": [],
            "_model_module": "@jupyter-widgets/controls",
            "_model_module_version": "1.5.0",
            "_model_name": "HTMLModel",
            "_view_count": null,
            "_view_module": "@jupyter-widgets/controls",
            "_view_module_version": "1.5.0",
            "_view_name": "HTMLView",
            "description": "",
            "description_tooltip": null,
            "layout": "IPY_MODEL_52fed378587844ff9ed57b1a05f1df98",
            "placeholder": "​",
            "style": "IPY_MODEL_97a29faacbf54d4980c9a4d264153f4a",
            "value": " 122/122 [00:00&lt;00:00, 5.76kB/s]"
          }
        },
        "64cfe2c2776d402ebe45fde7047bb023": {
          "model_module": "@jupyter-widgets/base",
          "model_name": "LayoutModel",
          "model_module_version": "1.2.0",
          "state": {
            "_model_module": "@jupyter-widgets/base",
            "_model_module_version": "1.2.0",
            "_model_name": "LayoutModel",
            "_view_count": null,
            "_view_module": "@jupyter-widgets/base",
            "_view_module_version": "1.2.0",
            "_view_name": "LayoutView",
            "align_content": null,
            "align_items": null,
            "align_self": null,
            "border": null,
            "bottom": null,
            "display": null,
            "flex": null,
            "flex_flow": null,
            "grid_area": null,
            "grid_auto_columns": null,
            "grid_auto_flow": null,
            "grid_auto_rows": null,
            "grid_column": null,
            "grid_gap": null,
            "grid_row": null,
            "grid_template_areas": null,
            "grid_template_columns": null,
            "grid_template_rows": null,
            "height": null,
            "justify_content": null,
            "justify_items": null,
            "left": null,
            "margin": null,
            "max_height": null,
            "max_width": null,
            "min_height": null,
            "min_width": null,
            "object_fit": null,
            "object_position": null,
            "order": null,
            "overflow": null,
            "overflow_x": null,
            "overflow_y": null,
            "padding": null,
            "right": null,
            "top": null,
            "visibility": null,
            "width": null
          }
        },
        "a1d37385245c4ba6a2cb901e734f5256": {
          "model_module": "@jupyter-widgets/base",
          "model_name": "LayoutModel",
          "model_module_version": "1.2.0",
          "state": {
            "_model_module": "@jupyter-widgets/base",
            "_model_module_version": "1.2.0",
            "_model_name": "LayoutModel",
            "_view_count": null,
            "_view_module": "@jupyter-widgets/base",
            "_view_module_version": "1.2.0",
            "_view_name": "LayoutView",
            "align_content": null,
            "align_items": null,
            "align_self": null,
            "border": null,
            "bottom": null,
            "display": null,
            "flex": null,
            "flex_flow": null,
            "grid_area": null,
            "grid_auto_columns": null,
            "grid_auto_flow": null,
            "grid_auto_rows": null,
            "grid_column": null,
            "grid_gap": null,
            "grid_row": null,
            "grid_template_areas": null,
            "grid_template_columns": null,
            "grid_template_rows": null,
            "height": null,
            "justify_content": null,
            "justify_items": null,
            "left": null,
            "margin": null,
            "max_height": null,
            "max_width": null,
            "min_height": null,
            "min_width": null,
            "object_fit": null,
            "object_position": null,
            "order": null,
            "overflow": null,
            "overflow_x": null,
            "overflow_y": null,
            "padding": null,
            "right": null,
            "top": null,
            "visibility": null,
            "width": null
          }
        },
        "12167879f0f447c1a3a31954b6ecdcd9": {
          "model_module": "@jupyter-widgets/controls",
          "model_name": "DescriptionStyleModel",
          "model_module_version": "1.5.0",
          "state": {
            "_model_module": "@jupyter-widgets/controls",
            "_model_module_version": "1.5.0",
            "_model_name": "DescriptionStyleModel",
            "_view_count": null,
            "_view_module": "@jupyter-widgets/base",
            "_view_module_version": "1.2.0",
            "_view_name": "StyleView",
            "description_width": ""
          }
        },
        "750fcf9ea77f4526a319278777b7786b": {
          "model_module": "@jupyter-widgets/base",
          "model_name": "LayoutModel",
          "model_module_version": "1.2.0",
          "state": {
            "_model_module": "@jupyter-widgets/base",
            "_model_module_version": "1.2.0",
            "_model_name": "LayoutModel",
            "_view_count": null,
            "_view_module": "@jupyter-widgets/base",
            "_view_module_version": "1.2.0",
            "_view_name": "LayoutView",
            "align_content": null,
            "align_items": null,
            "align_self": null,
            "border": null,
            "bottom": null,
            "display": null,
            "flex": null,
            "flex_flow": null,
            "grid_area": null,
            "grid_auto_columns": null,
            "grid_auto_flow": null,
            "grid_auto_rows": null,
            "grid_column": null,
            "grid_gap": null,
            "grid_row": null,
            "grid_template_areas": null,
            "grid_template_columns": null,
            "grid_template_rows": null,
            "height": null,
            "justify_content": null,
            "justify_items": null,
            "left": null,
            "margin": null,
            "max_height": null,
            "max_width": null,
            "min_height": null,
            "min_width": null,
            "object_fit": null,
            "object_position": null,
            "order": null,
            "overflow": null,
            "overflow_x": null,
            "overflow_y": null,
            "padding": null,
            "right": null,
            "top": null,
            "visibility": null,
            "width": null
          }
        },
        "1be4d5e4292542c8ba40db7d02ea3d26": {
          "model_module": "@jupyter-widgets/controls",
          "model_name": "ProgressStyleModel",
          "model_module_version": "1.5.0",
          "state": {
            "_model_module": "@jupyter-widgets/controls",
            "_model_module_version": "1.5.0",
            "_model_name": "ProgressStyleModel",
            "_view_count": null,
            "_view_module": "@jupyter-widgets/base",
            "_view_module_version": "1.2.0",
            "_view_name": "StyleView",
            "bar_color": null,
            "description_width": ""
          }
        },
        "52fed378587844ff9ed57b1a05f1df98": {
          "model_module": "@jupyter-widgets/base",
          "model_name": "LayoutModel",
          "model_module_version": "1.2.0",
          "state": {
            "_model_module": "@jupyter-widgets/base",
            "_model_module_version": "1.2.0",
            "_model_name": "LayoutModel",
            "_view_count": null,
            "_view_module": "@jupyter-widgets/base",
            "_view_module_version": "1.2.0",
            "_view_name": "LayoutView",
            "align_content": null,
            "align_items": null,
            "align_self": null,
            "border": null,
            "bottom": null,
            "display": null,
            "flex": null,
            "flex_flow": null,
            "grid_area": null,
            "grid_auto_columns": null,
            "grid_auto_flow": null,
            "grid_auto_rows": null,
            "grid_column": null,
            "grid_gap": null,
            "grid_row": null,
            "grid_template_areas": null,
            "grid_template_columns": null,
            "grid_template_rows": null,
            "height": null,
            "justify_content": null,
            "justify_items": null,
            "left": null,
            "margin": null,
            "max_height": null,
            "max_width": null,
            "min_height": null,
            "min_width": null,
            "object_fit": null,
            "object_position": null,
            "order": null,
            "overflow": null,
            "overflow_x": null,
            "overflow_y": null,
            "padding": null,
            "right": null,
            "top": null,
            "visibility": null,
            "width": null
          }
        },
        "97a29faacbf54d4980c9a4d264153f4a": {
          "model_module": "@jupyter-widgets/controls",
          "model_name": "DescriptionStyleModel",
          "model_module_version": "1.5.0",
          "state": {
            "_model_module": "@jupyter-widgets/controls",
            "_model_module_version": "1.5.0",
            "_model_name": "DescriptionStyleModel",
            "_view_count": null,
            "_view_module": "@jupyter-widgets/base",
            "_view_module_version": "1.2.0",
            "_view_name": "StyleView",
            "description_width": ""
          }
        },
        "a948a5240bda4a0b8274862f33852960": {
          "model_module": "@jupyter-widgets/controls",
          "model_name": "HBoxModel",
          "model_module_version": "1.5.0",
          "state": {
            "_dom_classes": [],
            "_model_module": "@jupyter-widgets/controls",
            "_model_module_version": "1.5.0",
            "_model_name": "HBoxModel",
            "_view_count": null,
            "_view_module": "@jupyter-widgets/controls",
            "_view_module_version": "1.5.0",
            "_view_name": "HBoxView",
            "box_style": "",
            "children": [
              "IPY_MODEL_9a845acdb6434d65a7f86a4de08eea1f",
              "IPY_MODEL_0e0e6f7f5fb0459c97adedbbd29cb621",
              "IPY_MODEL_19d74ccc7d584ce480514d76bfd2360b"
            ],
            "layout": "IPY_MODEL_e61dfbeb3be04ef0b783a18272e02032"
          }
        },
        "9a845acdb6434d65a7f86a4de08eea1f": {
          "model_module": "@jupyter-widgets/controls",
          "model_name": "HTMLModel",
          "model_module_version": "1.5.0",
          "state": {
            "_dom_classes": [],
            "_model_module": "@jupyter-widgets/controls",
            "_model_module_version": "1.5.0",
            "_model_name": "HTMLModel",
            "_view_count": null,
            "_view_module": "@jupyter-widgets/controls",
            "_view_module_version": "1.5.0",
            "_view_name": "HTMLView",
            "description": "",
            "description_tooltip": null,
            "layout": "IPY_MODEL_7e69982aa6844e54988397c3468697df",
            "placeholder": "​",
            "style": "IPY_MODEL_b4074f15ff6945c6ba8d1df6307c926b",
            "value": "README.md: 100%"
          }
        },
        "0e0e6f7f5fb0459c97adedbbd29cb621": {
          "model_module": "@jupyter-widgets/controls",
          "model_name": "FloatProgressModel",
          "model_module_version": "1.5.0",
          "state": {
            "_dom_classes": [],
            "_model_module": "@jupyter-widgets/controls",
            "_model_module_version": "1.5.0",
            "_model_name": "FloatProgressModel",
            "_view_count": null,
            "_view_module": "@jupyter-widgets/controls",
            "_view_module_version": "1.5.0",
            "_view_name": "ProgressView",
            "bar_style": "success",
            "description": "",
            "description_tooltip": null,
            "layout": "IPY_MODEL_a3db6b17a9ee4e9cb07aa9fa45eb9700",
            "max": 4050,
            "min": 0,
            "orientation": "horizontal",
            "style": "IPY_MODEL_65c6a1bf4565494387595e739727e4f6",
            "value": 4050
          }
        },
        "19d74ccc7d584ce480514d76bfd2360b": {
          "model_module": "@jupyter-widgets/controls",
          "model_name": "HTMLModel",
          "model_module_version": "1.5.0",
          "state": {
            "_dom_classes": [],
            "_model_module": "@jupyter-widgets/controls",
            "_model_module_version": "1.5.0",
            "_model_name": "HTMLModel",
            "_view_count": null,
            "_view_module": "@jupyter-widgets/controls",
            "_view_module_version": "1.5.0",
            "_view_name": "HTMLView",
            "description": "",
            "description_tooltip": null,
            "layout": "IPY_MODEL_63cf4265d2924a1d8a8747b3d76a8491",
            "placeholder": "​",
            "style": "IPY_MODEL_f33a417ebe124321a7f3c3f3b5e7541e",
            "value": " 4.05k/4.05k [00:00&lt;00:00, 338kB/s]"
          }
        },
        "e61dfbeb3be04ef0b783a18272e02032": {
          "model_module": "@jupyter-widgets/base",
          "model_name": "LayoutModel",
          "model_module_version": "1.2.0",
          "state": {
            "_model_module": "@jupyter-widgets/base",
            "_model_module_version": "1.2.0",
            "_model_name": "LayoutModel",
            "_view_count": null,
            "_view_module": "@jupyter-widgets/base",
            "_view_module_version": "1.2.0",
            "_view_name": "LayoutView",
            "align_content": null,
            "align_items": null,
            "align_self": null,
            "border": null,
            "bottom": null,
            "display": null,
            "flex": null,
            "flex_flow": null,
            "grid_area": null,
            "grid_auto_columns": null,
            "grid_auto_flow": null,
            "grid_auto_rows": null,
            "grid_column": null,
            "grid_gap": null,
            "grid_row": null,
            "grid_template_areas": null,
            "grid_template_columns": null,
            "grid_template_rows": null,
            "height": null,
            "justify_content": null,
            "justify_items": null,
            "left": null,
            "margin": null,
            "max_height": null,
            "max_width": null,
            "min_height": null,
            "min_width": null,
            "object_fit": null,
            "object_position": null,
            "order": null,
            "overflow": null,
            "overflow_x": null,
            "overflow_y": null,
            "padding": null,
            "right": null,
            "top": null,
            "visibility": null,
            "width": null
          }
        },
        "7e69982aa6844e54988397c3468697df": {
          "model_module": "@jupyter-widgets/base",
          "model_name": "LayoutModel",
          "model_module_version": "1.2.0",
          "state": {
            "_model_module": "@jupyter-widgets/base",
            "_model_module_version": "1.2.0",
            "_model_name": "LayoutModel",
            "_view_count": null,
            "_view_module": "@jupyter-widgets/base",
            "_view_module_version": "1.2.0",
            "_view_name": "LayoutView",
            "align_content": null,
            "align_items": null,
            "align_self": null,
            "border": null,
            "bottom": null,
            "display": null,
            "flex": null,
            "flex_flow": null,
            "grid_area": null,
            "grid_auto_columns": null,
            "grid_auto_flow": null,
            "grid_auto_rows": null,
            "grid_column": null,
            "grid_gap": null,
            "grid_row": null,
            "grid_template_areas": null,
            "grid_template_columns": null,
            "grid_template_rows": null,
            "height": null,
            "justify_content": null,
            "justify_items": null,
            "left": null,
            "margin": null,
            "max_height": null,
            "max_width": null,
            "min_height": null,
            "min_width": null,
            "object_fit": null,
            "object_position": null,
            "order": null,
            "overflow": null,
            "overflow_x": null,
            "overflow_y": null,
            "padding": null,
            "right": null,
            "top": null,
            "visibility": null,
            "width": null
          }
        },
        "b4074f15ff6945c6ba8d1df6307c926b": {
          "model_module": "@jupyter-widgets/controls",
          "model_name": "DescriptionStyleModel",
          "model_module_version": "1.5.0",
          "state": {
            "_model_module": "@jupyter-widgets/controls",
            "_model_module_version": "1.5.0",
            "_model_name": "DescriptionStyleModel",
            "_view_count": null,
            "_view_module": "@jupyter-widgets/base",
            "_view_module_version": "1.2.0",
            "_view_name": "StyleView",
            "description_width": ""
          }
        },
        "a3db6b17a9ee4e9cb07aa9fa45eb9700": {
          "model_module": "@jupyter-widgets/base",
          "model_name": "LayoutModel",
          "model_module_version": "1.2.0",
          "state": {
            "_model_module": "@jupyter-widgets/base",
            "_model_module_version": "1.2.0",
            "_model_name": "LayoutModel",
            "_view_count": null,
            "_view_module": "@jupyter-widgets/base",
            "_view_module_version": "1.2.0",
            "_view_name": "LayoutView",
            "align_content": null,
            "align_items": null,
            "align_self": null,
            "border": null,
            "bottom": null,
            "display": null,
            "flex": null,
            "flex_flow": null,
            "grid_area": null,
            "grid_auto_columns": null,
            "grid_auto_flow": null,
            "grid_auto_rows": null,
            "grid_column": null,
            "grid_gap": null,
            "grid_row": null,
            "grid_template_areas": null,
            "grid_template_columns": null,
            "grid_template_rows": null,
            "height": null,
            "justify_content": null,
            "justify_items": null,
            "left": null,
            "margin": null,
            "max_height": null,
            "max_width": null,
            "min_height": null,
            "min_width": null,
            "object_fit": null,
            "object_position": null,
            "order": null,
            "overflow": null,
            "overflow_x": null,
            "overflow_y": null,
            "padding": null,
            "right": null,
            "top": null,
            "visibility": null,
            "width": null
          }
        },
        "65c6a1bf4565494387595e739727e4f6": {
          "model_module": "@jupyter-widgets/controls",
          "model_name": "ProgressStyleModel",
          "model_module_version": "1.5.0",
          "state": {
            "_model_module": "@jupyter-widgets/controls",
            "_model_module_version": "1.5.0",
            "_model_name": "ProgressStyleModel",
            "_view_count": null,
            "_view_module": "@jupyter-widgets/base",
            "_view_module_version": "1.2.0",
            "_view_name": "StyleView",
            "bar_color": null,
            "description_width": ""
          }
        },
        "63cf4265d2924a1d8a8747b3d76a8491": {
          "model_module": "@jupyter-widgets/base",
          "model_name": "LayoutModel",
          "model_module_version": "1.2.0",
          "state": {
            "_model_module": "@jupyter-widgets/base",
            "_model_module_version": "1.2.0",
            "_model_name": "LayoutModel",
            "_view_count": null,
            "_view_module": "@jupyter-widgets/base",
            "_view_module_version": "1.2.0",
            "_view_name": "LayoutView",
            "align_content": null,
            "align_items": null,
            "align_self": null,
            "border": null,
            "bottom": null,
            "display": null,
            "flex": null,
            "flex_flow": null,
            "grid_area": null,
            "grid_auto_columns": null,
            "grid_auto_flow": null,
            "grid_auto_rows": null,
            "grid_column": null,
            "grid_gap": null,
            "grid_row": null,
            "grid_template_areas": null,
            "grid_template_columns": null,
            "grid_template_rows": null,
            "height": null,
            "justify_content": null,
            "justify_items": null,
            "left": null,
            "margin": null,
            "max_height": null,
            "max_width": null,
            "min_height": null,
            "min_width": null,
            "object_fit": null,
            "object_position": null,
            "order": null,
            "overflow": null,
            "overflow_x": null,
            "overflow_y": null,
            "padding": null,
            "right": null,
            "top": null,
            "visibility": null,
            "width": null
          }
        },
        "f33a417ebe124321a7f3c3f3b5e7541e": {
          "model_module": "@jupyter-widgets/controls",
          "model_name": "DescriptionStyleModel",
          "model_module_version": "1.5.0",
          "state": {
            "_model_module": "@jupyter-widgets/controls",
            "_model_module_version": "1.5.0",
            "_model_name": "DescriptionStyleModel",
            "_view_count": null,
            "_view_module": "@jupyter-widgets/base",
            "_view_module_version": "1.2.0",
            "_view_name": "StyleView",
            "description_width": ""
          }
        },
        "2a013a082ac24eeabc9086db390753cd": {
          "model_module": "@jupyter-widgets/controls",
          "model_name": "HBoxModel",
          "model_module_version": "1.5.0",
          "state": {
            "_dom_classes": [],
            "_model_module": "@jupyter-widgets/controls",
            "_model_module_version": "1.5.0",
            "_model_name": "HBoxModel",
            "_view_count": null,
            "_view_module": "@jupyter-widgets/controls",
            "_view_module_version": "1.5.0",
            "_view_name": "HBoxView",
            "box_style": "",
            "children": [
              "IPY_MODEL_c1c85514d11a47d8abea0fdc9b38665c",
              "IPY_MODEL_ca15b27dbd814daa8be43a51d235d5fa",
              "IPY_MODEL_20b7f48cd8db4020b320f5e31386b967"
            ],
            "layout": "IPY_MODEL_294bd48ca00c4a1f895a7c13a0523688"
          }
        },
        "c1c85514d11a47d8abea0fdc9b38665c": {
          "model_module": "@jupyter-widgets/controls",
          "model_name": "HTMLModel",
          "model_module_version": "1.5.0",
          "state": {
            "_dom_classes": [],
            "_model_module": "@jupyter-widgets/controls",
            "_model_module_version": "1.5.0",
            "_model_name": "HTMLModel",
            "_view_count": null,
            "_view_module": "@jupyter-widgets/controls",
            "_view_module_version": "1.5.0",
            "_view_name": "HTMLView",
            "description": "",
            "description_tooltip": null,
            "layout": "IPY_MODEL_95d292c67ff94ca29aa51641fa04ba3c",
            "placeholder": "​",
            "style": "IPY_MODEL_678662349cc0429b997571d921dd0d1d",
            "value": "sentence_bert_config.json: 100%"
          }
        },
        "ca15b27dbd814daa8be43a51d235d5fa": {
          "model_module": "@jupyter-widgets/controls",
          "model_name": "FloatProgressModel",
          "model_module_version": "1.5.0",
          "state": {
            "_dom_classes": [],
            "_model_module": "@jupyter-widgets/controls",
            "_model_module_version": "1.5.0",
            "_model_name": "FloatProgressModel",
            "_view_count": null,
            "_view_module": "@jupyter-widgets/controls",
            "_view_module_version": "1.5.0",
            "_view_name": "ProgressView",
            "bar_style": "success",
            "description": "",
            "description_tooltip": null,
            "layout": "IPY_MODEL_d96216a844574c2695934a42a558e2b0",
            "max": 53,
            "min": 0,
            "orientation": "horizontal",
            "style": "IPY_MODEL_f0fb3cfd679a44f1a74ff3e9d758d6b2",
            "value": 53
          }
        },
        "20b7f48cd8db4020b320f5e31386b967": {
          "model_module": "@jupyter-widgets/controls",
          "model_name": "HTMLModel",
          "model_module_version": "1.5.0",
          "state": {
            "_dom_classes": [],
            "_model_module": "@jupyter-widgets/controls",
            "_model_module_version": "1.5.0",
            "_model_name": "HTMLModel",
            "_view_count": null,
            "_view_module": "@jupyter-widgets/controls",
            "_view_module_version": "1.5.0",
            "_view_name": "HTMLView",
            "description": "",
            "description_tooltip": null,
            "layout": "IPY_MODEL_8b32989ab33e4e659aed70d8bde39b56",
            "placeholder": "​",
            "style": "IPY_MODEL_9120efdabda64c1ca1f0767d62a6b021",
            "value": " 53.0/53.0 [00:00&lt;00:00, 2.52kB/s]"
          }
        },
        "294bd48ca00c4a1f895a7c13a0523688": {
          "model_module": "@jupyter-widgets/base",
          "model_name": "LayoutModel",
          "model_module_version": "1.2.0",
          "state": {
            "_model_module": "@jupyter-widgets/base",
            "_model_module_version": "1.2.0",
            "_model_name": "LayoutModel",
            "_view_count": null,
            "_view_module": "@jupyter-widgets/base",
            "_view_module_version": "1.2.0",
            "_view_name": "LayoutView",
            "align_content": null,
            "align_items": null,
            "align_self": null,
            "border": null,
            "bottom": null,
            "display": null,
            "flex": null,
            "flex_flow": null,
            "grid_area": null,
            "grid_auto_columns": null,
            "grid_auto_flow": null,
            "grid_auto_rows": null,
            "grid_column": null,
            "grid_gap": null,
            "grid_row": null,
            "grid_template_areas": null,
            "grid_template_columns": null,
            "grid_template_rows": null,
            "height": null,
            "justify_content": null,
            "justify_items": null,
            "left": null,
            "margin": null,
            "max_height": null,
            "max_width": null,
            "min_height": null,
            "min_width": null,
            "object_fit": null,
            "object_position": null,
            "order": null,
            "overflow": null,
            "overflow_x": null,
            "overflow_y": null,
            "padding": null,
            "right": null,
            "top": null,
            "visibility": null,
            "width": null
          }
        },
        "95d292c67ff94ca29aa51641fa04ba3c": {
          "model_module": "@jupyter-widgets/base",
          "model_name": "LayoutModel",
          "model_module_version": "1.2.0",
          "state": {
            "_model_module": "@jupyter-widgets/base",
            "_model_module_version": "1.2.0",
            "_model_name": "LayoutModel",
            "_view_count": null,
            "_view_module": "@jupyter-widgets/base",
            "_view_module_version": "1.2.0",
            "_view_name": "LayoutView",
            "align_content": null,
            "align_items": null,
            "align_self": null,
            "border": null,
            "bottom": null,
            "display": null,
            "flex": null,
            "flex_flow": null,
            "grid_area": null,
            "grid_auto_columns": null,
            "grid_auto_flow": null,
            "grid_auto_rows": null,
            "grid_column": null,
            "grid_gap": null,
            "grid_row": null,
            "grid_template_areas": null,
            "grid_template_columns": null,
            "grid_template_rows": null,
            "height": null,
            "justify_content": null,
            "justify_items": null,
            "left": null,
            "margin": null,
            "max_height": null,
            "max_width": null,
            "min_height": null,
            "min_width": null,
            "object_fit": null,
            "object_position": null,
            "order": null,
            "overflow": null,
            "overflow_x": null,
            "overflow_y": null,
            "padding": null,
            "right": null,
            "top": null,
            "visibility": null,
            "width": null
          }
        },
        "678662349cc0429b997571d921dd0d1d": {
          "model_module": "@jupyter-widgets/controls",
          "model_name": "DescriptionStyleModel",
          "model_module_version": "1.5.0",
          "state": {
            "_model_module": "@jupyter-widgets/controls",
            "_model_module_version": "1.5.0",
            "_model_name": "DescriptionStyleModel",
            "_view_count": null,
            "_view_module": "@jupyter-widgets/base",
            "_view_module_version": "1.2.0",
            "_view_name": "StyleView",
            "description_width": ""
          }
        },
        "d96216a844574c2695934a42a558e2b0": {
          "model_module": "@jupyter-widgets/base",
          "model_name": "LayoutModel",
          "model_module_version": "1.2.0",
          "state": {
            "_model_module": "@jupyter-widgets/base",
            "_model_module_version": "1.2.0",
            "_model_name": "LayoutModel",
            "_view_count": null,
            "_view_module": "@jupyter-widgets/base",
            "_view_module_version": "1.2.0",
            "_view_name": "LayoutView",
            "align_content": null,
            "align_items": null,
            "align_self": null,
            "border": null,
            "bottom": null,
            "display": null,
            "flex": null,
            "flex_flow": null,
            "grid_area": null,
            "grid_auto_columns": null,
            "grid_auto_flow": null,
            "grid_auto_rows": null,
            "grid_column": null,
            "grid_gap": null,
            "grid_row": null,
            "grid_template_areas": null,
            "grid_template_columns": null,
            "grid_template_rows": null,
            "height": null,
            "justify_content": null,
            "justify_items": null,
            "left": null,
            "margin": null,
            "max_height": null,
            "max_width": null,
            "min_height": null,
            "min_width": null,
            "object_fit": null,
            "object_position": null,
            "order": null,
            "overflow": null,
            "overflow_x": null,
            "overflow_y": null,
            "padding": null,
            "right": null,
            "top": null,
            "visibility": null,
            "width": null
          }
        },
        "f0fb3cfd679a44f1a74ff3e9d758d6b2": {
          "model_module": "@jupyter-widgets/controls",
          "model_name": "ProgressStyleModel",
          "model_module_version": "1.5.0",
          "state": {
            "_model_module": "@jupyter-widgets/controls",
            "_model_module_version": "1.5.0",
            "_model_name": "ProgressStyleModel",
            "_view_count": null,
            "_view_module": "@jupyter-widgets/base",
            "_view_module_version": "1.2.0",
            "_view_name": "StyleView",
            "bar_color": null,
            "description_width": ""
          }
        },
        "8b32989ab33e4e659aed70d8bde39b56": {
          "model_module": "@jupyter-widgets/base",
          "model_name": "LayoutModel",
          "model_module_version": "1.2.0",
          "state": {
            "_model_module": "@jupyter-widgets/base",
            "_model_module_version": "1.2.0",
            "_model_name": "LayoutModel",
            "_view_count": null,
            "_view_module": "@jupyter-widgets/base",
            "_view_module_version": "1.2.0",
            "_view_name": "LayoutView",
            "align_content": null,
            "align_items": null,
            "align_self": null,
            "border": null,
            "bottom": null,
            "display": null,
            "flex": null,
            "flex_flow": null,
            "grid_area": null,
            "grid_auto_columns": null,
            "grid_auto_flow": null,
            "grid_auto_rows": null,
            "grid_column": null,
            "grid_gap": null,
            "grid_row": null,
            "grid_template_areas": null,
            "grid_template_columns": null,
            "grid_template_rows": null,
            "height": null,
            "justify_content": null,
            "justify_items": null,
            "left": null,
            "margin": null,
            "max_height": null,
            "max_width": null,
            "min_height": null,
            "min_width": null,
            "object_fit": null,
            "object_position": null,
            "order": null,
            "overflow": null,
            "overflow_x": null,
            "overflow_y": null,
            "padding": null,
            "right": null,
            "top": null,
            "visibility": null,
            "width": null
          }
        },
        "9120efdabda64c1ca1f0767d62a6b021": {
          "model_module": "@jupyter-widgets/controls",
          "model_name": "DescriptionStyleModel",
          "model_module_version": "1.5.0",
          "state": {
            "_model_module": "@jupyter-widgets/controls",
            "_model_module_version": "1.5.0",
            "_model_name": "DescriptionStyleModel",
            "_view_count": null,
            "_view_module": "@jupyter-widgets/base",
            "_view_module_version": "1.2.0",
            "_view_name": "StyleView",
            "description_width": ""
          }
        },
        "2fc435aaacf14a469e2fe4c76e0d3cb6": {
          "model_module": "@jupyter-widgets/controls",
          "model_name": "HBoxModel",
          "model_module_version": "1.5.0",
          "state": {
            "_dom_classes": [],
            "_model_module": "@jupyter-widgets/controls",
            "_model_module_version": "1.5.0",
            "_model_name": "HBoxModel",
            "_view_count": null,
            "_view_module": "@jupyter-widgets/controls",
            "_view_module_version": "1.5.0",
            "_view_name": "HBoxView",
            "box_style": "",
            "children": [
              "IPY_MODEL_ef5fc998eb294e56aa3ea12f5c71bdf6",
              "IPY_MODEL_6286d3b7599e4b4191c456da87577b93",
              "IPY_MODEL_1e7b98dd7a1348d2b2aa823e5ab35506"
            ],
            "layout": "IPY_MODEL_7ea292eeafd54b29881609752c762da3"
          }
        },
        "ef5fc998eb294e56aa3ea12f5c71bdf6": {
          "model_module": "@jupyter-widgets/controls",
          "model_name": "HTMLModel",
          "model_module_version": "1.5.0",
          "state": {
            "_dom_classes": [],
            "_model_module": "@jupyter-widgets/controls",
            "_model_module_version": "1.5.0",
            "_model_name": "HTMLModel",
            "_view_count": null,
            "_view_module": "@jupyter-widgets/controls",
            "_view_module_version": "1.5.0",
            "_view_name": "HTMLView",
            "description": "",
            "description_tooltip": null,
            "layout": "IPY_MODEL_80540ef31e164612bd899239a7d346de",
            "placeholder": "​",
            "style": "IPY_MODEL_fa6439ffba0e48989279898b0ba7247b",
            "value": "config.json: 100%"
          }
        },
        "6286d3b7599e4b4191c456da87577b93": {
          "model_module": "@jupyter-widgets/controls",
          "model_name": "FloatProgressModel",
          "model_module_version": "1.5.0",
          "state": {
            "_dom_classes": [],
            "_model_module": "@jupyter-widgets/controls",
            "_model_module_version": "1.5.0",
            "_model_name": "FloatProgressModel",
            "_view_count": null,
            "_view_module": "@jupyter-widgets/controls",
            "_view_module_version": "1.5.0",
            "_view_name": "ProgressView",
            "bar_style": "success",
            "description": "",
            "description_tooltip": null,
            "layout": "IPY_MODEL_c71331c02e5c4c888056abe68062eb77",
            "max": 555,
            "min": 0,
            "orientation": "horizontal",
            "style": "IPY_MODEL_5fd074cdd0e54f819517246296a31721",
            "value": 555
          }
        },
        "1e7b98dd7a1348d2b2aa823e5ab35506": {
          "model_module": "@jupyter-widgets/controls",
          "model_name": "HTMLModel",
          "model_module_version": "1.5.0",
          "state": {
            "_dom_classes": [],
            "_model_module": "@jupyter-widgets/controls",
            "_model_module_version": "1.5.0",
            "_model_name": "HTMLModel",
            "_view_count": null,
            "_view_module": "@jupyter-widgets/controls",
            "_view_module_version": "1.5.0",
            "_view_name": "HTMLView",
            "description": "",
            "description_tooltip": null,
            "layout": "IPY_MODEL_e9edf9b55bf64f26b1230ffcdadb6903",
            "placeholder": "​",
            "style": "IPY_MODEL_3e6f15ff0d06423b8297df9bf5def8f1",
            "value": " 555/555 [00:00&lt;00:00, 25.6kB/s]"
          }
        },
        "7ea292eeafd54b29881609752c762da3": {
          "model_module": "@jupyter-widgets/base",
          "model_name": "LayoutModel",
          "model_module_version": "1.2.0",
          "state": {
            "_model_module": "@jupyter-widgets/base",
            "_model_module_version": "1.2.0",
            "_model_name": "LayoutModel",
            "_view_count": null,
            "_view_module": "@jupyter-widgets/base",
            "_view_module_version": "1.2.0",
            "_view_name": "LayoutView",
            "align_content": null,
            "align_items": null,
            "align_self": null,
            "border": null,
            "bottom": null,
            "display": null,
            "flex": null,
            "flex_flow": null,
            "grid_area": null,
            "grid_auto_columns": null,
            "grid_auto_flow": null,
            "grid_auto_rows": null,
            "grid_column": null,
            "grid_gap": null,
            "grid_row": null,
            "grid_template_areas": null,
            "grid_template_columns": null,
            "grid_template_rows": null,
            "height": null,
            "justify_content": null,
            "justify_items": null,
            "left": null,
            "margin": null,
            "max_height": null,
            "max_width": null,
            "min_height": null,
            "min_width": null,
            "object_fit": null,
            "object_position": null,
            "order": null,
            "overflow": null,
            "overflow_x": null,
            "overflow_y": null,
            "padding": null,
            "right": null,
            "top": null,
            "visibility": null,
            "width": null
          }
        },
        "80540ef31e164612bd899239a7d346de": {
          "model_module": "@jupyter-widgets/base",
          "model_name": "LayoutModel",
          "model_module_version": "1.2.0",
          "state": {
            "_model_module": "@jupyter-widgets/base",
            "_model_module_version": "1.2.0",
            "_model_name": "LayoutModel",
            "_view_count": null,
            "_view_module": "@jupyter-widgets/base",
            "_view_module_version": "1.2.0",
            "_view_name": "LayoutView",
            "align_content": null,
            "align_items": null,
            "align_self": null,
            "border": null,
            "bottom": null,
            "display": null,
            "flex": null,
            "flex_flow": null,
            "grid_area": null,
            "grid_auto_columns": null,
            "grid_auto_flow": null,
            "grid_auto_rows": null,
            "grid_column": null,
            "grid_gap": null,
            "grid_row": null,
            "grid_template_areas": null,
            "grid_template_columns": null,
            "grid_template_rows": null,
            "height": null,
            "justify_content": null,
            "justify_items": null,
            "left": null,
            "margin": null,
            "max_height": null,
            "max_width": null,
            "min_height": null,
            "min_width": null,
            "object_fit": null,
            "object_position": null,
            "order": null,
            "overflow": null,
            "overflow_x": null,
            "overflow_y": null,
            "padding": null,
            "right": null,
            "top": null,
            "visibility": null,
            "width": null
          }
        },
        "fa6439ffba0e48989279898b0ba7247b": {
          "model_module": "@jupyter-widgets/controls",
          "model_name": "DescriptionStyleModel",
          "model_module_version": "1.5.0",
          "state": {
            "_model_module": "@jupyter-widgets/controls",
            "_model_module_version": "1.5.0",
            "_model_name": "DescriptionStyleModel",
            "_view_count": null,
            "_view_module": "@jupyter-widgets/base",
            "_view_module_version": "1.2.0",
            "_view_name": "StyleView",
            "description_width": ""
          }
        },
        "c71331c02e5c4c888056abe68062eb77": {
          "model_module": "@jupyter-widgets/base",
          "model_name": "LayoutModel",
          "model_module_version": "1.2.0",
          "state": {
            "_model_module": "@jupyter-widgets/base",
            "_model_module_version": "1.2.0",
            "_model_name": "LayoutModel",
            "_view_count": null,
            "_view_module": "@jupyter-widgets/base",
            "_view_module_version": "1.2.0",
            "_view_name": "LayoutView",
            "align_content": null,
            "align_items": null,
            "align_self": null,
            "border": null,
            "bottom": null,
            "display": null,
            "flex": null,
            "flex_flow": null,
            "grid_area": null,
            "grid_auto_columns": null,
            "grid_auto_flow": null,
            "grid_auto_rows": null,
            "grid_column": null,
            "grid_gap": null,
            "grid_row": null,
            "grid_template_areas": null,
            "grid_template_columns": null,
            "grid_template_rows": null,
            "height": null,
            "justify_content": null,
            "justify_items": null,
            "left": null,
            "margin": null,
            "max_height": null,
            "max_width": null,
            "min_height": null,
            "min_width": null,
            "object_fit": null,
            "object_position": null,
            "order": null,
            "overflow": null,
            "overflow_x": null,
            "overflow_y": null,
            "padding": null,
            "right": null,
            "top": null,
            "visibility": null,
            "width": null
          }
        },
        "5fd074cdd0e54f819517246296a31721": {
          "model_module": "@jupyter-widgets/controls",
          "model_name": "ProgressStyleModel",
          "model_module_version": "1.5.0",
          "state": {
            "_model_module": "@jupyter-widgets/controls",
            "_model_module_version": "1.5.0",
            "_model_name": "ProgressStyleModel",
            "_view_count": null,
            "_view_module": "@jupyter-widgets/base",
            "_view_module_version": "1.2.0",
            "_view_name": "StyleView",
            "bar_color": null,
            "description_width": ""
          }
        },
        "e9edf9b55bf64f26b1230ffcdadb6903": {
          "model_module": "@jupyter-widgets/base",
          "model_name": "LayoutModel",
          "model_module_version": "1.2.0",
          "state": {
            "_model_module": "@jupyter-widgets/base",
            "_model_module_version": "1.2.0",
            "_model_name": "LayoutModel",
            "_view_count": null,
            "_view_module": "@jupyter-widgets/base",
            "_view_module_version": "1.2.0",
            "_view_name": "LayoutView",
            "align_content": null,
            "align_items": null,
            "align_self": null,
            "border": null,
            "bottom": null,
            "display": null,
            "flex": null,
            "flex_flow": null,
            "grid_area": null,
            "grid_auto_columns": null,
            "grid_auto_flow": null,
            "grid_auto_rows": null,
            "grid_column": null,
            "grid_gap": null,
            "grid_row": null,
            "grid_template_areas": null,
            "grid_template_columns": null,
            "grid_template_rows": null,
            "height": null,
            "justify_content": null,
            "justify_items": null,
            "left": null,
            "margin": null,
            "max_height": null,
            "max_width": null,
            "min_height": null,
            "min_width": null,
            "object_fit": null,
            "object_position": null,
            "order": null,
            "overflow": null,
            "overflow_x": null,
            "overflow_y": null,
            "padding": null,
            "right": null,
            "top": null,
            "visibility": null,
            "width": null
          }
        },
        "3e6f15ff0d06423b8297df9bf5def8f1": {
          "model_module": "@jupyter-widgets/controls",
          "model_name": "DescriptionStyleModel",
          "model_module_version": "1.5.0",
          "state": {
            "_model_module": "@jupyter-widgets/controls",
            "_model_module_version": "1.5.0",
            "_model_name": "DescriptionStyleModel",
            "_view_count": null,
            "_view_module": "@jupyter-widgets/base",
            "_view_module_version": "1.2.0",
            "_view_name": "StyleView",
            "description_width": ""
          }
        },
        "cf2ce5e1910949bbb1dfb967bdd1771a": {
          "model_module": "@jupyter-widgets/controls",
          "model_name": "HBoxModel",
          "model_module_version": "1.5.0",
          "state": {
            "_dom_classes": [],
            "_model_module": "@jupyter-widgets/controls",
            "_model_module_version": "1.5.0",
            "_model_name": "HBoxModel",
            "_view_count": null,
            "_view_module": "@jupyter-widgets/controls",
            "_view_module_version": "1.5.0",
            "_view_name": "HBoxView",
            "box_style": "",
            "children": [
              "IPY_MODEL_5020cafd8c3c4dd2bfe7ec3b6fdbe7b1",
              "IPY_MODEL_ca4e7373b8df4956886654c4efeb2863",
              "IPY_MODEL_32b268519cf2491b915702399d574ac4"
            ],
            "layout": "IPY_MODEL_85017b3b5c774cfa9f003c9fe429575c"
          }
        },
        "5020cafd8c3c4dd2bfe7ec3b6fdbe7b1": {
          "model_module": "@jupyter-widgets/controls",
          "model_name": "HTMLModel",
          "model_module_version": "1.5.0",
          "state": {
            "_dom_classes": [],
            "_model_module": "@jupyter-widgets/controls",
            "_model_module_version": "1.5.0",
            "_model_name": "HTMLModel",
            "_view_count": null,
            "_view_module": "@jupyter-widgets/controls",
            "_view_module_version": "1.5.0",
            "_view_name": "HTMLView",
            "description": "",
            "description_tooltip": null,
            "layout": "IPY_MODEL_a65fe195b19e42b899ca99e5ffd5ef01",
            "placeholder": "​",
            "style": "IPY_MODEL_86ede8eda2c34b16aac57e56fd3b10a6",
            "value": "model.safetensors: 100%"
          }
        },
        "ca4e7373b8df4956886654c4efeb2863": {
          "model_module": "@jupyter-widgets/controls",
          "model_name": "FloatProgressModel",
          "model_module_version": "1.5.0",
          "state": {
            "_dom_classes": [],
            "_model_module": "@jupyter-widgets/controls",
            "_model_module_version": "1.5.0",
            "_model_name": "FloatProgressModel",
            "_view_count": null,
            "_view_module": "@jupyter-widgets/controls",
            "_view_module_version": "1.5.0",
            "_view_name": "ProgressView",
            "bar_style": "success",
            "description": "",
            "description_tooltip": null,
            "layout": "IPY_MODEL_0190e08fbe7d47d28346e9bd8d3b9ad9",
            "max": 265462608,
            "min": 0,
            "orientation": "horizontal",
            "style": "IPY_MODEL_23bee6455848402287974d59e83910d9",
            "value": 265462608
          }
        },
        "32b268519cf2491b915702399d574ac4": {
          "model_module": "@jupyter-widgets/controls",
          "model_name": "HTMLModel",
          "model_module_version": "1.5.0",
          "state": {
            "_dom_classes": [],
            "_model_module": "@jupyter-widgets/controls",
            "_model_module_version": "1.5.0",
            "_model_name": "HTMLModel",
            "_view_count": null,
            "_view_module": "@jupyter-widgets/controls",
            "_view_module_version": "1.5.0",
            "_view_name": "HTMLView",
            "description": "",
            "description_tooltip": null,
            "layout": "IPY_MODEL_d57986d429764c1c999d975123ac5a1d",
            "placeholder": "​",
            "style": "IPY_MODEL_e1817ca9fcee4a6bbb96d5cc03633afd",
            "value": " 265M/265M [00:01&lt;00:00, 231MB/s]"
          }
        },
        "85017b3b5c774cfa9f003c9fe429575c": {
          "model_module": "@jupyter-widgets/base",
          "model_name": "LayoutModel",
          "model_module_version": "1.2.0",
          "state": {
            "_model_module": "@jupyter-widgets/base",
            "_model_module_version": "1.2.0",
            "_model_name": "LayoutModel",
            "_view_count": null,
            "_view_module": "@jupyter-widgets/base",
            "_view_module_version": "1.2.0",
            "_view_name": "LayoutView",
            "align_content": null,
            "align_items": null,
            "align_self": null,
            "border": null,
            "bottom": null,
            "display": null,
            "flex": null,
            "flex_flow": null,
            "grid_area": null,
            "grid_auto_columns": null,
            "grid_auto_flow": null,
            "grid_auto_rows": null,
            "grid_column": null,
            "grid_gap": null,
            "grid_row": null,
            "grid_template_areas": null,
            "grid_template_columns": null,
            "grid_template_rows": null,
            "height": null,
            "justify_content": null,
            "justify_items": null,
            "left": null,
            "margin": null,
            "max_height": null,
            "max_width": null,
            "min_height": null,
            "min_width": null,
            "object_fit": null,
            "object_position": null,
            "order": null,
            "overflow": null,
            "overflow_x": null,
            "overflow_y": null,
            "padding": null,
            "right": null,
            "top": null,
            "visibility": null,
            "width": null
          }
        },
        "a65fe195b19e42b899ca99e5ffd5ef01": {
          "model_module": "@jupyter-widgets/base",
          "model_name": "LayoutModel",
          "model_module_version": "1.2.0",
          "state": {
            "_model_module": "@jupyter-widgets/base",
            "_model_module_version": "1.2.0",
            "_model_name": "LayoutModel",
            "_view_count": null,
            "_view_module": "@jupyter-widgets/base",
            "_view_module_version": "1.2.0",
            "_view_name": "LayoutView",
            "align_content": null,
            "align_items": null,
            "align_self": null,
            "border": null,
            "bottom": null,
            "display": null,
            "flex": null,
            "flex_flow": null,
            "grid_area": null,
            "grid_auto_columns": null,
            "grid_auto_flow": null,
            "grid_auto_rows": null,
            "grid_column": null,
            "grid_gap": null,
            "grid_row": null,
            "grid_template_areas": null,
            "grid_template_columns": null,
            "grid_template_rows": null,
            "height": null,
            "justify_content": null,
            "justify_items": null,
            "left": null,
            "margin": null,
            "max_height": null,
            "max_width": null,
            "min_height": null,
            "min_width": null,
            "object_fit": null,
            "object_position": null,
            "order": null,
            "overflow": null,
            "overflow_x": null,
            "overflow_y": null,
            "padding": null,
            "right": null,
            "top": null,
            "visibility": null,
            "width": null
          }
        },
        "86ede8eda2c34b16aac57e56fd3b10a6": {
          "model_module": "@jupyter-widgets/controls",
          "model_name": "DescriptionStyleModel",
          "model_module_version": "1.5.0",
          "state": {
            "_model_module": "@jupyter-widgets/controls",
            "_model_module_version": "1.5.0",
            "_model_name": "DescriptionStyleModel",
            "_view_count": null,
            "_view_module": "@jupyter-widgets/base",
            "_view_module_version": "1.2.0",
            "_view_name": "StyleView",
            "description_width": ""
          }
        },
        "0190e08fbe7d47d28346e9bd8d3b9ad9": {
          "model_module": "@jupyter-widgets/base",
          "model_name": "LayoutModel",
          "model_module_version": "1.2.0",
          "state": {
            "_model_module": "@jupyter-widgets/base",
            "_model_module_version": "1.2.0",
            "_model_name": "LayoutModel",
            "_view_count": null,
            "_view_module": "@jupyter-widgets/base",
            "_view_module_version": "1.2.0",
            "_view_name": "LayoutView",
            "align_content": null,
            "align_items": null,
            "align_self": null,
            "border": null,
            "bottom": null,
            "display": null,
            "flex": null,
            "flex_flow": null,
            "grid_area": null,
            "grid_auto_columns": null,
            "grid_auto_flow": null,
            "grid_auto_rows": null,
            "grid_column": null,
            "grid_gap": null,
            "grid_row": null,
            "grid_template_areas": null,
            "grid_template_columns": null,
            "grid_template_rows": null,
            "height": null,
            "justify_content": null,
            "justify_items": null,
            "left": null,
            "margin": null,
            "max_height": null,
            "max_width": null,
            "min_height": null,
            "min_width": null,
            "object_fit": null,
            "object_position": null,
            "order": null,
            "overflow": null,
            "overflow_x": null,
            "overflow_y": null,
            "padding": null,
            "right": null,
            "top": null,
            "visibility": null,
            "width": null
          }
        },
        "23bee6455848402287974d59e83910d9": {
          "model_module": "@jupyter-widgets/controls",
          "model_name": "ProgressStyleModel",
          "model_module_version": "1.5.0",
          "state": {
            "_model_module": "@jupyter-widgets/controls",
            "_model_module_version": "1.5.0",
            "_model_name": "ProgressStyleModel",
            "_view_count": null,
            "_view_module": "@jupyter-widgets/base",
            "_view_module_version": "1.2.0",
            "_view_name": "StyleView",
            "bar_color": null,
            "description_width": ""
          }
        },
        "d57986d429764c1c999d975123ac5a1d": {
          "model_module": "@jupyter-widgets/base",
          "model_name": "LayoutModel",
          "model_module_version": "1.2.0",
          "state": {
            "_model_module": "@jupyter-widgets/base",
            "_model_module_version": "1.2.0",
            "_model_name": "LayoutModel",
            "_view_count": null,
            "_view_module": "@jupyter-widgets/base",
            "_view_module_version": "1.2.0",
            "_view_name": "LayoutView",
            "align_content": null,
            "align_items": null,
            "align_self": null,
            "border": null,
            "bottom": null,
            "display": null,
            "flex": null,
            "flex_flow": null,
            "grid_area": null,
            "grid_auto_columns": null,
            "grid_auto_flow": null,
            "grid_auto_rows": null,
            "grid_column": null,
            "grid_gap": null,
            "grid_row": null,
            "grid_template_areas": null,
            "grid_template_columns": null,
            "grid_template_rows": null,
            "height": null,
            "justify_content": null,
            "justify_items": null,
            "left": null,
            "margin": null,
            "max_height": null,
            "max_width": null,
            "min_height": null,
            "min_width": null,
            "object_fit": null,
            "object_position": null,
            "order": null,
            "overflow": null,
            "overflow_x": null,
            "overflow_y": null,
            "padding": null,
            "right": null,
            "top": null,
            "visibility": null,
            "width": null
          }
        },
        "e1817ca9fcee4a6bbb96d5cc03633afd": {
          "model_module": "@jupyter-widgets/controls",
          "model_name": "DescriptionStyleModel",
          "model_module_version": "1.5.0",
          "state": {
            "_model_module": "@jupyter-widgets/controls",
            "_model_module_version": "1.5.0",
            "_model_name": "DescriptionStyleModel",
            "_view_count": null,
            "_view_module": "@jupyter-widgets/base",
            "_view_module_version": "1.2.0",
            "_view_name": "StyleView",
            "description_width": ""
          }
        },
        "92a187e705854bd78de6f2722c9e4f9f": {
          "model_module": "@jupyter-widgets/controls",
          "model_name": "HBoxModel",
          "model_module_version": "1.5.0",
          "state": {
            "_dom_classes": [],
            "_model_module": "@jupyter-widgets/controls",
            "_model_module_version": "1.5.0",
            "_model_name": "HBoxModel",
            "_view_count": null,
            "_view_module": "@jupyter-widgets/controls",
            "_view_module_version": "1.5.0",
            "_view_name": "HBoxView",
            "box_style": "",
            "children": [
              "IPY_MODEL_0daa3a9a81324b47bbdfa74c9c0c990c",
              "IPY_MODEL_f8e4ec94aa5a4f449d49f654f766031d",
              "IPY_MODEL_ddde981ae33c418e96f9a92d4d4ff3e3"
            ],
            "layout": "IPY_MODEL_06c273a8de98442c9721a3ec76ce2ab7"
          }
        },
        "0daa3a9a81324b47bbdfa74c9c0c990c": {
          "model_module": "@jupyter-widgets/controls",
          "model_name": "HTMLModel",
          "model_module_version": "1.5.0",
          "state": {
            "_dom_classes": [],
            "_model_module": "@jupyter-widgets/controls",
            "_model_module_version": "1.5.0",
            "_model_name": "HTMLModel",
            "_view_count": null,
            "_view_module": "@jupyter-widgets/controls",
            "_view_module_version": "1.5.0",
            "_view_name": "HTMLView",
            "description": "",
            "description_tooltip": null,
            "layout": "IPY_MODEL_cfc00249e17041cead8a47b6010f2ce2",
            "placeholder": "​",
            "style": "IPY_MODEL_dd68176f826146ee876339f9ef80c0cb",
            "value": "tokenizer_config.json: 100%"
          }
        },
        "f8e4ec94aa5a4f449d49f654f766031d": {
          "model_module": "@jupyter-widgets/controls",
          "model_name": "FloatProgressModel",
          "model_module_version": "1.5.0",
          "state": {
            "_dom_classes": [],
            "_model_module": "@jupyter-widgets/controls",
            "_model_module_version": "1.5.0",
            "_model_name": "FloatProgressModel",
            "_view_count": null,
            "_view_module": "@jupyter-widgets/controls",
            "_view_module_version": "1.5.0",
            "_view_name": "ProgressView",
            "bar_style": "success",
            "description": "",
            "description_tooltip": null,
            "layout": "IPY_MODEL_1a6864b433ac40949551e508c3e23f9e",
            "max": 505,
            "min": 0,
            "orientation": "horizontal",
            "style": "IPY_MODEL_ccae4770fac947beba05cfb48573c247",
            "value": 505
          }
        },
        "ddde981ae33c418e96f9a92d4d4ff3e3": {
          "model_module": "@jupyter-widgets/controls",
          "model_name": "HTMLModel",
          "model_module_version": "1.5.0",
          "state": {
            "_dom_classes": [],
            "_model_module": "@jupyter-widgets/controls",
            "_model_module_version": "1.5.0",
            "_model_name": "HTMLModel",
            "_view_count": null,
            "_view_module": "@jupyter-widgets/controls",
            "_view_module_version": "1.5.0",
            "_view_name": "HTMLView",
            "description": "",
            "description_tooltip": null,
            "layout": "IPY_MODEL_b36f209f8a014c3e96c75050cd1b5fd0",
            "placeholder": "​",
            "style": "IPY_MODEL_d796ed6f1c8a42299a5a8fd0d7041008",
            "value": " 505/505 [00:00&lt;00:00, 26.7kB/s]"
          }
        },
        "06c273a8de98442c9721a3ec76ce2ab7": {
          "model_module": "@jupyter-widgets/base",
          "model_name": "LayoutModel",
          "model_module_version": "1.2.0",
          "state": {
            "_model_module": "@jupyter-widgets/base",
            "_model_module_version": "1.2.0",
            "_model_name": "LayoutModel",
            "_view_count": null,
            "_view_module": "@jupyter-widgets/base",
            "_view_module_version": "1.2.0",
            "_view_name": "LayoutView",
            "align_content": null,
            "align_items": null,
            "align_self": null,
            "border": null,
            "bottom": null,
            "display": null,
            "flex": null,
            "flex_flow": null,
            "grid_area": null,
            "grid_auto_columns": null,
            "grid_auto_flow": null,
            "grid_auto_rows": null,
            "grid_column": null,
            "grid_gap": null,
            "grid_row": null,
            "grid_template_areas": null,
            "grid_template_columns": null,
            "grid_template_rows": null,
            "height": null,
            "justify_content": null,
            "justify_items": null,
            "left": null,
            "margin": null,
            "max_height": null,
            "max_width": null,
            "min_height": null,
            "min_width": null,
            "object_fit": null,
            "object_position": null,
            "order": null,
            "overflow": null,
            "overflow_x": null,
            "overflow_y": null,
            "padding": null,
            "right": null,
            "top": null,
            "visibility": null,
            "width": null
          }
        },
        "cfc00249e17041cead8a47b6010f2ce2": {
          "model_module": "@jupyter-widgets/base",
          "model_name": "LayoutModel",
          "model_module_version": "1.2.0",
          "state": {
            "_model_module": "@jupyter-widgets/base",
            "_model_module_version": "1.2.0",
            "_model_name": "LayoutModel",
            "_view_count": null,
            "_view_module": "@jupyter-widgets/base",
            "_view_module_version": "1.2.0",
            "_view_name": "LayoutView",
            "align_content": null,
            "align_items": null,
            "align_self": null,
            "border": null,
            "bottom": null,
            "display": null,
            "flex": null,
            "flex_flow": null,
            "grid_area": null,
            "grid_auto_columns": null,
            "grid_auto_flow": null,
            "grid_auto_rows": null,
            "grid_column": null,
            "grid_gap": null,
            "grid_row": null,
            "grid_template_areas": null,
            "grid_template_columns": null,
            "grid_template_rows": null,
            "height": null,
            "justify_content": null,
            "justify_items": null,
            "left": null,
            "margin": null,
            "max_height": null,
            "max_width": null,
            "min_height": null,
            "min_width": null,
            "object_fit": null,
            "object_position": null,
            "order": null,
            "overflow": null,
            "overflow_x": null,
            "overflow_y": null,
            "padding": null,
            "right": null,
            "top": null,
            "visibility": null,
            "width": null
          }
        },
        "dd68176f826146ee876339f9ef80c0cb": {
          "model_module": "@jupyter-widgets/controls",
          "model_name": "DescriptionStyleModel",
          "model_module_version": "1.5.0",
          "state": {
            "_model_module": "@jupyter-widgets/controls",
            "_model_module_version": "1.5.0",
            "_model_name": "DescriptionStyleModel",
            "_view_count": null,
            "_view_module": "@jupyter-widgets/base",
            "_view_module_version": "1.2.0",
            "_view_name": "StyleView",
            "description_width": ""
          }
        },
        "1a6864b433ac40949551e508c3e23f9e": {
          "model_module": "@jupyter-widgets/base",
          "model_name": "LayoutModel",
          "model_module_version": "1.2.0",
          "state": {
            "_model_module": "@jupyter-widgets/base",
            "_model_module_version": "1.2.0",
            "_model_name": "LayoutModel",
            "_view_count": null,
            "_view_module": "@jupyter-widgets/base",
            "_view_module_version": "1.2.0",
            "_view_name": "LayoutView",
            "align_content": null,
            "align_items": null,
            "align_self": null,
            "border": null,
            "bottom": null,
            "display": null,
            "flex": null,
            "flex_flow": null,
            "grid_area": null,
            "grid_auto_columns": null,
            "grid_auto_flow": null,
            "grid_auto_rows": null,
            "grid_column": null,
            "grid_gap": null,
            "grid_row": null,
            "grid_template_areas": null,
            "grid_template_columns": null,
            "grid_template_rows": null,
            "height": null,
            "justify_content": null,
            "justify_items": null,
            "left": null,
            "margin": null,
            "max_height": null,
            "max_width": null,
            "min_height": null,
            "min_width": null,
            "object_fit": null,
            "object_position": null,
            "order": null,
            "overflow": null,
            "overflow_x": null,
            "overflow_y": null,
            "padding": null,
            "right": null,
            "top": null,
            "visibility": null,
            "width": null
          }
        },
        "ccae4770fac947beba05cfb48573c247": {
          "model_module": "@jupyter-widgets/controls",
          "model_name": "ProgressStyleModel",
          "model_module_version": "1.5.0",
          "state": {
            "_model_module": "@jupyter-widgets/controls",
            "_model_module_version": "1.5.0",
            "_model_name": "ProgressStyleModel",
            "_view_count": null,
            "_view_module": "@jupyter-widgets/base",
            "_view_module_version": "1.2.0",
            "_view_name": "StyleView",
            "bar_color": null,
            "description_width": ""
          }
        },
        "b36f209f8a014c3e96c75050cd1b5fd0": {
          "model_module": "@jupyter-widgets/base",
          "model_name": "LayoutModel",
          "model_module_version": "1.2.0",
          "state": {
            "_model_module": "@jupyter-widgets/base",
            "_model_module_version": "1.2.0",
            "_model_name": "LayoutModel",
            "_view_count": null,
            "_view_module": "@jupyter-widgets/base",
            "_view_module_version": "1.2.0",
            "_view_name": "LayoutView",
            "align_content": null,
            "align_items": null,
            "align_self": null,
            "border": null,
            "bottom": null,
            "display": null,
            "flex": null,
            "flex_flow": null,
            "grid_area": null,
            "grid_auto_columns": null,
            "grid_auto_flow": null,
            "grid_auto_rows": null,
            "grid_column": null,
            "grid_gap": null,
            "grid_row": null,
            "grid_template_areas": null,
            "grid_template_columns": null,
            "grid_template_rows": null,
            "height": null,
            "justify_content": null,
            "justify_items": null,
            "left": null,
            "margin": null,
            "max_height": null,
            "max_width": null,
            "min_height": null,
            "min_width": null,
            "object_fit": null,
            "object_position": null,
            "order": null,
            "overflow": null,
            "overflow_x": null,
            "overflow_y": null,
            "padding": null,
            "right": null,
            "top": null,
            "visibility": null,
            "width": null
          }
        },
        "d796ed6f1c8a42299a5a8fd0d7041008": {
          "model_module": "@jupyter-widgets/controls",
          "model_name": "DescriptionStyleModel",
          "model_module_version": "1.5.0",
          "state": {
            "_model_module": "@jupyter-widgets/controls",
            "_model_module_version": "1.5.0",
            "_model_name": "DescriptionStyleModel",
            "_view_count": null,
            "_view_module": "@jupyter-widgets/base",
            "_view_module_version": "1.2.0",
            "_view_name": "StyleView",
            "description_width": ""
          }
        },
        "8acb79c5c01f4a8fb1ecc227e7b3c25f": {
          "model_module": "@jupyter-widgets/controls",
          "model_name": "HBoxModel",
          "model_module_version": "1.5.0",
          "state": {
            "_dom_classes": [],
            "_model_module": "@jupyter-widgets/controls",
            "_model_module_version": "1.5.0",
            "_model_name": "HBoxModel",
            "_view_count": null,
            "_view_module": "@jupyter-widgets/controls",
            "_view_module_version": "1.5.0",
            "_view_name": "HBoxView",
            "box_style": "",
            "children": [
              "IPY_MODEL_0db7758329ee447581fef34a0ecc83dc",
              "IPY_MODEL_8c154e8bfec3471ea0b1bc0e36150d3b",
              "IPY_MODEL_8e53874cf4bf42d59ee04784d9b7180d"
            ],
            "layout": "IPY_MODEL_f67d5007c11d4c32b7112c55deef1894"
          }
        },
        "0db7758329ee447581fef34a0ecc83dc": {
          "model_module": "@jupyter-widgets/controls",
          "model_name": "HTMLModel",
          "model_module_version": "1.5.0",
          "state": {
            "_dom_classes": [],
            "_model_module": "@jupyter-widgets/controls",
            "_model_module_version": "1.5.0",
            "_model_name": "HTMLModel",
            "_view_count": null,
            "_view_module": "@jupyter-widgets/controls",
            "_view_module_version": "1.5.0",
            "_view_name": "HTMLView",
            "description": "",
            "description_tooltip": null,
            "layout": "IPY_MODEL_f76ff3de683b409ca6288781ceac8b92",
            "placeholder": "​",
            "style": "IPY_MODEL_b3b28e1068394a38bd0904eaa55f72d6",
            "value": "vocab.txt: 100%"
          }
        },
        "8c154e8bfec3471ea0b1bc0e36150d3b": {
          "model_module": "@jupyter-widgets/controls",
          "model_name": "FloatProgressModel",
          "model_module_version": "1.5.0",
          "state": {
            "_dom_classes": [],
            "_model_module": "@jupyter-widgets/controls",
            "_model_module_version": "1.5.0",
            "_model_name": "FloatProgressModel",
            "_view_count": null,
            "_view_module": "@jupyter-widgets/controls",
            "_view_module_version": "1.5.0",
            "_view_name": "ProgressView",
            "bar_style": "success",
            "description": "",
            "description_tooltip": null,
            "layout": "IPY_MODEL_37090d8d165e4305997333ffb71e7f3c",
            "max": 231508,
            "min": 0,
            "orientation": "horizontal",
            "style": "IPY_MODEL_9dce17ae878047089d7b6d35c24a26f1",
            "value": 231508
          }
        },
        "8e53874cf4bf42d59ee04784d9b7180d": {
          "model_module": "@jupyter-widgets/controls",
          "model_name": "HTMLModel",
          "model_module_version": "1.5.0",
          "state": {
            "_dom_classes": [],
            "_model_module": "@jupyter-widgets/controls",
            "_model_module_version": "1.5.0",
            "_model_name": "HTMLModel",
            "_view_count": null,
            "_view_module": "@jupyter-widgets/controls",
            "_view_module_version": "1.5.0",
            "_view_name": "HTMLView",
            "description": "",
            "description_tooltip": null,
            "layout": "IPY_MODEL_b7c72116411c4921ae42f7a69edc72f6",
            "placeholder": "​",
            "style": "IPY_MODEL_574df3651ce24ee483be4adcdf515235",
            "value": " 232k/232k [00:00&lt;00:00, 10.9MB/s]"
          }
        },
        "f67d5007c11d4c32b7112c55deef1894": {
          "model_module": "@jupyter-widgets/base",
          "model_name": "LayoutModel",
          "model_module_version": "1.2.0",
          "state": {
            "_model_module": "@jupyter-widgets/base",
            "_model_module_version": "1.2.0",
            "_model_name": "LayoutModel",
            "_view_count": null,
            "_view_module": "@jupyter-widgets/base",
            "_view_module_version": "1.2.0",
            "_view_name": "LayoutView",
            "align_content": null,
            "align_items": null,
            "align_self": null,
            "border": null,
            "bottom": null,
            "display": null,
            "flex": null,
            "flex_flow": null,
            "grid_area": null,
            "grid_auto_columns": null,
            "grid_auto_flow": null,
            "grid_auto_rows": null,
            "grid_column": null,
            "grid_gap": null,
            "grid_row": null,
            "grid_template_areas": null,
            "grid_template_columns": null,
            "grid_template_rows": null,
            "height": null,
            "justify_content": null,
            "justify_items": null,
            "left": null,
            "margin": null,
            "max_height": null,
            "max_width": null,
            "min_height": null,
            "min_width": null,
            "object_fit": null,
            "object_position": null,
            "order": null,
            "overflow": null,
            "overflow_x": null,
            "overflow_y": null,
            "padding": null,
            "right": null,
            "top": null,
            "visibility": null,
            "width": null
          }
        },
        "f76ff3de683b409ca6288781ceac8b92": {
          "model_module": "@jupyter-widgets/base",
          "model_name": "LayoutModel",
          "model_module_version": "1.2.0",
          "state": {
            "_model_module": "@jupyter-widgets/base",
            "_model_module_version": "1.2.0",
            "_model_name": "LayoutModel",
            "_view_count": null,
            "_view_module": "@jupyter-widgets/base",
            "_view_module_version": "1.2.0",
            "_view_name": "LayoutView",
            "align_content": null,
            "align_items": null,
            "align_self": null,
            "border": null,
            "bottom": null,
            "display": null,
            "flex": null,
            "flex_flow": null,
            "grid_area": null,
            "grid_auto_columns": null,
            "grid_auto_flow": null,
            "grid_auto_rows": null,
            "grid_column": null,
            "grid_gap": null,
            "grid_row": null,
            "grid_template_areas": null,
            "grid_template_columns": null,
            "grid_template_rows": null,
            "height": null,
            "justify_content": null,
            "justify_items": null,
            "left": null,
            "margin": null,
            "max_height": null,
            "max_width": null,
            "min_height": null,
            "min_width": null,
            "object_fit": null,
            "object_position": null,
            "order": null,
            "overflow": null,
            "overflow_x": null,
            "overflow_y": null,
            "padding": null,
            "right": null,
            "top": null,
            "visibility": null,
            "width": null
          }
        },
        "b3b28e1068394a38bd0904eaa55f72d6": {
          "model_module": "@jupyter-widgets/controls",
          "model_name": "DescriptionStyleModel",
          "model_module_version": "1.5.0",
          "state": {
            "_model_module": "@jupyter-widgets/controls",
            "_model_module_version": "1.5.0",
            "_model_name": "DescriptionStyleModel",
            "_view_count": null,
            "_view_module": "@jupyter-widgets/base",
            "_view_module_version": "1.2.0",
            "_view_name": "StyleView",
            "description_width": ""
          }
        },
        "37090d8d165e4305997333ffb71e7f3c": {
          "model_module": "@jupyter-widgets/base",
          "model_name": "LayoutModel",
          "model_module_version": "1.2.0",
          "state": {
            "_model_module": "@jupyter-widgets/base",
            "_model_module_version": "1.2.0",
            "_model_name": "LayoutModel",
            "_view_count": null,
            "_view_module": "@jupyter-widgets/base",
            "_view_module_version": "1.2.0",
            "_view_name": "LayoutView",
            "align_content": null,
            "align_items": null,
            "align_self": null,
            "border": null,
            "bottom": null,
            "display": null,
            "flex": null,
            "flex_flow": null,
            "grid_area": null,
            "grid_auto_columns": null,
            "grid_auto_flow": null,
            "grid_auto_rows": null,
            "grid_column": null,
            "grid_gap": null,
            "grid_row": null,
            "grid_template_areas": null,
            "grid_template_columns": null,
            "grid_template_rows": null,
            "height": null,
            "justify_content": null,
            "justify_items": null,
            "left": null,
            "margin": null,
            "max_height": null,
            "max_width": null,
            "min_height": null,
            "min_width": null,
            "object_fit": null,
            "object_position": null,
            "order": null,
            "overflow": null,
            "overflow_x": null,
            "overflow_y": null,
            "padding": null,
            "right": null,
            "top": null,
            "visibility": null,
            "width": null
          }
        },
        "9dce17ae878047089d7b6d35c24a26f1": {
          "model_module": "@jupyter-widgets/controls",
          "model_name": "ProgressStyleModel",
          "model_module_version": "1.5.0",
          "state": {
            "_model_module": "@jupyter-widgets/controls",
            "_model_module_version": "1.5.0",
            "_model_name": "ProgressStyleModel",
            "_view_count": null,
            "_view_module": "@jupyter-widgets/base",
            "_view_module_version": "1.2.0",
            "_view_name": "StyleView",
            "bar_color": null,
            "description_width": ""
          }
        },
        "b7c72116411c4921ae42f7a69edc72f6": {
          "model_module": "@jupyter-widgets/base",
          "model_name": "LayoutModel",
          "model_module_version": "1.2.0",
          "state": {
            "_model_module": "@jupyter-widgets/base",
            "_model_module_version": "1.2.0",
            "_model_name": "LayoutModel",
            "_view_count": null,
            "_view_module": "@jupyter-widgets/base",
            "_view_module_version": "1.2.0",
            "_view_name": "LayoutView",
            "align_content": null,
            "align_items": null,
            "align_self": null,
            "border": null,
            "bottom": null,
            "display": null,
            "flex": null,
            "flex_flow": null,
            "grid_area": null,
            "grid_auto_columns": null,
            "grid_auto_flow": null,
            "grid_auto_rows": null,
            "grid_column": null,
            "grid_gap": null,
            "grid_row": null,
            "grid_template_areas": null,
            "grid_template_columns": null,
            "grid_template_rows": null,
            "height": null,
            "justify_content": null,
            "justify_items": null,
            "left": null,
            "margin": null,
            "max_height": null,
            "max_width": null,
            "min_height": null,
            "min_width": null,
            "object_fit": null,
            "object_position": null,
            "order": null,
            "overflow": null,
            "overflow_x": null,
            "overflow_y": null,
            "padding": null,
            "right": null,
            "top": null,
            "visibility": null,
            "width": null
          }
        },
        "574df3651ce24ee483be4adcdf515235": {
          "model_module": "@jupyter-widgets/controls",
          "model_name": "DescriptionStyleModel",
          "model_module_version": "1.5.0",
          "state": {
            "_model_module": "@jupyter-widgets/controls",
            "_model_module_version": "1.5.0",
            "_model_name": "DescriptionStyleModel",
            "_view_count": null,
            "_view_module": "@jupyter-widgets/base",
            "_view_module_version": "1.2.0",
            "_view_name": "StyleView",
            "description_width": ""
          }
        },
        "18328d0cce8946a59c7d2d2a880d2c74": {
          "model_module": "@jupyter-widgets/controls",
          "model_name": "HBoxModel",
          "model_module_version": "1.5.0",
          "state": {
            "_dom_classes": [],
            "_model_module": "@jupyter-widgets/controls",
            "_model_module_version": "1.5.0",
            "_model_name": "HBoxModel",
            "_view_count": null,
            "_view_module": "@jupyter-widgets/controls",
            "_view_module_version": "1.5.0",
            "_view_name": "HBoxView",
            "box_style": "",
            "children": [
              "IPY_MODEL_d7dcc73a359c4a9e9a98ac6a9b9df112",
              "IPY_MODEL_0cee910d47dc439baa3f45b78917aed9",
              "IPY_MODEL_abbb3aa3450f42868b54d826c8aa48b4"
            ],
            "layout": "IPY_MODEL_9086aa72a15f434eb24a2cd07ae73056"
          }
        },
        "d7dcc73a359c4a9e9a98ac6a9b9df112": {
          "model_module": "@jupyter-widgets/controls",
          "model_name": "HTMLModel",
          "model_module_version": "1.5.0",
          "state": {
            "_dom_classes": [],
            "_model_module": "@jupyter-widgets/controls",
            "_model_module_version": "1.5.0",
            "_model_name": "HTMLModel",
            "_view_count": null,
            "_view_module": "@jupyter-widgets/controls",
            "_view_module_version": "1.5.0",
            "_view_name": "HTMLView",
            "description": "",
            "description_tooltip": null,
            "layout": "IPY_MODEL_804b3a53365348349770153ea8e76c42",
            "placeholder": "​",
            "style": "IPY_MODEL_3dd2c244d23a4bb8af2319e6ee34002b",
            "value": "tokenizer.json: 100%"
          }
        },
        "0cee910d47dc439baa3f45b78917aed9": {
          "model_module": "@jupyter-widgets/controls",
          "model_name": "FloatProgressModel",
          "model_module_version": "1.5.0",
          "state": {
            "_dom_classes": [],
            "_model_module": "@jupyter-widgets/controls",
            "_model_module_version": "1.5.0",
            "_model_name": "FloatProgressModel",
            "_view_count": null,
            "_view_module": "@jupyter-widgets/controls",
            "_view_module_version": "1.5.0",
            "_view_name": "ProgressView",
            "bar_style": "success",
            "description": "",
            "description_tooltip": null,
            "layout": "IPY_MODEL_dadade482b7c4698b1a8113a607e762f",
            "max": 466081,
            "min": 0,
            "orientation": "horizontal",
            "style": "IPY_MODEL_841bed38b2d74b1a850c1b7b68261cb6",
            "value": 466081
          }
        },
        "abbb3aa3450f42868b54d826c8aa48b4": {
          "model_module": "@jupyter-widgets/controls",
          "model_name": "HTMLModel",
          "model_module_version": "1.5.0",
          "state": {
            "_dom_classes": [],
            "_model_module": "@jupyter-widgets/controls",
            "_model_module_version": "1.5.0",
            "_model_name": "HTMLModel",
            "_view_count": null,
            "_view_module": "@jupyter-widgets/controls",
            "_view_module_version": "1.5.0",
            "_view_name": "HTMLView",
            "description": "",
            "description_tooltip": null,
            "layout": "IPY_MODEL_e16111cd62c44e13bfce46a30e2dbf0e",
            "placeholder": "​",
            "style": "IPY_MODEL_f0eeffdb4f0041dda4e1684aa4ecac8a",
            "value": " 466k/466k [00:00&lt;00:00, 7.13MB/s]"
          }
        },
        "9086aa72a15f434eb24a2cd07ae73056": {
          "model_module": "@jupyter-widgets/base",
          "model_name": "LayoutModel",
          "model_module_version": "1.2.0",
          "state": {
            "_model_module": "@jupyter-widgets/base",
            "_model_module_version": "1.2.0",
            "_model_name": "LayoutModel",
            "_view_count": null,
            "_view_module": "@jupyter-widgets/base",
            "_view_module_version": "1.2.0",
            "_view_name": "LayoutView",
            "align_content": null,
            "align_items": null,
            "align_self": null,
            "border": null,
            "bottom": null,
            "display": null,
            "flex": null,
            "flex_flow": null,
            "grid_area": null,
            "grid_auto_columns": null,
            "grid_auto_flow": null,
            "grid_auto_rows": null,
            "grid_column": null,
            "grid_gap": null,
            "grid_row": null,
            "grid_template_areas": null,
            "grid_template_columns": null,
            "grid_template_rows": null,
            "height": null,
            "justify_content": null,
            "justify_items": null,
            "left": null,
            "margin": null,
            "max_height": null,
            "max_width": null,
            "min_height": null,
            "min_width": null,
            "object_fit": null,
            "object_position": null,
            "order": null,
            "overflow": null,
            "overflow_x": null,
            "overflow_y": null,
            "padding": null,
            "right": null,
            "top": null,
            "visibility": null,
            "width": null
          }
        },
        "804b3a53365348349770153ea8e76c42": {
          "model_module": "@jupyter-widgets/base",
          "model_name": "LayoutModel",
          "model_module_version": "1.2.0",
          "state": {
            "_model_module": "@jupyter-widgets/base",
            "_model_module_version": "1.2.0",
            "_model_name": "LayoutModel",
            "_view_count": null,
            "_view_module": "@jupyter-widgets/base",
            "_view_module_version": "1.2.0",
            "_view_name": "LayoutView",
            "align_content": null,
            "align_items": null,
            "align_self": null,
            "border": null,
            "bottom": null,
            "display": null,
            "flex": null,
            "flex_flow": null,
            "grid_area": null,
            "grid_auto_columns": null,
            "grid_auto_flow": null,
            "grid_auto_rows": null,
            "grid_column": null,
            "grid_gap": null,
            "grid_row": null,
            "grid_template_areas": null,
            "grid_template_columns": null,
            "grid_template_rows": null,
            "height": null,
            "justify_content": null,
            "justify_items": null,
            "left": null,
            "margin": null,
            "max_height": null,
            "max_width": null,
            "min_height": null,
            "min_width": null,
            "object_fit": null,
            "object_position": null,
            "order": null,
            "overflow": null,
            "overflow_x": null,
            "overflow_y": null,
            "padding": null,
            "right": null,
            "top": null,
            "visibility": null,
            "width": null
          }
        },
        "3dd2c244d23a4bb8af2319e6ee34002b": {
          "model_module": "@jupyter-widgets/controls",
          "model_name": "DescriptionStyleModel",
          "model_module_version": "1.5.0",
          "state": {
            "_model_module": "@jupyter-widgets/controls",
            "_model_module_version": "1.5.0",
            "_model_name": "DescriptionStyleModel",
            "_view_count": null,
            "_view_module": "@jupyter-widgets/base",
            "_view_module_version": "1.2.0",
            "_view_name": "StyleView",
            "description_width": ""
          }
        },
        "dadade482b7c4698b1a8113a607e762f": {
          "model_module": "@jupyter-widgets/base",
          "model_name": "LayoutModel",
          "model_module_version": "1.2.0",
          "state": {
            "_model_module": "@jupyter-widgets/base",
            "_model_module_version": "1.2.0",
            "_model_name": "LayoutModel",
            "_view_count": null,
            "_view_module": "@jupyter-widgets/base",
            "_view_module_version": "1.2.0",
            "_view_name": "LayoutView",
            "align_content": null,
            "align_items": null,
            "align_self": null,
            "border": null,
            "bottom": null,
            "display": null,
            "flex": null,
            "flex_flow": null,
            "grid_area": null,
            "grid_auto_columns": null,
            "grid_auto_flow": null,
            "grid_auto_rows": null,
            "grid_column": null,
            "grid_gap": null,
            "grid_row": null,
            "grid_template_areas": null,
            "grid_template_columns": null,
            "grid_template_rows": null,
            "height": null,
            "justify_content": null,
            "justify_items": null,
            "left": null,
            "margin": null,
            "max_height": null,
            "max_width": null,
            "min_height": null,
            "min_width": null,
            "object_fit": null,
            "object_position": null,
            "order": null,
            "overflow": null,
            "overflow_x": null,
            "overflow_y": null,
            "padding": null,
            "right": null,
            "top": null,
            "visibility": null,
            "width": null
          }
        },
        "841bed38b2d74b1a850c1b7b68261cb6": {
          "model_module": "@jupyter-widgets/controls",
          "model_name": "ProgressStyleModel",
          "model_module_version": "1.5.0",
          "state": {
            "_model_module": "@jupyter-widgets/controls",
            "_model_module_version": "1.5.0",
            "_model_name": "ProgressStyleModel",
            "_view_count": null,
            "_view_module": "@jupyter-widgets/base",
            "_view_module_version": "1.2.0",
            "_view_name": "StyleView",
            "bar_color": null,
            "description_width": ""
          }
        },
        "e16111cd62c44e13bfce46a30e2dbf0e": {
          "model_module": "@jupyter-widgets/base",
          "model_name": "LayoutModel",
          "model_module_version": "1.2.0",
          "state": {
            "_model_module": "@jupyter-widgets/base",
            "_model_module_version": "1.2.0",
            "_model_name": "LayoutModel",
            "_view_count": null,
            "_view_module": "@jupyter-widgets/base",
            "_view_module_version": "1.2.0",
            "_view_name": "LayoutView",
            "align_content": null,
            "align_items": null,
            "align_self": null,
            "border": null,
            "bottom": null,
            "display": null,
            "flex": null,
            "flex_flow": null,
            "grid_area": null,
            "grid_auto_columns": null,
            "grid_auto_flow": null,
            "grid_auto_rows": null,
            "grid_column": null,
            "grid_gap": null,
            "grid_row": null,
            "grid_template_areas": null,
            "grid_template_columns": null,
            "grid_template_rows": null,
            "height": null,
            "justify_content": null,
            "justify_items": null,
            "left": null,
            "margin": null,
            "max_height": null,
            "max_width": null,
            "min_height": null,
            "min_width": null,
            "object_fit": null,
            "object_position": null,
            "order": null,
            "overflow": null,
            "overflow_x": null,
            "overflow_y": null,
            "padding": null,
            "right": null,
            "top": null,
            "visibility": null,
            "width": null
          }
        },
        "f0eeffdb4f0041dda4e1684aa4ecac8a": {
          "model_module": "@jupyter-widgets/controls",
          "model_name": "DescriptionStyleModel",
          "model_module_version": "1.5.0",
          "state": {
            "_model_module": "@jupyter-widgets/controls",
            "_model_module_version": "1.5.0",
            "_model_name": "DescriptionStyleModel",
            "_view_count": null,
            "_view_module": "@jupyter-widgets/base",
            "_view_module_version": "1.2.0",
            "_view_name": "StyleView",
            "description_width": ""
          }
        },
        "8c434bb83c664fa483c40b3643a0d9ec": {
          "model_module": "@jupyter-widgets/controls",
          "model_name": "HBoxModel",
          "model_module_version": "1.5.0",
          "state": {
            "_dom_classes": [],
            "_model_module": "@jupyter-widgets/controls",
            "_model_module_version": "1.5.0",
            "_model_name": "HBoxModel",
            "_view_count": null,
            "_view_module": "@jupyter-widgets/controls",
            "_view_module_version": "1.5.0",
            "_view_name": "HBoxView",
            "box_style": "",
            "children": [
              "IPY_MODEL_406163d5d67a4061aa39350da8bd1c43",
              "IPY_MODEL_9e3f8b42e5b64be08f355b2ff2e907e8",
              "IPY_MODEL_e24655552cef4733bcc2630c167f42b5"
            ],
            "layout": "IPY_MODEL_ff6e4f1f4f4e41aaa793e56703442cae"
          }
        },
        "406163d5d67a4061aa39350da8bd1c43": {
          "model_module": "@jupyter-widgets/controls",
          "model_name": "HTMLModel",
          "model_module_version": "1.5.0",
          "state": {
            "_dom_classes": [],
            "_model_module": "@jupyter-widgets/controls",
            "_model_module_version": "1.5.0",
            "_model_name": "HTMLModel",
            "_view_count": null,
            "_view_module": "@jupyter-widgets/controls",
            "_view_module_version": "1.5.0",
            "_view_name": "HTMLView",
            "description": "",
            "description_tooltip": null,
            "layout": "IPY_MODEL_632f59a3170840b88fe3a55e26cd32f8",
            "placeholder": "​",
            "style": "IPY_MODEL_8b2cbf599c1c44f8b95f57578d34c3b2",
            "value": "special_tokens_map.json: 100%"
          }
        },
        "9e3f8b42e5b64be08f355b2ff2e907e8": {
          "model_module": "@jupyter-widgets/controls",
          "model_name": "FloatProgressModel",
          "model_module_version": "1.5.0",
          "state": {
            "_dom_classes": [],
            "_model_module": "@jupyter-widgets/controls",
            "_model_module_version": "1.5.0",
            "_model_name": "FloatProgressModel",
            "_view_count": null,
            "_view_module": "@jupyter-widgets/controls",
            "_view_module_version": "1.5.0",
            "_view_name": "ProgressView",
            "bar_style": "success",
            "description": "",
            "description_tooltip": null,
            "layout": "IPY_MODEL_1755558c489b4c1fbf49563ed85a9aa0",
            "max": 112,
            "min": 0,
            "orientation": "horizontal",
            "style": "IPY_MODEL_7c9b661b5f4d4260b9baabbba2b75e4b",
            "value": 112
          }
        },
        "e24655552cef4733bcc2630c167f42b5": {
          "model_module": "@jupyter-widgets/controls",
          "model_name": "HTMLModel",
          "model_module_version": "1.5.0",
          "state": {
            "_dom_classes": [],
            "_model_module": "@jupyter-widgets/controls",
            "_model_module_version": "1.5.0",
            "_model_name": "HTMLModel",
            "_view_count": null,
            "_view_module": "@jupyter-widgets/controls",
            "_view_module_version": "1.5.0",
            "_view_name": "HTMLView",
            "description": "",
            "description_tooltip": null,
            "layout": "IPY_MODEL_f99806b38c0444d882fe7c1825609456",
            "placeholder": "​",
            "style": "IPY_MODEL_cfbd131a77d147338ee99d9557347e4f",
            "value": " 112/112 [00:00&lt;00:00, 6.63kB/s]"
          }
        },
        "ff6e4f1f4f4e41aaa793e56703442cae": {
          "model_module": "@jupyter-widgets/base",
          "model_name": "LayoutModel",
          "model_module_version": "1.2.0",
          "state": {
            "_model_module": "@jupyter-widgets/base",
            "_model_module_version": "1.2.0",
            "_model_name": "LayoutModel",
            "_view_count": null,
            "_view_module": "@jupyter-widgets/base",
            "_view_module_version": "1.2.0",
            "_view_name": "LayoutView",
            "align_content": null,
            "align_items": null,
            "align_self": null,
            "border": null,
            "bottom": null,
            "display": null,
            "flex": null,
            "flex_flow": null,
            "grid_area": null,
            "grid_auto_columns": null,
            "grid_auto_flow": null,
            "grid_auto_rows": null,
            "grid_column": null,
            "grid_gap": null,
            "grid_row": null,
            "grid_template_areas": null,
            "grid_template_columns": null,
            "grid_template_rows": null,
            "height": null,
            "justify_content": null,
            "justify_items": null,
            "left": null,
            "margin": null,
            "max_height": null,
            "max_width": null,
            "min_height": null,
            "min_width": null,
            "object_fit": null,
            "object_position": null,
            "order": null,
            "overflow": null,
            "overflow_x": null,
            "overflow_y": null,
            "padding": null,
            "right": null,
            "top": null,
            "visibility": null,
            "width": null
          }
        },
        "632f59a3170840b88fe3a55e26cd32f8": {
          "model_module": "@jupyter-widgets/base",
          "model_name": "LayoutModel",
          "model_module_version": "1.2.0",
          "state": {
            "_model_module": "@jupyter-widgets/base",
            "_model_module_version": "1.2.0",
            "_model_name": "LayoutModel",
            "_view_count": null,
            "_view_module": "@jupyter-widgets/base",
            "_view_module_version": "1.2.0",
            "_view_name": "LayoutView",
            "align_content": null,
            "align_items": null,
            "align_self": null,
            "border": null,
            "bottom": null,
            "display": null,
            "flex": null,
            "flex_flow": null,
            "grid_area": null,
            "grid_auto_columns": null,
            "grid_auto_flow": null,
            "grid_auto_rows": null,
            "grid_column": null,
            "grid_gap": null,
            "grid_row": null,
            "grid_template_areas": null,
            "grid_template_columns": null,
            "grid_template_rows": null,
            "height": null,
            "justify_content": null,
            "justify_items": null,
            "left": null,
            "margin": null,
            "max_height": null,
            "max_width": null,
            "min_height": null,
            "min_width": null,
            "object_fit": null,
            "object_position": null,
            "order": null,
            "overflow": null,
            "overflow_x": null,
            "overflow_y": null,
            "padding": null,
            "right": null,
            "top": null,
            "visibility": null,
            "width": null
          }
        },
        "8b2cbf599c1c44f8b95f57578d34c3b2": {
          "model_module": "@jupyter-widgets/controls",
          "model_name": "DescriptionStyleModel",
          "model_module_version": "1.5.0",
          "state": {
            "_model_module": "@jupyter-widgets/controls",
            "_model_module_version": "1.5.0",
            "_model_name": "DescriptionStyleModel",
            "_view_count": null,
            "_view_module": "@jupyter-widgets/base",
            "_view_module_version": "1.2.0",
            "_view_name": "StyleView",
            "description_width": ""
          }
        },
        "1755558c489b4c1fbf49563ed85a9aa0": {
          "model_module": "@jupyter-widgets/base",
          "model_name": "LayoutModel",
          "model_module_version": "1.2.0",
          "state": {
            "_model_module": "@jupyter-widgets/base",
            "_model_module_version": "1.2.0",
            "_model_name": "LayoutModel",
            "_view_count": null,
            "_view_module": "@jupyter-widgets/base",
            "_view_module_version": "1.2.0",
            "_view_name": "LayoutView",
            "align_content": null,
            "align_items": null,
            "align_self": null,
            "border": null,
            "bottom": null,
            "display": null,
            "flex": null,
            "flex_flow": null,
            "grid_area": null,
            "grid_auto_columns": null,
            "grid_auto_flow": null,
            "grid_auto_rows": null,
            "grid_column": null,
            "grid_gap": null,
            "grid_row": null,
            "grid_template_areas": null,
            "grid_template_columns": null,
            "grid_template_rows": null,
            "height": null,
            "justify_content": null,
            "justify_items": null,
            "left": null,
            "margin": null,
            "max_height": null,
            "max_width": null,
            "min_height": null,
            "min_width": null,
            "object_fit": null,
            "object_position": null,
            "order": null,
            "overflow": null,
            "overflow_x": null,
            "overflow_y": null,
            "padding": null,
            "right": null,
            "top": null,
            "visibility": null,
            "width": null
          }
        },
        "7c9b661b5f4d4260b9baabbba2b75e4b": {
          "model_module": "@jupyter-widgets/controls",
          "model_name": "ProgressStyleModel",
          "model_module_version": "1.5.0",
          "state": {
            "_model_module": "@jupyter-widgets/controls",
            "_model_module_version": "1.5.0",
            "_model_name": "ProgressStyleModel",
            "_view_count": null,
            "_view_module": "@jupyter-widgets/base",
            "_view_module_version": "1.2.0",
            "_view_name": "StyleView",
            "bar_color": null,
            "description_width": ""
          }
        },
        "f99806b38c0444d882fe7c1825609456": {
          "model_module": "@jupyter-widgets/base",
          "model_name": "LayoutModel",
          "model_module_version": "1.2.0",
          "state": {
            "_model_module": "@jupyter-widgets/base",
            "_model_module_version": "1.2.0",
            "_model_name": "LayoutModel",
            "_view_count": null,
            "_view_module": "@jupyter-widgets/base",
            "_view_module_version": "1.2.0",
            "_view_name": "LayoutView",
            "align_content": null,
            "align_items": null,
            "align_self": null,
            "border": null,
            "bottom": null,
            "display": null,
            "flex": null,
            "flex_flow": null,
            "grid_area": null,
            "grid_auto_columns": null,
            "grid_auto_flow": null,
            "grid_auto_rows": null,
            "grid_column": null,
            "grid_gap": null,
            "grid_row": null,
            "grid_template_areas": null,
            "grid_template_columns": null,
            "grid_template_rows": null,
            "height": null,
            "justify_content": null,
            "justify_items": null,
            "left": null,
            "margin": null,
            "max_height": null,
            "max_width": null,
            "min_height": null,
            "min_width": null,
            "object_fit": null,
            "object_position": null,
            "order": null,
            "overflow": null,
            "overflow_x": null,
            "overflow_y": null,
            "padding": null,
            "right": null,
            "top": null,
            "visibility": null,
            "width": null
          }
        },
        "cfbd131a77d147338ee99d9557347e4f": {
          "model_module": "@jupyter-widgets/controls",
          "model_name": "DescriptionStyleModel",
          "model_module_version": "1.5.0",
          "state": {
            "_model_module": "@jupyter-widgets/controls",
            "_model_module_version": "1.5.0",
            "_model_name": "DescriptionStyleModel",
            "_view_count": null,
            "_view_module": "@jupyter-widgets/base",
            "_view_module_version": "1.2.0",
            "_view_name": "StyleView",
            "description_width": ""
          }
        },
        "ffb3cd1d9674445fb6f818eff3281f0b": {
          "model_module": "@jupyter-widgets/controls",
          "model_name": "HBoxModel",
          "model_module_version": "1.5.0",
          "state": {
            "_dom_classes": [],
            "_model_module": "@jupyter-widgets/controls",
            "_model_module_version": "1.5.0",
            "_model_name": "HBoxModel",
            "_view_count": null,
            "_view_module": "@jupyter-widgets/controls",
            "_view_module_version": "1.5.0",
            "_view_name": "HBoxView",
            "box_style": "",
            "children": [
              "IPY_MODEL_c1736c83acc74b8e85d6c8b5c139a66a",
              "IPY_MODEL_c9dbb007f0394dd7976e660c0dd22158",
              "IPY_MODEL_582fa870a20d45c8a0ea94517f87d185"
            ],
            "layout": "IPY_MODEL_f193d268c1944f62bd0bf417fcd78959"
          }
        },
        "c1736c83acc74b8e85d6c8b5c139a66a": {
          "model_module": "@jupyter-widgets/controls",
          "model_name": "HTMLModel",
          "model_module_version": "1.5.0",
          "state": {
            "_dom_classes": [],
            "_model_module": "@jupyter-widgets/controls",
            "_model_module_version": "1.5.0",
            "_model_name": "HTMLModel",
            "_view_count": null,
            "_view_module": "@jupyter-widgets/controls",
            "_view_module_version": "1.5.0",
            "_view_name": "HTMLView",
            "description": "",
            "description_tooltip": null,
            "layout": "IPY_MODEL_55dbf071cbc54b9899dfc7af4ff9bce9",
            "placeholder": "​",
            "style": "IPY_MODEL_8b6629a2ec8e4a4c9697091ab7ffd02e",
            "value": "1_Pooling/config.json: 100%"
          }
        },
        "c9dbb007f0394dd7976e660c0dd22158": {
          "model_module": "@jupyter-widgets/controls",
          "model_name": "FloatProgressModel",
          "model_module_version": "1.5.0",
          "state": {
            "_dom_classes": [],
            "_model_module": "@jupyter-widgets/controls",
            "_model_module_version": "1.5.0",
            "_model_name": "FloatProgressModel",
            "_view_count": null,
            "_view_module": "@jupyter-widgets/controls",
            "_view_module_version": "1.5.0",
            "_view_name": "ProgressView",
            "bar_style": "success",
            "description": "",
            "description_tooltip": null,
            "layout": "IPY_MODEL_d2943265fca749d68030ebecff98d8ae",
            "max": 190,
            "min": 0,
            "orientation": "horizontal",
            "style": "IPY_MODEL_e13df794eed6407db66469710113ee76",
            "value": 190
          }
        },
        "582fa870a20d45c8a0ea94517f87d185": {
          "model_module": "@jupyter-widgets/controls",
          "model_name": "HTMLModel",
          "model_module_version": "1.5.0",
          "state": {
            "_dom_classes": [],
            "_model_module": "@jupyter-widgets/controls",
            "_model_module_version": "1.5.0",
            "_model_name": "HTMLModel",
            "_view_count": null,
            "_view_module": "@jupyter-widgets/controls",
            "_view_module_version": "1.5.0",
            "_view_name": "HTMLView",
            "description": "",
            "description_tooltip": null,
            "layout": "IPY_MODEL_45982513053f49909ec2982859cc3af4",
            "placeholder": "​",
            "style": "IPY_MODEL_f06fe437805c4bfe8b4652186d82e135",
            "value": " 190/190 [00:00&lt;00:00, 11.9kB/s]"
          }
        },
        "f193d268c1944f62bd0bf417fcd78959": {
          "model_module": "@jupyter-widgets/base",
          "model_name": "LayoutModel",
          "model_module_version": "1.2.0",
          "state": {
            "_model_module": "@jupyter-widgets/base",
            "_model_module_version": "1.2.0",
            "_model_name": "LayoutModel",
            "_view_count": null,
            "_view_module": "@jupyter-widgets/base",
            "_view_module_version": "1.2.0",
            "_view_name": "LayoutView",
            "align_content": null,
            "align_items": null,
            "align_self": null,
            "border": null,
            "bottom": null,
            "display": null,
            "flex": null,
            "flex_flow": null,
            "grid_area": null,
            "grid_auto_columns": null,
            "grid_auto_flow": null,
            "grid_auto_rows": null,
            "grid_column": null,
            "grid_gap": null,
            "grid_row": null,
            "grid_template_areas": null,
            "grid_template_columns": null,
            "grid_template_rows": null,
            "height": null,
            "justify_content": null,
            "justify_items": null,
            "left": null,
            "margin": null,
            "max_height": null,
            "max_width": null,
            "min_height": null,
            "min_width": null,
            "object_fit": null,
            "object_position": null,
            "order": null,
            "overflow": null,
            "overflow_x": null,
            "overflow_y": null,
            "padding": null,
            "right": null,
            "top": null,
            "visibility": null,
            "width": null
          }
        },
        "55dbf071cbc54b9899dfc7af4ff9bce9": {
          "model_module": "@jupyter-widgets/base",
          "model_name": "LayoutModel",
          "model_module_version": "1.2.0",
          "state": {
            "_model_module": "@jupyter-widgets/base",
            "_model_module_version": "1.2.0",
            "_model_name": "LayoutModel",
            "_view_count": null,
            "_view_module": "@jupyter-widgets/base",
            "_view_module_version": "1.2.0",
            "_view_name": "LayoutView",
            "align_content": null,
            "align_items": null,
            "align_self": null,
            "border": null,
            "bottom": null,
            "display": null,
            "flex": null,
            "flex_flow": null,
            "grid_area": null,
            "grid_auto_columns": null,
            "grid_auto_flow": null,
            "grid_auto_rows": null,
            "grid_column": null,
            "grid_gap": null,
            "grid_row": null,
            "grid_template_areas": null,
            "grid_template_columns": null,
            "grid_template_rows": null,
            "height": null,
            "justify_content": null,
            "justify_items": null,
            "left": null,
            "margin": null,
            "max_height": null,
            "max_width": null,
            "min_height": null,
            "min_width": null,
            "object_fit": null,
            "object_position": null,
            "order": null,
            "overflow": null,
            "overflow_x": null,
            "overflow_y": null,
            "padding": null,
            "right": null,
            "top": null,
            "visibility": null,
            "width": null
          }
        },
        "8b6629a2ec8e4a4c9697091ab7ffd02e": {
          "model_module": "@jupyter-widgets/controls",
          "model_name": "DescriptionStyleModel",
          "model_module_version": "1.5.0",
          "state": {
            "_model_module": "@jupyter-widgets/controls",
            "_model_module_version": "1.5.0",
            "_model_name": "DescriptionStyleModel",
            "_view_count": null,
            "_view_module": "@jupyter-widgets/base",
            "_view_module_version": "1.2.0",
            "_view_name": "StyleView",
            "description_width": ""
          }
        },
        "d2943265fca749d68030ebecff98d8ae": {
          "model_module": "@jupyter-widgets/base",
          "model_name": "LayoutModel",
          "model_module_version": "1.2.0",
          "state": {
            "_model_module": "@jupyter-widgets/base",
            "_model_module_version": "1.2.0",
            "_model_name": "LayoutModel",
            "_view_count": null,
            "_view_module": "@jupyter-widgets/base",
            "_view_module_version": "1.2.0",
            "_view_name": "LayoutView",
            "align_content": null,
            "align_items": null,
            "align_self": null,
            "border": null,
            "bottom": null,
            "display": null,
            "flex": null,
            "flex_flow": null,
            "grid_area": null,
            "grid_auto_columns": null,
            "grid_auto_flow": null,
            "grid_auto_rows": null,
            "grid_column": null,
            "grid_gap": null,
            "grid_row": null,
            "grid_template_areas": null,
            "grid_template_columns": null,
            "grid_template_rows": null,
            "height": null,
            "justify_content": null,
            "justify_items": null,
            "left": null,
            "margin": null,
            "max_height": null,
            "max_width": null,
            "min_height": null,
            "min_width": null,
            "object_fit": null,
            "object_position": null,
            "order": null,
            "overflow": null,
            "overflow_x": null,
            "overflow_y": null,
            "padding": null,
            "right": null,
            "top": null,
            "visibility": null,
            "width": null
          }
        },
        "e13df794eed6407db66469710113ee76": {
          "model_module": "@jupyter-widgets/controls",
          "model_name": "ProgressStyleModel",
          "model_module_version": "1.5.0",
          "state": {
            "_model_module": "@jupyter-widgets/controls",
            "_model_module_version": "1.5.0",
            "_model_name": "ProgressStyleModel",
            "_view_count": null,
            "_view_module": "@jupyter-widgets/base",
            "_view_module_version": "1.2.0",
            "_view_name": "StyleView",
            "bar_color": null,
            "description_width": ""
          }
        },
        "45982513053f49909ec2982859cc3af4": {
          "model_module": "@jupyter-widgets/base",
          "model_name": "LayoutModel",
          "model_module_version": "1.2.0",
          "state": {
            "_model_module": "@jupyter-widgets/base",
            "_model_module_version": "1.2.0",
            "_model_name": "LayoutModel",
            "_view_count": null,
            "_view_module": "@jupyter-widgets/base",
            "_view_module_version": "1.2.0",
            "_view_name": "LayoutView",
            "align_content": null,
            "align_items": null,
            "align_self": null,
            "border": null,
            "bottom": null,
            "display": null,
            "flex": null,
            "flex_flow": null,
            "grid_area": null,
            "grid_auto_columns": null,
            "grid_auto_flow": null,
            "grid_auto_rows": null,
            "grid_column": null,
            "grid_gap": null,
            "grid_row": null,
            "grid_template_areas": null,
            "grid_template_columns": null,
            "grid_template_rows": null,
            "height": null,
            "justify_content": null,
            "justify_items": null,
            "left": null,
            "margin": null,
            "max_height": null,
            "max_width": null,
            "min_height": null,
            "min_width": null,
            "object_fit": null,
            "object_position": null,
            "order": null,
            "overflow": null,
            "overflow_x": null,
            "overflow_y": null,
            "padding": null,
            "right": null,
            "top": null,
            "visibility": null,
            "width": null
          }
        },
        "f06fe437805c4bfe8b4652186d82e135": {
          "model_module": "@jupyter-widgets/controls",
          "model_name": "DescriptionStyleModel",
          "model_module_version": "1.5.0",
          "state": {
            "_model_module": "@jupyter-widgets/controls",
            "_model_module_version": "1.5.0",
            "_model_name": "DescriptionStyleModel",
            "_view_count": null,
            "_view_module": "@jupyter-widgets/base",
            "_view_module_version": "1.2.0",
            "_view_name": "StyleView",
            "description_width": ""
          }
        },
        "4e3a9f97550c4f58bdb1e7cec6f2af1b": {
          "model_module": "@jupyter-widgets/controls",
          "model_name": "HBoxModel",
          "model_module_version": "1.5.0",
          "state": {
            "_dom_classes": [],
            "_model_module": "@jupyter-widgets/controls",
            "_model_module_version": "1.5.0",
            "_model_name": "HBoxModel",
            "_view_count": null,
            "_view_module": "@jupyter-widgets/controls",
            "_view_module_version": "1.5.0",
            "_view_name": "HBoxView",
            "box_style": "",
            "children": [
              "IPY_MODEL_9d928decf1eb4045939fc1e8a2bfd8cf",
              "IPY_MODEL_364c880662a449a881cf89e43139b107",
              "IPY_MODEL_e81e68af91da4b92a026fd6652293dcb"
            ],
            "layout": "IPY_MODEL_6b8d60bad6ff4f0891b4d0955b2ed872"
          }
        },
        "9d928decf1eb4045939fc1e8a2bfd8cf": {
          "model_module": "@jupyter-widgets/controls",
          "model_name": "HTMLModel",
          "model_module_version": "1.5.0",
          "state": {
            "_dom_classes": [],
            "_model_module": "@jupyter-widgets/controls",
            "_model_module_version": "1.5.0",
            "_model_name": "HTMLModel",
            "_view_count": null,
            "_view_module": "@jupyter-widgets/controls",
            "_view_module_version": "1.5.0",
            "_view_name": "HTMLView",
            "description": "",
            "description_tooltip": null,
            "layout": "IPY_MODEL_3251d62e53724733ad206a2ebf3ce83b",
            "placeholder": "​",
            "style": "IPY_MODEL_7433510acc7b4a289df46bda2180410c",
            "value": "config.json: 100%"
          }
        },
        "364c880662a449a881cf89e43139b107": {
          "model_module": "@jupyter-widgets/controls",
          "model_name": "FloatProgressModel",
          "model_module_version": "1.5.0",
          "state": {
            "_dom_classes": [],
            "_model_module": "@jupyter-widgets/controls",
            "_model_module_version": "1.5.0",
            "_model_name": "FloatProgressModel",
            "_view_count": null,
            "_view_module": "@jupyter-widgets/controls",
            "_view_module_version": "1.5.0",
            "_view_name": "ProgressView",
            "bar_style": "success",
            "description": "",
            "description_tooltip": null,
            "layout": "IPY_MODEL_a13aacbb117a4fea82f921047c8db82b",
            "max": 998,
            "min": 0,
            "orientation": "horizontal",
            "style": "IPY_MODEL_8ae8825090384afdb5be57ed82dc52cb",
            "value": 998
          }
        },
        "e81e68af91da4b92a026fd6652293dcb": {
          "model_module": "@jupyter-widgets/controls",
          "model_name": "HTMLModel",
          "model_module_version": "1.5.0",
          "state": {
            "_dom_classes": [],
            "_model_module": "@jupyter-widgets/controls",
            "_model_module_version": "1.5.0",
            "_model_name": "HTMLModel",
            "_view_count": null,
            "_view_module": "@jupyter-widgets/controls",
            "_view_module_version": "1.5.0",
            "_view_name": "HTMLView",
            "description": "",
            "description_tooltip": null,
            "layout": "IPY_MODEL_23f3225d6edf424a8f6c40738647a4ba",
            "placeholder": "​",
            "style": "IPY_MODEL_3a9b3538e05f4da0985f2094c907cdb0",
            "value": " 998/998 [00:00&lt;00:00, 71.4kB/s]"
          }
        },
        "6b8d60bad6ff4f0891b4d0955b2ed872": {
          "model_module": "@jupyter-widgets/base",
          "model_name": "LayoutModel",
          "model_module_version": "1.2.0",
          "state": {
            "_model_module": "@jupyter-widgets/base",
            "_model_module_version": "1.2.0",
            "_model_name": "LayoutModel",
            "_view_count": null,
            "_view_module": "@jupyter-widgets/base",
            "_view_module_version": "1.2.0",
            "_view_name": "LayoutView",
            "align_content": null,
            "align_items": null,
            "align_self": null,
            "border": null,
            "bottom": null,
            "display": null,
            "flex": null,
            "flex_flow": null,
            "grid_area": null,
            "grid_auto_columns": null,
            "grid_auto_flow": null,
            "grid_auto_rows": null,
            "grid_column": null,
            "grid_gap": null,
            "grid_row": null,
            "grid_template_areas": null,
            "grid_template_columns": null,
            "grid_template_rows": null,
            "height": null,
            "justify_content": null,
            "justify_items": null,
            "left": null,
            "margin": null,
            "max_height": null,
            "max_width": null,
            "min_height": null,
            "min_width": null,
            "object_fit": null,
            "object_position": null,
            "order": null,
            "overflow": null,
            "overflow_x": null,
            "overflow_y": null,
            "padding": null,
            "right": null,
            "top": null,
            "visibility": null,
            "width": null
          }
        },
        "3251d62e53724733ad206a2ebf3ce83b": {
          "model_module": "@jupyter-widgets/base",
          "model_name": "LayoutModel",
          "model_module_version": "1.2.0",
          "state": {
            "_model_module": "@jupyter-widgets/base",
            "_model_module_version": "1.2.0",
            "_model_name": "LayoutModel",
            "_view_count": null,
            "_view_module": "@jupyter-widgets/base",
            "_view_module_version": "1.2.0",
            "_view_name": "LayoutView",
            "align_content": null,
            "align_items": null,
            "align_self": null,
            "border": null,
            "bottom": null,
            "display": null,
            "flex": null,
            "flex_flow": null,
            "grid_area": null,
            "grid_auto_columns": null,
            "grid_auto_flow": null,
            "grid_auto_rows": null,
            "grid_column": null,
            "grid_gap": null,
            "grid_row": null,
            "grid_template_areas": null,
            "grid_template_columns": null,
            "grid_template_rows": null,
            "height": null,
            "justify_content": null,
            "justify_items": null,
            "left": null,
            "margin": null,
            "max_height": null,
            "max_width": null,
            "min_height": null,
            "min_width": null,
            "object_fit": null,
            "object_position": null,
            "order": null,
            "overflow": null,
            "overflow_x": null,
            "overflow_y": null,
            "padding": null,
            "right": null,
            "top": null,
            "visibility": null,
            "width": null
          }
        },
        "7433510acc7b4a289df46bda2180410c": {
          "model_module": "@jupyter-widgets/controls",
          "model_name": "DescriptionStyleModel",
          "model_module_version": "1.5.0",
          "state": {
            "_model_module": "@jupyter-widgets/controls",
            "_model_module_version": "1.5.0",
            "_model_name": "DescriptionStyleModel",
            "_view_count": null,
            "_view_module": "@jupyter-widgets/base",
            "_view_module_version": "1.2.0",
            "_view_name": "StyleView",
            "description_width": ""
          }
        },
        "a13aacbb117a4fea82f921047c8db82b": {
          "model_module": "@jupyter-widgets/base",
          "model_name": "LayoutModel",
          "model_module_version": "1.2.0",
          "state": {
            "_model_module": "@jupyter-widgets/base",
            "_model_module_version": "1.2.0",
            "_model_name": "LayoutModel",
            "_view_count": null,
            "_view_module": "@jupyter-widgets/base",
            "_view_module_version": "1.2.0",
            "_view_name": "LayoutView",
            "align_content": null,
            "align_items": null,
            "align_self": null,
            "border": null,
            "bottom": null,
            "display": null,
            "flex": null,
            "flex_flow": null,
            "grid_area": null,
            "grid_auto_columns": null,
            "grid_auto_flow": null,
            "grid_auto_rows": null,
            "grid_column": null,
            "grid_gap": null,
            "grid_row": null,
            "grid_template_areas": null,
            "grid_template_columns": null,
            "grid_template_rows": null,
            "height": null,
            "justify_content": null,
            "justify_items": null,
            "left": null,
            "margin": null,
            "max_height": null,
            "max_width": null,
            "min_height": null,
            "min_width": null,
            "object_fit": null,
            "object_position": null,
            "order": null,
            "overflow": null,
            "overflow_x": null,
            "overflow_y": null,
            "padding": null,
            "right": null,
            "top": null,
            "visibility": null,
            "width": null
          }
        },
        "8ae8825090384afdb5be57ed82dc52cb": {
          "model_module": "@jupyter-widgets/controls",
          "model_name": "ProgressStyleModel",
          "model_module_version": "1.5.0",
          "state": {
            "_model_module": "@jupyter-widgets/controls",
            "_model_module_version": "1.5.0",
            "_model_name": "ProgressStyleModel",
            "_view_count": null,
            "_view_module": "@jupyter-widgets/base",
            "_view_module_version": "1.2.0",
            "_view_name": "StyleView",
            "bar_color": null,
            "description_width": ""
          }
        },
        "23f3225d6edf424a8f6c40738647a4ba": {
          "model_module": "@jupyter-widgets/base",
          "model_name": "LayoutModel",
          "model_module_version": "1.2.0",
          "state": {
            "_model_module": "@jupyter-widgets/base",
            "_model_module_version": "1.2.0",
            "_model_name": "LayoutModel",
            "_view_count": null,
            "_view_module": "@jupyter-widgets/base",
            "_view_module_version": "1.2.0",
            "_view_name": "LayoutView",
            "align_content": null,
            "align_items": null,
            "align_self": null,
            "border": null,
            "bottom": null,
            "display": null,
            "flex": null,
            "flex_flow": null,
            "grid_area": null,
            "grid_auto_columns": null,
            "grid_auto_flow": null,
            "grid_auto_rows": null,
            "grid_column": null,
            "grid_gap": null,
            "grid_row": null,
            "grid_template_areas": null,
            "grid_template_columns": null,
            "grid_template_rows": null,
            "height": null,
            "justify_content": null,
            "justify_items": null,
            "left": null,
            "margin": null,
            "max_height": null,
            "max_width": null,
            "min_height": null,
            "min_width": null,
            "object_fit": null,
            "object_position": null,
            "order": null,
            "overflow": null,
            "overflow_x": null,
            "overflow_y": null,
            "padding": null,
            "right": null,
            "top": null,
            "visibility": null,
            "width": null
          }
        },
        "3a9b3538e05f4da0985f2094c907cdb0": {
          "model_module": "@jupyter-widgets/controls",
          "model_name": "DescriptionStyleModel",
          "model_module_version": "1.5.0",
          "state": {
            "_model_module": "@jupyter-widgets/controls",
            "_model_module_version": "1.5.0",
            "_model_name": "DescriptionStyleModel",
            "_view_count": null,
            "_view_module": "@jupyter-widgets/base",
            "_view_module_version": "1.2.0",
            "_view_name": "StyleView",
            "description_width": ""
          }
        },
        "2c79ebaf2eda407898be08d0c4aa3e6c": {
          "model_module": "@jupyter-widgets/controls",
          "model_name": "HBoxModel",
          "model_module_version": "1.5.0",
          "state": {
            "_dom_classes": [],
            "_model_module": "@jupyter-widgets/controls",
            "_model_module_version": "1.5.0",
            "_model_name": "HBoxModel",
            "_view_count": null,
            "_view_module": "@jupyter-widgets/controls",
            "_view_module_version": "1.5.0",
            "_view_name": "HBoxView",
            "box_style": "",
            "children": [
              "IPY_MODEL_372e461473b342a4a14e5bc270c555ca",
              "IPY_MODEL_74185b604f5a480091620820a8102f9d",
              "IPY_MODEL_449b5b8ffbb94d44afc2e03a723698ba"
            ],
            "layout": "IPY_MODEL_5204ea7b3f604403a0c834afcfe6601e"
          }
        },
        "372e461473b342a4a14e5bc270c555ca": {
          "model_module": "@jupyter-widgets/controls",
          "model_name": "HTMLModel",
          "model_module_version": "1.5.0",
          "state": {
            "_dom_classes": [],
            "_model_module": "@jupyter-widgets/controls",
            "_model_module_version": "1.5.0",
            "_model_name": "HTMLModel",
            "_view_count": null,
            "_view_module": "@jupyter-widgets/controls",
            "_view_module_version": "1.5.0",
            "_view_name": "HTMLView",
            "description": "",
            "description_tooltip": null,
            "layout": "IPY_MODEL_497571bbb48d4c1fa157a53c473eca49",
            "placeholder": "​",
            "style": "IPY_MODEL_371e757a2bb84cbc95f4fb8598db27c6",
            "value": "model.safetensors: 100%"
          }
        },
        "74185b604f5a480091620820a8102f9d": {
          "model_module": "@jupyter-widgets/controls",
          "model_name": "FloatProgressModel",
          "model_module_version": "1.5.0",
          "state": {
            "_dom_classes": [],
            "_model_module": "@jupyter-widgets/controls",
            "_model_module_version": "1.5.0",
            "_model_name": "FloatProgressModel",
            "_view_count": null,
            "_view_module": "@jupyter-widgets/controls",
            "_view_module_version": "1.5.0",
            "_view_name": "ProgressView",
            "bar_style": "success",
            "description": "",
            "description_tooltip": null,
            "layout": "IPY_MODEL_ecb7d6ecd1f04bcea0ac0c781169ccb6",
            "max": 1334400964,
            "min": 0,
            "orientation": "horizontal",
            "style": "IPY_MODEL_65c2facdce4447f2aa978de44d4bcbb0",
            "value": 1334400964
          }
        },
        "449b5b8ffbb94d44afc2e03a723698ba": {
          "model_module": "@jupyter-widgets/controls",
          "model_name": "HTMLModel",
          "model_module_version": "1.5.0",
          "state": {
            "_dom_classes": [],
            "_model_module": "@jupyter-widgets/controls",
            "_model_module_version": "1.5.0",
            "_model_name": "HTMLModel",
            "_view_count": null,
            "_view_module": "@jupyter-widgets/controls",
            "_view_module_version": "1.5.0",
            "_view_name": "HTMLView",
            "description": "",
            "description_tooltip": null,
            "layout": "IPY_MODEL_7475e4157b354eb88e886cabc5680fc5",
            "placeholder": "​",
            "style": "IPY_MODEL_13a7444e4fcd45f3a5b8f95d26331759",
            "value": " 1.33G/1.33G [00:11&lt;00:00, 26.6MB/s]"
          }
        },
        "5204ea7b3f604403a0c834afcfe6601e": {
          "model_module": "@jupyter-widgets/base",
          "model_name": "LayoutModel",
          "model_module_version": "1.2.0",
          "state": {
            "_model_module": "@jupyter-widgets/base",
            "_model_module_version": "1.2.0",
            "_model_name": "LayoutModel",
            "_view_count": null,
            "_view_module": "@jupyter-widgets/base",
            "_view_module_version": "1.2.0",
            "_view_name": "LayoutView",
            "align_content": null,
            "align_items": null,
            "align_self": null,
            "border": null,
            "bottom": null,
            "display": null,
            "flex": null,
            "flex_flow": null,
            "grid_area": null,
            "grid_auto_columns": null,
            "grid_auto_flow": null,
            "grid_auto_rows": null,
            "grid_column": null,
            "grid_gap": null,
            "grid_row": null,
            "grid_template_areas": null,
            "grid_template_columns": null,
            "grid_template_rows": null,
            "height": null,
            "justify_content": null,
            "justify_items": null,
            "left": null,
            "margin": null,
            "max_height": null,
            "max_width": null,
            "min_height": null,
            "min_width": null,
            "object_fit": null,
            "object_position": null,
            "order": null,
            "overflow": null,
            "overflow_x": null,
            "overflow_y": null,
            "padding": null,
            "right": null,
            "top": null,
            "visibility": null,
            "width": null
          }
        },
        "497571bbb48d4c1fa157a53c473eca49": {
          "model_module": "@jupyter-widgets/base",
          "model_name": "LayoutModel",
          "model_module_version": "1.2.0",
          "state": {
            "_model_module": "@jupyter-widgets/base",
            "_model_module_version": "1.2.0",
            "_model_name": "LayoutModel",
            "_view_count": null,
            "_view_module": "@jupyter-widgets/base",
            "_view_module_version": "1.2.0",
            "_view_name": "LayoutView",
            "align_content": null,
            "align_items": null,
            "align_self": null,
            "border": null,
            "bottom": null,
            "display": null,
            "flex": null,
            "flex_flow": null,
            "grid_area": null,
            "grid_auto_columns": null,
            "grid_auto_flow": null,
            "grid_auto_rows": null,
            "grid_column": null,
            "grid_gap": null,
            "grid_row": null,
            "grid_template_areas": null,
            "grid_template_columns": null,
            "grid_template_rows": null,
            "height": null,
            "justify_content": null,
            "justify_items": null,
            "left": null,
            "margin": null,
            "max_height": null,
            "max_width": null,
            "min_height": null,
            "min_width": null,
            "object_fit": null,
            "object_position": null,
            "order": null,
            "overflow": null,
            "overflow_x": null,
            "overflow_y": null,
            "padding": null,
            "right": null,
            "top": null,
            "visibility": null,
            "width": null
          }
        },
        "371e757a2bb84cbc95f4fb8598db27c6": {
          "model_module": "@jupyter-widgets/controls",
          "model_name": "DescriptionStyleModel",
          "model_module_version": "1.5.0",
          "state": {
            "_model_module": "@jupyter-widgets/controls",
            "_model_module_version": "1.5.0",
            "_model_name": "DescriptionStyleModel",
            "_view_count": null,
            "_view_module": "@jupyter-widgets/base",
            "_view_module_version": "1.2.0",
            "_view_name": "StyleView",
            "description_width": ""
          }
        },
        "ecb7d6ecd1f04bcea0ac0c781169ccb6": {
          "model_module": "@jupyter-widgets/base",
          "model_name": "LayoutModel",
          "model_module_version": "1.2.0",
          "state": {
            "_model_module": "@jupyter-widgets/base",
            "_model_module_version": "1.2.0",
            "_model_name": "LayoutModel",
            "_view_count": null,
            "_view_module": "@jupyter-widgets/base",
            "_view_module_version": "1.2.0",
            "_view_name": "LayoutView",
            "align_content": null,
            "align_items": null,
            "align_self": null,
            "border": null,
            "bottom": null,
            "display": null,
            "flex": null,
            "flex_flow": null,
            "grid_area": null,
            "grid_auto_columns": null,
            "grid_auto_flow": null,
            "grid_auto_rows": null,
            "grid_column": null,
            "grid_gap": null,
            "grid_row": null,
            "grid_template_areas": null,
            "grid_template_columns": null,
            "grid_template_rows": null,
            "height": null,
            "justify_content": null,
            "justify_items": null,
            "left": null,
            "margin": null,
            "max_height": null,
            "max_width": null,
            "min_height": null,
            "min_width": null,
            "object_fit": null,
            "object_position": null,
            "order": null,
            "overflow": null,
            "overflow_x": null,
            "overflow_y": null,
            "padding": null,
            "right": null,
            "top": null,
            "visibility": null,
            "width": null
          }
        },
        "65c2facdce4447f2aa978de44d4bcbb0": {
          "model_module": "@jupyter-widgets/controls",
          "model_name": "ProgressStyleModel",
          "model_module_version": "1.5.0",
          "state": {
            "_model_module": "@jupyter-widgets/controls",
            "_model_module_version": "1.5.0",
            "_model_name": "ProgressStyleModel",
            "_view_count": null,
            "_view_module": "@jupyter-widgets/base",
            "_view_module_version": "1.2.0",
            "_view_name": "StyleView",
            "bar_color": null,
            "description_width": ""
          }
        },
        "7475e4157b354eb88e886cabc5680fc5": {
          "model_module": "@jupyter-widgets/base",
          "model_name": "LayoutModel",
          "model_module_version": "1.2.0",
          "state": {
            "_model_module": "@jupyter-widgets/base",
            "_model_module_version": "1.2.0",
            "_model_name": "LayoutModel",
            "_view_count": null,
            "_view_module": "@jupyter-widgets/base",
            "_view_module_version": "1.2.0",
            "_view_name": "LayoutView",
            "align_content": null,
            "align_items": null,
            "align_self": null,
            "border": null,
            "bottom": null,
            "display": null,
            "flex": null,
            "flex_flow": null,
            "grid_area": null,
            "grid_auto_columns": null,
            "grid_auto_flow": null,
            "grid_auto_rows": null,
            "grid_column": null,
            "grid_gap": null,
            "grid_row": null,
            "grid_template_areas": null,
            "grid_template_columns": null,
            "grid_template_rows": null,
            "height": null,
            "justify_content": null,
            "justify_items": null,
            "left": null,
            "margin": null,
            "max_height": null,
            "max_width": null,
            "min_height": null,
            "min_width": null,
            "object_fit": null,
            "object_position": null,
            "order": null,
            "overflow": null,
            "overflow_x": null,
            "overflow_y": null,
            "padding": null,
            "right": null,
            "top": null,
            "visibility": null,
            "width": null
          }
        },
        "13a7444e4fcd45f3a5b8f95d26331759": {
          "model_module": "@jupyter-widgets/controls",
          "model_name": "DescriptionStyleModel",
          "model_module_version": "1.5.0",
          "state": {
            "_model_module": "@jupyter-widgets/controls",
            "_model_module_version": "1.5.0",
            "_model_name": "DescriptionStyleModel",
            "_view_count": null,
            "_view_module": "@jupyter-widgets/base",
            "_view_module_version": "1.2.0",
            "_view_name": "StyleView",
            "description_width": ""
          }
        },
        "f95458f4aa274d078259231d6520836c": {
          "model_module": "@jupyter-widgets/controls",
          "model_name": "HBoxModel",
          "model_module_version": "1.5.0",
          "state": {
            "_dom_classes": [],
            "_model_module": "@jupyter-widgets/controls",
            "_model_module_version": "1.5.0",
            "_model_name": "HBoxModel",
            "_view_count": null,
            "_view_module": "@jupyter-widgets/controls",
            "_view_module_version": "1.5.0",
            "_view_name": "HBoxView",
            "box_style": "",
            "children": [
              "IPY_MODEL_dd48182f7cb84fd3bd69eaabd708894d",
              "IPY_MODEL_d97fcef1a8f1481c892b2aea67fe1a4e",
              "IPY_MODEL_16171e602d514348b5bd8f22c55f0027"
            ],
            "layout": "IPY_MODEL_63113a29348545bc8e97e2ab97652440"
          }
        },
        "dd48182f7cb84fd3bd69eaabd708894d": {
          "model_module": "@jupyter-widgets/controls",
          "model_name": "HTMLModel",
          "model_module_version": "1.5.0",
          "state": {
            "_dom_classes": [],
            "_model_module": "@jupyter-widgets/controls",
            "_model_module_version": "1.5.0",
            "_model_name": "HTMLModel",
            "_view_count": null,
            "_view_module": "@jupyter-widgets/controls",
            "_view_module_version": "1.5.0",
            "_view_name": "HTMLView",
            "description": "",
            "description_tooltip": null,
            "layout": "IPY_MODEL_2e15a1171fe64ce086e7a48d872b225b",
            "placeholder": "​",
            "style": "IPY_MODEL_8292fa68f4a54077b444e14a846be1d4",
            "value": "tokenizer_config.json: 100%"
          }
        },
        "d97fcef1a8f1481c892b2aea67fe1a4e": {
          "model_module": "@jupyter-widgets/controls",
          "model_name": "FloatProgressModel",
          "model_module_version": "1.5.0",
          "state": {
            "_dom_classes": [],
            "_model_module": "@jupyter-widgets/controls",
            "_model_module_version": "1.5.0",
            "_model_name": "FloatProgressModel",
            "_view_count": null,
            "_view_module": "@jupyter-widgets/controls",
            "_view_module_version": "1.5.0",
            "_view_name": "ProgressView",
            "bar_style": "success",
            "description": "",
            "description_tooltip": null,
            "layout": "IPY_MODEL_b520adaf231d4baa942604a71248b54e",
            "max": 60,
            "min": 0,
            "orientation": "horizontal",
            "style": "IPY_MODEL_70c85a74a46844e290e2d48520de48db",
            "value": 60
          }
        },
        "16171e602d514348b5bd8f22c55f0027": {
          "model_module": "@jupyter-widgets/controls",
          "model_name": "HTMLModel",
          "model_module_version": "1.5.0",
          "state": {
            "_dom_classes": [],
            "_model_module": "@jupyter-widgets/controls",
            "_model_module_version": "1.5.0",
            "_model_name": "HTMLModel",
            "_view_count": null,
            "_view_module": "@jupyter-widgets/controls",
            "_view_module_version": "1.5.0",
            "_view_name": "HTMLView",
            "description": "",
            "description_tooltip": null,
            "layout": "IPY_MODEL_26557f71daf44e1c862ed1c752e45f6a",
            "placeholder": "​",
            "style": "IPY_MODEL_f2cdf98ab432462d97d9aebf72bfe4b3",
            "value": " 60.0/60.0 [00:00&lt;00:00, 2.25kB/s]"
          }
        },
        "63113a29348545bc8e97e2ab97652440": {
          "model_module": "@jupyter-widgets/base",
          "model_name": "LayoutModel",
          "model_module_version": "1.2.0",
          "state": {
            "_model_module": "@jupyter-widgets/base",
            "_model_module_version": "1.2.0",
            "_model_name": "LayoutModel",
            "_view_count": null,
            "_view_module": "@jupyter-widgets/base",
            "_view_module_version": "1.2.0",
            "_view_name": "LayoutView",
            "align_content": null,
            "align_items": null,
            "align_self": null,
            "border": null,
            "bottom": null,
            "display": null,
            "flex": null,
            "flex_flow": null,
            "grid_area": null,
            "grid_auto_columns": null,
            "grid_auto_flow": null,
            "grid_auto_rows": null,
            "grid_column": null,
            "grid_gap": null,
            "grid_row": null,
            "grid_template_areas": null,
            "grid_template_columns": null,
            "grid_template_rows": null,
            "height": null,
            "justify_content": null,
            "justify_items": null,
            "left": null,
            "margin": null,
            "max_height": null,
            "max_width": null,
            "min_height": null,
            "min_width": null,
            "object_fit": null,
            "object_position": null,
            "order": null,
            "overflow": null,
            "overflow_x": null,
            "overflow_y": null,
            "padding": null,
            "right": null,
            "top": null,
            "visibility": null,
            "width": null
          }
        },
        "2e15a1171fe64ce086e7a48d872b225b": {
          "model_module": "@jupyter-widgets/base",
          "model_name": "LayoutModel",
          "model_module_version": "1.2.0",
          "state": {
            "_model_module": "@jupyter-widgets/base",
            "_model_module_version": "1.2.0",
            "_model_name": "LayoutModel",
            "_view_count": null,
            "_view_module": "@jupyter-widgets/base",
            "_view_module_version": "1.2.0",
            "_view_name": "LayoutView",
            "align_content": null,
            "align_items": null,
            "align_self": null,
            "border": null,
            "bottom": null,
            "display": null,
            "flex": null,
            "flex_flow": null,
            "grid_area": null,
            "grid_auto_columns": null,
            "grid_auto_flow": null,
            "grid_auto_rows": null,
            "grid_column": null,
            "grid_gap": null,
            "grid_row": null,
            "grid_template_areas": null,
            "grid_template_columns": null,
            "grid_template_rows": null,
            "height": null,
            "justify_content": null,
            "justify_items": null,
            "left": null,
            "margin": null,
            "max_height": null,
            "max_width": null,
            "min_height": null,
            "min_width": null,
            "object_fit": null,
            "object_position": null,
            "order": null,
            "overflow": null,
            "overflow_x": null,
            "overflow_y": null,
            "padding": null,
            "right": null,
            "top": null,
            "visibility": null,
            "width": null
          }
        },
        "8292fa68f4a54077b444e14a846be1d4": {
          "model_module": "@jupyter-widgets/controls",
          "model_name": "DescriptionStyleModel",
          "model_module_version": "1.5.0",
          "state": {
            "_model_module": "@jupyter-widgets/controls",
            "_model_module_version": "1.5.0",
            "_model_name": "DescriptionStyleModel",
            "_view_count": null,
            "_view_module": "@jupyter-widgets/base",
            "_view_module_version": "1.2.0",
            "_view_name": "StyleView",
            "description_width": ""
          }
        },
        "b520adaf231d4baa942604a71248b54e": {
          "model_module": "@jupyter-widgets/base",
          "model_name": "LayoutModel",
          "model_module_version": "1.2.0",
          "state": {
            "_model_module": "@jupyter-widgets/base",
            "_model_module_version": "1.2.0",
            "_model_name": "LayoutModel",
            "_view_count": null,
            "_view_module": "@jupyter-widgets/base",
            "_view_module_version": "1.2.0",
            "_view_name": "LayoutView",
            "align_content": null,
            "align_items": null,
            "align_self": null,
            "border": null,
            "bottom": null,
            "display": null,
            "flex": null,
            "flex_flow": null,
            "grid_area": null,
            "grid_auto_columns": null,
            "grid_auto_flow": null,
            "grid_auto_rows": null,
            "grid_column": null,
            "grid_gap": null,
            "grid_row": null,
            "grid_template_areas": null,
            "grid_template_columns": null,
            "grid_template_rows": null,
            "height": null,
            "justify_content": null,
            "justify_items": null,
            "left": null,
            "margin": null,
            "max_height": null,
            "max_width": null,
            "min_height": null,
            "min_width": null,
            "object_fit": null,
            "object_position": null,
            "order": null,
            "overflow": null,
            "overflow_x": null,
            "overflow_y": null,
            "padding": null,
            "right": null,
            "top": null,
            "visibility": null,
            "width": null
          }
        },
        "70c85a74a46844e290e2d48520de48db": {
          "model_module": "@jupyter-widgets/controls",
          "model_name": "ProgressStyleModel",
          "model_module_version": "1.5.0",
          "state": {
            "_model_module": "@jupyter-widgets/controls",
            "_model_module_version": "1.5.0",
            "_model_name": "ProgressStyleModel",
            "_view_count": null,
            "_view_module": "@jupyter-widgets/base",
            "_view_module_version": "1.2.0",
            "_view_name": "StyleView",
            "bar_color": null,
            "description_width": ""
          }
        },
        "26557f71daf44e1c862ed1c752e45f6a": {
          "model_module": "@jupyter-widgets/base",
          "model_name": "LayoutModel",
          "model_module_version": "1.2.0",
          "state": {
            "_model_module": "@jupyter-widgets/base",
            "_model_module_version": "1.2.0",
            "_model_name": "LayoutModel",
            "_view_count": null,
            "_view_module": "@jupyter-widgets/base",
            "_view_module_version": "1.2.0",
            "_view_name": "LayoutView",
            "align_content": null,
            "align_items": null,
            "align_self": null,
            "border": null,
            "bottom": null,
            "display": null,
            "flex": null,
            "flex_flow": null,
            "grid_area": null,
            "grid_auto_columns": null,
            "grid_auto_flow": null,
            "grid_auto_rows": null,
            "grid_column": null,
            "grid_gap": null,
            "grid_row": null,
            "grid_template_areas": null,
            "grid_template_columns": null,
            "grid_template_rows": null,
            "height": null,
            "justify_content": null,
            "justify_items": null,
            "left": null,
            "margin": null,
            "max_height": null,
            "max_width": null,
            "min_height": null,
            "min_width": null,
            "object_fit": null,
            "object_position": null,
            "order": null,
            "overflow": null,
            "overflow_x": null,
            "overflow_y": null,
            "padding": null,
            "right": null,
            "top": null,
            "visibility": null,
            "width": null
          }
        },
        "f2cdf98ab432462d97d9aebf72bfe4b3": {
          "model_module": "@jupyter-widgets/controls",
          "model_name": "DescriptionStyleModel",
          "model_module_version": "1.5.0",
          "state": {
            "_model_module": "@jupyter-widgets/controls",
            "_model_module_version": "1.5.0",
            "_model_name": "DescriptionStyleModel",
            "_view_count": null,
            "_view_module": "@jupyter-widgets/base",
            "_view_module_version": "1.2.0",
            "_view_name": "StyleView",
            "description_width": ""
          }
        },
        "13c0d1f817c44110825137eb11c60e0c": {
          "model_module": "@jupyter-widgets/controls",
          "model_name": "HBoxModel",
          "model_module_version": "1.5.0",
          "state": {
            "_dom_classes": [],
            "_model_module": "@jupyter-widgets/controls",
            "_model_module_version": "1.5.0",
            "_model_name": "HBoxModel",
            "_view_count": null,
            "_view_module": "@jupyter-widgets/controls",
            "_view_module_version": "1.5.0",
            "_view_name": "HBoxView",
            "box_style": "",
            "children": [
              "IPY_MODEL_deb76817abe34bd59f66da4f2bf8182d",
              "IPY_MODEL_3669151b0e524a21bed473b25d8bbe20",
              "IPY_MODEL_a04621a23ecf4dc7bde88ce9f3bfbc83"
            ],
            "layout": "IPY_MODEL_868515e36bd64dceadca80f71d63d837"
          }
        },
        "deb76817abe34bd59f66da4f2bf8182d": {
          "model_module": "@jupyter-widgets/controls",
          "model_name": "HTMLModel",
          "model_module_version": "1.5.0",
          "state": {
            "_dom_classes": [],
            "_model_module": "@jupyter-widgets/controls",
            "_model_module_version": "1.5.0",
            "_model_name": "HTMLModel",
            "_view_count": null,
            "_view_module": "@jupyter-widgets/controls",
            "_view_module_version": "1.5.0",
            "_view_name": "HTMLView",
            "description": "",
            "description_tooltip": null,
            "layout": "IPY_MODEL_03ca751375ce462f84466796b032dc62",
            "placeholder": "​",
            "style": "IPY_MODEL_820c611b7abd4cf5a59c820eed0f7dbd",
            "value": "vocab.txt: 100%"
          }
        },
        "3669151b0e524a21bed473b25d8bbe20": {
          "model_module": "@jupyter-widgets/controls",
          "model_name": "FloatProgressModel",
          "model_module_version": "1.5.0",
          "state": {
            "_dom_classes": [],
            "_model_module": "@jupyter-widgets/controls",
            "_model_module_version": "1.5.0",
            "_model_name": "FloatProgressModel",
            "_view_count": null,
            "_view_module": "@jupyter-widgets/controls",
            "_view_module_version": "1.5.0",
            "_view_name": "ProgressView",
            "bar_style": "success",
            "description": "",
            "description_tooltip": null,
            "layout": "IPY_MODEL_4b4478f2add844638eaa12dca38e8fa0",
            "max": 213450,
            "min": 0,
            "orientation": "horizontal",
            "style": "IPY_MODEL_ebb21cc56fc14dc5971a284d8507cc47",
            "value": 213450
          }
        },
        "a04621a23ecf4dc7bde88ce9f3bfbc83": {
          "model_module": "@jupyter-widgets/controls",
          "model_name": "HTMLModel",
          "model_module_version": "1.5.0",
          "state": {
            "_dom_classes": [],
            "_model_module": "@jupyter-widgets/controls",
            "_model_module_version": "1.5.0",
            "_model_name": "HTMLModel",
            "_view_count": null,
            "_view_module": "@jupyter-widgets/controls",
            "_view_module_version": "1.5.0",
            "_view_name": "HTMLView",
            "description": "",
            "description_tooltip": null,
            "layout": "IPY_MODEL_fa053e05ea3d4f12aa79ed5eca7b98dd",
            "placeholder": "​",
            "style": "IPY_MODEL_e5e6a4cc22194b61af72a63309139886",
            "value": " 213k/213k [00:00&lt;00:00, 11.6MB/s]"
          }
        },
        "868515e36bd64dceadca80f71d63d837": {
          "model_module": "@jupyter-widgets/base",
          "model_name": "LayoutModel",
          "model_module_version": "1.2.0",
          "state": {
            "_model_module": "@jupyter-widgets/base",
            "_model_module_version": "1.2.0",
            "_model_name": "LayoutModel",
            "_view_count": null,
            "_view_module": "@jupyter-widgets/base",
            "_view_module_version": "1.2.0",
            "_view_name": "LayoutView",
            "align_content": null,
            "align_items": null,
            "align_self": null,
            "border": null,
            "bottom": null,
            "display": null,
            "flex": null,
            "flex_flow": null,
            "grid_area": null,
            "grid_auto_columns": null,
            "grid_auto_flow": null,
            "grid_auto_rows": null,
            "grid_column": null,
            "grid_gap": null,
            "grid_row": null,
            "grid_template_areas": null,
            "grid_template_columns": null,
            "grid_template_rows": null,
            "height": null,
            "justify_content": null,
            "justify_items": null,
            "left": null,
            "margin": null,
            "max_height": null,
            "max_width": null,
            "min_height": null,
            "min_width": null,
            "object_fit": null,
            "object_position": null,
            "order": null,
            "overflow": null,
            "overflow_x": null,
            "overflow_y": null,
            "padding": null,
            "right": null,
            "top": null,
            "visibility": null,
            "width": null
          }
        },
        "03ca751375ce462f84466796b032dc62": {
          "model_module": "@jupyter-widgets/base",
          "model_name": "LayoutModel",
          "model_module_version": "1.2.0",
          "state": {
            "_model_module": "@jupyter-widgets/base",
            "_model_module_version": "1.2.0",
            "_model_name": "LayoutModel",
            "_view_count": null,
            "_view_module": "@jupyter-widgets/base",
            "_view_module_version": "1.2.0",
            "_view_name": "LayoutView",
            "align_content": null,
            "align_items": null,
            "align_self": null,
            "border": null,
            "bottom": null,
            "display": null,
            "flex": null,
            "flex_flow": null,
            "grid_area": null,
            "grid_auto_columns": null,
            "grid_auto_flow": null,
            "grid_auto_rows": null,
            "grid_column": null,
            "grid_gap": null,
            "grid_row": null,
            "grid_template_areas": null,
            "grid_template_columns": null,
            "grid_template_rows": null,
            "height": null,
            "justify_content": null,
            "justify_items": null,
            "left": null,
            "margin": null,
            "max_height": null,
            "max_width": null,
            "min_height": null,
            "min_width": null,
            "object_fit": null,
            "object_position": null,
            "order": null,
            "overflow": null,
            "overflow_x": null,
            "overflow_y": null,
            "padding": null,
            "right": null,
            "top": null,
            "visibility": null,
            "width": null
          }
        },
        "820c611b7abd4cf5a59c820eed0f7dbd": {
          "model_module": "@jupyter-widgets/controls",
          "model_name": "DescriptionStyleModel",
          "model_module_version": "1.5.0",
          "state": {
            "_model_module": "@jupyter-widgets/controls",
            "_model_module_version": "1.5.0",
            "_model_name": "DescriptionStyleModel",
            "_view_count": null,
            "_view_module": "@jupyter-widgets/base",
            "_view_module_version": "1.2.0",
            "_view_name": "StyleView",
            "description_width": ""
          }
        },
        "4b4478f2add844638eaa12dca38e8fa0": {
          "model_module": "@jupyter-widgets/base",
          "model_name": "LayoutModel",
          "model_module_version": "1.2.0",
          "state": {
            "_model_module": "@jupyter-widgets/base",
            "_model_module_version": "1.2.0",
            "_model_name": "LayoutModel",
            "_view_count": null,
            "_view_module": "@jupyter-widgets/base",
            "_view_module_version": "1.2.0",
            "_view_name": "LayoutView",
            "align_content": null,
            "align_items": null,
            "align_self": null,
            "border": null,
            "bottom": null,
            "display": null,
            "flex": null,
            "flex_flow": null,
            "grid_area": null,
            "grid_auto_columns": null,
            "grid_auto_flow": null,
            "grid_auto_rows": null,
            "grid_column": null,
            "grid_gap": null,
            "grid_row": null,
            "grid_template_areas": null,
            "grid_template_columns": null,
            "grid_template_rows": null,
            "height": null,
            "justify_content": null,
            "justify_items": null,
            "left": null,
            "margin": null,
            "max_height": null,
            "max_width": null,
            "min_height": null,
            "min_width": null,
            "object_fit": null,
            "object_position": null,
            "order": null,
            "overflow": null,
            "overflow_x": null,
            "overflow_y": null,
            "padding": null,
            "right": null,
            "top": null,
            "visibility": null,
            "width": null
          }
        },
        "ebb21cc56fc14dc5971a284d8507cc47": {
          "model_module": "@jupyter-widgets/controls",
          "model_name": "ProgressStyleModel",
          "model_module_version": "1.5.0",
          "state": {
            "_model_module": "@jupyter-widgets/controls",
            "_model_module_version": "1.5.0",
            "_model_name": "ProgressStyleModel",
            "_view_count": null,
            "_view_module": "@jupyter-widgets/base",
            "_view_module_version": "1.2.0",
            "_view_name": "StyleView",
            "bar_color": null,
            "description_width": ""
          }
        },
        "fa053e05ea3d4f12aa79ed5eca7b98dd": {
          "model_module": "@jupyter-widgets/base",
          "model_name": "LayoutModel",
          "model_module_version": "1.2.0",
          "state": {
            "_model_module": "@jupyter-widgets/base",
            "_model_module_version": "1.2.0",
            "_model_name": "LayoutModel",
            "_view_count": null,
            "_view_module": "@jupyter-widgets/base",
            "_view_module_version": "1.2.0",
            "_view_name": "LayoutView",
            "align_content": null,
            "align_items": null,
            "align_self": null,
            "border": null,
            "bottom": null,
            "display": null,
            "flex": null,
            "flex_flow": null,
            "grid_area": null,
            "grid_auto_columns": null,
            "grid_auto_flow": null,
            "grid_auto_rows": null,
            "grid_column": null,
            "grid_gap": null,
            "grid_row": null,
            "grid_template_areas": null,
            "grid_template_columns": null,
            "grid_template_rows": null,
            "height": null,
            "justify_content": null,
            "justify_items": null,
            "left": null,
            "margin": null,
            "max_height": null,
            "max_width": null,
            "min_height": null,
            "min_width": null,
            "object_fit": null,
            "object_position": null,
            "order": null,
            "overflow": null,
            "overflow_x": null,
            "overflow_y": null,
            "padding": null,
            "right": null,
            "top": null,
            "visibility": null,
            "width": null
          }
        },
        "e5e6a4cc22194b61af72a63309139886": {
          "model_module": "@jupyter-widgets/controls",
          "model_name": "DescriptionStyleModel",
          "model_module_version": "1.5.0",
          "state": {
            "_model_module": "@jupyter-widgets/controls",
            "_model_module_version": "1.5.0",
            "_model_name": "DescriptionStyleModel",
            "_view_count": null,
            "_view_module": "@jupyter-widgets/base",
            "_view_module_version": "1.2.0",
            "_view_name": "StyleView",
            "description_width": ""
          }
        },
        "adcf930b59ad496b9125a08f95a82902": {
          "model_module": "@jupyter-widgets/controls",
          "model_name": "HBoxModel",
          "model_module_version": "1.5.0",
          "state": {
            "_dom_classes": [],
            "_model_module": "@jupyter-widgets/controls",
            "_model_module_version": "1.5.0",
            "_model_name": "HBoxModel",
            "_view_count": null,
            "_view_module": "@jupyter-widgets/controls",
            "_view_module_version": "1.5.0",
            "_view_name": "HBoxView",
            "box_style": "",
            "children": [
              "IPY_MODEL_f1326424dc19451ab8d06a75253ec88b",
              "IPY_MODEL_81b9dc93b38f4645a719511de5b11b81",
              "IPY_MODEL_c497421591b14202bcb83848ad1e0537"
            ],
            "layout": "IPY_MODEL_e750e28eff4147ccacb1af91c2587146"
          }
        },
        "f1326424dc19451ab8d06a75253ec88b": {
          "model_module": "@jupyter-widgets/controls",
          "model_name": "HTMLModel",
          "model_module_version": "1.5.0",
          "state": {
            "_dom_classes": [],
            "_model_module": "@jupyter-widgets/controls",
            "_model_module_version": "1.5.0",
            "_model_name": "HTMLModel",
            "_view_count": null,
            "_view_module": "@jupyter-widgets/controls",
            "_view_module_version": "1.5.0",
            "_view_name": "HTMLView",
            "description": "",
            "description_tooltip": null,
            "layout": "IPY_MODEL_87260037d7db4f1c93c197e0e65a8a72",
            "placeholder": "​",
            "style": "IPY_MODEL_d7a581dc04bb4072a4177d81e4643603",
            "value": "pytorch_model.bin: 100%"
          }
        },
        "81b9dc93b38f4645a719511de5b11b81": {
          "model_module": "@jupyter-widgets/controls",
          "model_name": "FloatProgressModel",
          "model_module_version": "1.5.0",
          "state": {
            "_dom_classes": [],
            "_model_module": "@jupyter-widgets/controls",
            "_model_module_version": "1.5.0",
            "_model_name": "FloatProgressModel",
            "_view_count": null,
            "_view_module": "@jupyter-widgets/controls",
            "_view_module_version": "1.5.0",
            "_view_name": "ProgressView",
            "bar_style": "success",
            "description": "",
            "description_tooltip": null,
            "layout": "IPY_MODEL_8b4793d367ac4d469601bad637705436",
            "max": 419080819,
            "min": 0,
            "orientation": "horizontal",
            "style": "IPY_MODEL_8222d0a0e13d4aa9b299d307cb5cefa0",
            "value": 419080819
          }
        },
        "c497421591b14202bcb83848ad1e0537": {
          "model_module": "@jupyter-widgets/controls",
          "model_name": "HTMLModel",
          "model_module_version": "1.5.0",
          "state": {
            "_dom_classes": [],
            "_model_module": "@jupyter-widgets/controls",
            "_model_module_version": "1.5.0",
            "_model_name": "HTMLModel",
            "_view_count": null,
            "_view_module": "@jupyter-widgets/controls",
            "_view_module_version": "1.5.0",
            "_view_name": "HTMLView",
            "description": "",
            "description_tooltip": null,
            "layout": "IPY_MODEL_ebc5e4e496ec4576a20ffe480f170bce",
            "placeholder": "​",
            "style": "IPY_MODEL_4ea2a3c1365b4cad84b8c67c271caf09",
            "value": " 419M/419M [00:07&lt;00:00, 79.9MB/s]"
          }
        },
        "e750e28eff4147ccacb1af91c2587146": {
          "model_module": "@jupyter-widgets/base",
          "model_name": "LayoutModel",
          "model_module_version": "1.2.0",
          "state": {
            "_model_module": "@jupyter-widgets/base",
            "_model_module_version": "1.2.0",
            "_model_name": "LayoutModel",
            "_view_count": null,
            "_view_module": "@jupyter-widgets/base",
            "_view_module_version": "1.2.0",
            "_view_name": "LayoutView",
            "align_content": null,
            "align_items": null,
            "align_self": null,
            "border": null,
            "bottom": null,
            "display": null,
            "flex": null,
            "flex_flow": null,
            "grid_area": null,
            "grid_auto_columns": null,
            "grid_auto_flow": null,
            "grid_auto_rows": null,
            "grid_column": null,
            "grid_gap": null,
            "grid_row": null,
            "grid_template_areas": null,
            "grid_template_columns": null,
            "grid_template_rows": null,
            "height": null,
            "justify_content": null,
            "justify_items": null,
            "left": null,
            "margin": null,
            "max_height": null,
            "max_width": null,
            "min_height": null,
            "min_width": null,
            "object_fit": null,
            "object_position": null,
            "order": null,
            "overflow": null,
            "overflow_x": null,
            "overflow_y": null,
            "padding": null,
            "right": null,
            "top": null,
            "visibility": null,
            "width": null
          }
        },
        "87260037d7db4f1c93c197e0e65a8a72": {
          "model_module": "@jupyter-widgets/base",
          "model_name": "LayoutModel",
          "model_module_version": "1.2.0",
          "state": {
            "_model_module": "@jupyter-widgets/base",
            "_model_module_version": "1.2.0",
            "_model_name": "LayoutModel",
            "_view_count": null,
            "_view_module": "@jupyter-widgets/base",
            "_view_module_version": "1.2.0",
            "_view_name": "LayoutView",
            "align_content": null,
            "align_items": null,
            "align_self": null,
            "border": null,
            "bottom": null,
            "display": null,
            "flex": null,
            "flex_flow": null,
            "grid_area": null,
            "grid_auto_columns": null,
            "grid_auto_flow": null,
            "grid_auto_rows": null,
            "grid_column": null,
            "grid_gap": null,
            "grid_row": null,
            "grid_template_areas": null,
            "grid_template_columns": null,
            "grid_template_rows": null,
            "height": null,
            "justify_content": null,
            "justify_items": null,
            "left": null,
            "margin": null,
            "max_height": null,
            "max_width": null,
            "min_height": null,
            "min_width": null,
            "object_fit": null,
            "object_position": null,
            "order": null,
            "overflow": null,
            "overflow_x": null,
            "overflow_y": null,
            "padding": null,
            "right": null,
            "top": null,
            "visibility": null,
            "width": null
          }
        },
        "d7a581dc04bb4072a4177d81e4643603": {
          "model_module": "@jupyter-widgets/controls",
          "model_name": "DescriptionStyleModel",
          "model_module_version": "1.5.0",
          "state": {
            "_model_module": "@jupyter-widgets/controls",
            "_model_module_version": "1.5.0",
            "_model_name": "DescriptionStyleModel",
            "_view_count": null,
            "_view_module": "@jupyter-widgets/base",
            "_view_module_version": "1.2.0",
            "_view_name": "StyleView",
            "description_width": ""
          }
        },
        "8b4793d367ac4d469601bad637705436": {
          "model_module": "@jupyter-widgets/base",
          "model_name": "LayoutModel",
          "model_module_version": "1.2.0",
          "state": {
            "_model_module": "@jupyter-widgets/base",
            "_model_module_version": "1.2.0",
            "_model_name": "LayoutModel",
            "_view_count": null,
            "_view_module": "@jupyter-widgets/base",
            "_view_module_version": "1.2.0",
            "_view_name": "LayoutView",
            "align_content": null,
            "align_items": null,
            "align_self": null,
            "border": null,
            "bottom": null,
            "display": null,
            "flex": null,
            "flex_flow": null,
            "grid_area": null,
            "grid_auto_columns": null,
            "grid_auto_flow": null,
            "grid_auto_rows": null,
            "grid_column": null,
            "grid_gap": null,
            "grid_row": null,
            "grid_template_areas": null,
            "grid_template_columns": null,
            "grid_template_rows": null,
            "height": null,
            "justify_content": null,
            "justify_items": null,
            "left": null,
            "margin": null,
            "max_height": null,
            "max_width": null,
            "min_height": null,
            "min_width": null,
            "object_fit": null,
            "object_position": null,
            "order": null,
            "overflow": null,
            "overflow_x": null,
            "overflow_y": null,
            "padding": null,
            "right": null,
            "top": null,
            "visibility": null,
            "width": null
          }
        },
        "8222d0a0e13d4aa9b299d307cb5cefa0": {
          "model_module": "@jupyter-widgets/controls",
          "model_name": "ProgressStyleModel",
          "model_module_version": "1.5.0",
          "state": {
            "_model_module": "@jupyter-widgets/controls",
            "_model_module_version": "1.5.0",
            "_model_name": "ProgressStyleModel",
            "_view_count": null,
            "_view_module": "@jupyter-widgets/base",
            "_view_module_version": "1.2.0",
            "_view_name": "StyleView",
            "bar_color": null,
            "description_width": ""
          }
        },
        "ebc5e4e496ec4576a20ffe480f170bce": {
          "model_module": "@jupyter-widgets/base",
          "model_name": "LayoutModel",
          "model_module_version": "1.2.0",
          "state": {
            "_model_module": "@jupyter-widgets/base",
            "_model_module_version": "1.2.0",
            "_model_name": "LayoutModel",
            "_view_count": null,
            "_view_module": "@jupyter-widgets/base",
            "_view_module_version": "1.2.0",
            "_view_name": "LayoutView",
            "align_content": null,
            "align_items": null,
            "align_self": null,
            "border": null,
            "bottom": null,
            "display": null,
            "flex": null,
            "flex_flow": null,
            "grid_area": null,
            "grid_auto_columns": null,
            "grid_auto_flow": null,
            "grid_auto_rows": null,
            "grid_column": null,
            "grid_gap": null,
            "grid_row": null,
            "grid_template_areas": null,
            "grid_template_columns": null,
            "grid_template_rows": null,
            "height": null,
            "justify_content": null,
            "justify_items": null,
            "left": null,
            "margin": null,
            "max_height": null,
            "max_width": null,
            "min_height": null,
            "min_width": null,
            "object_fit": null,
            "object_position": null,
            "order": null,
            "overflow": null,
            "overflow_x": null,
            "overflow_y": null,
            "padding": null,
            "right": null,
            "top": null,
            "visibility": null,
            "width": null
          }
        },
        "4ea2a3c1365b4cad84b8c67c271caf09": {
          "model_module": "@jupyter-widgets/controls",
          "model_name": "DescriptionStyleModel",
          "model_module_version": "1.5.0",
          "state": {
            "_model_module": "@jupyter-widgets/controls",
            "_model_module_version": "1.5.0",
            "_model_name": "DescriptionStyleModel",
            "_view_count": null,
            "_view_module": "@jupyter-widgets/base",
            "_view_module_version": "1.2.0",
            "_view_name": "StyleView",
            "description_width": ""
          }
        },
        "735f6b0d2ffc4af592edb19cb71f404b": {
          "model_module": "@jupyter-widgets/output",
          "model_name": "OutputModel",
          "model_module_version": "1.0.0",
          "state": {
            "_dom_classes": [],
            "_model_module": "@jupyter-widgets/output",
            "_model_module_version": "1.0.0",
            "_model_name": "OutputModel",
            "_view_count": null,
            "_view_module": "@jupyter-widgets/output",
            "_view_module_version": "1.0.0",
            "_view_name": "OutputView",
            "layout": "IPY_MODEL_56ff6e706dd14fc19a04cdcaed07d726",
            "msg_id": "",
            "outputs": [
              {
                "output_type": "display_data",
                "data": {
                  "text/plain": "Scanning contents     \u001b[38;2;114;156;31m━━━━━━━━━━━━━━━━━━━━━━━━━━━━━━━━━━━━━━━━\u001b[0m \u001b[35m100%\u001b[0m \u001b[32m3/3\u001b[0m \u001b[36m0:00:00\u001b[0m\n",
                  "text/html": "<pre style=\"white-space:pre;overflow-x:auto;line-height:normal;font-family:Menlo,'DejaVu Sans Mono',consolas,'Courier New',monospace\">Scanning contents     <span style=\"color: #729c1f; text-decoration-color: #729c1f\">━━━━━━━━━━━━━━━━━━━━━━━━━━━━━━━━━━━━━━━━</span> <span style=\"color: #800080; text-decoration-color: #800080\">100%</span> <span style=\"color: #008000; text-decoration-color: #008000\">3/3</span> <span style=\"color: #008080; text-decoration-color: #008080\">0:00:00</span>\n</pre>\n"
                },
                "metadata": {}
              }
            ]
          }
        },
        "56ff6e706dd14fc19a04cdcaed07d726": {
          "model_module": "@jupyter-widgets/base",
          "model_name": "LayoutModel",
          "model_module_version": "1.2.0",
          "state": {
            "_model_module": "@jupyter-widgets/base",
            "_model_module_version": "1.2.0",
            "_model_name": "LayoutModel",
            "_view_count": null,
            "_view_module": "@jupyter-widgets/base",
            "_view_module_version": "1.2.0",
            "_view_name": "LayoutView",
            "align_content": null,
            "align_items": null,
            "align_self": null,
            "border": null,
            "bottom": null,
            "display": null,
            "flex": null,
            "flex_flow": null,
            "grid_area": null,
            "grid_auto_columns": null,
            "grid_auto_flow": null,
            "grid_auto_rows": null,
            "grid_column": null,
            "grid_gap": null,
            "grid_row": null,
            "grid_template_areas": null,
            "grid_template_columns": null,
            "grid_template_rows": null,
            "height": null,
            "justify_content": null,
            "justify_items": null,
            "left": null,
            "margin": null,
            "max_height": null,
            "max_width": null,
            "min_height": null,
            "min_width": null,
            "object_fit": null,
            "object_position": null,
            "order": null,
            "overflow": null,
            "overflow_x": null,
            "overflow_y": null,
            "padding": null,
            "right": null,
            "top": null,
            "visibility": null,
            "width": null
          }
        },
        "6632693b05114540b86279ac18449175": {
          "model_module": "@jupyter-widgets/output",
          "model_name": "OutputModel",
          "model_module_version": "1.0.0",
          "state": {
            "_dom_classes": [],
            "_model_module": "@jupyter-widgets/output",
            "_model_module_version": "1.0.0",
            "_model_name": "OutputModel",
            "_view_count": null,
            "_view_module": "@jupyter-widgets/output",
            "_view_module_version": "1.0.0",
            "_view_name": "OutputView",
            "layout": "IPY_MODEL_c301366ccf07448ba749e86cc7664ed6",
            "msg_id": "",
            "outputs": [
              {
                "output_type": "display_data",
                "data": {
                  "text/plain": "OCR                   \u001b[38;2;114;156;31m━━━━━━━━━━━━━━━━━━━━━━━━━━━━━━━━━━━━━━━━\u001b[0m \u001b[35m100%\u001b[0m \u001b[32m3/3\u001b[0m \u001b[36m0:00:00\u001b[0m\n",
                  "text/html": "<pre style=\"white-space:pre;overflow-x:auto;line-height:normal;font-family:Menlo,'DejaVu Sans Mono',consolas,'Courier New',monospace\">OCR                   <span style=\"color: #729c1f; text-decoration-color: #729c1f\">━━━━━━━━━━━━━━━━━━━━━━━━━━━━━━━━━━━━━━━━</span> <span style=\"color: #800080; text-decoration-color: #800080\">100%</span> <span style=\"color: #008000; text-decoration-color: #008000\">3/3</span> <span style=\"color: #008080; text-decoration-color: #008080\">0:00:00</span>\n</pre>\n"
                },
                "metadata": {}
              }
            ]
          }
        },
        "c301366ccf07448ba749e86cc7664ed6": {
          "model_module": "@jupyter-widgets/base",
          "model_name": "LayoutModel",
          "model_module_version": "1.2.0",
          "state": {
            "_model_module": "@jupyter-widgets/base",
            "_model_module_version": "1.2.0",
            "_model_name": "LayoutModel",
            "_view_count": null,
            "_view_module": "@jupyter-widgets/base",
            "_view_module_version": "1.2.0",
            "_view_name": "LayoutView",
            "align_content": null,
            "align_items": null,
            "align_self": null,
            "border": null,
            "bottom": null,
            "display": null,
            "flex": null,
            "flex_flow": null,
            "grid_area": null,
            "grid_auto_columns": null,
            "grid_auto_flow": null,
            "grid_auto_rows": null,
            "grid_column": null,
            "grid_gap": null,
            "grid_row": null,
            "grid_template_areas": null,
            "grid_template_columns": null,
            "grid_template_rows": null,
            "height": null,
            "justify_content": null,
            "justify_items": null,
            "left": null,
            "margin": null,
            "max_height": null,
            "max_width": null,
            "min_height": null,
            "min_width": null,
            "object_fit": null,
            "object_position": null,
            "order": null,
            "overflow": null,
            "overflow_x": null,
            "overflow_y": null,
            "padding": null,
            "right": null,
            "top": null,
            "visibility": null,
            "width": null
          }
        },
        "635efb74f7b74f5ea70b532aa11b2781": {
          "model_module": "@jupyter-widgets/output",
          "model_name": "OutputModel",
          "model_module_version": "1.0.0",
          "state": {
            "_dom_classes": [],
            "_model_module": "@jupyter-widgets/output",
            "_model_module_version": "1.0.0",
            "_model_name": "OutputModel",
            "_view_count": null,
            "_view_module": "@jupyter-widgets/output",
            "_view_module_version": "1.0.0",
            "_view_name": "OutputView",
            "layout": "IPY_MODEL_1e198e0054004f4daf90849730cfc1b6",
            "msg_id": "",
            "outputs": [
              {
                "output_type": "display_data",
                "data": {
                  "text/plain": "PDF/A conversion      \u001b[38;2;114;156;31m━━━━━━━━━━━━━━━━━━━━━━━━━━━━━━━━━━━━━━━━\u001b[0m \u001b[35m100%\u001b[0m \u001b[32m3/3\u001b[0m \u001b[36m0:00:00\u001b[0m\n",
                  "text/html": "<pre style=\"white-space:pre;overflow-x:auto;line-height:normal;font-family:Menlo,'DejaVu Sans Mono',consolas,'Courier New',monospace\">PDF/A conversion      <span style=\"color: #729c1f; text-decoration-color: #729c1f\">━━━━━━━━━━━━━━━━━━━━━━━━━━━━━━━━━━━━━━━━</span> <span style=\"color: #800080; text-decoration-color: #800080\">100%</span> <span style=\"color: #008000; text-decoration-color: #008000\">3/3</span> <span style=\"color: #008080; text-decoration-color: #008080\">0:00:00</span>\n</pre>\n"
                },
                "metadata": {}
              }
            ]
          }
        },
        "1e198e0054004f4daf90849730cfc1b6": {
          "model_module": "@jupyter-widgets/base",
          "model_name": "LayoutModel",
          "model_module_version": "1.2.0",
          "state": {
            "_model_module": "@jupyter-widgets/base",
            "_model_module_version": "1.2.0",
            "_model_name": "LayoutModel",
            "_view_count": null,
            "_view_module": "@jupyter-widgets/base",
            "_view_module_version": "1.2.0",
            "_view_name": "LayoutView",
            "align_content": null,
            "align_items": null,
            "align_self": null,
            "border": null,
            "bottom": null,
            "display": null,
            "flex": null,
            "flex_flow": null,
            "grid_area": null,
            "grid_auto_columns": null,
            "grid_auto_flow": null,
            "grid_auto_rows": null,
            "grid_column": null,
            "grid_gap": null,
            "grid_row": null,
            "grid_template_areas": null,
            "grid_template_columns": null,
            "grid_template_rows": null,
            "height": null,
            "justify_content": null,
            "justify_items": null,
            "left": null,
            "margin": null,
            "max_height": null,
            "max_width": null,
            "min_height": null,
            "min_width": null,
            "object_fit": null,
            "object_position": null,
            "order": null,
            "overflow": null,
            "overflow_x": null,
            "overflow_y": null,
            "padding": null,
            "right": null,
            "top": null,
            "visibility": null,
            "width": null
          }
        },
        "c6b9d545f231418fa4b16f8a990b1a75": {
          "model_module": "@jupyter-widgets/output",
          "model_name": "OutputModel",
          "model_module_version": "1.0.0",
          "state": {
            "_dom_classes": [],
            "_model_module": "@jupyter-widgets/output",
            "_model_module_version": "1.0.0",
            "_model_name": "OutputModel",
            "_view_count": null,
            "_view_module": "@jupyter-widgets/output",
            "_view_module_version": "1.0.0",
            "_view_name": "OutputView",
            "layout": "IPY_MODEL_8d5e998880ea4cb8b4b8c529f59ddd5f",
            "msg_id": "",
            "outputs": [
              {
                "output_type": "display_data",
                "data": {
                  "text/plain": "Linearizing           \u001b[38;2;114;156;31m━━━━━━━━━━━━━━━━━━━━━━━━━━━━━━━━━━━━━━━━\u001b[0m \u001b[35m100%\u001b[0m \u001b[32m100/100\u001b[0m \u001b[36m0:00:00\u001b[0m\n",
                  "text/html": "<pre style=\"white-space:pre;overflow-x:auto;line-height:normal;font-family:Menlo,'DejaVu Sans Mono',consolas,'Courier New',monospace\">Linearizing           <span style=\"color: #729c1f; text-decoration-color: #729c1f\">━━━━━━━━━━━━━━━━━━━━━━━━━━━━━━━━━━━━━━━━</span> <span style=\"color: #800080; text-decoration-color: #800080\">100%</span> <span style=\"color: #008000; text-decoration-color: #008000\">100/100</span> <span style=\"color: #008080; text-decoration-color: #008080\">0:00:00</span>\n</pre>\n"
                },
                "metadata": {}
              }
            ]
          }
        },
        "8d5e998880ea4cb8b4b8c529f59ddd5f": {
          "model_module": "@jupyter-widgets/base",
          "model_name": "LayoutModel",
          "model_module_version": "1.2.0",
          "state": {
            "_model_module": "@jupyter-widgets/base",
            "_model_module_version": "1.2.0",
            "_model_name": "LayoutModel",
            "_view_count": null,
            "_view_module": "@jupyter-widgets/base",
            "_view_module_version": "1.2.0",
            "_view_name": "LayoutView",
            "align_content": null,
            "align_items": null,
            "align_self": null,
            "border": null,
            "bottom": null,
            "display": null,
            "flex": null,
            "flex_flow": null,
            "grid_area": null,
            "grid_auto_columns": null,
            "grid_auto_flow": null,
            "grid_auto_rows": null,
            "grid_column": null,
            "grid_gap": null,
            "grid_row": null,
            "grid_template_areas": null,
            "grid_template_columns": null,
            "grid_template_rows": null,
            "height": null,
            "justify_content": null,
            "justify_items": null,
            "left": null,
            "margin": null,
            "max_height": null,
            "max_width": null,
            "min_height": null,
            "min_width": null,
            "object_fit": null,
            "object_position": null,
            "order": null,
            "overflow": null,
            "overflow_x": null,
            "overflow_y": null,
            "padding": null,
            "right": null,
            "top": null,
            "visibility": null,
            "width": null
          }
        },
        "f8f658976bbc4846a0195d192ae1f6bf": {
          "model_module": "@jupyter-widgets/output",
          "model_name": "OutputModel",
          "model_module_version": "1.0.0",
          "state": {
            "_dom_classes": [],
            "_model_module": "@jupyter-widgets/output",
            "_model_module_version": "1.0.0",
            "_model_name": "OutputModel",
            "_view_count": null,
            "_view_module": "@jupyter-widgets/output",
            "_view_module_version": "1.0.0",
            "_view_name": "OutputView",
            "layout": "IPY_MODEL_610c1a02ec2c44e3a6dcf1ef4f950dd2",
            "msg_id": "",
            "outputs": [
              {
                "output_type": "display_data",
                "data": {
                  "text/plain": "Recompressing JPEGs   \u001b[38;2;114;156;31m━━━━━━━━━━━━━━━━━━━━━━━━━━━━━━━━━━━━━━━━\u001b[0m \u001b[35m  0%\u001b[0m \u001b[32m0/0\u001b[0m \u001b[36m-:--:--\u001b[0m\n",
                  "text/html": "<pre style=\"white-space:pre;overflow-x:auto;line-height:normal;font-family:Menlo,'DejaVu Sans Mono',consolas,'Courier New',monospace\">Recompressing JPEGs   <span style=\"color: #729c1f; text-decoration-color: #729c1f\">━━━━━━━━━━━━━━━━━━━━━━━━━━━━━━━━━━━━━━━━</span> <span style=\"color: #800080; text-decoration-color: #800080\">  0%</span> <span style=\"color: #008000; text-decoration-color: #008000\">0/0</span> <span style=\"color: #008080; text-decoration-color: #008080\">-:--:--</span>\n</pre>\n"
                },
                "metadata": {}
              }
            ]
          }
        },
        "610c1a02ec2c44e3a6dcf1ef4f950dd2": {
          "model_module": "@jupyter-widgets/base",
          "model_name": "LayoutModel",
          "model_module_version": "1.2.0",
          "state": {
            "_model_module": "@jupyter-widgets/base",
            "_model_module_version": "1.2.0",
            "_model_name": "LayoutModel",
            "_view_count": null,
            "_view_module": "@jupyter-widgets/base",
            "_view_module_version": "1.2.0",
            "_view_name": "LayoutView",
            "align_content": null,
            "align_items": null,
            "align_self": null,
            "border": null,
            "bottom": null,
            "display": null,
            "flex": null,
            "flex_flow": null,
            "grid_area": null,
            "grid_auto_columns": null,
            "grid_auto_flow": null,
            "grid_auto_rows": null,
            "grid_column": null,
            "grid_gap": null,
            "grid_row": null,
            "grid_template_areas": null,
            "grid_template_columns": null,
            "grid_template_rows": null,
            "height": null,
            "justify_content": null,
            "justify_items": null,
            "left": null,
            "margin": null,
            "max_height": null,
            "max_width": null,
            "min_height": null,
            "min_width": null,
            "object_fit": null,
            "object_position": null,
            "order": null,
            "overflow": null,
            "overflow_x": null,
            "overflow_y": null,
            "padding": null,
            "right": null,
            "top": null,
            "visibility": null,
            "width": null
          }
        },
        "9dbcae531ba8467f8e74b11574a5fe11": {
          "model_module": "@jupyter-widgets/output",
          "model_name": "OutputModel",
          "model_module_version": "1.0.0",
          "state": {
            "_dom_classes": [],
            "_model_module": "@jupyter-widgets/output",
            "_model_module_version": "1.0.0",
            "_model_name": "OutputModel",
            "_view_count": null,
            "_view_module": "@jupyter-widgets/output",
            "_view_module_version": "1.0.0",
            "_view_name": "OutputView",
            "layout": "IPY_MODEL_bbd6e5f884cb4a9ea6142b39ac626de0",
            "msg_id": "",
            "outputs": [
              {
                "output_type": "display_data",
                "data": {
                  "text/plain": "Deflating JPEGs       \u001b[38;2;114;156;31m━━━━━━━━━━━━━━━━━━━━━━━━━━━━━━━━━━━━━━━━\u001b[0m \u001b[35m  0%\u001b[0m \u001b[32m0/0\u001b[0m \u001b[36m-:--:--\u001b[0m\n",
                  "text/html": "<pre style=\"white-space:pre;overflow-x:auto;line-height:normal;font-family:Menlo,'DejaVu Sans Mono',consolas,'Courier New',monospace\">Deflating JPEGs       <span style=\"color: #729c1f; text-decoration-color: #729c1f\">━━━━━━━━━━━━━━━━━━━━━━━━━━━━━━━━━━━━━━━━</span> <span style=\"color: #800080; text-decoration-color: #800080\">  0%</span> <span style=\"color: #008000; text-decoration-color: #008000\">0/0</span> <span style=\"color: #008080; text-decoration-color: #008080\">-:--:--</span>\n</pre>\n"
                },
                "metadata": {}
              }
            ]
          }
        },
        "bbd6e5f884cb4a9ea6142b39ac626de0": {
          "model_module": "@jupyter-widgets/base",
          "model_name": "LayoutModel",
          "model_module_version": "1.2.0",
          "state": {
            "_model_module": "@jupyter-widgets/base",
            "_model_module_version": "1.2.0",
            "_model_name": "LayoutModel",
            "_view_count": null,
            "_view_module": "@jupyter-widgets/base",
            "_view_module_version": "1.2.0",
            "_view_name": "LayoutView",
            "align_content": null,
            "align_items": null,
            "align_self": null,
            "border": null,
            "bottom": null,
            "display": null,
            "flex": null,
            "flex_flow": null,
            "grid_area": null,
            "grid_auto_columns": null,
            "grid_auto_flow": null,
            "grid_auto_rows": null,
            "grid_column": null,
            "grid_gap": null,
            "grid_row": null,
            "grid_template_areas": null,
            "grid_template_columns": null,
            "grid_template_rows": null,
            "height": null,
            "justify_content": null,
            "justify_items": null,
            "left": null,
            "margin": null,
            "max_height": null,
            "max_width": null,
            "min_height": null,
            "min_width": null,
            "object_fit": null,
            "object_position": null,
            "order": null,
            "overflow": null,
            "overflow_x": null,
            "overflow_y": null,
            "padding": null,
            "right": null,
            "top": null,
            "visibility": null,
            "width": null
          }
        },
        "7aa40f37ba4047fcaeec2e435a4109d4": {
          "model_module": "@jupyter-widgets/output",
          "model_name": "OutputModel",
          "model_module_version": "1.0.0",
          "state": {
            "_dom_classes": [],
            "_model_module": "@jupyter-widgets/output",
            "_model_module_version": "1.0.0",
            "_model_name": "OutputModel",
            "_view_count": null,
            "_view_module": "@jupyter-widgets/output",
            "_view_module_version": "1.0.0",
            "_view_name": "OutputView",
            "layout": "IPY_MODEL_af826bf5e14d4eea9b37e0312b927f67",
            "msg_id": "",
            "outputs": [
              {
                "output_type": "display_data",
                "data": {
                  "text/plain": "JBIG2                 \u001b[38;2;114;156;31m━━━━━━━━━━━━━━━━━━━━━━━━━━━━━━━━━━━━━━━━\u001b[0m \u001b[35m  0%\u001b[0m \u001b[32m0/0\u001b[0m \u001b[36m-:--:--\u001b[0m\n",
                  "text/html": "<pre style=\"white-space:pre;overflow-x:auto;line-height:normal;font-family:Menlo,'DejaVu Sans Mono',consolas,'Courier New',monospace\">JBIG2                 <span style=\"color: #729c1f; text-decoration-color: #729c1f\">━━━━━━━━━━━━━━━━━━━━━━━━━━━━━━━━━━━━━━━━</span> <span style=\"color: #800080; text-decoration-color: #800080\">  0%</span> <span style=\"color: #008000; text-decoration-color: #008000\">0/0</span> <span style=\"color: #008080; text-decoration-color: #008080\">-:--:--</span>\n</pre>\n"
                },
                "metadata": {}
              }
            ]
          }
        },
        "af826bf5e14d4eea9b37e0312b927f67": {
          "model_module": "@jupyter-widgets/base",
          "model_name": "LayoutModel",
          "model_module_version": "1.2.0",
          "state": {
            "_model_module": "@jupyter-widgets/base",
            "_model_module_version": "1.2.0",
            "_model_name": "LayoutModel",
            "_view_count": null,
            "_view_module": "@jupyter-widgets/base",
            "_view_module_version": "1.2.0",
            "_view_name": "LayoutView",
            "align_content": null,
            "align_items": null,
            "align_self": null,
            "border": null,
            "bottom": null,
            "display": null,
            "flex": null,
            "flex_flow": null,
            "grid_area": null,
            "grid_auto_columns": null,
            "grid_auto_flow": null,
            "grid_auto_rows": null,
            "grid_column": null,
            "grid_gap": null,
            "grid_row": null,
            "grid_template_areas": null,
            "grid_template_columns": null,
            "grid_template_rows": null,
            "height": null,
            "justify_content": null,
            "justify_items": null,
            "left": null,
            "margin": null,
            "max_height": null,
            "max_width": null,
            "min_height": null,
            "min_width": null,
            "object_fit": null,
            "object_position": null,
            "order": null,
            "overflow": null,
            "overflow_x": null,
            "overflow_y": null,
            "padding": null,
            "right": null,
            "top": null,
            "visibility": null,
            "width": null
          }
        },
        "5efcbf07d1984494ab27a51385150c16": {
          "model_module": "@jupyter-widgets/output",
          "model_name": "OutputModel",
          "model_module_version": "1.0.0",
          "state": {
            "_dom_classes": [],
            "_model_module": "@jupyter-widgets/output",
            "_model_module_version": "1.0.0",
            "_model_name": "OutputModel",
            "_view_count": null,
            "_view_module": "@jupyter-widgets/output",
            "_view_module_version": "1.0.0",
            "_view_name": "OutputView",
            "layout": "IPY_MODEL_b998ec7243f44c58b072d3806792228d",
            "msg_id": "",
            "outputs": [
              {
                "output_type": "display_data",
                "data": {
                  "text/plain": "Scanning contents     \u001b[38;2;114;156;31m━━━━━━━━━━━━━━━━━━━━━━━━━━━━━━━━━━━━━━━━\u001b[0m \u001b[35m100%\u001b[0m \u001b[32m2/2\u001b[0m \u001b[36m0:00:00\u001b[0m\n",
                  "text/html": "<pre style=\"white-space:pre;overflow-x:auto;line-height:normal;font-family:Menlo,'DejaVu Sans Mono',consolas,'Courier New',monospace\">Scanning contents     <span style=\"color: #729c1f; text-decoration-color: #729c1f\">━━━━━━━━━━━━━━━━━━━━━━━━━━━━━━━━━━━━━━━━</span> <span style=\"color: #800080; text-decoration-color: #800080\">100%</span> <span style=\"color: #008000; text-decoration-color: #008000\">2/2</span> <span style=\"color: #008080; text-decoration-color: #008080\">0:00:00</span>\n</pre>\n"
                },
                "metadata": {}
              }
            ]
          }
        },
        "b998ec7243f44c58b072d3806792228d": {
          "model_module": "@jupyter-widgets/base",
          "model_name": "LayoutModel",
          "model_module_version": "1.2.0",
          "state": {
            "_model_module": "@jupyter-widgets/base",
            "_model_module_version": "1.2.0",
            "_model_name": "LayoutModel",
            "_view_count": null,
            "_view_module": "@jupyter-widgets/base",
            "_view_module_version": "1.2.0",
            "_view_name": "LayoutView",
            "align_content": null,
            "align_items": null,
            "align_self": null,
            "border": null,
            "bottom": null,
            "display": null,
            "flex": null,
            "flex_flow": null,
            "grid_area": null,
            "grid_auto_columns": null,
            "grid_auto_flow": null,
            "grid_auto_rows": null,
            "grid_column": null,
            "grid_gap": null,
            "grid_row": null,
            "grid_template_areas": null,
            "grid_template_columns": null,
            "grid_template_rows": null,
            "height": null,
            "justify_content": null,
            "justify_items": null,
            "left": null,
            "margin": null,
            "max_height": null,
            "max_width": null,
            "min_height": null,
            "min_width": null,
            "object_fit": null,
            "object_position": null,
            "order": null,
            "overflow": null,
            "overflow_x": null,
            "overflow_y": null,
            "padding": null,
            "right": null,
            "top": null,
            "visibility": null,
            "width": null
          }
        },
        "f2de9f242dce4e42864a5ac2dafd32ba": {
          "model_module": "@jupyter-widgets/output",
          "model_name": "OutputModel",
          "model_module_version": "1.0.0",
          "state": {
            "_dom_classes": [],
            "_model_module": "@jupyter-widgets/output",
            "_model_module_version": "1.0.0",
            "_model_name": "OutputModel",
            "_view_count": null,
            "_view_module": "@jupyter-widgets/output",
            "_view_module_version": "1.0.0",
            "_view_name": "OutputView",
            "layout": "IPY_MODEL_ecdba036123b49e089073df65e7065f2",
            "msg_id": "",
            "outputs": [
              {
                "output_type": "display_data",
                "data": {
                  "text/plain": "OCR                   \u001b[38;2;114;156;31m━━━━━━━━━━━━━━━━━━━━━━━━━━━━━━━━━━━━━━━━\u001b[0m \u001b[35m100%\u001b[0m \u001b[32m2/2\u001b[0m \u001b[36m0:00:00\u001b[0m\n",
                  "text/html": "<pre style=\"white-space:pre;overflow-x:auto;line-height:normal;font-family:Menlo,'DejaVu Sans Mono',consolas,'Courier New',monospace\">OCR                   <span style=\"color: #729c1f; text-decoration-color: #729c1f\">━━━━━━━━━━━━━━━━━━━━━━━━━━━━━━━━━━━━━━━━</span> <span style=\"color: #800080; text-decoration-color: #800080\">100%</span> <span style=\"color: #008000; text-decoration-color: #008000\">2/2</span> <span style=\"color: #008080; text-decoration-color: #008080\">0:00:00</span>\n</pre>\n"
                },
                "metadata": {}
              }
            ]
          }
        },
        "ecdba036123b49e089073df65e7065f2": {
          "model_module": "@jupyter-widgets/base",
          "model_name": "LayoutModel",
          "model_module_version": "1.2.0",
          "state": {
            "_model_module": "@jupyter-widgets/base",
            "_model_module_version": "1.2.0",
            "_model_name": "LayoutModel",
            "_view_count": null,
            "_view_module": "@jupyter-widgets/base",
            "_view_module_version": "1.2.0",
            "_view_name": "LayoutView",
            "align_content": null,
            "align_items": null,
            "align_self": null,
            "border": null,
            "bottom": null,
            "display": null,
            "flex": null,
            "flex_flow": null,
            "grid_area": null,
            "grid_auto_columns": null,
            "grid_auto_flow": null,
            "grid_auto_rows": null,
            "grid_column": null,
            "grid_gap": null,
            "grid_row": null,
            "grid_template_areas": null,
            "grid_template_columns": null,
            "grid_template_rows": null,
            "height": null,
            "justify_content": null,
            "justify_items": null,
            "left": null,
            "margin": null,
            "max_height": null,
            "max_width": null,
            "min_height": null,
            "min_width": null,
            "object_fit": null,
            "object_position": null,
            "order": null,
            "overflow": null,
            "overflow_x": null,
            "overflow_y": null,
            "padding": null,
            "right": null,
            "top": null,
            "visibility": null,
            "width": null
          }
        },
        "1506c6a08c514f498bf96d51f9264728": {
          "model_module": "@jupyter-widgets/output",
          "model_name": "OutputModel",
          "model_module_version": "1.0.0",
          "state": {
            "_dom_classes": [],
            "_model_module": "@jupyter-widgets/output",
            "_model_module_version": "1.0.0",
            "_model_name": "OutputModel",
            "_view_count": null,
            "_view_module": "@jupyter-widgets/output",
            "_view_module_version": "1.0.0",
            "_view_name": "OutputView",
            "layout": "IPY_MODEL_535236bb26c74e7e8b29ece05c39aa2c",
            "msg_id": "",
            "outputs": [
              {
                "output_type": "display_data",
                "data": {
                  "text/plain": "PDF/A conversion      \u001b[38;2;114;156;31m━━━━━━━━━━━━━━━━━━━━━━━━━━━━━━━━━━━━━━━━\u001b[0m \u001b[35m100%\u001b[0m \u001b[32m2/2\u001b[0m \u001b[36m0:00:00\u001b[0m\n",
                  "text/html": "<pre style=\"white-space:pre;overflow-x:auto;line-height:normal;font-family:Menlo,'DejaVu Sans Mono',consolas,'Courier New',monospace\">PDF/A conversion      <span style=\"color: #729c1f; text-decoration-color: #729c1f\">━━━━━━━━━━━━━━━━━━━━━━━━━━━━━━━━━━━━━━━━</span> <span style=\"color: #800080; text-decoration-color: #800080\">100%</span> <span style=\"color: #008000; text-decoration-color: #008000\">2/2</span> <span style=\"color: #008080; text-decoration-color: #008080\">0:00:00</span>\n</pre>\n"
                },
                "metadata": {}
              }
            ]
          }
        },
        "535236bb26c74e7e8b29ece05c39aa2c": {
          "model_module": "@jupyter-widgets/base",
          "model_name": "LayoutModel",
          "model_module_version": "1.2.0",
          "state": {
            "_model_module": "@jupyter-widgets/base",
            "_model_module_version": "1.2.0",
            "_model_name": "LayoutModel",
            "_view_count": null,
            "_view_module": "@jupyter-widgets/base",
            "_view_module_version": "1.2.0",
            "_view_name": "LayoutView",
            "align_content": null,
            "align_items": null,
            "align_self": null,
            "border": null,
            "bottom": null,
            "display": null,
            "flex": null,
            "flex_flow": null,
            "grid_area": null,
            "grid_auto_columns": null,
            "grid_auto_flow": null,
            "grid_auto_rows": null,
            "grid_column": null,
            "grid_gap": null,
            "grid_row": null,
            "grid_template_areas": null,
            "grid_template_columns": null,
            "grid_template_rows": null,
            "height": null,
            "justify_content": null,
            "justify_items": null,
            "left": null,
            "margin": null,
            "max_height": null,
            "max_width": null,
            "min_height": null,
            "min_width": null,
            "object_fit": null,
            "object_position": null,
            "order": null,
            "overflow": null,
            "overflow_x": null,
            "overflow_y": null,
            "padding": null,
            "right": null,
            "top": null,
            "visibility": null,
            "width": null
          }
        },
        "7f0a91b7f4944041a366104294c9f5b6": {
          "model_module": "@jupyter-widgets/output",
          "model_name": "OutputModel",
          "model_module_version": "1.0.0",
          "state": {
            "_dom_classes": [],
            "_model_module": "@jupyter-widgets/output",
            "_model_module_version": "1.0.0",
            "_model_name": "OutputModel",
            "_view_count": null,
            "_view_module": "@jupyter-widgets/output",
            "_view_module_version": "1.0.0",
            "_view_name": "OutputView",
            "layout": "IPY_MODEL_ca9009b468b84143b4250e5bdc50f58e",
            "msg_id": "",
            "outputs": [
              {
                "output_type": "display_data",
                "data": {
                  "text/plain": "Linearizing           \u001b[38;2;114;156;31m━━━━━━━━━━━━━━━━━━━━━━━━━━━━━━━━━━━━━━━━\u001b[0m \u001b[35m100%\u001b[0m \u001b[32m100/100\u001b[0m \u001b[36m0:00:00\u001b[0m\n",
                  "text/html": "<pre style=\"white-space:pre;overflow-x:auto;line-height:normal;font-family:Menlo,'DejaVu Sans Mono',consolas,'Courier New',monospace\">Linearizing           <span style=\"color: #729c1f; text-decoration-color: #729c1f\">━━━━━━━━━━━━━━━━━━━━━━━━━━━━━━━━━━━━━━━━</span> <span style=\"color: #800080; text-decoration-color: #800080\">100%</span> <span style=\"color: #008000; text-decoration-color: #008000\">100/100</span> <span style=\"color: #008080; text-decoration-color: #008080\">0:00:00</span>\n</pre>\n"
                },
                "metadata": {}
              }
            ]
          }
        },
        "ca9009b468b84143b4250e5bdc50f58e": {
          "model_module": "@jupyter-widgets/base",
          "model_name": "LayoutModel",
          "model_module_version": "1.2.0",
          "state": {
            "_model_module": "@jupyter-widgets/base",
            "_model_module_version": "1.2.0",
            "_model_name": "LayoutModel",
            "_view_count": null,
            "_view_module": "@jupyter-widgets/base",
            "_view_module_version": "1.2.0",
            "_view_name": "LayoutView",
            "align_content": null,
            "align_items": null,
            "align_self": null,
            "border": null,
            "bottom": null,
            "display": null,
            "flex": null,
            "flex_flow": null,
            "grid_area": null,
            "grid_auto_columns": null,
            "grid_auto_flow": null,
            "grid_auto_rows": null,
            "grid_column": null,
            "grid_gap": null,
            "grid_row": null,
            "grid_template_areas": null,
            "grid_template_columns": null,
            "grid_template_rows": null,
            "height": null,
            "justify_content": null,
            "justify_items": null,
            "left": null,
            "margin": null,
            "max_height": null,
            "max_width": null,
            "min_height": null,
            "min_width": null,
            "object_fit": null,
            "object_position": null,
            "order": null,
            "overflow": null,
            "overflow_x": null,
            "overflow_y": null,
            "padding": null,
            "right": null,
            "top": null,
            "visibility": null,
            "width": null
          }
        },
        "c31bbeb341fd4da7bcd3c7897a761c32": {
          "model_module": "@jupyter-widgets/output",
          "model_name": "OutputModel",
          "model_module_version": "1.0.0",
          "state": {
            "_dom_classes": [],
            "_model_module": "@jupyter-widgets/output",
            "_model_module_version": "1.0.0",
            "_model_name": "OutputModel",
            "_view_count": null,
            "_view_module": "@jupyter-widgets/output",
            "_view_module_version": "1.0.0",
            "_view_name": "OutputView",
            "layout": "IPY_MODEL_38c6145436a8419ba48d77d670b965ea",
            "msg_id": "",
            "outputs": [
              {
                "output_type": "display_data",
                "data": {
                  "text/plain": "Recompressing JPEGs   \u001b[38;2;114;156;31m━━━━━━━━━━━━━━━━━━━━━━━━━━━━━━━━━━━━━━━━\u001b[0m \u001b[35m  0%\u001b[0m \u001b[32m0/0\u001b[0m \u001b[36m-:--:--\u001b[0m\n",
                  "text/html": "<pre style=\"white-space:pre;overflow-x:auto;line-height:normal;font-family:Menlo,'DejaVu Sans Mono',consolas,'Courier New',monospace\">Recompressing JPEGs   <span style=\"color: #729c1f; text-decoration-color: #729c1f\">━━━━━━━━━━━━━━━━━━━━━━━━━━━━━━━━━━━━━━━━</span> <span style=\"color: #800080; text-decoration-color: #800080\">  0%</span> <span style=\"color: #008000; text-decoration-color: #008000\">0/0</span> <span style=\"color: #008080; text-decoration-color: #008080\">-:--:--</span>\n</pre>\n"
                },
                "metadata": {}
              }
            ]
          }
        },
        "38c6145436a8419ba48d77d670b965ea": {
          "model_module": "@jupyter-widgets/base",
          "model_name": "LayoutModel",
          "model_module_version": "1.2.0",
          "state": {
            "_model_module": "@jupyter-widgets/base",
            "_model_module_version": "1.2.0",
            "_model_name": "LayoutModel",
            "_view_count": null,
            "_view_module": "@jupyter-widgets/base",
            "_view_module_version": "1.2.0",
            "_view_name": "LayoutView",
            "align_content": null,
            "align_items": null,
            "align_self": null,
            "border": null,
            "bottom": null,
            "display": null,
            "flex": null,
            "flex_flow": null,
            "grid_area": null,
            "grid_auto_columns": null,
            "grid_auto_flow": null,
            "grid_auto_rows": null,
            "grid_column": null,
            "grid_gap": null,
            "grid_row": null,
            "grid_template_areas": null,
            "grid_template_columns": null,
            "grid_template_rows": null,
            "height": null,
            "justify_content": null,
            "justify_items": null,
            "left": null,
            "margin": null,
            "max_height": null,
            "max_width": null,
            "min_height": null,
            "min_width": null,
            "object_fit": null,
            "object_position": null,
            "order": null,
            "overflow": null,
            "overflow_x": null,
            "overflow_y": null,
            "padding": null,
            "right": null,
            "top": null,
            "visibility": null,
            "width": null
          }
        },
        "83d6128c52cc41368a22b378b15d611a": {
          "model_module": "@jupyter-widgets/output",
          "model_name": "OutputModel",
          "model_module_version": "1.0.0",
          "state": {
            "_dom_classes": [],
            "_model_module": "@jupyter-widgets/output",
            "_model_module_version": "1.0.0",
            "_model_name": "OutputModel",
            "_view_count": null,
            "_view_module": "@jupyter-widgets/output",
            "_view_module_version": "1.0.0",
            "_view_name": "OutputView",
            "layout": "IPY_MODEL_e20cdeac2c1a446da56fff48e4cae8ff",
            "msg_id": "",
            "outputs": [
              {
                "output_type": "display_data",
                "data": {
                  "text/plain": "Deflating JPEGs       \u001b[38;2;114;156;31m━━━━━━━━━━━━━━━━━━━━━━━━━━━━━━━━━━━━━━━━\u001b[0m \u001b[35m  0%\u001b[0m \u001b[32m0/0\u001b[0m \u001b[36m-:--:--\u001b[0m\n",
                  "text/html": "<pre style=\"white-space:pre;overflow-x:auto;line-height:normal;font-family:Menlo,'DejaVu Sans Mono',consolas,'Courier New',monospace\">Deflating JPEGs       <span style=\"color: #729c1f; text-decoration-color: #729c1f\">━━━━━━━━━━━━━━━━━━━━━━━━━━━━━━━━━━━━━━━━</span> <span style=\"color: #800080; text-decoration-color: #800080\">  0%</span> <span style=\"color: #008000; text-decoration-color: #008000\">0/0</span> <span style=\"color: #008080; text-decoration-color: #008080\">-:--:--</span>\n</pre>\n"
                },
                "metadata": {}
              }
            ]
          }
        },
        "e20cdeac2c1a446da56fff48e4cae8ff": {
          "model_module": "@jupyter-widgets/base",
          "model_name": "LayoutModel",
          "model_module_version": "1.2.0",
          "state": {
            "_model_module": "@jupyter-widgets/base",
            "_model_module_version": "1.2.0",
            "_model_name": "LayoutModel",
            "_view_count": null,
            "_view_module": "@jupyter-widgets/base",
            "_view_module_version": "1.2.0",
            "_view_name": "LayoutView",
            "align_content": null,
            "align_items": null,
            "align_self": null,
            "border": null,
            "bottom": null,
            "display": null,
            "flex": null,
            "flex_flow": null,
            "grid_area": null,
            "grid_auto_columns": null,
            "grid_auto_flow": null,
            "grid_auto_rows": null,
            "grid_column": null,
            "grid_gap": null,
            "grid_row": null,
            "grid_template_areas": null,
            "grid_template_columns": null,
            "grid_template_rows": null,
            "height": null,
            "justify_content": null,
            "justify_items": null,
            "left": null,
            "margin": null,
            "max_height": null,
            "max_width": null,
            "min_height": null,
            "min_width": null,
            "object_fit": null,
            "object_position": null,
            "order": null,
            "overflow": null,
            "overflow_x": null,
            "overflow_y": null,
            "padding": null,
            "right": null,
            "top": null,
            "visibility": null,
            "width": null
          }
        },
        "df88875d510b48cd91544747ec7a10de": {
          "model_module": "@jupyter-widgets/output",
          "model_name": "OutputModel",
          "model_module_version": "1.0.0",
          "state": {
            "_dom_classes": [],
            "_model_module": "@jupyter-widgets/output",
            "_model_module_version": "1.0.0",
            "_model_name": "OutputModel",
            "_view_count": null,
            "_view_module": "@jupyter-widgets/output",
            "_view_module_version": "1.0.0",
            "_view_name": "OutputView",
            "layout": "IPY_MODEL_31e27a1b3c564e5b8f9755048e424df9",
            "msg_id": "",
            "outputs": [
              {
                "output_type": "display_data",
                "data": {
                  "text/plain": "JBIG2                 \u001b[38;2;114;156;31m━━━━━━━━━━━━━━━━━━━━━━━━━━━━━━━━━━━━━━━━\u001b[0m \u001b[35m  0%\u001b[0m \u001b[32m0/0\u001b[0m \u001b[36m-:--:--\u001b[0m\n",
                  "text/html": "<pre style=\"white-space:pre;overflow-x:auto;line-height:normal;font-family:Menlo,'DejaVu Sans Mono',consolas,'Courier New',monospace\">JBIG2                 <span style=\"color: #729c1f; text-decoration-color: #729c1f\">━━━━━━━━━━━━━━━━━━━━━━━━━━━━━━━━━━━━━━━━</span> <span style=\"color: #800080; text-decoration-color: #800080\">  0%</span> <span style=\"color: #008000; text-decoration-color: #008000\">0/0</span> <span style=\"color: #008080; text-decoration-color: #008080\">-:--:--</span>\n</pre>\n"
                },
                "metadata": {}
              }
            ]
          }
        },
        "31e27a1b3c564e5b8f9755048e424df9": {
          "model_module": "@jupyter-widgets/base",
          "model_name": "LayoutModel",
          "model_module_version": "1.2.0",
          "state": {
            "_model_module": "@jupyter-widgets/base",
            "_model_module_version": "1.2.0",
            "_model_name": "LayoutModel",
            "_view_count": null,
            "_view_module": "@jupyter-widgets/base",
            "_view_module_version": "1.2.0",
            "_view_name": "LayoutView",
            "align_content": null,
            "align_items": null,
            "align_self": null,
            "border": null,
            "bottom": null,
            "display": null,
            "flex": null,
            "flex_flow": null,
            "grid_area": null,
            "grid_auto_columns": null,
            "grid_auto_flow": null,
            "grid_auto_rows": null,
            "grid_column": null,
            "grid_gap": null,
            "grid_row": null,
            "grid_template_areas": null,
            "grid_template_columns": null,
            "grid_template_rows": null,
            "height": null,
            "justify_content": null,
            "justify_items": null,
            "left": null,
            "margin": null,
            "max_height": null,
            "max_width": null,
            "min_height": null,
            "min_width": null,
            "object_fit": null,
            "object_position": null,
            "order": null,
            "overflow": null,
            "overflow_x": null,
            "overflow_y": null,
            "padding": null,
            "right": null,
            "top": null,
            "visibility": null,
            "width": null
          }
        },
        "0e02819c534c46729435a04b0bb74662": {
          "model_module": "@jupyter-widgets/output",
          "model_name": "OutputModel",
          "model_module_version": "1.0.0",
          "state": {
            "_dom_classes": [],
            "_model_module": "@jupyter-widgets/output",
            "_model_module_version": "1.0.0",
            "_model_name": "OutputModel",
            "_view_count": null,
            "_view_module": "@jupyter-widgets/output",
            "_view_module_version": "1.0.0",
            "_view_name": "OutputView",
            "layout": "IPY_MODEL_22f9a5c860224a4ea6eeabe32c5e6beb",
            "msg_id": "",
            "outputs": [
              {
                "output_type": "display_data",
                "data": {
                  "text/plain": "Scanning contents     \u001b[38;2;114;156;31m━━━━━━━━━━━━━━━━━━━━━━━━━━━━━━━━━━━━━━━━\u001b[0m \u001b[35m100%\u001b[0m \u001b[32m3/3\u001b[0m \u001b[36m0:00:00\u001b[0m\n",
                  "text/html": "<pre style=\"white-space:pre;overflow-x:auto;line-height:normal;font-family:Menlo,'DejaVu Sans Mono',consolas,'Courier New',monospace\">Scanning contents     <span style=\"color: #729c1f; text-decoration-color: #729c1f\">━━━━━━━━━━━━━━━━━━━━━━━━━━━━━━━━━━━━━━━━</span> <span style=\"color: #800080; text-decoration-color: #800080\">100%</span> <span style=\"color: #008000; text-decoration-color: #008000\">3/3</span> <span style=\"color: #008080; text-decoration-color: #008080\">0:00:00</span>\n</pre>\n"
                },
                "metadata": {}
              }
            ]
          }
        },
        "22f9a5c860224a4ea6eeabe32c5e6beb": {
          "model_module": "@jupyter-widgets/base",
          "model_name": "LayoutModel",
          "model_module_version": "1.2.0",
          "state": {
            "_model_module": "@jupyter-widgets/base",
            "_model_module_version": "1.2.0",
            "_model_name": "LayoutModel",
            "_view_count": null,
            "_view_module": "@jupyter-widgets/base",
            "_view_module_version": "1.2.0",
            "_view_name": "LayoutView",
            "align_content": null,
            "align_items": null,
            "align_self": null,
            "border": null,
            "bottom": null,
            "display": null,
            "flex": null,
            "flex_flow": null,
            "grid_area": null,
            "grid_auto_columns": null,
            "grid_auto_flow": null,
            "grid_auto_rows": null,
            "grid_column": null,
            "grid_gap": null,
            "grid_row": null,
            "grid_template_areas": null,
            "grid_template_columns": null,
            "grid_template_rows": null,
            "height": null,
            "justify_content": null,
            "justify_items": null,
            "left": null,
            "margin": null,
            "max_height": null,
            "max_width": null,
            "min_height": null,
            "min_width": null,
            "object_fit": null,
            "object_position": null,
            "order": null,
            "overflow": null,
            "overflow_x": null,
            "overflow_y": null,
            "padding": null,
            "right": null,
            "top": null,
            "visibility": null,
            "width": null
          }
        },
        "a7ea315e3896455abdba1a30cf18c942": {
          "model_module": "@jupyter-widgets/output",
          "model_name": "OutputModel",
          "model_module_version": "1.0.0",
          "state": {
            "_dom_classes": [],
            "_model_module": "@jupyter-widgets/output",
            "_model_module_version": "1.0.0",
            "_model_name": "OutputModel",
            "_view_count": null,
            "_view_module": "@jupyter-widgets/output",
            "_view_module_version": "1.0.0",
            "_view_name": "OutputView",
            "layout": "IPY_MODEL_ad1c562373724a05b4f81299653761ec",
            "msg_id": "",
            "outputs": [
              {
                "output_type": "display_data",
                "data": {
                  "text/plain": "OCR                   \u001b[38;2;114;156;31m━━━━━━━━━━━━━━━━━━━━━━━━━━━━━━━━━━━━━━━━\u001b[0m \u001b[35m100%\u001b[0m \u001b[32m3/3\u001b[0m \u001b[36m0:00:00\u001b[0m\n",
                  "text/html": "<pre style=\"white-space:pre;overflow-x:auto;line-height:normal;font-family:Menlo,'DejaVu Sans Mono',consolas,'Courier New',monospace\">OCR                   <span style=\"color: #729c1f; text-decoration-color: #729c1f\">━━━━━━━━━━━━━━━━━━━━━━━━━━━━━━━━━━━━━━━━</span> <span style=\"color: #800080; text-decoration-color: #800080\">100%</span> <span style=\"color: #008000; text-decoration-color: #008000\">3/3</span> <span style=\"color: #008080; text-decoration-color: #008080\">0:00:00</span>\n</pre>\n"
                },
                "metadata": {}
              }
            ]
          }
        },
        "ad1c562373724a05b4f81299653761ec": {
          "model_module": "@jupyter-widgets/base",
          "model_name": "LayoutModel",
          "model_module_version": "1.2.0",
          "state": {
            "_model_module": "@jupyter-widgets/base",
            "_model_module_version": "1.2.0",
            "_model_name": "LayoutModel",
            "_view_count": null,
            "_view_module": "@jupyter-widgets/base",
            "_view_module_version": "1.2.0",
            "_view_name": "LayoutView",
            "align_content": null,
            "align_items": null,
            "align_self": null,
            "border": null,
            "bottom": null,
            "display": null,
            "flex": null,
            "flex_flow": null,
            "grid_area": null,
            "grid_auto_columns": null,
            "grid_auto_flow": null,
            "grid_auto_rows": null,
            "grid_column": null,
            "grid_gap": null,
            "grid_row": null,
            "grid_template_areas": null,
            "grid_template_columns": null,
            "grid_template_rows": null,
            "height": null,
            "justify_content": null,
            "justify_items": null,
            "left": null,
            "margin": null,
            "max_height": null,
            "max_width": null,
            "min_height": null,
            "min_width": null,
            "object_fit": null,
            "object_position": null,
            "order": null,
            "overflow": null,
            "overflow_x": null,
            "overflow_y": null,
            "padding": null,
            "right": null,
            "top": null,
            "visibility": null,
            "width": null
          }
        },
        "872a702fb6474bc3badd3f02f37f06be": {
          "model_module": "@jupyter-widgets/output",
          "model_name": "OutputModel",
          "model_module_version": "1.0.0",
          "state": {
            "_dom_classes": [],
            "_model_module": "@jupyter-widgets/output",
            "_model_module_version": "1.0.0",
            "_model_name": "OutputModel",
            "_view_count": null,
            "_view_module": "@jupyter-widgets/output",
            "_view_module_version": "1.0.0",
            "_view_name": "OutputView",
            "layout": "IPY_MODEL_726ab1f9ea6744f98bd1b658349889e5",
            "msg_id": "",
            "outputs": [
              {
                "output_type": "display_data",
                "data": {
                  "text/plain": "PDF/A conversion      \u001b[38;2;114;156;31m━━━━━━━━━━━━━━━━━━━━━━━━━━━━━━━━━━━━━━━━\u001b[0m \u001b[35m100%\u001b[0m \u001b[32m3/3\u001b[0m \u001b[36m0:00:00\u001b[0m\n",
                  "text/html": "<pre style=\"white-space:pre;overflow-x:auto;line-height:normal;font-family:Menlo,'DejaVu Sans Mono',consolas,'Courier New',monospace\">PDF/A conversion      <span style=\"color: #729c1f; text-decoration-color: #729c1f\">━━━━━━━━━━━━━━━━━━━━━━━━━━━━━━━━━━━━━━━━</span> <span style=\"color: #800080; text-decoration-color: #800080\">100%</span> <span style=\"color: #008000; text-decoration-color: #008000\">3/3</span> <span style=\"color: #008080; text-decoration-color: #008080\">0:00:00</span>\n</pre>\n"
                },
                "metadata": {}
              }
            ]
          }
        },
        "726ab1f9ea6744f98bd1b658349889e5": {
          "model_module": "@jupyter-widgets/base",
          "model_name": "LayoutModel",
          "model_module_version": "1.2.0",
          "state": {
            "_model_module": "@jupyter-widgets/base",
            "_model_module_version": "1.2.0",
            "_model_name": "LayoutModel",
            "_view_count": null,
            "_view_module": "@jupyter-widgets/base",
            "_view_module_version": "1.2.0",
            "_view_name": "LayoutView",
            "align_content": null,
            "align_items": null,
            "align_self": null,
            "border": null,
            "bottom": null,
            "display": null,
            "flex": null,
            "flex_flow": null,
            "grid_area": null,
            "grid_auto_columns": null,
            "grid_auto_flow": null,
            "grid_auto_rows": null,
            "grid_column": null,
            "grid_gap": null,
            "grid_row": null,
            "grid_template_areas": null,
            "grid_template_columns": null,
            "grid_template_rows": null,
            "height": null,
            "justify_content": null,
            "justify_items": null,
            "left": null,
            "margin": null,
            "max_height": null,
            "max_width": null,
            "min_height": null,
            "min_width": null,
            "object_fit": null,
            "object_position": null,
            "order": null,
            "overflow": null,
            "overflow_x": null,
            "overflow_y": null,
            "padding": null,
            "right": null,
            "top": null,
            "visibility": null,
            "width": null
          }
        },
        "565ae30099cf4351bbc8895ab71ae151": {
          "model_module": "@jupyter-widgets/output",
          "model_name": "OutputModel",
          "model_module_version": "1.0.0",
          "state": {
            "_dom_classes": [],
            "_model_module": "@jupyter-widgets/output",
            "_model_module_version": "1.0.0",
            "_model_name": "OutputModel",
            "_view_count": null,
            "_view_module": "@jupyter-widgets/output",
            "_view_module_version": "1.0.0",
            "_view_name": "OutputView",
            "layout": "IPY_MODEL_085ac9afd00240ebaef798f050404cbe",
            "msg_id": "",
            "outputs": [
              {
                "output_type": "display_data",
                "data": {
                  "text/plain": "Linearizing           \u001b[38;2;114;156;31m━━━━━━━━━━━━━━━━━━━━━━━━━━━━━━━━━━━━━━━━\u001b[0m \u001b[35m100%\u001b[0m \u001b[32m100/100\u001b[0m \u001b[36m0:00:00\u001b[0m\n",
                  "text/html": "<pre style=\"white-space:pre;overflow-x:auto;line-height:normal;font-family:Menlo,'DejaVu Sans Mono',consolas,'Courier New',monospace\">Linearizing           <span style=\"color: #729c1f; text-decoration-color: #729c1f\">━━━━━━━━━━━━━━━━━━━━━━━━━━━━━━━━━━━━━━━━</span> <span style=\"color: #800080; text-decoration-color: #800080\">100%</span> <span style=\"color: #008000; text-decoration-color: #008000\">100/100</span> <span style=\"color: #008080; text-decoration-color: #008080\">0:00:00</span>\n</pre>\n"
                },
                "metadata": {}
              }
            ]
          }
        },
        "085ac9afd00240ebaef798f050404cbe": {
          "model_module": "@jupyter-widgets/base",
          "model_name": "LayoutModel",
          "model_module_version": "1.2.0",
          "state": {
            "_model_module": "@jupyter-widgets/base",
            "_model_module_version": "1.2.0",
            "_model_name": "LayoutModel",
            "_view_count": null,
            "_view_module": "@jupyter-widgets/base",
            "_view_module_version": "1.2.0",
            "_view_name": "LayoutView",
            "align_content": null,
            "align_items": null,
            "align_self": null,
            "border": null,
            "bottom": null,
            "display": null,
            "flex": null,
            "flex_flow": null,
            "grid_area": null,
            "grid_auto_columns": null,
            "grid_auto_flow": null,
            "grid_auto_rows": null,
            "grid_column": null,
            "grid_gap": null,
            "grid_row": null,
            "grid_template_areas": null,
            "grid_template_columns": null,
            "grid_template_rows": null,
            "height": null,
            "justify_content": null,
            "justify_items": null,
            "left": null,
            "margin": null,
            "max_height": null,
            "max_width": null,
            "min_height": null,
            "min_width": null,
            "object_fit": null,
            "object_position": null,
            "order": null,
            "overflow": null,
            "overflow_x": null,
            "overflow_y": null,
            "padding": null,
            "right": null,
            "top": null,
            "visibility": null,
            "width": null
          }
        },
        "023219eb08994242b668ae31050b2cc3": {
          "model_module": "@jupyter-widgets/output",
          "model_name": "OutputModel",
          "model_module_version": "1.0.0",
          "state": {
            "_dom_classes": [],
            "_model_module": "@jupyter-widgets/output",
            "_model_module_version": "1.0.0",
            "_model_name": "OutputModel",
            "_view_count": null,
            "_view_module": "@jupyter-widgets/output",
            "_view_module_version": "1.0.0",
            "_view_name": "OutputView",
            "layout": "IPY_MODEL_d5de9720ca0d43bcb184a0034670a8ce",
            "msg_id": "",
            "outputs": [
              {
                "output_type": "display_data",
                "data": {
                  "text/plain": "Recompressing JPEGs   \u001b[38;2;114;156;31m━━━━━━━━━━━━━━━━━━━━━━━━━━━━━━━━━━━━━━━━\u001b[0m \u001b[35m  0%\u001b[0m \u001b[32m0/0\u001b[0m \u001b[36m-:--:--\u001b[0m\n",
                  "text/html": "<pre style=\"white-space:pre;overflow-x:auto;line-height:normal;font-family:Menlo,'DejaVu Sans Mono',consolas,'Courier New',monospace\">Recompressing JPEGs   <span style=\"color: #729c1f; text-decoration-color: #729c1f\">━━━━━━━━━━━━━━━━━━━━━━━━━━━━━━━━━━━━━━━━</span> <span style=\"color: #800080; text-decoration-color: #800080\">  0%</span> <span style=\"color: #008000; text-decoration-color: #008000\">0/0</span> <span style=\"color: #008080; text-decoration-color: #008080\">-:--:--</span>\n</pre>\n"
                },
                "metadata": {}
              }
            ]
          }
        },
        "d5de9720ca0d43bcb184a0034670a8ce": {
          "model_module": "@jupyter-widgets/base",
          "model_name": "LayoutModel",
          "model_module_version": "1.2.0",
          "state": {
            "_model_module": "@jupyter-widgets/base",
            "_model_module_version": "1.2.0",
            "_model_name": "LayoutModel",
            "_view_count": null,
            "_view_module": "@jupyter-widgets/base",
            "_view_module_version": "1.2.0",
            "_view_name": "LayoutView",
            "align_content": null,
            "align_items": null,
            "align_self": null,
            "border": null,
            "bottom": null,
            "display": null,
            "flex": null,
            "flex_flow": null,
            "grid_area": null,
            "grid_auto_columns": null,
            "grid_auto_flow": null,
            "grid_auto_rows": null,
            "grid_column": null,
            "grid_gap": null,
            "grid_row": null,
            "grid_template_areas": null,
            "grid_template_columns": null,
            "grid_template_rows": null,
            "height": null,
            "justify_content": null,
            "justify_items": null,
            "left": null,
            "margin": null,
            "max_height": null,
            "max_width": null,
            "min_height": null,
            "min_width": null,
            "object_fit": null,
            "object_position": null,
            "order": null,
            "overflow": null,
            "overflow_x": null,
            "overflow_y": null,
            "padding": null,
            "right": null,
            "top": null,
            "visibility": null,
            "width": null
          }
        },
        "dfbfbd3dfd5c4dcaa8ba8578a4377c8a": {
          "model_module": "@jupyter-widgets/output",
          "model_name": "OutputModel",
          "model_module_version": "1.0.0",
          "state": {
            "_dom_classes": [],
            "_model_module": "@jupyter-widgets/output",
            "_model_module_version": "1.0.0",
            "_model_name": "OutputModel",
            "_view_count": null,
            "_view_module": "@jupyter-widgets/output",
            "_view_module_version": "1.0.0",
            "_view_name": "OutputView",
            "layout": "IPY_MODEL_26c30a65f50044dca2285354e56b4644",
            "msg_id": "",
            "outputs": [
              {
                "output_type": "display_data",
                "data": {
                  "text/plain": "Deflating JPEGs       \u001b[38;2;114;156;31m━━━━━━━━━━━━━━━━━━━━━━━━━━━━━━━━━━━━━━━━\u001b[0m \u001b[35m100%\u001b[0m \u001b[32m1/1\u001b[0m \u001b[36m0:00:00\u001b[0m\n",
                  "text/html": "<pre style=\"white-space:pre;overflow-x:auto;line-height:normal;font-family:Menlo,'DejaVu Sans Mono',consolas,'Courier New',monospace\">Deflating JPEGs       <span style=\"color: #729c1f; text-decoration-color: #729c1f\">━━━━━━━━━━━━━━━━━━━━━━━━━━━━━━━━━━━━━━━━</span> <span style=\"color: #800080; text-decoration-color: #800080\">100%</span> <span style=\"color: #008000; text-decoration-color: #008000\">1/1</span> <span style=\"color: #008080; text-decoration-color: #008080\">0:00:00</span>\n</pre>\n"
                },
                "metadata": {}
              }
            ]
          }
        },
        "26c30a65f50044dca2285354e56b4644": {
          "model_module": "@jupyter-widgets/base",
          "model_name": "LayoutModel",
          "model_module_version": "1.2.0",
          "state": {
            "_model_module": "@jupyter-widgets/base",
            "_model_module_version": "1.2.0",
            "_model_name": "LayoutModel",
            "_view_count": null,
            "_view_module": "@jupyter-widgets/base",
            "_view_module_version": "1.2.0",
            "_view_name": "LayoutView",
            "align_content": null,
            "align_items": null,
            "align_self": null,
            "border": null,
            "bottom": null,
            "display": null,
            "flex": null,
            "flex_flow": null,
            "grid_area": null,
            "grid_auto_columns": null,
            "grid_auto_flow": null,
            "grid_auto_rows": null,
            "grid_column": null,
            "grid_gap": null,
            "grid_row": null,
            "grid_template_areas": null,
            "grid_template_columns": null,
            "grid_template_rows": null,
            "height": null,
            "justify_content": null,
            "justify_items": null,
            "left": null,
            "margin": null,
            "max_height": null,
            "max_width": null,
            "min_height": null,
            "min_width": null,
            "object_fit": null,
            "object_position": null,
            "order": null,
            "overflow": null,
            "overflow_x": null,
            "overflow_y": null,
            "padding": null,
            "right": null,
            "top": null,
            "visibility": null,
            "width": null
          }
        },
        "a53b8958bf0042fa9ea99f66aab5e35d": {
          "model_module": "@jupyter-widgets/output",
          "model_name": "OutputModel",
          "model_module_version": "1.0.0",
          "state": {
            "_dom_classes": [],
            "_model_module": "@jupyter-widgets/output",
            "_model_module_version": "1.0.0",
            "_model_name": "OutputModel",
            "_view_count": null,
            "_view_module": "@jupyter-widgets/output",
            "_view_module_version": "1.0.0",
            "_view_name": "OutputView",
            "layout": "IPY_MODEL_5519a894c5d34042934e4cb8686a0035",
            "msg_id": "",
            "outputs": [
              {
                "output_type": "display_data",
                "data": {
                  "text/plain": "JBIG2                 \u001b[38;2;114;156;31m━━━━━━━━━━━━━━━━━━━━━━━━━━━━━━━━━━━━━━━━\u001b[0m \u001b[35m  0%\u001b[0m \u001b[32m0/0\u001b[0m \u001b[36m-:--:--\u001b[0m\n",
                  "text/html": "<pre style=\"white-space:pre;overflow-x:auto;line-height:normal;font-family:Menlo,'DejaVu Sans Mono',consolas,'Courier New',monospace\">JBIG2                 <span style=\"color: #729c1f; text-decoration-color: #729c1f\">━━━━━━━━━━━━━━━━━━━━━━━━━━━━━━━━━━━━━━━━</span> <span style=\"color: #800080; text-decoration-color: #800080\">  0%</span> <span style=\"color: #008000; text-decoration-color: #008000\">0/0</span> <span style=\"color: #008080; text-decoration-color: #008080\">-:--:--</span>\n</pre>\n"
                },
                "metadata": {}
              }
            ]
          }
        },
        "5519a894c5d34042934e4cb8686a0035": {
          "model_module": "@jupyter-widgets/base",
          "model_name": "LayoutModel",
          "model_module_version": "1.2.0",
          "state": {
            "_model_module": "@jupyter-widgets/base",
            "_model_module_version": "1.2.0",
            "_model_name": "LayoutModel",
            "_view_count": null,
            "_view_module": "@jupyter-widgets/base",
            "_view_module_version": "1.2.0",
            "_view_name": "LayoutView",
            "align_content": null,
            "align_items": null,
            "align_self": null,
            "border": null,
            "bottom": null,
            "display": null,
            "flex": null,
            "flex_flow": null,
            "grid_area": null,
            "grid_auto_columns": null,
            "grid_auto_flow": null,
            "grid_auto_rows": null,
            "grid_column": null,
            "grid_gap": null,
            "grid_row": null,
            "grid_template_areas": null,
            "grid_template_columns": null,
            "grid_template_rows": null,
            "height": null,
            "justify_content": null,
            "justify_items": null,
            "left": null,
            "margin": null,
            "max_height": null,
            "max_width": null,
            "min_height": null,
            "min_width": null,
            "object_fit": null,
            "object_position": null,
            "order": null,
            "overflow": null,
            "overflow_x": null,
            "overflow_y": null,
            "padding": null,
            "right": null,
            "top": null,
            "visibility": null,
            "width": null
          }
        },
        "2d6ce04dc42f4a52ac11060d65c46e82": {
          "model_module": "@jupyter-widgets/output",
          "model_name": "OutputModel",
          "model_module_version": "1.0.0",
          "state": {
            "_dom_classes": [],
            "_model_module": "@jupyter-widgets/output",
            "_model_module_version": "1.0.0",
            "_model_name": "OutputModel",
            "_view_count": null,
            "_view_module": "@jupyter-widgets/output",
            "_view_module_version": "1.0.0",
            "_view_name": "OutputView",
            "layout": "IPY_MODEL_d0fcfa339d32482a9ea72de40f5ef696",
            "msg_id": "",
            "outputs": [
              {
                "output_type": "display_data",
                "data": {
                  "text/plain": "Scanning contents     \u001b[38;2;114;156;31m━━━━━━━━━━━━━━━━━━━━━━━━━━━━━━━━━━━━━━━━\u001b[0m \u001b[35m100%\u001b[0m \u001b[32m1/1\u001b[0m \u001b[36m0:00:00\u001b[0m\n",
                  "text/html": "<pre style=\"white-space:pre;overflow-x:auto;line-height:normal;font-family:Menlo,'DejaVu Sans Mono',consolas,'Courier New',monospace\">Scanning contents     <span style=\"color: #729c1f; text-decoration-color: #729c1f\">━━━━━━━━━━━━━━━━━━━━━━━━━━━━━━━━━━━━━━━━</span> <span style=\"color: #800080; text-decoration-color: #800080\">100%</span> <span style=\"color: #008000; text-decoration-color: #008000\">1/1</span> <span style=\"color: #008080; text-decoration-color: #008080\">0:00:00</span>\n</pre>\n"
                },
                "metadata": {}
              }
            ]
          }
        },
        "d0fcfa339d32482a9ea72de40f5ef696": {
          "model_module": "@jupyter-widgets/base",
          "model_name": "LayoutModel",
          "model_module_version": "1.2.0",
          "state": {
            "_model_module": "@jupyter-widgets/base",
            "_model_module_version": "1.2.0",
            "_model_name": "LayoutModel",
            "_view_count": null,
            "_view_module": "@jupyter-widgets/base",
            "_view_module_version": "1.2.0",
            "_view_name": "LayoutView",
            "align_content": null,
            "align_items": null,
            "align_self": null,
            "border": null,
            "bottom": null,
            "display": null,
            "flex": null,
            "flex_flow": null,
            "grid_area": null,
            "grid_auto_columns": null,
            "grid_auto_flow": null,
            "grid_auto_rows": null,
            "grid_column": null,
            "grid_gap": null,
            "grid_row": null,
            "grid_template_areas": null,
            "grid_template_columns": null,
            "grid_template_rows": null,
            "height": null,
            "justify_content": null,
            "justify_items": null,
            "left": null,
            "margin": null,
            "max_height": null,
            "max_width": null,
            "min_height": null,
            "min_width": null,
            "object_fit": null,
            "object_position": null,
            "order": null,
            "overflow": null,
            "overflow_x": null,
            "overflow_y": null,
            "padding": null,
            "right": null,
            "top": null,
            "visibility": null,
            "width": null
          }
        },
        "983a51c2b000432fa15e8f1739e83011": {
          "model_module": "@jupyter-widgets/output",
          "model_name": "OutputModel",
          "model_module_version": "1.0.0",
          "state": {
            "_dom_classes": [],
            "_model_module": "@jupyter-widgets/output",
            "_model_module_version": "1.0.0",
            "_model_name": "OutputModel",
            "_view_count": null,
            "_view_module": "@jupyter-widgets/output",
            "_view_module_version": "1.0.0",
            "_view_name": "OutputView",
            "layout": "IPY_MODEL_3faa4841c26d4ef8a2045b03dd86835c",
            "msg_id": "",
            "outputs": [
              {
                "output_type": "display_data",
                "data": {
                  "text/plain": "OCR                   \u001b[38;2;114;156;31m━━━━━━━━━━━━━━━━━━━━━━━━━━━━━━━━━━━━━━━━\u001b[0m \u001b[35m100%\u001b[0m \u001b[32m1/1\u001b[0m \u001b[36m0:00:00\u001b[0m\n",
                  "text/html": "<pre style=\"white-space:pre;overflow-x:auto;line-height:normal;font-family:Menlo,'DejaVu Sans Mono',consolas,'Courier New',monospace\">OCR                   <span style=\"color: #729c1f; text-decoration-color: #729c1f\">━━━━━━━━━━━━━━━━━━━━━━━━━━━━━━━━━━━━━━━━</span> <span style=\"color: #800080; text-decoration-color: #800080\">100%</span> <span style=\"color: #008000; text-decoration-color: #008000\">1/1</span> <span style=\"color: #008080; text-decoration-color: #008080\">0:00:00</span>\n</pre>\n"
                },
                "metadata": {}
              }
            ]
          }
        },
        "3faa4841c26d4ef8a2045b03dd86835c": {
          "model_module": "@jupyter-widgets/base",
          "model_name": "LayoutModel",
          "model_module_version": "1.2.0",
          "state": {
            "_model_module": "@jupyter-widgets/base",
            "_model_module_version": "1.2.0",
            "_model_name": "LayoutModel",
            "_view_count": null,
            "_view_module": "@jupyter-widgets/base",
            "_view_module_version": "1.2.0",
            "_view_name": "LayoutView",
            "align_content": null,
            "align_items": null,
            "align_self": null,
            "border": null,
            "bottom": null,
            "display": null,
            "flex": null,
            "flex_flow": null,
            "grid_area": null,
            "grid_auto_columns": null,
            "grid_auto_flow": null,
            "grid_auto_rows": null,
            "grid_column": null,
            "grid_gap": null,
            "grid_row": null,
            "grid_template_areas": null,
            "grid_template_columns": null,
            "grid_template_rows": null,
            "height": null,
            "justify_content": null,
            "justify_items": null,
            "left": null,
            "margin": null,
            "max_height": null,
            "max_width": null,
            "min_height": null,
            "min_width": null,
            "object_fit": null,
            "object_position": null,
            "order": null,
            "overflow": null,
            "overflow_x": null,
            "overflow_y": null,
            "padding": null,
            "right": null,
            "top": null,
            "visibility": null,
            "width": null
          }
        },
        "f1741887cf5745d7b4c92e739b187262": {
          "model_module": "@jupyter-widgets/output",
          "model_name": "OutputModel",
          "model_module_version": "1.0.0",
          "state": {
            "_dom_classes": [],
            "_model_module": "@jupyter-widgets/output",
            "_model_module_version": "1.0.0",
            "_model_name": "OutputModel",
            "_view_count": null,
            "_view_module": "@jupyter-widgets/output",
            "_view_module_version": "1.0.0",
            "_view_name": "OutputView",
            "layout": "IPY_MODEL_ab9ff0c795704b229d2e4b10b5124a9c",
            "msg_id": "",
            "outputs": [
              {
                "output_type": "display_data",
                "data": {
                  "text/plain": "PDF/A conversion      \u001b[38;2;114;156;31m━━━━━━━━━━━━━━━━━━━━━━━━━━━━━━━━━━━━━━━━\u001b[0m \u001b[35m100%\u001b[0m \u001b[32m1/1\u001b[0m \u001b[36m0:00:00\u001b[0m\n",
                  "text/html": "<pre style=\"white-space:pre;overflow-x:auto;line-height:normal;font-family:Menlo,'DejaVu Sans Mono',consolas,'Courier New',monospace\">PDF/A conversion      <span style=\"color: #729c1f; text-decoration-color: #729c1f\">━━━━━━━━━━━━━━━━━━━━━━━━━━━━━━━━━━━━━━━━</span> <span style=\"color: #800080; text-decoration-color: #800080\">100%</span> <span style=\"color: #008000; text-decoration-color: #008000\">1/1</span> <span style=\"color: #008080; text-decoration-color: #008080\">0:00:00</span>\n</pre>\n"
                },
                "metadata": {}
              }
            ]
          }
        },
        "ab9ff0c795704b229d2e4b10b5124a9c": {
          "model_module": "@jupyter-widgets/base",
          "model_name": "LayoutModel",
          "model_module_version": "1.2.0",
          "state": {
            "_model_module": "@jupyter-widgets/base",
            "_model_module_version": "1.2.0",
            "_model_name": "LayoutModel",
            "_view_count": null,
            "_view_module": "@jupyter-widgets/base",
            "_view_module_version": "1.2.0",
            "_view_name": "LayoutView",
            "align_content": null,
            "align_items": null,
            "align_self": null,
            "border": null,
            "bottom": null,
            "display": null,
            "flex": null,
            "flex_flow": null,
            "grid_area": null,
            "grid_auto_columns": null,
            "grid_auto_flow": null,
            "grid_auto_rows": null,
            "grid_column": null,
            "grid_gap": null,
            "grid_row": null,
            "grid_template_areas": null,
            "grid_template_columns": null,
            "grid_template_rows": null,
            "height": null,
            "justify_content": null,
            "justify_items": null,
            "left": null,
            "margin": null,
            "max_height": null,
            "max_width": null,
            "min_height": null,
            "min_width": null,
            "object_fit": null,
            "object_position": null,
            "order": null,
            "overflow": null,
            "overflow_x": null,
            "overflow_y": null,
            "padding": null,
            "right": null,
            "top": null,
            "visibility": null,
            "width": null
          }
        },
        "576a1fab91c1461d8ca1766350687652": {
          "model_module": "@jupyter-widgets/output",
          "model_name": "OutputModel",
          "model_module_version": "1.0.0",
          "state": {
            "_dom_classes": [],
            "_model_module": "@jupyter-widgets/output",
            "_model_module_version": "1.0.0",
            "_model_name": "OutputModel",
            "_view_count": null,
            "_view_module": "@jupyter-widgets/output",
            "_view_module_version": "1.0.0",
            "_view_name": "OutputView",
            "layout": "IPY_MODEL_aa5ec3e3afaa4a5b979050fde42a1b9c",
            "msg_id": "",
            "outputs": [
              {
                "output_type": "display_data",
                "data": {
                  "text/plain": "Linearizing           \u001b[38;2;114;156;31m━━━━━━━━━━━━━━━━━━━━━━━━━━━━━━━━━━━━━━━━\u001b[0m \u001b[35m100%\u001b[0m \u001b[32m100/100\u001b[0m \u001b[36m0:00:00\u001b[0m\n",
                  "text/html": "<pre style=\"white-space:pre;overflow-x:auto;line-height:normal;font-family:Menlo,'DejaVu Sans Mono',consolas,'Courier New',monospace\">Linearizing           <span style=\"color: #729c1f; text-decoration-color: #729c1f\">━━━━━━━━━━━━━━━━━━━━━━━━━━━━━━━━━━━━━━━━</span> <span style=\"color: #800080; text-decoration-color: #800080\">100%</span> <span style=\"color: #008000; text-decoration-color: #008000\">100/100</span> <span style=\"color: #008080; text-decoration-color: #008080\">0:00:00</span>\n</pre>\n"
                },
                "metadata": {}
              }
            ]
          }
        },
        "aa5ec3e3afaa4a5b979050fde42a1b9c": {
          "model_module": "@jupyter-widgets/base",
          "model_name": "LayoutModel",
          "model_module_version": "1.2.0",
          "state": {
            "_model_module": "@jupyter-widgets/base",
            "_model_module_version": "1.2.0",
            "_model_name": "LayoutModel",
            "_view_count": null,
            "_view_module": "@jupyter-widgets/base",
            "_view_module_version": "1.2.0",
            "_view_name": "LayoutView",
            "align_content": null,
            "align_items": null,
            "align_self": null,
            "border": null,
            "bottom": null,
            "display": null,
            "flex": null,
            "flex_flow": null,
            "grid_area": null,
            "grid_auto_columns": null,
            "grid_auto_flow": null,
            "grid_auto_rows": null,
            "grid_column": null,
            "grid_gap": null,
            "grid_row": null,
            "grid_template_areas": null,
            "grid_template_columns": null,
            "grid_template_rows": null,
            "height": null,
            "justify_content": null,
            "justify_items": null,
            "left": null,
            "margin": null,
            "max_height": null,
            "max_width": null,
            "min_height": null,
            "min_width": null,
            "object_fit": null,
            "object_position": null,
            "order": null,
            "overflow": null,
            "overflow_x": null,
            "overflow_y": null,
            "padding": null,
            "right": null,
            "top": null,
            "visibility": null,
            "width": null
          }
        },
        "ad98f86f900843cbbb76ac3d952a1c26": {
          "model_module": "@jupyter-widgets/output",
          "model_name": "OutputModel",
          "model_module_version": "1.0.0",
          "state": {
            "_dom_classes": [],
            "_model_module": "@jupyter-widgets/output",
            "_model_module_version": "1.0.0",
            "_model_name": "OutputModel",
            "_view_count": null,
            "_view_module": "@jupyter-widgets/output",
            "_view_module_version": "1.0.0",
            "_view_name": "OutputView",
            "layout": "IPY_MODEL_70843f17c80c4dd2912263895bdf5f2e",
            "msg_id": "",
            "outputs": [
              {
                "output_type": "display_data",
                "data": {
                  "text/plain": "Recompressing JPEGs   \u001b[38;2;114;156;31m━━━━━━━━━━━━━━━━━━━━━━━━━━━━━━━━━━━━━━━━\u001b[0m \u001b[35m  0%\u001b[0m \u001b[32m0/0\u001b[0m \u001b[36m-:--:--\u001b[0m\n",
                  "text/html": "<pre style=\"white-space:pre;overflow-x:auto;line-height:normal;font-family:Menlo,'DejaVu Sans Mono',consolas,'Courier New',monospace\">Recompressing JPEGs   <span style=\"color: #729c1f; text-decoration-color: #729c1f\">━━━━━━━━━━━━━━━━━━━━━━━━━━━━━━━━━━━━━━━━</span> <span style=\"color: #800080; text-decoration-color: #800080\">  0%</span> <span style=\"color: #008000; text-decoration-color: #008000\">0/0</span> <span style=\"color: #008080; text-decoration-color: #008080\">-:--:--</span>\n</pre>\n"
                },
                "metadata": {}
              }
            ]
          }
        },
        "70843f17c80c4dd2912263895bdf5f2e": {
          "model_module": "@jupyter-widgets/base",
          "model_name": "LayoutModel",
          "model_module_version": "1.2.0",
          "state": {
            "_model_module": "@jupyter-widgets/base",
            "_model_module_version": "1.2.0",
            "_model_name": "LayoutModel",
            "_view_count": null,
            "_view_module": "@jupyter-widgets/base",
            "_view_module_version": "1.2.0",
            "_view_name": "LayoutView",
            "align_content": null,
            "align_items": null,
            "align_self": null,
            "border": null,
            "bottom": null,
            "display": null,
            "flex": null,
            "flex_flow": null,
            "grid_area": null,
            "grid_auto_columns": null,
            "grid_auto_flow": null,
            "grid_auto_rows": null,
            "grid_column": null,
            "grid_gap": null,
            "grid_row": null,
            "grid_template_areas": null,
            "grid_template_columns": null,
            "grid_template_rows": null,
            "height": null,
            "justify_content": null,
            "justify_items": null,
            "left": null,
            "margin": null,
            "max_height": null,
            "max_width": null,
            "min_height": null,
            "min_width": null,
            "object_fit": null,
            "object_position": null,
            "order": null,
            "overflow": null,
            "overflow_x": null,
            "overflow_y": null,
            "padding": null,
            "right": null,
            "top": null,
            "visibility": null,
            "width": null
          }
        },
        "bce372fb90ca4e7d8a3aaba8793b17d9": {
          "model_module": "@jupyter-widgets/output",
          "model_name": "OutputModel",
          "model_module_version": "1.0.0",
          "state": {
            "_dom_classes": [],
            "_model_module": "@jupyter-widgets/output",
            "_model_module_version": "1.0.0",
            "_model_name": "OutputModel",
            "_view_count": null,
            "_view_module": "@jupyter-widgets/output",
            "_view_module_version": "1.0.0",
            "_view_name": "OutputView",
            "layout": "IPY_MODEL_0ed790afc06b4a799cf73354a0929456",
            "msg_id": "",
            "outputs": [
              {
                "output_type": "display_data",
                "data": {
                  "text/plain": "Deflating JPEGs       \u001b[38;2;114;156;31m━━━━━━━━━━━━━━━━━━━━━━━━━━━━━━━━━━━━━━━━\u001b[0m \u001b[35m  0%\u001b[0m \u001b[32m0/0\u001b[0m \u001b[36m-:--:--\u001b[0m\n",
                  "text/html": "<pre style=\"white-space:pre;overflow-x:auto;line-height:normal;font-family:Menlo,'DejaVu Sans Mono',consolas,'Courier New',monospace\">Deflating JPEGs       <span style=\"color: #729c1f; text-decoration-color: #729c1f\">━━━━━━━━━━━━━━━━━━━━━━━━━━━━━━━━━━━━━━━━</span> <span style=\"color: #800080; text-decoration-color: #800080\">  0%</span> <span style=\"color: #008000; text-decoration-color: #008000\">0/0</span> <span style=\"color: #008080; text-decoration-color: #008080\">-:--:--</span>\n</pre>\n"
                },
                "metadata": {}
              }
            ]
          }
        },
        "0ed790afc06b4a799cf73354a0929456": {
          "model_module": "@jupyter-widgets/base",
          "model_name": "LayoutModel",
          "model_module_version": "1.2.0",
          "state": {
            "_model_module": "@jupyter-widgets/base",
            "_model_module_version": "1.2.0",
            "_model_name": "LayoutModel",
            "_view_count": null,
            "_view_module": "@jupyter-widgets/base",
            "_view_module_version": "1.2.0",
            "_view_name": "LayoutView",
            "align_content": null,
            "align_items": null,
            "align_self": null,
            "border": null,
            "bottom": null,
            "display": null,
            "flex": null,
            "flex_flow": null,
            "grid_area": null,
            "grid_auto_columns": null,
            "grid_auto_flow": null,
            "grid_auto_rows": null,
            "grid_column": null,
            "grid_gap": null,
            "grid_row": null,
            "grid_template_areas": null,
            "grid_template_columns": null,
            "grid_template_rows": null,
            "height": null,
            "justify_content": null,
            "justify_items": null,
            "left": null,
            "margin": null,
            "max_height": null,
            "max_width": null,
            "min_height": null,
            "min_width": null,
            "object_fit": null,
            "object_position": null,
            "order": null,
            "overflow": null,
            "overflow_x": null,
            "overflow_y": null,
            "padding": null,
            "right": null,
            "top": null,
            "visibility": null,
            "width": null
          }
        },
        "e996096d60b5424898bc208f8dd67ccc": {
          "model_module": "@jupyter-widgets/output",
          "model_name": "OutputModel",
          "model_module_version": "1.0.0",
          "state": {
            "_dom_classes": [],
            "_model_module": "@jupyter-widgets/output",
            "_model_module_version": "1.0.0",
            "_model_name": "OutputModel",
            "_view_count": null,
            "_view_module": "@jupyter-widgets/output",
            "_view_module_version": "1.0.0",
            "_view_name": "OutputView",
            "layout": "IPY_MODEL_c21705687fac4cd982faf263968593d9",
            "msg_id": "",
            "outputs": [
              {
                "output_type": "display_data",
                "data": {
                  "text/plain": "JBIG2                 \u001b[38;2;114;156;31m━━━━━━━━━━━━━━━━━━━━━━━━━━━━━━━━━━━━━━━━\u001b[0m \u001b[35m  0%\u001b[0m \u001b[32m0/0\u001b[0m \u001b[36m-:--:--\u001b[0m\n",
                  "text/html": "<pre style=\"white-space:pre;overflow-x:auto;line-height:normal;font-family:Menlo,'DejaVu Sans Mono',consolas,'Courier New',monospace\">JBIG2                 <span style=\"color: #729c1f; text-decoration-color: #729c1f\">━━━━━━━━━━━━━━━━━━━━━━━━━━━━━━━━━━━━━━━━</span> <span style=\"color: #800080; text-decoration-color: #800080\">  0%</span> <span style=\"color: #008000; text-decoration-color: #008000\">0/0</span> <span style=\"color: #008080; text-decoration-color: #008080\">-:--:--</span>\n</pre>\n"
                },
                "metadata": {}
              }
            ]
          }
        },
        "c21705687fac4cd982faf263968593d9": {
          "model_module": "@jupyter-widgets/base",
          "model_name": "LayoutModel",
          "model_module_version": "1.2.0",
          "state": {
            "_model_module": "@jupyter-widgets/base",
            "_model_module_version": "1.2.0",
            "_model_name": "LayoutModel",
            "_view_count": null,
            "_view_module": "@jupyter-widgets/base",
            "_view_module_version": "1.2.0",
            "_view_name": "LayoutView",
            "align_content": null,
            "align_items": null,
            "align_self": null,
            "border": null,
            "bottom": null,
            "display": null,
            "flex": null,
            "flex_flow": null,
            "grid_area": null,
            "grid_auto_columns": null,
            "grid_auto_flow": null,
            "grid_auto_rows": null,
            "grid_column": null,
            "grid_gap": null,
            "grid_row": null,
            "grid_template_areas": null,
            "grid_template_columns": null,
            "grid_template_rows": null,
            "height": null,
            "justify_content": null,
            "justify_items": null,
            "left": null,
            "margin": null,
            "max_height": null,
            "max_width": null,
            "min_height": null,
            "min_width": null,
            "object_fit": null,
            "object_position": null,
            "order": null,
            "overflow": null,
            "overflow_x": null,
            "overflow_y": null,
            "padding": null,
            "right": null,
            "top": null,
            "visibility": null,
            "width": null
          }
        },
        "6f2ded4076da42db94da16dd28195dda": {
          "model_module": "@jupyter-widgets/output",
          "model_name": "OutputModel",
          "model_module_version": "1.0.0",
          "state": {
            "_dom_classes": [],
            "_model_module": "@jupyter-widgets/output",
            "_model_module_version": "1.0.0",
            "_model_name": "OutputModel",
            "_view_count": null,
            "_view_module": "@jupyter-widgets/output",
            "_view_module_version": "1.0.0",
            "_view_name": "OutputView",
            "layout": "IPY_MODEL_4c49633ce35347a6ae791a0c4b8ce3e3",
            "msg_id": "",
            "outputs": [
              {
                "output_type": "display_data",
                "data": {
                  "text/plain": "Scanning contents     \u001b[38;2;114;156;31m━━━━━━━━━━━━━━━━━━━━━━━━━━━━━━━━━━━━━━━━\u001b[0m \u001b[35m100%\u001b[0m \u001b[32m2/2\u001b[0m \u001b[36m0:00:00\u001b[0m\n",
                  "text/html": "<pre style=\"white-space:pre;overflow-x:auto;line-height:normal;font-family:Menlo,'DejaVu Sans Mono',consolas,'Courier New',monospace\">Scanning contents     <span style=\"color: #729c1f; text-decoration-color: #729c1f\">━━━━━━━━━━━━━━━━━━━━━━━━━━━━━━━━━━━━━━━━</span> <span style=\"color: #800080; text-decoration-color: #800080\">100%</span> <span style=\"color: #008000; text-decoration-color: #008000\">2/2</span> <span style=\"color: #008080; text-decoration-color: #008080\">0:00:00</span>\n</pre>\n"
                },
                "metadata": {}
              }
            ]
          }
        },
        "4c49633ce35347a6ae791a0c4b8ce3e3": {
          "model_module": "@jupyter-widgets/base",
          "model_name": "LayoutModel",
          "model_module_version": "1.2.0",
          "state": {
            "_model_module": "@jupyter-widgets/base",
            "_model_module_version": "1.2.0",
            "_model_name": "LayoutModel",
            "_view_count": null,
            "_view_module": "@jupyter-widgets/base",
            "_view_module_version": "1.2.0",
            "_view_name": "LayoutView",
            "align_content": null,
            "align_items": null,
            "align_self": null,
            "border": null,
            "bottom": null,
            "display": null,
            "flex": null,
            "flex_flow": null,
            "grid_area": null,
            "grid_auto_columns": null,
            "grid_auto_flow": null,
            "grid_auto_rows": null,
            "grid_column": null,
            "grid_gap": null,
            "grid_row": null,
            "grid_template_areas": null,
            "grid_template_columns": null,
            "grid_template_rows": null,
            "height": null,
            "justify_content": null,
            "justify_items": null,
            "left": null,
            "margin": null,
            "max_height": null,
            "max_width": null,
            "min_height": null,
            "min_width": null,
            "object_fit": null,
            "object_position": null,
            "order": null,
            "overflow": null,
            "overflow_x": null,
            "overflow_y": null,
            "padding": null,
            "right": null,
            "top": null,
            "visibility": null,
            "width": null
          }
        },
        "790b433b969f493aae5a8fbca84b2eb6": {
          "model_module": "@jupyter-widgets/output",
          "model_name": "OutputModel",
          "model_module_version": "1.0.0",
          "state": {
            "_dom_classes": [],
            "_model_module": "@jupyter-widgets/output",
            "_model_module_version": "1.0.0",
            "_model_name": "OutputModel",
            "_view_count": null,
            "_view_module": "@jupyter-widgets/output",
            "_view_module_version": "1.0.0",
            "_view_name": "OutputView",
            "layout": "IPY_MODEL_175bb39ea60b49b383aa47d48798eac5",
            "msg_id": "",
            "outputs": [
              {
                "output_type": "display_data",
                "data": {
                  "text/plain": "OCR                   \u001b[38;2;114;156;31m━━━━━━━━━━━━━━━━━━━━━━━━━━━━━━━━━━━━━━━━\u001b[0m \u001b[35m100%\u001b[0m \u001b[32m2/2\u001b[0m \u001b[36m0:00:00\u001b[0m\n",
                  "text/html": "<pre style=\"white-space:pre;overflow-x:auto;line-height:normal;font-family:Menlo,'DejaVu Sans Mono',consolas,'Courier New',monospace\">OCR                   <span style=\"color: #729c1f; text-decoration-color: #729c1f\">━━━━━━━━━━━━━━━━━━━━━━━━━━━━━━━━━━━━━━━━</span> <span style=\"color: #800080; text-decoration-color: #800080\">100%</span> <span style=\"color: #008000; text-decoration-color: #008000\">2/2</span> <span style=\"color: #008080; text-decoration-color: #008080\">0:00:00</span>\n</pre>\n"
                },
                "metadata": {}
              }
            ]
          }
        },
        "175bb39ea60b49b383aa47d48798eac5": {
          "model_module": "@jupyter-widgets/base",
          "model_name": "LayoutModel",
          "model_module_version": "1.2.0",
          "state": {
            "_model_module": "@jupyter-widgets/base",
            "_model_module_version": "1.2.0",
            "_model_name": "LayoutModel",
            "_view_count": null,
            "_view_module": "@jupyter-widgets/base",
            "_view_module_version": "1.2.0",
            "_view_name": "LayoutView",
            "align_content": null,
            "align_items": null,
            "align_self": null,
            "border": null,
            "bottom": null,
            "display": null,
            "flex": null,
            "flex_flow": null,
            "grid_area": null,
            "grid_auto_columns": null,
            "grid_auto_flow": null,
            "grid_auto_rows": null,
            "grid_column": null,
            "grid_gap": null,
            "grid_row": null,
            "grid_template_areas": null,
            "grid_template_columns": null,
            "grid_template_rows": null,
            "height": null,
            "justify_content": null,
            "justify_items": null,
            "left": null,
            "margin": null,
            "max_height": null,
            "max_width": null,
            "min_height": null,
            "min_width": null,
            "object_fit": null,
            "object_position": null,
            "order": null,
            "overflow": null,
            "overflow_x": null,
            "overflow_y": null,
            "padding": null,
            "right": null,
            "top": null,
            "visibility": null,
            "width": null
          }
        },
        "f026fc589f624a6489e8f47ae1f6a0db": {
          "model_module": "@jupyter-widgets/output",
          "model_name": "OutputModel",
          "model_module_version": "1.0.0",
          "state": {
            "_dom_classes": [],
            "_model_module": "@jupyter-widgets/output",
            "_model_module_version": "1.0.0",
            "_model_name": "OutputModel",
            "_view_count": null,
            "_view_module": "@jupyter-widgets/output",
            "_view_module_version": "1.0.0",
            "_view_name": "OutputView",
            "layout": "IPY_MODEL_3e65cc93f1db43068a976b72b869ed0b",
            "msg_id": "",
            "outputs": [
              {
                "output_type": "display_data",
                "data": {
                  "text/plain": "PDF/A conversion      \u001b[38;2;114;156;31m━━━━━━━━━━━━━━━━━━━━━━━━━━━━━━━━━━━━━━━━\u001b[0m \u001b[35m100%\u001b[0m \u001b[32m2/2\u001b[0m \u001b[36m0:00:00\u001b[0m\n",
                  "text/html": "<pre style=\"white-space:pre;overflow-x:auto;line-height:normal;font-family:Menlo,'DejaVu Sans Mono',consolas,'Courier New',monospace\">PDF/A conversion      <span style=\"color: #729c1f; text-decoration-color: #729c1f\">━━━━━━━━━━━━━━━━━━━━━━━━━━━━━━━━━━━━━━━━</span> <span style=\"color: #800080; text-decoration-color: #800080\">100%</span> <span style=\"color: #008000; text-decoration-color: #008000\">2/2</span> <span style=\"color: #008080; text-decoration-color: #008080\">0:00:00</span>\n</pre>\n"
                },
                "metadata": {}
              }
            ]
          }
        },
        "3e65cc93f1db43068a976b72b869ed0b": {
          "model_module": "@jupyter-widgets/base",
          "model_name": "LayoutModel",
          "model_module_version": "1.2.0",
          "state": {
            "_model_module": "@jupyter-widgets/base",
            "_model_module_version": "1.2.0",
            "_model_name": "LayoutModel",
            "_view_count": null,
            "_view_module": "@jupyter-widgets/base",
            "_view_module_version": "1.2.0",
            "_view_name": "LayoutView",
            "align_content": null,
            "align_items": null,
            "align_self": null,
            "border": null,
            "bottom": null,
            "display": null,
            "flex": null,
            "flex_flow": null,
            "grid_area": null,
            "grid_auto_columns": null,
            "grid_auto_flow": null,
            "grid_auto_rows": null,
            "grid_column": null,
            "grid_gap": null,
            "grid_row": null,
            "grid_template_areas": null,
            "grid_template_columns": null,
            "grid_template_rows": null,
            "height": null,
            "justify_content": null,
            "justify_items": null,
            "left": null,
            "margin": null,
            "max_height": null,
            "max_width": null,
            "min_height": null,
            "min_width": null,
            "object_fit": null,
            "object_position": null,
            "order": null,
            "overflow": null,
            "overflow_x": null,
            "overflow_y": null,
            "padding": null,
            "right": null,
            "top": null,
            "visibility": null,
            "width": null
          }
        },
        "319acfd27f84417aa7c9d10372eab2ce": {
          "model_module": "@jupyter-widgets/output",
          "model_name": "OutputModel",
          "model_module_version": "1.0.0",
          "state": {
            "_dom_classes": [],
            "_model_module": "@jupyter-widgets/output",
            "_model_module_version": "1.0.0",
            "_model_name": "OutputModel",
            "_view_count": null,
            "_view_module": "@jupyter-widgets/output",
            "_view_module_version": "1.0.0",
            "_view_name": "OutputView",
            "layout": "IPY_MODEL_d09ef3b1f3d74f85829a40f9e642ad8f",
            "msg_id": "",
            "outputs": [
              {
                "output_type": "display_data",
                "data": {
                  "text/plain": "Linearizing           \u001b[38;2;114;156;31m━━━━━━━━━━━━━━━━━━━━━━━━━━━━━━━━━━━━━━━━\u001b[0m \u001b[35m100%\u001b[0m \u001b[32m100/100\u001b[0m \u001b[36m0:00:00\u001b[0m\n",
                  "text/html": "<pre style=\"white-space:pre;overflow-x:auto;line-height:normal;font-family:Menlo,'DejaVu Sans Mono',consolas,'Courier New',monospace\">Linearizing           <span style=\"color: #729c1f; text-decoration-color: #729c1f\">━━━━━━━━━━━━━━━━━━━━━━━━━━━━━━━━━━━━━━━━</span> <span style=\"color: #800080; text-decoration-color: #800080\">100%</span> <span style=\"color: #008000; text-decoration-color: #008000\">100/100</span> <span style=\"color: #008080; text-decoration-color: #008080\">0:00:00</span>\n</pre>\n"
                },
                "metadata": {}
              }
            ]
          }
        },
        "d09ef3b1f3d74f85829a40f9e642ad8f": {
          "model_module": "@jupyter-widgets/base",
          "model_name": "LayoutModel",
          "model_module_version": "1.2.0",
          "state": {
            "_model_module": "@jupyter-widgets/base",
            "_model_module_version": "1.2.0",
            "_model_name": "LayoutModel",
            "_view_count": null,
            "_view_module": "@jupyter-widgets/base",
            "_view_module_version": "1.2.0",
            "_view_name": "LayoutView",
            "align_content": null,
            "align_items": null,
            "align_self": null,
            "border": null,
            "bottom": null,
            "display": null,
            "flex": null,
            "flex_flow": null,
            "grid_area": null,
            "grid_auto_columns": null,
            "grid_auto_flow": null,
            "grid_auto_rows": null,
            "grid_column": null,
            "grid_gap": null,
            "grid_row": null,
            "grid_template_areas": null,
            "grid_template_columns": null,
            "grid_template_rows": null,
            "height": null,
            "justify_content": null,
            "justify_items": null,
            "left": null,
            "margin": null,
            "max_height": null,
            "max_width": null,
            "min_height": null,
            "min_width": null,
            "object_fit": null,
            "object_position": null,
            "order": null,
            "overflow": null,
            "overflow_x": null,
            "overflow_y": null,
            "padding": null,
            "right": null,
            "top": null,
            "visibility": null,
            "width": null
          }
        },
        "50a4752590954405b463160dcc206922": {
          "model_module": "@jupyter-widgets/output",
          "model_name": "OutputModel",
          "model_module_version": "1.0.0",
          "state": {
            "_dom_classes": [],
            "_model_module": "@jupyter-widgets/output",
            "_model_module_version": "1.0.0",
            "_model_name": "OutputModel",
            "_view_count": null,
            "_view_module": "@jupyter-widgets/output",
            "_view_module_version": "1.0.0",
            "_view_name": "OutputView",
            "layout": "IPY_MODEL_564f3f6afde44e909a4586299043cab3",
            "msg_id": "",
            "outputs": [
              {
                "output_type": "display_data",
                "data": {
                  "text/plain": "Recompressing JPEGs   \u001b[38;2;114;156;31m━━━━━━━━━━━━━━━━━━━━━━━━━━━━━━━━━━━━━━━━\u001b[0m \u001b[35m  0%\u001b[0m \u001b[32m0/0\u001b[0m \u001b[36m-:--:--\u001b[0m\n",
                  "text/html": "<pre style=\"white-space:pre;overflow-x:auto;line-height:normal;font-family:Menlo,'DejaVu Sans Mono',consolas,'Courier New',monospace\">Recompressing JPEGs   <span style=\"color: #729c1f; text-decoration-color: #729c1f\">━━━━━━━━━━━━━━━━━━━━━━━━━━━━━━━━━━━━━━━━</span> <span style=\"color: #800080; text-decoration-color: #800080\">  0%</span> <span style=\"color: #008000; text-decoration-color: #008000\">0/0</span> <span style=\"color: #008080; text-decoration-color: #008080\">-:--:--</span>\n</pre>\n"
                },
                "metadata": {}
              }
            ]
          }
        },
        "564f3f6afde44e909a4586299043cab3": {
          "model_module": "@jupyter-widgets/base",
          "model_name": "LayoutModel",
          "model_module_version": "1.2.0",
          "state": {
            "_model_module": "@jupyter-widgets/base",
            "_model_module_version": "1.2.0",
            "_model_name": "LayoutModel",
            "_view_count": null,
            "_view_module": "@jupyter-widgets/base",
            "_view_module_version": "1.2.0",
            "_view_name": "LayoutView",
            "align_content": null,
            "align_items": null,
            "align_self": null,
            "border": null,
            "bottom": null,
            "display": null,
            "flex": null,
            "flex_flow": null,
            "grid_area": null,
            "grid_auto_columns": null,
            "grid_auto_flow": null,
            "grid_auto_rows": null,
            "grid_column": null,
            "grid_gap": null,
            "grid_row": null,
            "grid_template_areas": null,
            "grid_template_columns": null,
            "grid_template_rows": null,
            "height": null,
            "justify_content": null,
            "justify_items": null,
            "left": null,
            "margin": null,
            "max_height": null,
            "max_width": null,
            "min_height": null,
            "min_width": null,
            "object_fit": null,
            "object_position": null,
            "order": null,
            "overflow": null,
            "overflow_x": null,
            "overflow_y": null,
            "padding": null,
            "right": null,
            "top": null,
            "visibility": null,
            "width": null
          }
        },
        "a862532370fb41d781f3f9cadf0ad912": {
          "model_module": "@jupyter-widgets/output",
          "model_name": "OutputModel",
          "model_module_version": "1.0.0",
          "state": {
            "_dom_classes": [],
            "_model_module": "@jupyter-widgets/output",
            "_model_module_version": "1.0.0",
            "_model_name": "OutputModel",
            "_view_count": null,
            "_view_module": "@jupyter-widgets/output",
            "_view_module_version": "1.0.0",
            "_view_name": "OutputView",
            "layout": "IPY_MODEL_c38a6070006c4135afcbdf026d991afe",
            "msg_id": "",
            "outputs": [
              {
                "output_type": "display_data",
                "data": {
                  "text/plain": "Deflating JPEGs       \u001b[38;2;114;156;31m━━━━━━━━━━━━━━━━━━━━━━━━━━━━━━━━━━━━━━━━\u001b[0m \u001b[35m100%\u001b[0m \u001b[32m2/2\u001b[0m \u001b[36m0:00:00\u001b[0m\n",
                  "text/html": "<pre style=\"white-space:pre;overflow-x:auto;line-height:normal;font-family:Menlo,'DejaVu Sans Mono',consolas,'Courier New',monospace\">Deflating JPEGs       <span style=\"color: #729c1f; text-decoration-color: #729c1f\">━━━━━━━━━━━━━━━━━━━━━━━━━━━━━━━━━━━━━━━━</span> <span style=\"color: #800080; text-decoration-color: #800080\">100%</span> <span style=\"color: #008000; text-decoration-color: #008000\">2/2</span> <span style=\"color: #008080; text-decoration-color: #008080\">0:00:00</span>\n</pre>\n"
                },
                "metadata": {}
              }
            ]
          }
        },
        "c38a6070006c4135afcbdf026d991afe": {
          "model_module": "@jupyter-widgets/base",
          "model_name": "LayoutModel",
          "model_module_version": "1.2.0",
          "state": {
            "_model_module": "@jupyter-widgets/base",
            "_model_module_version": "1.2.0",
            "_model_name": "LayoutModel",
            "_view_count": null,
            "_view_module": "@jupyter-widgets/base",
            "_view_module_version": "1.2.0",
            "_view_name": "LayoutView",
            "align_content": null,
            "align_items": null,
            "align_self": null,
            "border": null,
            "bottom": null,
            "display": null,
            "flex": null,
            "flex_flow": null,
            "grid_area": null,
            "grid_auto_columns": null,
            "grid_auto_flow": null,
            "grid_auto_rows": null,
            "grid_column": null,
            "grid_gap": null,
            "grid_row": null,
            "grid_template_areas": null,
            "grid_template_columns": null,
            "grid_template_rows": null,
            "height": null,
            "justify_content": null,
            "justify_items": null,
            "left": null,
            "margin": null,
            "max_height": null,
            "max_width": null,
            "min_height": null,
            "min_width": null,
            "object_fit": null,
            "object_position": null,
            "order": null,
            "overflow": null,
            "overflow_x": null,
            "overflow_y": null,
            "padding": null,
            "right": null,
            "top": null,
            "visibility": null,
            "width": null
          }
        },
        "e718756bdfed4f12a5627aae40f91960": {
          "model_module": "@jupyter-widgets/output",
          "model_name": "OutputModel",
          "model_module_version": "1.0.0",
          "state": {
            "_dom_classes": [],
            "_model_module": "@jupyter-widgets/output",
            "_model_module_version": "1.0.0",
            "_model_name": "OutputModel",
            "_view_count": null,
            "_view_module": "@jupyter-widgets/output",
            "_view_module_version": "1.0.0",
            "_view_name": "OutputView",
            "layout": "IPY_MODEL_415e557c0a704f49936450f9a4656bcd",
            "msg_id": "",
            "outputs": [
              {
                "output_type": "display_data",
                "data": {
                  "text/plain": "JBIG2                 \u001b[38;2;114;156;31m━━━━━━━━━━━━━━━━━━━━━━━━━━━━━━━━━━━━━━━━\u001b[0m \u001b[35m  0%\u001b[0m \u001b[32m0/0\u001b[0m \u001b[36m-:--:--\u001b[0m\n",
                  "text/html": "<pre style=\"white-space:pre;overflow-x:auto;line-height:normal;font-family:Menlo,'DejaVu Sans Mono',consolas,'Courier New',monospace\">JBIG2                 <span style=\"color: #729c1f; text-decoration-color: #729c1f\">━━━━━━━━━━━━━━━━━━━━━━━━━━━━━━━━━━━━━━━━</span> <span style=\"color: #800080; text-decoration-color: #800080\">  0%</span> <span style=\"color: #008000; text-decoration-color: #008000\">0/0</span> <span style=\"color: #008080; text-decoration-color: #008080\">-:--:--</span>\n</pre>\n"
                },
                "metadata": {}
              }
            ]
          }
        },
        "415e557c0a704f49936450f9a4656bcd": {
          "model_module": "@jupyter-widgets/base",
          "model_name": "LayoutModel",
          "model_module_version": "1.2.0",
          "state": {
            "_model_module": "@jupyter-widgets/base",
            "_model_module_version": "1.2.0",
            "_model_name": "LayoutModel",
            "_view_count": null,
            "_view_module": "@jupyter-widgets/base",
            "_view_module_version": "1.2.0",
            "_view_name": "LayoutView",
            "align_content": null,
            "align_items": null,
            "align_self": null,
            "border": null,
            "bottom": null,
            "display": null,
            "flex": null,
            "flex_flow": null,
            "grid_area": null,
            "grid_auto_columns": null,
            "grid_auto_flow": null,
            "grid_auto_rows": null,
            "grid_column": null,
            "grid_gap": null,
            "grid_row": null,
            "grid_template_areas": null,
            "grid_template_columns": null,
            "grid_template_rows": null,
            "height": null,
            "justify_content": null,
            "justify_items": null,
            "left": null,
            "margin": null,
            "max_height": null,
            "max_width": null,
            "min_height": null,
            "min_width": null,
            "object_fit": null,
            "object_position": null,
            "order": null,
            "overflow": null,
            "overflow_x": null,
            "overflow_y": null,
            "padding": null,
            "right": null,
            "top": null,
            "visibility": null,
            "width": null
          }
        },
        "88a52343208f49c0b1ff1f993a7b35e1": {
          "model_module": "@jupyter-widgets/output",
          "model_name": "OutputModel",
          "model_module_version": "1.0.0",
          "state": {
            "_dom_classes": [],
            "_model_module": "@jupyter-widgets/output",
            "_model_module_version": "1.0.0",
            "_model_name": "OutputModel",
            "_view_count": null,
            "_view_module": "@jupyter-widgets/output",
            "_view_module_version": "1.0.0",
            "_view_name": "OutputView",
            "layout": "IPY_MODEL_e8a62b72c5de41e3a502f3eade536e82",
            "msg_id": "",
            "outputs": [
              {
                "output_type": "display_data",
                "data": {
                  "text/plain": "Scanning contents     \u001b[38;2;114;156;31m━━━━━━━━━━━━━━━━━━━━━━━━━━━━━━━━━━━━━━━━\u001b[0m \u001b[35m100%\u001b[0m \u001b[32m1/1\u001b[0m \u001b[36m0:00:00\u001b[0m\n",
                  "text/html": "<pre style=\"white-space:pre;overflow-x:auto;line-height:normal;font-family:Menlo,'DejaVu Sans Mono',consolas,'Courier New',monospace\">Scanning contents     <span style=\"color: #729c1f; text-decoration-color: #729c1f\">━━━━━━━━━━━━━━━━━━━━━━━━━━━━━━━━━━━━━━━━</span> <span style=\"color: #800080; text-decoration-color: #800080\">100%</span> <span style=\"color: #008000; text-decoration-color: #008000\">1/1</span> <span style=\"color: #008080; text-decoration-color: #008080\">0:00:00</span>\n</pre>\n"
                },
                "metadata": {}
              }
            ]
          }
        },
        "e8a62b72c5de41e3a502f3eade536e82": {
          "model_module": "@jupyter-widgets/base",
          "model_name": "LayoutModel",
          "model_module_version": "1.2.0",
          "state": {
            "_model_module": "@jupyter-widgets/base",
            "_model_module_version": "1.2.0",
            "_model_name": "LayoutModel",
            "_view_count": null,
            "_view_module": "@jupyter-widgets/base",
            "_view_module_version": "1.2.0",
            "_view_name": "LayoutView",
            "align_content": null,
            "align_items": null,
            "align_self": null,
            "border": null,
            "bottom": null,
            "display": null,
            "flex": null,
            "flex_flow": null,
            "grid_area": null,
            "grid_auto_columns": null,
            "grid_auto_flow": null,
            "grid_auto_rows": null,
            "grid_column": null,
            "grid_gap": null,
            "grid_row": null,
            "grid_template_areas": null,
            "grid_template_columns": null,
            "grid_template_rows": null,
            "height": null,
            "justify_content": null,
            "justify_items": null,
            "left": null,
            "margin": null,
            "max_height": null,
            "max_width": null,
            "min_height": null,
            "min_width": null,
            "object_fit": null,
            "object_position": null,
            "order": null,
            "overflow": null,
            "overflow_x": null,
            "overflow_y": null,
            "padding": null,
            "right": null,
            "top": null,
            "visibility": null,
            "width": null
          }
        },
        "35c73ff4143c4c909375658b28faecd2": {
          "model_module": "@jupyter-widgets/output",
          "model_name": "OutputModel",
          "model_module_version": "1.0.0",
          "state": {
            "_dom_classes": [],
            "_model_module": "@jupyter-widgets/output",
            "_model_module_version": "1.0.0",
            "_model_name": "OutputModel",
            "_view_count": null,
            "_view_module": "@jupyter-widgets/output",
            "_view_module_version": "1.0.0",
            "_view_name": "OutputView",
            "layout": "IPY_MODEL_bc24680e5699411983fbd027fccecc05",
            "msg_id": "",
            "outputs": [
              {
                "output_type": "display_data",
                "data": {
                  "text/plain": "OCR                   \u001b[38;2;114;156;31m━━━━━━━━━━━━━━━━━━━━━━━━━━━━━━━━━━━━━━━━\u001b[0m \u001b[35m100%\u001b[0m \u001b[32m1/1\u001b[0m \u001b[36m0:00:00\u001b[0m\n",
                  "text/html": "<pre style=\"white-space:pre;overflow-x:auto;line-height:normal;font-family:Menlo,'DejaVu Sans Mono',consolas,'Courier New',monospace\">OCR                   <span style=\"color: #729c1f; text-decoration-color: #729c1f\">━━━━━━━━━━━━━━━━━━━━━━━━━━━━━━━━━━━━━━━━</span> <span style=\"color: #800080; text-decoration-color: #800080\">100%</span> <span style=\"color: #008000; text-decoration-color: #008000\">1/1</span> <span style=\"color: #008080; text-decoration-color: #008080\">0:00:00</span>\n</pre>\n"
                },
                "metadata": {}
              }
            ]
          }
        },
        "bc24680e5699411983fbd027fccecc05": {
          "model_module": "@jupyter-widgets/base",
          "model_name": "LayoutModel",
          "model_module_version": "1.2.0",
          "state": {
            "_model_module": "@jupyter-widgets/base",
            "_model_module_version": "1.2.0",
            "_model_name": "LayoutModel",
            "_view_count": null,
            "_view_module": "@jupyter-widgets/base",
            "_view_module_version": "1.2.0",
            "_view_name": "LayoutView",
            "align_content": null,
            "align_items": null,
            "align_self": null,
            "border": null,
            "bottom": null,
            "display": null,
            "flex": null,
            "flex_flow": null,
            "grid_area": null,
            "grid_auto_columns": null,
            "grid_auto_flow": null,
            "grid_auto_rows": null,
            "grid_column": null,
            "grid_gap": null,
            "grid_row": null,
            "grid_template_areas": null,
            "grid_template_columns": null,
            "grid_template_rows": null,
            "height": null,
            "justify_content": null,
            "justify_items": null,
            "left": null,
            "margin": null,
            "max_height": null,
            "max_width": null,
            "min_height": null,
            "min_width": null,
            "object_fit": null,
            "object_position": null,
            "order": null,
            "overflow": null,
            "overflow_x": null,
            "overflow_y": null,
            "padding": null,
            "right": null,
            "top": null,
            "visibility": null,
            "width": null
          }
        },
        "dfa4eebf55fc40cd9b47a6b8c5b105f0": {
          "model_module": "@jupyter-widgets/output",
          "model_name": "OutputModel",
          "model_module_version": "1.0.0",
          "state": {
            "_dom_classes": [],
            "_model_module": "@jupyter-widgets/output",
            "_model_module_version": "1.0.0",
            "_model_name": "OutputModel",
            "_view_count": null,
            "_view_module": "@jupyter-widgets/output",
            "_view_module_version": "1.0.0",
            "_view_name": "OutputView",
            "layout": "IPY_MODEL_3de1db4c6ba04258994b815e76376a5d",
            "msg_id": "",
            "outputs": [
              {
                "output_type": "display_data",
                "data": {
                  "text/plain": "PDF/A conversion      \u001b[38;2;114;156;31m━━━━━━━━━━━━━━━━━━━━━━━━━━━━━━━━━━━━━━━━\u001b[0m \u001b[35m100%\u001b[0m \u001b[32m1/1\u001b[0m \u001b[36m0:00:00\u001b[0m\n",
                  "text/html": "<pre style=\"white-space:pre;overflow-x:auto;line-height:normal;font-family:Menlo,'DejaVu Sans Mono',consolas,'Courier New',monospace\">PDF/A conversion      <span style=\"color: #729c1f; text-decoration-color: #729c1f\">━━━━━━━━━━━━━━━━━━━━━━━━━━━━━━━━━━━━━━━━</span> <span style=\"color: #800080; text-decoration-color: #800080\">100%</span> <span style=\"color: #008000; text-decoration-color: #008000\">1/1</span> <span style=\"color: #008080; text-decoration-color: #008080\">0:00:00</span>\n</pre>\n"
                },
                "metadata": {}
              }
            ]
          }
        },
        "3de1db4c6ba04258994b815e76376a5d": {
          "model_module": "@jupyter-widgets/base",
          "model_name": "LayoutModel",
          "model_module_version": "1.2.0",
          "state": {
            "_model_module": "@jupyter-widgets/base",
            "_model_module_version": "1.2.0",
            "_model_name": "LayoutModel",
            "_view_count": null,
            "_view_module": "@jupyter-widgets/base",
            "_view_module_version": "1.2.0",
            "_view_name": "LayoutView",
            "align_content": null,
            "align_items": null,
            "align_self": null,
            "border": null,
            "bottom": null,
            "display": null,
            "flex": null,
            "flex_flow": null,
            "grid_area": null,
            "grid_auto_columns": null,
            "grid_auto_flow": null,
            "grid_auto_rows": null,
            "grid_column": null,
            "grid_gap": null,
            "grid_row": null,
            "grid_template_areas": null,
            "grid_template_columns": null,
            "grid_template_rows": null,
            "height": null,
            "justify_content": null,
            "justify_items": null,
            "left": null,
            "margin": null,
            "max_height": null,
            "max_width": null,
            "min_height": null,
            "min_width": null,
            "object_fit": null,
            "object_position": null,
            "order": null,
            "overflow": null,
            "overflow_x": null,
            "overflow_y": null,
            "padding": null,
            "right": null,
            "top": null,
            "visibility": null,
            "width": null
          }
        },
        "cb9ee1d9d73e490ab0de10b7f8ca48a3": {
          "model_module": "@jupyter-widgets/output",
          "model_name": "OutputModel",
          "model_module_version": "1.0.0",
          "state": {
            "_dom_classes": [],
            "_model_module": "@jupyter-widgets/output",
            "_model_module_version": "1.0.0",
            "_model_name": "OutputModel",
            "_view_count": null,
            "_view_module": "@jupyter-widgets/output",
            "_view_module_version": "1.0.0",
            "_view_name": "OutputView",
            "layout": "IPY_MODEL_8189612306ae4e5ea54b7570e2a25571",
            "msg_id": "",
            "outputs": [
              {
                "output_type": "display_data",
                "data": {
                  "text/plain": "Linearizing           \u001b[38;2;114;156;31m━━━━━━━━━━━━━━━━━━━━━━━━━━━━━━━━━━━━━━━━\u001b[0m \u001b[35m100%\u001b[0m \u001b[32m100/100\u001b[0m \u001b[36m0:00:00\u001b[0m\n",
                  "text/html": "<pre style=\"white-space:pre;overflow-x:auto;line-height:normal;font-family:Menlo,'DejaVu Sans Mono',consolas,'Courier New',monospace\">Linearizing           <span style=\"color: #729c1f; text-decoration-color: #729c1f\">━━━━━━━━━━━━━━━━━━━━━━━━━━━━━━━━━━━━━━━━</span> <span style=\"color: #800080; text-decoration-color: #800080\">100%</span> <span style=\"color: #008000; text-decoration-color: #008000\">100/100</span> <span style=\"color: #008080; text-decoration-color: #008080\">0:00:00</span>\n</pre>\n"
                },
                "metadata": {}
              }
            ]
          }
        },
        "8189612306ae4e5ea54b7570e2a25571": {
          "model_module": "@jupyter-widgets/base",
          "model_name": "LayoutModel",
          "model_module_version": "1.2.0",
          "state": {
            "_model_module": "@jupyter-widgets/base",
            "_model_module_version": "1.2.0",
            "_model_name": "LayoutModel",
            "_view_count": null,
            "_view_module": "@jupyter-widgets/base",
            "_view_module_version": "1.2.0",
            "_view_name": "LayoutView",
            "align_content": null,
            "align_items": null,
            "align_self": null,
            "border": null,
            "bottom": null,
            "display": null,
            "flex": null,
            "flex_flow": null,
            "grid_area": null,
            "grid_auto_columns": null,
            "grid_auto_flow": null,
            "grid_auto_rows": null,
            "grid_column": null,
            "grid_gap": null,
            "grid_row": null,
            "grid_template_areas": null,
            "grid_template_columns": null,
            "grid_template_rows": null,
            "height": null,
            "justify_content": null,
            "justify_items": null,
            "left": null,
            "margin": null,
            "max_height": null,
            "max_width": null,
            "min_height": null,
            "min_width": null,
            "object_fit": null,
            "object_position": null,
            "order": null,
            "overflow": null,
            "overflow_x": null,
            "overflow_y": null,
            "padding": null,
            "right": null,
            "top": null,
            "visibility": null,
            "width": null
          }
        },
        "9c3fb9559e3e4e30b4cf947f6910b12b": {
          "model_module": "@jupyter-widgets/output",
          "model_name": "OutputModel",
          "model_module_version": "1.0.0",
          "state": {
            "_dom_classes": [],
            "_model_module": "@jupyter-widgets/output",
            "_model_module_version": "1.0.0",
            "_model_name": "OutputModel",
            "_view_count": null,
            "_view_module": "@jupyter-widgets/output",
            "_view_module_version": "1.0.0",
            "_view_name": "OutputView",
            "layout": "IPY_MODEL_c4a9ba30b29945a2bdc09d62b0d368d8",
            "msg_id": "",
            "outputs": [
              {
                "output_type": "display_data",
                "data": {
                  "text/plain": "Recompressing JPEGs   \u001b[38;2;114;156;31m━━━━━━━━━━━━━━━━━━━━━━━━━━━━━━━━━━━━━━━━\u001b[0m \u001b[35m  0%\u001b[0m \u001b[32m0/0\u001b[0m \u001b[36m-:--:--\u001b[0m\n",
                  "text/html": "<pre style=\"white-space:pre;overflow-x:auto;line-height:normal;font-family:Menlo,'DejaVu Sans Mono',consolas,'Courier New',monospace\">Recompressing JPEGs   <span style=\"color: #729c1f; text-decoration-color: #729c1f\">━━━━━━━━━━━━━━━━━━━━━━━━━━━━━━━━━━━━━━━━</span> <span style=\"color: #800080; text-decoration-color: #800080\">  0%</span> <span style=\"color: #008000; text-decoration-color: #008000\">0/0</span> <span style=\"color: #008080; text-decoration-color: #008080\">-:--:--</span>\n</pre>\n"
                },
                "metadata": {}
              }
            ]
          }
        },
        "c4a9ba30b29945a2bdc09d62b0d368d8": {
          "model_module": "@jupyter-widgets/base",
          "model_name": "LayoutModel",
          "model_module_version": "1.2.0",
          "state": {
            "_model_module": "@jupyter-widgets/base",
            "_model_module_version": "1.2.0",
            "_model_name": "LayoutModel",
            "_view_count": null,
            "_view_module": "@jupyter-widgets/base",
            "_view_module_version": "1.2.0",
            "_view_name": "LayoutView",
            "align_content": null,
            "align_items": null,
            "align_self": null,
            "border": null,
            "bottom": null,
            "display": null,
            "flex": null,
            "flex_flow": null,
            "grid_area": null,
            "grid_auto_columns": null,
            "grid_auto_flow": null,
            "grid_auto_rows": null,
            "grid_column": null,
            "grid_gap": null,
            "grid_row": null,
            "grid_template_areas": null,
            "grid_template_columns": null,
            "grid_template_rows": null,
            "height": null,
            "justify_content": null,
            "justify_items": null,
            "left": null,
            "margin": null,
            "max_height": null,
            "max_width": null,
            "min_height": null,
            "min_width": null,
            "object_fit": null,
            "object_position": null,
            "order": null,
            "overflow": null,
            "overflow_x": null,
            "overflow_y": null,
            "padding": null,
            "right": null,
            "top": null,
            "visibility": null,
            "width": null
          }
        },
        "da60af0ba52942f48bee50f8df1fba2b": {
          "model_module": "@jupyter-widgets/output",
          "model_name": "OutputModel",
          "model_module_version": "1.0.0",
          "state": {
            "_dom_classes": [],
            "_model_module": "@jupyter-widgets/output",
            "_model_module_version": "1.0.0",
            "_model_name": "OutputModel",
            "_view_count": null,
            "_view_module": "@jupyter-widgets/output",
            "_view_module_version": "1.0.0",
            "_view_name": "OutputView",
            "layout": "IPY_MODEL_c1a5c70b5e314a6b8714ab6b94d2dc4b",
            "msg_id": "",
            "outputs": [
              {
                "output_type": "display_data",
                "data": {
                  "text/plain": "Deflating JPEGs       \u001b[38;2;114;156;31m━━━━━━━━━━━━━━━━━━━━━━━━━━━━━━━━━━━━━━━━\u001b[0m \u001b[35m  0%\u001b[0m \u001b[32m0/0\u001b[0m \u001b[36m-:--:--\u001b[0m\n",
                  "text/html": "<pre style=\"white-space:pre;overflow-x:auto;line-height:normal;font-family:Menlo,'DejaVu Sans Mono',consolas,'Courier New',monospace\">Deflating JPEGs       <span style=\"color: #729c1f; text-decoration-color: #729c1f\">━━━━━━━━━━━━━━━━━━━━━━━━━━━━━━━━━━━━━━━━</span> <span style=\"color: #800080; text-decoration-color: #800080\">  0%</span> <span style=\"color: #008000; text-decoration-color: #008000\">0/0</span> <span style=\"color: #008080; text-decoration-color: #008080\">-:--:--</span>\n</pre>\n"
                },
                "metadata": {}
              }
            ]
          }
        },
        "c1a5c70b5e314a6b8714ab6b94d2dc4b": {
          "model_module": "@jupyter-widgets/base",
          "model_name": "LayoutModel",
          "model_module_version": "1.2.0",
          "state": {
            "_model_module": "@jupyter-widgets/base",
            "_model_module_version": "1.2.0",
            "_model_name": "LayoutModel",
            "_view_count": null,
            "_view_module": "@jupyter-widgets/base",
            "_view_module_version": "1.2.0",
            "_view_name": "LayoutView",
            "align_content": null,
            "align_items": null,
            "align_self": null,
            "border": null,
            "bottom": null,
            "display": null,
            "flex": null,
            "flex_flow": null,
            "grid_area": null,
            "grid_auto_columns": null,
            "grid_auto_flow": null,
            "grid_auto_rows": null,
            "grid_column": null,
            "grid_gap": null,
            "grid_row": null,
            "grid_template_areas": null,
            "grid_template_columns": null,
            "grid_template_rows": null,
            "height": null,
            "justify_content": null,
            "justify_items": null,
            "left": null,
            "margin": null,
            "max_height": null,
            "max_width": null,
            "min_height": null,
            "min_width": null,
            "object_fit": null,
            "object_position": null,
            "order": null,
            "overflow": null,
            "overflow_x": null,
            "overflow_y": null,
            "padding": null,
            "right": null,
            "top": null,
            "visibility": null,
            "width": null
          }
        },
        "5f6928c7785e4df380672ab4f4a24576": {
          "model_module": "@jupyter-widgets/output",
          "model_name": "OutputModel",
          "model_module_version": "1.0.0",
          "state": {
            "_dom_classes": [],
            "_model_module": "@jupyter-widgets/output",
            "_model_module_version": "1.0.0",
            "_model_name": "OutputModel",
            "_view_count": null,
            "_view_module": "@jupyter-widgets/output",
            "_view_module_version": "1.0.0",
            "_view_name": "OutputView",
            "layout": "IPY_MODEL_76fa91828035412c9f57ad7213508a00",
            "msg_id": "",
            "outputs": [
              {
                "output_type": "display_data",
                "data": {
                  "text/plain": "JBIG2                 \u001b[38;2;114;156;31m━━━━━━━━━━━━━━━━━━━━━━━━━━━━━━━━━━━━━━━━\u001b[0m \u001b[35m  0%\u001b[0m \u001b[32m0/0\u001b[0m \u001b[36m-:--:--\u001b[0m\n",
                  "text/html": "<pre style=\"white-space:pre;overflow-x:auto;line-height:normal;font-family:Menlo,'DejaVu Sans Mono',consolas,'Courier New',monospace\">JBIG2                 <span style=\"color: #729c1f; text-decoration-color: #729c1f\">━━━━━━━━━━━━━━━━━━━━━━━━━━━━━━━━━━━━━━━━</span> <span style=\"color: #800080; text-decoration-color: #800080\">  0%</span> <span style=\"color: #008000; text-decoration-color: #008000\">0/0</span> <span style=\"color: #008080; text-decoration-color: #008080\">-:--:--</span>\n</pre>\n"
                },
                "metadata": {}
              }
            ]
          }
        },
        "76fa91828035412c9f57ad7213508a00": {
          "model_module": "@jupyter-widgets/base",
          "model_name": "LayoutModel",
          "model_module_version": "1.2.0",
          "state": {
            "_model_module": "@jupyter-widgets/base",
            "_model_module_version": "1.2.0",
            "_model_name": "LayoutModel",
            "_view_count": null,
            "_view_module": "@jupyter-widgets/base",
            "_view_module_version": "1.2.0",
            "_view_name": "LayoutView",
            "align_content": null,
            "align_items": null,
            "align_self": null,
            "border": null,
            "bottom": null,
            "display": null,
            "flex": null,
            "flex_flow": null,
            "grid_area": null,
            "grid_auto_columns": null,
            "grid_auto_flow": null,
            "grid_auto_rows": null,
            "grid_column": null,
            "grid_gap": null,
            "grid_row": null,
            "grid_template_areas": null,
            "grid_template_columns": null,
            "grid_template_rows": null,
            "height": null,
            "justify_content": null,
            "justify_items": null,
            "left": null,
            "margin": null,
            "max_height": null,
            "max_width": null,
            "min_height": null,
            "min_width": null,
            "object_fit": null,
            "object_position": null,
            "order": null,
            "overflow": null,
            "overflow_x": null,
            "overflow_y": null,
            "padding": null,
            "right": null,
            "top": null,
            "visibility": null,
            "width": null
          }
        },
        "8f0c9a0ddfb94a31a37ee19b80b760a7": {
          "model_module": "@jupyter-widgets/output",
          "model_name": "OutputModel",
          "model_module_version": "1.0.0",
          "state": {
            "_dom_classes": [],
            "_model_module": "@jupyter-widgets/output",
            "_model_module_version": "1.0.0",
            "_model_name": "OutputModel",
            "_view_count": null,
            "_view_module": "@jupyter-widgets/output",
            "_view_module_version": "1.0.0",
            "_view_name": "OutputView",
            "layout": "IPY_MODEL_6b2e05546d4c48c68a70d2971906d22c",
            "msg_id": "",
            "outputs": [
              {
                "output_type": "display_data",
                "data": {
                  "text/plain": "Scanning contents     \u001b[38;2;114;156;31m━━━━━━━━━━━━━━━━━━━━━━━━━━━━━━━━━━━━━━━━\u001b[0m \u001b[35m100%\u001b[0m \u001b[32m2/2\u001b[0m \u001b[36m0:00:00\u001b[0m\n",
                  "text/html": "<pre style=\"white-space:pre;overflow-x:auto;line-height:normal;font-family:Menlo,'DejaVu Sans Mono',consolas,'Courier New',monospace\">Scanning contents     <span style=\"color: #729c1f; text-decoration-color: #729c1f\">━━━━━━━━━━━━━━━━━━━━━━━━━━━━━━━━━━━━━━━━</span> <span style=\"color: #800080; text-decoration-color: #800080\">100%</span> <span style=\"color: #008000; text-decoration-color: #008000\">2/2</span> <span style=\"color: #008080; text-decoration-color: #008080\">0:00:00</span>\n</pre>\n"
                },
                "metadata": {}
              }
            ]
          }
        },
        "6b2e05546d4c48c68a70d2971906d22c": {
          "model_module": "@jupyter-widgets/base",
          "model_name": "LayoutModel",
          "model_module_version": "1.2.0",
          "state": {
            "_model_module": "@jupyter-widgets/base",
            "_model_module_version": "1.2.0",
            "_model_name": "LayoutModel",
            "_view_count": null,
            "_view_module": "@jupyter-widgets/base",
            "_view_module_version": "1.2.0",
            "_view_name": "LayoutView",
            "align_content": null,
            "align_items": null,
            "align_self": null,
            "border": null,
            "bottom": null,
            "display": null,
            "flex": null,
            "flex_flow": null,
            "grid_area": null,
            "grid_auto_columns": null,
            "grid_auto_flow": null,
            "grid_auto_rows": null,
            "grid_column": null,
            "grid_gap": null,
            "grid_row": null,
            "grid_template_areas": null,
            "grid_template_columns": null,
            "grid_template_rows": null,
            "height": null,
            "justify_content": null,
            "justify_items": null,
            "left": null,
            "margin": null,
            "max_height": null,
            "max_width": null,
            "min_height": null,
            "min_width": null,
            "object_fit": null,
            "object_position": null,
            "order": null,
            "overflow": null,
            "overflow_x": null,
            "overflow_y": null,
            "padding": null,
            "right": null,
            "top": null,
            "visibility": null,
            "width": null
          }
        },
        "256aeb274bd649d9a19b50a04fcc40f7": {
          "model_module": "@jupyter-widgets/output",
          "model_name": "OutputModel",
          "model_module_version": "1.0.0",
          "state": {
            "_dom_classes": [],
            "_model_module": "@jupyter-widgets/output",
            "_model_module_version": "1.0.0",
            "_model_name": "OutputModel",
            "_view_count": null,
            "_view_module": "@jupyter-widgets/output",
            "_view_module_version": "1.0.0",
            "_view_name": "OutputView",
            "layout": "IPY_MODEL_a4a38842b40044768e5fa8d3316c3858",
            "msg_id": "",
            "outputs": [
              {
                "output_type": "display_data",
                "data": {
                  "text/plain": "OCR                   \u001b[38;2;114;156;31m━━━━━━━━━━━━━━━━━━━━━━━━━━━━━━━━━━━━━━━━\u001b[0m \u001b[35m100%\u001b[0m \u001b[32m2/2\u001b[0m \u001b[36m0:00:00\u001b[0m\n",
                  "text/html": "<pre style=\"white-space:pre;overflow-x:auto;line-height:normal;font-family:Menlo,'DejaVu Sans Mono',consolas,'Courier New',monospace\">OCR                   <span style=\"color: #729c1f; text-decoration-color: #729c1f\">━━━━━━━━━━━━━━━━━━━━━━━━━━━━━━━━━━━━━━━━</span> <span style=\"color: #800080; text-decoration-color: #800080\">100%</span> <span style=\"color: #008000; text-decoration-color: #008000\">2/2</span> <span style=\"color: #008080; text-decoration-color: #008080\">0:00:00</span>\n</pre>\n"
                },
                "metadata": {}
              }
            ]
          }
        },
        "a4a38842b40044768e5fa8d3316c3858": {
          "model_module": "@jupyter-widgets/base",
          "model_name": "LayoutModel",
          "model_module_version": "1.2.0",
          "state": {
            "_model_module": "@jupyter-widgets/base",
            "_model_module_version": "1.2.0",
            "_model_name": "LayoutModel",
            "_view_count": null,
            "_view_module": "@jupyter-widgets/base",
            "_view_module_version": "1.2.0",
            "_view_name": "LayoutView",
            "align_content": null,
            "align_items": null,
            "align_self": null,
            "border": null,
            "bottom": null,
            "display": null,
            "flex": null,
            "flex_flow": null,
            "grid_area": null,
            "grid_auto_columns": null,
            "grid_auto_flow": null,
            "grid_auto_rows": null,
            "grid_column": null,
            "grid_gap": null,
            "grid_row": null,
            "grid_template_areas": null,
            "grid_template_columns": null,
            "grid_template_rows": null,
            "height": null,
            "justify_content": null,
            "justify_items": null,
            "left": null,
            "margin": null,
            "max_height": null,
            "max_width": null,
            "min_height": null,
            "min_width": null,
            "object_fit": null,
            "object_position": null,
            "order": null,
            "overflow": null,
            "overflow_x": null,
            "overflow_y": null,
            "padding": null,
            "right": null,
            "top": null,
            "visibility": null,
            "width": null
          }
        },
        "42e28018f25d4676b15621f315dd6c6d": {
          "model_module": "@jupyter-widgets/output",
          "model_name": "OutputModel",
          "model_module_version": "1.0.0",
          "state": {
            "_dom_classes": [],
            "_model_module": "@jupyter-widgets/output",
            "_model_module_version": "1.0.0",
            "_model_name": "OutputModel",
            "_view_count": null,
            "_view_module": "@jupyter-widgets/output",
            "_view_module_version": "1.0.0",
            "_view_name": "OutputView",
            "layout": "IPY_MODEL_f8a01cdab6a5463690a41545710b3dc2",
            "msg_id": "",
            "outputs": [
              {
                "output_type": "display_data",
                "data": {
                  "text/plain": "PDF/A conversion      \u001b[38;2;114;156;31m━━━━━━━━━━━━━━━━━━━━━━━━━━━━━━━━━━━━━━━━\u001b[0m \u001b[35m100%\u001b[0m \u001b[32m2/2\u001b[0m \u001b[36m0:00:00\u001b[0m\n",
                  "text/html": "<pre style=\"white-space:pre;overflow-x:auto;line-height:normal;font-family:Menlo,'DejaVu Sans Mono',consolas,'Courier New',monospace\">PDF/A conversion      <span style=\"color: #729c1f; text-decoration-color: #729c1f\">━━━━━━━━━━━━━━━━━━━━━━━━━━━━━━━━━━━━━━━━</span> <span style=\"color: #800080; text-decoration-color: #800080\">100%</span> <span style=\"color: #008000; text-decoration-color: #008000\">2/2</span> <span style=\"color: #008080; text-decoration-color: #008080\">0:00:00</span>\n</pre>\n"
                },
                "metadata": {}
              }
            ]
          }
        },
        "f8a01cdab6a5463690a41545710b3dc2": {
          "model_module": "@jupyter-widgets/base",
          "model_name": "LayoutModel",
          "model_module_version": "1.2.0",
          "state": {
            "_model_module": "@jupyter-widgets/base",
            "_model_module_version": "1.2.0",
            "_model_name": "LayoutModel",
            "_view_count": null,
            "_view_module": "@jupyter-widgets/base",
            "_view_module_version": "1.2.0",
            "_view_name": "LayoutView",
            "align_content": null,
            "align_items": null,
            "align_self": null,
            "border": null,
            "bottom": null,
            "display": null,
            "flex": null,
            "flex_flow": null,
            "grid_area": null,
            "grid_auto_columns": null,
            "grid_auto_flow": null,
            "grid_auto_rows": null,
            "grid_column": null,
            "grid_gap": null,
            "grid_row": null,
            "grid_template_areas": null,
            "grid_template_columns": null,
            "grid_template_rows": null,
            "height": null,
            "justify_content": null,
            "justify_items": null,
            "left": null,
            "margin": null,
            "max_height": null,
            "max_width": null,
            "min_height": null,
            "min_width": null,
            "object_fit": null,
            "object_position": null,
            "order": null,
            "overflow": null,
            "overflow_x": null,
            "overflow_y": null,
            "padding": null,
            "right": null,
            "top": null,
            "visibility": null,
            "width": null
          }
        },
        "ea36851b1d554ba8a1a515c367624ecd": {
          "model_module": "@jupyter-widgets/output",
          "model_name": "OutputModel",
          "model_module_version": "1.0.0",
          "state": {
            "_dom_classes": [],
            "_model_module": "@jupyter-widgets/output",
            "_model_module_version": "1.0.0",
            "_model_name": "OutputModel",
            "_view_count": null,
            "_view_module": "@jupyter-widgets/output",
            "_view_module_version": "1.0.0",
            "_view_name": "OutputView",
            "layout": "IPY_MODEL_4f116a20de77400a8749070a98682b8b",
            "msg_id": "",
            "outputs": [
              {
                "output_type": "display_data",
                "data": {
                  "text/plain": "Linearizing           \u001b[38;2;114;156;31m━━━━━━━━━━━━━━━━━━━━━━━━━━━━━━━━━━━━━━━━\u001b[0m \u001b[35m100%\u001b[0m \u001b[32m100/100\u001b[0m \u001b[36m0:00:00\u001b[0m\n",
                  "text/html": "<pre style=\"white-space:pre;overflow-x:auto;line-height:normal;font-family:Menlo,'DejaVu Sans Mono',consolas,'Courier New',monospace\">Linearizing           <span style=\"color: #729c1f; text-decoration-color: #729c1f\">━━━━━━━━━━━━━━━━━━━━━━━━━━━━━━━━━━━━━━━━</span> <span style=\"color: #800080; text-decoration-color: #800080\">100%</span> <span style=\"color: #008000; text-decoration-color: #008000\">100/100</span> <span style=\"color: #008080; text-decoration-color: #008080\">0:00:00</span>\n</pre>\n"
                },
                "metadata": {}
              }
            ]
          }
        },
        "4f116a20de77400a8749070a98682b8b": {
          "model_module": "@jupyter-widgets/base",
          "model_name": "LayoutModel",
          "model_module_version": "1.2.0",
          "state": {
            "_model_module": "@jupyter-widgets/base",
            "_model_module_version": "1.2.0",
            "_model_name": "LayoutModel",
            "_view_count": null,
            "_view_module": "@jupyter-widgets/base",
            "_view_module_version": "1.2.0",
            "_view_name": "LayoutView",
            "align_content": null,
            "align_items": null,
            "align_self": null,
            "border": null,
            "bottom": null,
            "display": null,
            "flex": null,
            "flex_flow": null,
            "grid_area": null,
            "grid_auto_columns": null,
            "grid_auto_flow": null,
            "grid_auto_rows": null,
            "grid_column": null,
            "grid_gap": null,
            "grid_row": null,
            "grid_template_areas": null,
            "grid_template_columns": null,
            "grid_template_rows": null,
            "height": null,
            "justify_content": null,
            "justify_items": null,
            "left": null,
            "margin": null,
            "max_height": null,
            "max_width": null,
            "min_height": null,
            "min_width": null,
            "object_fit": null,
            "object_position": null,
            "order": null,
            "overflow": null,
            "overflow_x": null,
            "overflow_y": null,
            "padding": null,
            "right": null,
            "top": null,
            "visibility": null,
            "width": null
          }
        },
        "71b194f7a5d64ff68d21bdd70351c49b": {
          "model_module": "@jupyter-widgets/output",
          "model_name": "OutputModel",
          "model_module_version": "1.0.0",
          "state": {
            "_dom_classes": [],
            "_model_module": "@jupyter-widgets/output",
            "_model_module_version": "1.0.0",
            "_model_name": "OutputModel",
            "_view_count": null,
            "_view_module": "@jupyter-widgets/output",
            "_view_module_version": "1.0.0",
            "_view_name": "OutputView",
            "layout": "IPY_MODEL_87f0f0aa0bc54d39b3041f4ec22f9a88",
            "msg_id": "",
            "outputs": [
              {
                "output_type": "display_data",
                "data": {
                  "text/plain": "Recompressing JPEGs   \u001b[38;2;114;156;31m━━━━━━━━━━━━━━━━━━━━━━━━━━━━━━━━━━━━━━━━\u001b[0m \u001b[35m  0%\u001b[0m \u001b[32m0/0\u001b[0m \u001b[36m-:--:--\u001b[0m\n",
                  "text/html": "<pre style=\"white-space:pre;overflow-x:auto;line-height:normal;font-family:Menlo,'DejaVu Sans Mono',consolas,'Courier New',monospace\">Recompressing JPEGs   <span style=\"color: #729c1f; text-decoration-color: #729c1f\">━━━━━━━━━━━━━━━━━━━━━━━━━━━━━━━━━━━━━━━━</span> <span style=\"color: #800080; text-decoration-color: #800080\">  0%</span> <span style=\"color: #008000; text-decoration-color: #008000\">0/0</span> <span style=\"color: #008080; text-decoration-color: #008080\">-:--:--</span>\n</pre>\n"
                },
                "metadata": {}
              }
            ]
          }
        },
        "87f0f0aa0bc54d39b3041f4ec22f9a88": {
          "model_module": "@jupyter-widgets/base",
          "model_name": "LayoutModel",
          "model_module_version": "1.2.0",
          "state": {
            "_model_module": "@jupyter-widgets/base",
            "_model_module_version": "1.2.0",
            "_model_name": "LayoutModel",
            "_view_count": null,
            "_view_module": "@jupyter-widgets/base",
            "_view_module_version": "1.2.0",
            "_view_name": "LayoutView",
            "align_content": null,
            "align_items": null,
            "align_self": null,
            "border": null,
            "bottom": null,
            "display": null,
            "flex": null,
            "flex_flow": null,
            "grid_area": null,
            "grid_auto_columns": null,
            "grid_auto_flow": null,
            "grid_auto_rows": null,
            "grid_column": null,
            "grid_gap": null,
            "grid_row": null,
            "grid_template_areas": null,
            "grid_template_columns": null,
            "grid_template_rows": null,
            "height": null,
            "justify_content": null,
            "justify_items": null,
            "left": null,
            "margin": null,
            "max_height": null,
            "max_width": null,
            "min_height": null,
            "min_width": null,
            "object_fit": null,
            "object_position": null,
            "order": null,
            "overflow": null,
            "overflow_x": null,
            "overflow_y": null,
            "padding": null,
            "right": null,
            "top": null,
            "visibility": null,
            "width": null
          }
        },
        "192f63ae1afd4dcd9d2c54acf6b6afc5": {
          "model_module": "@jupyter-widgets/output",
          "model_name": "OutputModel",
          "model_module_version": "1.0.0",
          "state": {
            "_dom_classes": [],
            "_model_module": "@jupyter-widgets/output",
            "_model_module_version": "1.0.0",
            "_model_name": "OutputModel",
            "_view_count": null,
            "_view_module": "@jupyter-widgets/output",
            "_view_module_version": "1.0.0",
            "_view_name": "OutputView",
            "layout": "IPY_MODEL_2c8ef862591a41a7bd06355ebdbc5c1d",
            "msg_id": "",
            "outputs": [
              {
                "output_type": "display_data",
                "data": {
                  "text/plain": "Deflating JPEGs       \u001b[38;2;114;156;31m━━━━━━━━━━━━━━━━━━━━━━━━━━━━━━━━━━━━━━━━\u001b[0m \u001b[35m100%\u001b[0m \u001b[32m1/1\u001b[0m \u001b[36m0:00:00\u001b[0m\n",
                  "text/html": "<pre style=\"white-space:pre;overflow-x:auto;line-height:normal;font-family:Menlo,'DejaVu Sans Mono',consolas,'Courier New',monospace\">Deflating JPEGs       <span style=\"color: #729c1f; text-decoration-color: #729c1f\">━━━━━━━━━━━━━━━━━━━━━━━━━━━━━━━━━━━━━━━━</span> <span style=\"color: #800080; text-decoration-color: #800080\">100%</span> <span style=\"color: #008000; text-decoration-color: #008000\">1/1</span> <span style=\"color: #008080; text-decoration-color: #008080\">0:00:00</span>\n</pre>\n"
                },
                "metadata": {}
              }
            ]
          }
        },
        "2c8ef862591a41a7bd06355ebdbc5c1d": {
          "model_module": "@jupyter-widgets/base",
          "model_name": "LayoutModel",
          "model_module_version": "1.2.0",
          "state": {
            "_model_module": "@jupyter-widgets/base",
            "_model_module_version": "1.2.0",
            "_model_name": "LayoutModel",
            "_view_count": null,
            "_view_module": "@jupyter-widgets/base",
            "_view_module_version": "1.2.0",
            "_view_name": "LayoutView",
            "align_content": null,
            "align_items": null,
            "align_self": null,
            "border": null,
            "bottom": null,
            "display": null,
            "flex": null,
            "flex_flow": null,
            "grid_area": null,
            "grid_auto_columns": null,
            "grid_auto_flow": null,
            "grid_auto_rows": null,
            "grid_column": null,
            "grid_gap": null,
            "grid_row": null,
            "grid_template_areas": null,
            "grid_template_columns": null,
            "grid_template_rows": null,
            "height": null,
            "justify_content": null,
            "justify_items": null,
            "left": null,
            "margin": null,
            "max_height": null,
            "max_width": null,
            "min_height": null,
            "min_width": null,
            "object_fit": null,
            "object_position": null,
            "order": null,
            "overflow": null,
            "overflow_x": null,
            "overflow_y": null,
            "padding": null,
            "right": null,
            "top": null,
            "visibility": null,
            "width": null
          }
        },
        "3d85a483e01b4901b45b4b1d774fef6b": {
          "model_module": "@jupyter-widgets/output",
          "model_name": "OutputModel",
          "model_module_version": "1.0.0",
          "state": {
            "_dom_classes": [],
            "_model_module": "@jupyter-widgets/output",
            "_model_module_version": "1.0.0",
            "_model_name": "OutputModel",
            "_view_count": null,
            "_view_module": "@jupyter-widgets/output",
            "_view_module_version": "1.0.0",
            "_view_name": "OutputView",
            "layout": "IPY_MODEL_114745d040d94b699c2e22496b3f4cd4",
            "msg_id": "",
            "outputs": [
              {
                "output_type": "display_data",
                "data": {
                  "text/plain": "JBIG2                 \u001b[38;2;114;156;31m━━━━━━━━━━━━━━━━━━━━━━━━━━━━━━━━━━━━━━━━\u001b[0m \u001b[35m  0%\u001b[0m \u001b[32m0/0\u001b[0m \u001b[36m-:--:--\u001b[0m\n",
                  "text/html": "<pre style=\"white-space:pre;overflow-x:auto;line-height:normal;font-family:Menlo,'DejaVu Sans Mono',consolas,'Courier New',monospace\">JBIG2                 <span style=\"color: #729c1f; text-decoration-color: #729c1f\">━━━━━━━━━━━━━━━━━━━━━━━━━━━━━━━━━━━━━━━━</span> <span style=\"color: #800080; text-decoration-color: #800080\">  0%</span> <span style=\"color: #008000; text-decoration-color: #008000\">0/0</span> <span style=\"color: #008080; text-decoration-color: #008080\">-:--:--</span>\n</pre>\n"
                },
                "metadata": {}
              }
            ]
          }
        },
        "114745d040d94b699c2e22496b3f4cd4": {
          "model_module": "@jupyter-widgets/base",
          "model_name": "LayoutModel",
          "model_module_version": "1.2.0",
          "state": {
            "_model_module": "@jupyter-widgets/base",
            "_model_module_version": "1.2.0",
            "_model_name": "LayoutModel",
            "_view_count": null,
            "_view_module": "@jupyter-widgets/base",
            "_view_module_version": "1.2.0",
            "_view_name": "LayoutView",
            "align_content": null,
            "align_items": null,
            "align_self": null,
            "border": null,
            "bottom": null,
            "display": null,
            "flex": null,
            "flex_flow": null,
            "grid_area": null,
            "grid_auto_columns": null,
            "grid_auto_flow": null,
            "grid_auto_rows": null,
            "grid_column": null,
            "grid_gap": null,
            "grid_row": null,
            "grid_template_areas": null,
            "grid_template_columns": null,
            "grid_template_rows": null,
            "height": null,
            "justify_content": null,
            "justify_items": null,
            "left": null,
            "margin": null,
            "max_height": null,
            "max_width": null,
            "min_height": null,
            "min_width": null,
            "object_fit": null,
            "object_position": null,
            "order": null,
            "overflow": null,
            "overflow_x": null,
            "overflow_y": null,
            "padding": null,
            "right": null,
            "top": null,
            "visibility": null,
            "width": null
          }
        },
        "7e2b395b19804434a61a7812d56ab97c": {
          "model_module": "@jupyter-widgets/output",
          "model_name": "OutputModel",
          "model_module_version": "1.0.0",
          "state": {
            "_dom_classes": [],
            "_model_module": "@jupyter-widgets/output",
            "_model_module_version": "1.0.0",
            "_model_name": "OutputModel",
            "_view_count": null,
            "_view_module": "@jupyter-widgets/output",
            "_view_module_version": "1.0.0",
            "_view_name": "OutputView",
            "layout": "IPY_MODEL_2aacde189e884c858a966ba4775f0ae6",
            "msg_id": "",
            "outputs": [
              {
                "output_type": "display_data",
                "data": {
                  "text/plain": "Scanning contents     \u001b[38;2;114;156;31m━━━━━━━━━━━━━━━━━━━━━━━━━━━━━━━━━━━━━━━━\u001b[0m \u001b[35m100%\u001b[0m \u001b[32m3/3\u001b[0m \u001b[36m0:00:00\u001b[0m\n",
                  "text/html": "<pre style=\"white-space:pre;overflow-x:auto;line-height:normal;font-family:Menlo,'DejaVu Sans Mono',consolas,'Courier New',monospace\">Scanning contents     <span style=\"color: #729c1f; text-decoration-color: #729c1f\">━━━━━━━━━━━━━━━━━━━━━━━━━━━━━━━━━━━━━━━━</span> <span style=\"color: #800080; text-decoration-color: #800080\">100%</span> <span style=\"color: #008000; text-decoration-color: #008000\">3/3</span> <span style=\"color: #008080; text-decoration-color: #008080\">0:00:00</span>\n</pre>\n"
                },
                "metadata": {}
              }
            ]
          }
        },
        "2aacde189e884c858a966ba4775f0ae6": {
          "model_module": "@jupyter-widgets/base",
          "model_name": "LayoutModel",
          "model_module_version": "1.2.0",
          "state": {
            "_model_module": "@jupyter-widgets/base",
            "_model_module_version": "1.2.0",
            "_model_name": "LayoutModel",
            "_view_count": null,
            "_view_module": "@jupyter-widgets/base",
            "_view_module_version": "1.2.0",
            "_view_name": "LayoutView",
            "align_content": null,
            "align_items": null,
            "align_self": null,
            "border": null,
            "bottom": null,
            "display": null,
            "flex": null,
            "flex_flow": null,
            "grid_area": null,
            "grid_auto_columns": null,
            "grid_auto_flow": null,
            "grid_auto_rows": null,
            "grid_column": null,
            "grid_gap": null,
            "grid_row": null,
            "grid_template_areas": null,
            "grid_template_columns": null,
            "grid_template_rows": null,
            "height": null,
            "justify_content": null,
            "justify_items": null,
            "left": null,
            "margin": null,
            "max_height": null,
            "max_width": null,
            "min_height": null,
            "min_width": null,
            "object_fit": null,
            "object_position": null,
            "order": null,
            "overflow": null,
            "overflow_x": null,
            "overflow_y": null,
            "padding": null,
            "right": null,
            "top": null,
            "visibility": null,
            "width": null
          }
        },
        "94e116ac08a54452811a3b51e59a11fe": {
          "model_module": "@jupyter-widgets/output",
          "model_name": "OutputModel",
          "model_module_version": "1.0.0",
          "state": {
            "_dom_classes": [],
            "_model_module": "@jupyter-widgets/output",
            "_model_module_version": "1.0.0",
            "_model_name": "OutputModel",
            "_view_count": null,
            "_view_module": "@jupyter-widgets/output",
            "_view_module_version": "1.0.0",
            "_view_name": "OutputView",
            "layout": "IPY_MODEL_1153edb2ec2e4d7d9f2a1f8095a16972",
            "msg_id": "",
            "outputs": [
              {
                "output_type": "display_data",
                "data": {
                  "text/plain": "OCR                   \u001b[38;2;114;156;31m━━━━━━━━━━━━━━━━━━━━━━━━━━━━━━━━━━━━━━━━\u001b[0m \u001b[35m100%\u001b[0m \u001b[32m3/3\u001b[0m \u001b[36m0:00:00\u001b[0m\n",
                  "text/html": "<pre style=\"white-space:pre;overflow-x:auto;line-height:normal;font-family:Menlo,'DejaVu Sans Mono',consolas,'Courier New',monospace\">OCR                   <span style=\"color: #729c1f; text-decoration-color: #729c1f\">━━━━━━━━━━━━━━━━━━━━━━━━━━━━━━━━━━━━━━━━</span> <span style=\"color: #800080; text-decoration-color: #800080\">100%</span> <span style=\"color: #008000; text-decoration-color: #008000\">3/3</span> <span style=\"color: #008080; text-decoration-color: #008080\">0:00:00</span>\n</pre>\n"
                },
                "metadata": {}
              }
            ]
          }
        },
        "1153edb2ec2e4d7d9f2a1f8095a16972": {
          "model_module": "@jupyter-widgets/base",
          "model_name": "LayoutModel",
          "model_module_version": "1.2.0",
          "state": {
            "_model_module": "@jupyter-widgets/base",
            "_model_module_version": "1.2.0",
            "_model_name": "LayoutModel",
            "_view_count": null,
            "_view_module": "@jupyter-widgets/base",
            "_view_module_version": "1.2.0",
            "_view_name": "LayoutView",
            "align_content": null,
            "align_items": null,
            "align_self": null,
            "border": null,
            "bottom": null,
            "display": null,
            "flex": null,
            "flex_flow": null,
            "grid_area": null,
            "grid_auto_columns": null,
            "grid_auto_flow": null,
            "grid_auto_rows": null,
            "grid_column": null,
            "grid_gap": null,
            "grid_row": null,
            "grid_template_areas": null,
            "grid_template_columns": null,
            "grid_template_rows": null,
            "height": null,
            "justify_content": null,
            "justify_items": null,
            "left": null,
            "margin": null,
            "max_height": null,
            "max_width": null,
            "min_height": null,
            "min_width": null,
            "object_fit": null,
            "object_position": null,
            "order": null,
            "overflow": null,
            "overflow_x": null,
            "overflow_y": null,
            "padding": null,
            "right": null,
            "top": null,
            "visibility": null,
            "width": null
          }
        },
        "0bd286ddb37d4c8a88d09df51c7954b2": {
          "model_module": "@jupyter-widgets/output",
          "model_name": "OutputModel",
          "model_module_version": "1.0.0",
          "state": {
            "_dom_classes": [],
            "_model_module": "@jupyter-widgets/output",
            "_model_module_version": "1.0.0",
            "_model_name": "OutputModel",
            "_view_count": null,
            "_view_module": "@jupyter-widgets/output",
            "_view_module_version": "1.0.0",
            "_view_name": "OutputView",
            "layout": "IPY_MODEL_dcdc214d27d746229c0ac1250a9c91e3",
            "msg_id": "",
            "outputs": [
              {
                "output_type": "display_data",
                "data": {
                  "text/plain": "PDF/A conversion      \u001b[38;2;114;156;31m━━━━━━━━━━━━━━━━━━━━━━━━━━━━━━━━━━━━━━━━\u001b[0m \u001b[35m100%\u001b[0m \u001b[32m3/3\u001b[0m \u001b[36m0:00:00\u001b[0m\n",
                  "text/html": "<pre style=\"white-space:pre;overflow-x:auto;line-height:normal;font-family:Menlo,'DejaVu Sans Mono',consolas,'Courier New',monospace\">PDF/A conversion      <span style=\"color: #729c1f; text-decoration-color: #729c1f\">━━━━━━━━━━━━━━━━━━━━━━━━━━━━━━━━━━━━━━━━</span> <span style=\"color: #800080; text-decoration-color: #800080\">100%</span> <span style=\"color: #008000; text-decoration-color: #008000\">3/3</span> <span style=\"color: #008080; text-decoration-color: #008080\">0:00:00</span>\n</pre>\n"
                },
                "metadata": {}
              }
            ]
          }
        },
        "dcdc214d27d746229c0ac1250a9c91e3": {
          "model_module": "@jupyter-widgets/base",
          "model_name": "LayoutModel",
          "model_module_version": "1.2.0",
          "state": {
            "_model_module": "@jupyter-widgets/base",
            "_model_module_version": "1.2.0",
            "_model_name": "LayoutModel",
            "_view_count": null,
            "_view_module": "@jupyter-widgets/base",
            "_view_module_version": "1.2.0",
            "_view_name": "LayoutView",
            "align_content": null,
            "align_items": null,
            "align_self": null,
            "border": null,
            "bottom": null,
            "display": null,
            "flex": null,
            "flex_flow": null,
            "grid_area": null,
            "grid_auto_columns": null,
            "grid_auto_flow": null,
            "grid_auto_rows": null,
            "grid_column": null,
            "grid_gap": null,
            "grid_row": null,
            "grid_template_areas": null,
            "grid_template_columns": null,
            "grid_template_rows": null,
            "height": null,
            "justify_content": null,
            "justify_items": null,
            "left": null,
            "margin": null,
            "max_height": null,
            "max_width": null,
            "min_height": null,
            "min_width": null,
            "object_fit": null,
            "object_position": null,
            "order": null,
            "overflow": null,
            "overflow_x": null,
            "overflow_y": null,
            "padding": null,
            "right": null,
            "top": null,
            "visibility": null,
            "width": null
          }
        },
        "cb5113c83e454599b917780b7c8fd9cb": {
          "model_module": "@jupyter-widgets/output",
          "model_name": "OutputModel",
          "model_module_version": "1.0.0",
          "state": {
            "_dom_classes": [],
            "_model_module": "@jupyter-widgets/output",
            "_model_module_version": "1.0.0",
            "_model_name": "OutputModel",
            "_view_count": null,
            "_view_module": "@jupyter-widgets/output",
            "_view_module_version": "1.0.0",
            "_view_name": "OutputView",
            "layout": "IPY_MODEL_06b46b2cbec6470d8cca1464a7c01dbe",
            "msg_id": "",
            "outputs": [
              {
                "output_type": "display_data",
                "data": {
                  "text/plain": "Linearizing           \u001b[38;2;114;156;31m━━━━━━━━━━━━━━━━━━━━━━━━━━━━━━━━━━━━━━━━\u001b[0m \u001b[35m100%\u001b[0m \u001b[32m100/100\u001b[0m \u001b[36m0:00:00\u001b[0m\n",
                  "text/html": "<pre style=\"white-space:pre;overflow-x:auto;line-height:normal;font-family:Menlo,'DejaVu Sans Mono',consolas,'Courier New',monospace\">Linearizing           <span style=\"color: #729c1f; text-decoration-color: #729c1f\">━━━━━━━━━━━━━━━━━━━━━━━━━━━━━━━━━━━━━━━━</span> <span style=\"color: #800080; text-decoration-color: #800080\">100%</span> <span style=\"color: #008000; text-decoration-color: #008000\">100/100</span> <span style=\"color: #008080; text-decoration-color: #008080\">0:00:00</span>\n</pre>\n"
                },
                "metadata": {}
              }
            ]
          }
        },
        "06b46b2cbec6470d8cca1464a7c01dbe": {
          "model_module": "@jupyter-widgets/base",
          "model_name": "LayoutModel",
          "model_module_version": "1.2.0",
          "state": {
            "_model_module": "@jupyter-widgets/base",
            "_model_module_version": "1.2.0",
            "_model_name": "LayoutModel",
            "_view_count": null,
            "_view_module": "@jupyter-widgets/base",
            "_view_module_version": "1.2.0",
            "_view_name": "LayoutView",
            "align_content": null,
            "align_items": null,
            "align_self": null,
            "border": null,
            "bottom": null,
            "display": null,
            "flex": null,
            "flex_flow": null,
            "grid_area": null,
            "grid_auto_columns": null,
            "grid_auto_flow": null,
            "grid_auto_rows": null,
            "grid_column": null,
            "grid_gap": null,
            "grid_row": null,
            "grid_template_areas": null,
            "grid_template_columns": null,
            "grid_template_rows": null,
            "height": null,
            "justify_content": null,
            "justify_items": null,
            "left": null,
            "margin": null,
            "max_height": null,
            "max_width": null,
            "min_height": null,
            "min_width": null,
            "object_fit": null,
            "object_position": null,
            "order": null,
            "overflow": null,
            "overflow_x": null,
            "overflow_y": null,
            "padding": null,
            "right": null,
            "top": null,
            "visibility": null,
            "width": null
          }
        },
        "c03d2bb5251c4954954db42e90fabb17": {
          "model_module": "@jupyter-widgets/output",
          "model_name": "OutputModel",
          "model_module_version": "1.0.0",
          "state": {
            "_dom_classes": [],
            "_model_module": "@jupyter-widgets/output",
            "_model_module_version": "1.0.0",
            "_model_name": "OutputModel",
            "_view_count": null,
            "_view_module": "@jupyter-widgets/output",
            "_view_module_version": "1.0.0",
            "_view_name": "OutputView",
            "layout": "IPY_MODEL_5ea83de0e5484826a1448b2fb81c9ead",
            "msg_id": "",
            "outputs": [
              {
                "output_type": "display_data",
                "data": {
                  "text/plain": "Recompressing JPEGs   \u001b[38;2;114;156;31m━━━━━━━━━━━━━━━━━━━━━━━━━━━━━━━━━━━━━━━━\u001b[0m \u001b[35m  0%\u001b[0m \u001b[32m0/0\u001b[0m \u001b[36m-:--:--\u001b[0m\n",
                  "text/html": "<pre style=\"white-space:pre;overflow-x:auto;line-height:normal;font-family:Menlo,'DejaVu Sans Mono',consolas,'Courier New',monospace\">Recompressing JPEGs   <span style=\"color: #729c1f; text-decoration-color: #729c1f\">━━━━━━━━━━━━━━━━━━━━━━━━━━━━━━━━━━━━━━━━</span> <span style=\"color: #800080; text-decoration-color: #800080\">  0%</span> <span style=\"color: #008000; text-decoration-color: #008000\">0/0</span> <span style=\"color: #008080; text-decoration-color: #008080\">-:--:--</span>\n</pre>\n"
                },
                "metadata": {}
              }
            ]
          }
        },
        "5ea83de0e5484826a1448b2fb81c9ead": {
          "model_module": "@jupyter-widgets/base",
          "model_name": "LayoutModel",
          "model_module_version": "1.2.0",
          "state": {
            "_model_module": "@jupyter-widgets/base",
            "_model_module_version": "1.2.0",
            "_model_name": "LayoutModel",
            "_view_count": null,
            "_view_module": "@jupyter-widgets/base",
            "_view_module_version": "1.2.0",
            "_view_name": "LayoutView",
            "align_content": null,
            "align_items": null,
            "align_self": null,
            "border": null,
            "bottom": null,
            "display": null,
            "flex": null,
            "flex_flow": null,
            "grid_area": null,
            "grid_auto_columns": null,
            "grid_auto_flow": null,
            "grid_auto_rows": null,
            "grid_column": null,
            "grid_gap": null,
            "grid_row": null,
            "grid_template_areas": null,
            "grid_template_columns": null,
            "grid_template_rows": null,
            "height": null,
            "justify_content": null,
            "justify_items": null,
            "left": null,
            "margin": null,
            "max_height": null,
            "max_width": null,
            "min_height": null,
            "min_width": null,
            "object_fit": null,
            "object_position": null,
            "order": null,
            "overflow": null,
            "overflow_x": null,
            "overflow_y": null,
            "padding": null,
            "right": null,
            "top": null,
            "visibility": null,
            "width": null
          }
        },
        "cf05f7693cc84fc89c7dd432b96b4086": {
          "model_module": "@jupyter-widgets/output",
          "model_name": "OutputModel",
          "model_module_version": "1.0.0",
          "state": {
            "_dom_classes": [],
            "_model_module": "@jupyter-widgets/output",
            "_model_module_version": "1.0.0",
            "_model_name": "OutputModel",
            "_view_count": null,
            "_view_module": "@jupyter-widgets/output",
            "_view_module_version": "1.0.0",
            "_view_name": "OutputView",
            "layout": "IPY_MODEL_0c50282bbf7e437db34d76251151a4d8",
            "msg_id": "",
            "outputs": [
              {
                "output_type": "display_data",
                "data": {
                  "text/plain": "Deflating JPEGs       \u001b[38;2;114;156;31m━━━━━━━━━━━━━━━━━━━━━━━━━━━━━━━━━━━━━━━━\u001b[0m \u001b[35m  0%\u001b[0m \u001b[32m0/0\u001b[0m \u001b[36m-:--:--\u001b[0m\n",
                  "text/html": "<pre style=\"white-space:pre;overflow-x:auto;line-height:normal;font-family:Menlo,'DejaVu Sans Mono',consolas,'Courier New',monospace\">Deflating JPEGs       <span style=\"color: #729c1f; text-decoration-color: #729c1f\">━━━━━━━━━━━━━━━━━━━━━━━━━━━━━━━━━━━━━━━━</span> <span style=\"color: #800080; text-decoration-color: #800080\">  0%</span> <span style=\"color: #008000; text-decoration-color: #008000\">0/0</span> <span style=\"color: #008080; text-decoration-color: #008080\">-:--:--</span>\n</pre>\n"
                },
                "metadata": {}
              }
            ]
          }
        },
        "0c50282bbf7e437db34d76251151a4d8": {
          "model_module": "@jupyter-widgets/base",
          "model_name": "LayoutModel",
          "model_module_version": "1.2.0",
          "state": {
            "_model_module": "@jupyter-widgets/base",
            "_model_module_version": "1.2.0",
            "_model_name": "LayoutModel",
            "_view_count": null,
            "_view_module": "@jupyter-widgets/base",
            "_view_module_version": "1.2.0",
            "_view_name": "LayoutView",
            "align_content": null,
            "align_items": null,
            "align_self": null,
            "border": null,
            "bottom": null,
            "display": null,
            "flex": null,
            "flex_flow": null,
            "grid_area": null,
            "grid_auto_columns": null,
            "grid_auto_flow": null,
            "grid_auto_rows": null,
            "grid_column": null,
            "grid_gap": null,
            "grid_row": null,
            "grid_template_areas": null,
            "grid_template_columns": null,
            "grid_template_rows": null,
            "height": null,
            "justify_content": null,
            "justify_items": null,
            "left": null,
            "margin": null,
            "max_height": null,
            "max_width": null,
            "min_height": null,
            "min_width": null,
            "object_fit": null,
            "object_position": null,
            "order": null,
            "overflow": null,
            "overflow_x": null,
            "overflow_y": null,
            "padding": null,
            "right": null,
            "top": null,
            "visibility": null,
            "width": null
          }
        },
        "dc8d19e7bae9479db315af0feeb1876d": {
          "model_module": "@jupyter-widgets/output",
          "model_name": "OutputModel",
          "model_module_version": "1.0.0",
          "state": {
            "_dom_classes": [],
            "_model_module": "@jupyter-widgets/output",
            "_model_module_version": "1.0.0",
            "_model_name": "OutputModel",
            "_view_count": null,
            "_view_module": "@jupyter-widgets/output",
            "_view_module_version": "1.0.0",
            "_view_name": "OutputView",
            "layout": "IPY_MODEL_3980f357df2e475d85c6650661df83de",
            "msg_id": "",
            "outputs": [
              {
                "output_type": "display_data",
                "data": {
                  "text/plain": "JBIG2                 \u001b[38;2;114;156;31m━━━━━━━━━━━━━━━━━━━━━━━━━━━━━━━━━━━━━━━━\u001b[0m \u001b[35m  0%\u001b[0m \u001b[32m0/0\u001b[0m \u001b[36m-:--:--\u001b[0m\n",
                  "text/html": "<pre style=\"white-space:pre;overflow-x:auto;line-height:normal;font-family:Menlo,'DejaVu Sans Mono',consolas,'Courier New',monospace\">JBIG2                 <span style=\"color: #729c1f; text-decoration-color: #729c1f\">━━━━━━━━━━━━━━━━━━━━━━━━━━━━━━━━━━━━━━━━</span> <span style=\"color: #800080; text-decoration-color: #800080\">  0%</span> <span style=\"color: #008000; text-decoration-color: #008000\">0/0</span> <span style=\"color: #008080; text-decoration-color: #008080\">-:--:--</span>\n</pre>\n"
                },
                "metadata": {}
              }
            ]
          }
        },
        "3980f357df2e475d85c6650661df83de": {
          "model_module": "@jupyter-widgets/base",
          "model_name": "LayoutModel",
          "model_module_version": "1.2.0",
          "state": {
            "_model_module": "@jupyter-widgets/base",
            "_model_module_version": "1.2.0",
            "_model_name": "LayoutModel",
            "_view_count": null,
            "_view_module": "@jupyter-widgets/base",
            "_view_module_version": "1.2.0",
            "_view_name": "LayoutView",
            "align_content": null,
            "align_items": null,
            "align_self": null,
            "border": null,
            "bottom": null,
            "display": null,
            "flex": null,
            "flex_flow": null,
            "grid_area": null,
            "grid_auto_columns": null,
            "grid_auto_flow": null,
            "grid_auto_rows": null,
            "grid_column": null,
            "grid_gap": null,
            "grid_row": null,
            "grid_template_areas": null,
            "grid_template_columns": null,
            "grid_template_rows": null,
            "height": null,
            "justify_content": null,
            "justify_items": null,
            "left": null,
            "margin": null,
            "max_height": null,
            "max_width": null,
            "min_height": null,
            "min_width": null,
            "object_fit": null,
            "object_position": null,
            "order": null,
            "overflow": null,
            "overflow_x": null,
            "overflow_y": null,
            "padding": null,
            "right": null,
            "top": null,
            "visibility": null,
            "width": null
          }
        },
        "5dda88908e9c4e6bba02c78129cd8fa3": {
          "model_module": "@jupyter-widgets/output",
          "model_name": "OutputModel",
          "model_module_version": "1.0.0",
          "state": {
            "_dom_classes": [],
            "_model_module": "@jupyter-widgets/output",
            "_model_module_version": "1.0.0",
            "_model_name": "OutputModel",
            "_view_count": null,
            "_view_module": "@jupyter-widgets/output",
            "_view_module_version": "1.0.0",
            "_view_name": "OutputView",
            "layout": "IPY_MODEL_68a5b44f1a784097900cac36bfbbd9fa",
            "msg_id": "",
            "outputs": [
              {
                "output_type": "display_data",
                "data": {
                  "text/plain": "Scanning contents     \u001b[38;2;114;156;31m━━━━━━━━━━━━━━━━━━━━━━━━━━━━━━━━━━━━━━━━\u001b[0m \u001b[35m100%\u001b[0m \u001b[32m2/2\u001b[0m \u001b[36m0:00:00\u001b[0m\n",
                  "text/html": "<pre style=\"white-space:pre;overflow-x:auto;line-height:normal;font-family:Menlo,'DejaVu Sans Mono',consolas,'Courier New',monospace\">Scanning contents     <span style=\"color: #729c1f; text-decoration-color: #729c1f\">━━━━━━━━━━━━━━━━━━━━━━━━━━━━━━━━━━━━━━━━</span> <span style=\"color: #800080; text-decoration-color: #800080\">100%</span> <span style=\"color: #008000; text-decoration-color: #008000\">2/2</span> <span style=\"color: #008080; text-decoration-color: #008080\">0:00:00</span>\n</pre>\n"
                },
                "metadata": {}
              }
            ]
          }
        },
        "68a5b44f1a784097900cac36bfbbd9fa": {
          "model_module": "@jupyter-widgets/base",
          "model_name": "LayoutModel",
          "model_module_version": "1.2.0",
          "state": {
            "_model_module": "@jupyter-widgets/base",
            "_model_module_version": "1.2.0",
            "_model_name": "LayoutModel",
            "_view_count": null,
            "_view_module": "@jupyter-widgets/base",
            "_view_module_version": "1.2.0",
            "_view_name": "LayoutView",
            "align_content": null,
            "align_items": null,
            "align_self": null,
            "border": null,
            "bottom": null,
            "display": null,
            "flex": null,
            "flex_flow": null,
            "grid_area": null,
            "grid_auto_columns": null,
            "grid_auto_flow": null,
            "grid_auto_rows": null,
            "grid_column": null,
            "grid_gap": null,
            "grid_row": null,
            "grid_template_areas": null,
            "grid_template_columns": null,
            "grid_template_rows": null,
            "height": null,
            "justify_content": null,
            "justify_items": null,
            "left": null,
            "margin": null,
            "max_height": null,
            "max_width": null,
            "min_height": null,
            "min_width": null,
            "object_fit": null,
            "object_position": null,
            "order": null,
            "overflow": null,
            "overflow_x": null,
            "overflow_y": null,
            "padding": null,
            "right": null,
            "top": null,
            "visibility": null,
            "width": null
          }
        },
        "fcf4417a7b8e4af485147b2268b2d802": {
          "model_module": "@jupyter-widgets/output",
          "model_name": "OutputModel",
          "model_module_version": "1.0.0",
          "state": {
            "_dom_classes": [],
            "_model_module": "@jupyter-widgets/output",
            "_model_module_version": "1.0.0",
            "_model_name": "OutputModel",
            "_view_count": null,
            "_view_module": "@jupyter-widgets/output",
            "_view_module_version": "1.0.0",
            "_view_name": "OutputView",
            "layout": "IPY_MODEL_13066fed296b4bb39e4c606c101e6e88",
            "msg_id": "",
            "outputs": [
              {
                "output_type": "display_data",
                "data": {
                  "text/plain": "OCR                   \u001b[38;2;114;156;31m━━━━━━━━━━━━━━━━━━━━━━━━━━━━━━━━━━━━━━━━\u001b[0m \u001b[35m100%\u001b[0m \u001b[32m2/2\u001b[0m \u001b[36m0:00:00\u001b[0m\n",
                  "text/html": "<pre style=\"white-space:pre;overflow-x:auto;line-height:normal;font-family:Menlo,'DejaVu Sans Mono',consolas,'Courier New',monospace\">OCR                   <span style=\"color: #729c1f; text-decoration-color: #729c1f\">━━━━━━━━━━━━━━━━━━━━━━━━━━━━━━━━━━━━━━━━</span> <span style=\"color: #800080; text-decoration-color: #800080\">100%</span> <span style=\"color: #008000; text-decoration-color: #008000\">2/2</span> <span style=\"color: #008080; text-decoration-color: #008080\">0:00:00</span>\n</pre>\n"
                },
                "metadata": {}
              }
            ]
          }
        },
        "13066fed296b4bb39e4c606c101e6e88": {
          "model_module": "@jupyter-widgets/base",
          "model_name": "LayoutModel",
          "model_module_version": "1.2.0",
          "state": {
            "_model_module": "@jupyter-widgets/base",
            "_model_module_version": "1.2.0",
            "_model_name": "LayoutModel",
            "_view_count": null,
            "_view_module": "@jupyter-widgets/base",
            "_view_module_version": "1.2.0",
            "_view_name": "LayoutView",
            "align_content": null,
            "align_items": null,
            "align_self": null,
            "border": null,
            "bottom": null,
            "display": null,
            "flex": null,
            "flex_flow": null,
            "grid_area": null,
            "grid_auto_columns": null,
            "grid_auto_flow": null,
            "grid_auto_rows": null,
            "grid_column": null,
            "grid_gap": null,
            "grid_row": null,
            "grid_template_areas": null,
            "grid_template_columns": null,
            "grid_template_rows": null,
            "height": null,
            "justify_content": null,
            "justify_items": null,
            "left": null,
            "margin": null,
            "max_height": null,
            "max_width": null,
            "min_height": null,
            "min_width": null,
            "object_fit": null,
            "object_position": null,
            "order": null,
            "overflow": null,
            "overflow_x": null,
            "overflow_y": null,
            "padding": null,
            "right": null,
            "top": null,
            "visibility": null,
            "width": null
          }
        },
        "b92580aed992480b81ba676316b3be52": {
          "model_module": "@jupyter-widgets/output",
          "model_name": "OutputModel",
          "model_module_version": "1.0.0",
          "state": {
            "_dom_classes": [],
            "_model_module": "@jupyter-widgets/output",
            "_model_module_version": "1.0.0",
            "_model_name": "OutputModel",
            "_view_count": null,
            "_view_module": "@jupyter-widgets/output",
            "_view_module_version": "1.0.0",
            "_view_name": "OutputView",
            "layout": "IPY_MODEL_3612ba472e2842419d99ec0218586903",
            "msg_id": "",
            "outputs": [
              {
                "output_type": "display_data",
                "data": {
                  "text/plain": "PDF/A conversion      \u001b[38;2;114;156;31m━━━━━━━━━━━━━━━━━━━━━━━━━━━━━━━━━━━━━━━━\u001b[0m \u001b[35m100%\u001b[0m \u001b[32m2/2\u001b[0m \u001b[36m0:00:00\u001b[0m\n",
                  "text/html": "<pre style=\"white-space:pre;overflow-x:auto;line-height:normal;font-family:Menlo,'DejaVu Sans Mono',consolas,'Courier New',monospace\">PDF/A conversion      <span style=\"color: #729c1f; text-decoration-color: #729c1f\">━━━━━━━━━━━━━━━━━━━━━━━━━━━━━━━━━━━━━━━━</span> <span style=\"color: #800080; text-decoration-color: #800080\">100%</span> <span style=\"color: #008000; text-decoration-color: #008000\">2/2</span> <span style=\"color: #008080; text-decoration-color: #008080\">0:00:00</span>\n</pre>\n"
                },
                "metadata": {}
              }
            ]
          }
        },
        "3612ba472e2842419d99ec0218586903": {
          "model_module": "@jupyter-widgets/base",
          "model_name": "LayoutModel",
          "model_module_version": "1.2.0",
          "state": {
            "_model_module": "@jupyter-widgets/base",
            "_model_module_version": "1.2.0",
            "_model_name": "LayoutModel",
            "_view_count": null,
            "_view_module": "@jupyter-widgets/base",
            "_view_module_version": "1.2.0",
            "_view_name": "LayoutView",
            "align_content": null,
            "align_items": null,
            "align_self": null,
            "border": null,
            "bottom": null,
            "display": null,
            "flex": null,
            "flex_flow": null,
            "grid_area": null,
            "grid_auto_columns": null,
            "grid_auto_flow": null,
            "grid_auto_rows": null,
            "grid_column": null,
            "grid_gap": null,
            "grid_row": null,
            "grid_template_areas": null,
            "grid_template_columns": null,
            "grid_template_rows": null,
            "height": null,
            "justify_content": null,
            "justify_items": null,
            "left": null,
            "margin": null,
            "max_height": null,
            "max_width": null,
            "min_height": null,
            "min_width": null,
            "object_fit": null,
            "object_position": null,
            "order": null,
            "overflow": null,
            "overflow_x": null,
            "overflow_y": null,
            "padding": null,
            "right": null,
            "top": null,
            "visibility": null,
            "width": null
          }
        },
        "45414cf5883a432e8cf83ad8d1aaf8c7": {
          "model_module": "@jupyter-widgets/output",
          "model_name": "OutputModel",
          "model_module_version": "1.0.0",
          "state": {
            "_dom_classes": [],
            "_model_module": "@jupyter-widgets/output",
            "_model_module_version": "1.0.0",
            "_model_name": "OutputModel",
            "_view_count": null,
            "_view_module": "@jupyter-widgets/output",
            "_view_module_version": "1.0.0",
            "_view_name": "OutputView",
            "layout": "IPY_MODEL_435301848fa949cb82773ac149e9f67e",
            "msg_id": "",
            "outputs": [
              {
                "output_type": "display_data",
                "data": {
                  "text/plain": "Linearizing           \u001b[38;2;114;156;31m━━━━━━━━━━━━━━━━━━━━━━━━━━━━━━━━━━━━━━━━\u001b[0m \u001b[35m100%\u001b[0m \u001b[32m100/100\u001b[0m \u001b[36m0:00:00\u001b[0m\n",
                  "text/html": "<pre style=\"white-space:pre;overflow-x:auto;line-height:normal;font-family:Menlo,'DejaVu Sans Mono',consolas,'Courier New',monospace\">Linearizing           <span style=\"color: #729c1f; text-decoration-color: #729c1f\">━━━━━━━━━━━━━━━━━━━━━━━━━━━━━━━━━━━━━━━━</span> <span style=\"color: #800080; text-decoration-color: #800080\">100%</span> <span style=\"color: #008000; text-decoration-color: #008000\">100/100</span> <span style=\"color: #008080; text-decoration-color: #008080\">0:00:00</span>\n</pre>\n"
                },
                "metadata": {}
              }
            ]
          }
        },
        "435301848fa949cb82773ac149e9f67e": {
          "model_module": "@jupyter-widgets/base",
          "model_name": "LayoutModel",
          "model_module_version": "1.2.0",
          "state": {
            "_model_module": "@jupyter-widgets/base",
            "_model_module_version": "1.2.0",
            "_model_name": "LayoutModel",
            "_view_count": null,
            "_view_module": "@jupyter-widgets/base",
            "_view_module_version": "1.2.0",
            "_view_name": "LayoutView",
            "align_content": null,
            "align_items": null,
            "align_self": null,
            "border": null,
            "bottom": null,
            "display": null,
            "flex": null,
            "flex_flow": null,
            "grid_area": null,
            "grid_auto_columns": null,
            "grid_auto_flow": null,
            "grid_auto_rows": null,
            "grid_column": null,
            "grid_gap": null,
            "grid_row": null,
            "grid_template_areas": null,
            "grid_template_columns": null,
            "grid_template_rows": null,
            "height": null,
            "justify_content": null,
            "justify_items": null,
            "left": null,
            "margin": null,
            "max_height": null,
            "max_width": null,
            "min_height": null,
            "min_width": null,
            "object_fit": null,
            "object_position": null,
            "order": null,
            "overflow": null,
            "overflow_x": null,
            "overflow_y": null,
            "padding": null,
            "right": null,
            "top": null,
            "visibility": null,
            "width": null
          }
        },
        "33f4bb83985a4d5d8ed64cecb44601cb": {
          "model_module": "@jupyter-widgets/output",
          "model_name": "OutputModel",
          "model_module_version": "1.0.0",
          "state": {
            "_dom_classes": [],
            "_model_module": "@jupyter-widgets/output",
            "_model_module_version": "1.0.0",
            "_model_name": "OutputModel",
            "_view_count": null,
            "_view_module": "@jupyter-widgets/output",
            "_view_module_version": "1.0.0",
            "_view_name": "OutputView",
            "layout": "IPY_MODEL_0d53770ea6d14b1197fe20f8f804fd39",
            "msg_id": "",
            "outputs": [
              {
                "output_type": "display_data",
                "data": {
                  "text/plain": "Recompressing JPEGs   \u001b[38;2;114;156;31m━━━━━━━━━━━━━━━━━━━━━━━━━━━━━━━━━━━━━━━━\u001b[0m \u001b[35m  0%\u001b[0m \u001b[32m0/0\u001b[0m \u001b[36m-:--:--\u001b[0m\n",
                  "text/html": "<pre style=\"white-space:pre;overflow-x:auto;line-height:normal;font-family:Menlo,'DejaVu Sans Mono',consolas,'Courier New',monospace\">Recompressing JPEGs   <span style=\"color: #729c1f; text-decoration-color: #729c1f\">━━━━━━━━━━━━━━━━━━━━━━━━━━━━━━━━━━━━━━━━</span> <span style=\"color: #800080; text-decoration-color: #800080\">  0%</span> <span style=\"color: #008000; text-decoration-color: #008000\">0/0</span> <span style=\"color: #008080; text-decoration-color: #008080\">-:--:--</span>\n</pre>\n"
                },
                "metadata": {}
              }
            ]
          }
        },
        "0d53770ea6d14b1197fe20f8f804fd39": {
          "model_module": "@jupyter-widgets/base",
          "model_name": "LayoutModel",
          "model_module_version": "1.2.0",
          "state": {
            "_model_module": "@jupyter-widgets/base",
            "_model_module_version": "1.2.0",
            "_model_name": "LayoutModel",
            "_view_count": null,
            "_view_module": "@jupyter-widgets/base",
            "_view_module_version": "1.2.0",
            "_view_name": "LayoutView",
            "align_content": null,
            "align_items": null,
            "align_self": null,
            "border": null,
            "bottom": null,
            "display": null,
            "flex": null,
            "flex_flow": null,
            "grid_area": null,
            "grid_auto_columns": null,
            "grid_auto_flow": null,
            "grid_auto_rows": null,
            "grid_column": null,
            "grid_gap": null,
            "grid_row": null,
            "grid_template_areas": null,
            "grid_template_columns": null,
            "grid_template_rows": null,
            "height": null,
            "justify_content": null,
            "justify_items": null,
            "left": null,
            "margin": null,
            "max_height": null,
            "max_width": null,
            "min_height": null,
            "min_width": null,
            "object_fit": null,
            "object_position": null,
            "order": null,
            "overflow": null,
            "overflow_x": null,
            "overflow_y": null,
            "padding": null,
            "right": null,
            "top": null,
            "visibility": null,
            "width": null
          }
        },
        "6dcc82ac8ed044a887260fd091feb969": {
          "model_module": "@jupyter-widgets/output",
          "model_name": "OutputModel",
          "model_module_version": "1.0.0",
          "state": {
            "_dom_classes": [],
            "_model_module": "@jupyter-widgets/output",
            "_model_module_version": "1.0.0",
            "_model_name": "OutputModel",
            "_view_count": null,
            "_view_module": "@jupyter-widgets/output",
            "_view_module_version": "1.0.0",
            "_view_name": "OutputView",
            "layout": "IPY_MODEL_2a1c514f0b504a0c818cec8c1c93374c",
            "msg_id": "",
            "outputs": [
              {
                "output_type": "display_data",
                "data": {
                  "text/plain": "Deflating JPEGs       \u001b[38;2;114;156;31m━━━━━━━━━━━━━━━━━━━━━━━━━━━━━━━━━━━━━━━━\u001b[0m \u001b[35m  0%\u001b[0m \u001b[32m0/0\u001b[0m \u001b[36m-:--:--\u001b[0m\n",
                  "text/html": "<pre style=\"white-space:pre;overflow-x:auto;line-height:normal;font-family:Menlo,'DejaVu Sans Mono',consolas,'Courier New',monospace\">Deflating JPEGs       <span style=\"color: #729c1f; text-decoration-color: #729c1f\">━━━━━━━━━━━━━━━━━━━━━━━━━━━━━━━━━━━━━━━━</span> <span style=\"color: #800080; text-decoration-color: #800080\">  0%</span> <span style=\"color: #008000; text-decoration-color: #008000\">0/0</span> <span style=\"color: #008080; text-decoration-color: #008080\">-:--:--</span>\n</pre>\n"
                },
                "metadata": {}
              }
            ]
          }
        },
        "2a1c514f0b504a0c818cec8c1c93374c": {
          "model_module": "@jupyter-widgets/base",
          "model_name": "LayoutModel",
          "model_module_version": "1.2.0",
          "state": {
            "_model_module": "@jupyter-widgets/base",
            "_model_module_version": "1.2.0",
            "_model_name": "LayoutModel",
            "_view_count": null,
            "_view_module": "@jupyter-widgets/base",
            "_view_module_version": "1.2.0",
            "_view_name": "LayoutView",
            "align_content": null,
            "align_items": null,
            "align_self": null,
            "border": null,
            "bottom": null,
            "display": null,
            "flex": null,
            "flex_flow": null,
            "grid_area": null,
            "grid_auto_columns": null,
            "grid_auto_flow": null,
            "grid_auto_rows": null,
            "grid_column": null,
            "grid_gap": null,
            "grid_row": null,
            "grid_template_areas": null,
            "grid_template_columns": null,
            "grid_template_rows": null,
            "height": null,
            "justify_content": null,
            "justify_items": null,
            "left": null,
            "margin": null,
            "max_height": null,
            "max_width": null,
            "min_height": null,
            "min_width": null,
            "object_fit": null,
            "object_position": null,
            "order": null,
            "overflow": null,
            "overflow_x": null,
            "overflow_y": null,
            "padding": null,
            "right": null,
            "top": null,
            "visibility": null,
            "width": null
          }
        },
        "f87b219ab46149ee95c5ef0f50915a89": {
          "model_module": "@jupyter-widgets/output",
          "model_name": "OutputModel",
          "model_module_version": "1.0.0",
          "state": {
            "_dom_classes": [],
            "_model_module": "@jupyter-widgets/output",
            "_model_module_version": "1.0.0",
            "_model_name": "OutputModel",
            "_view_count": null,
            "_view_module": "@jupyter-widgets/output",
            "_view_module_version": "1.0.0",
            "_view_name": "OutputView",
            "layout": "IPY_MODEL_5f53c5e2d3554c02b8b6a0fadcacbf8a",
            "msg_id": "",
            "outputs": [
              {
                "output_type": "display_data",
                "data": {
                  "text/plain": "JBIG2                 \u001b[38;2;114;156;31m━━━━━━━━━━━━━━━━━━━━━━━━━━━━━━━━━━━━━━━━\u001b[0m \u001b[35m  0%\u001b[0m \u001b[32m0/0\u001b[0m \u001b[36m-:--:--\u001b[0m\n",
                  "text/html": "<pre style=\"white-space:pre;overflow-x:auto;line-height:normal;font-family:Menlo,'DejaVu Sans Mono',consolas,'Courier New',monospace\">JBIG2                 <span style=\"color: #729c1f; text-decoration-color: #729c1f\">━━━━━━━━━━━━━━━━━━━━━━━━━━━━━━━━━━━━━━━━</span> <span style=\"color: #800080; text-decoration-color: #800080\">  0%</span> <span style=\"color: #008000; text-decoration-color: #008000\">0/0</span> <span style=\"color: #008080; text-decoration-color: #008080\">-:--:--</span>\n</pre>\n"
                },
                "metadata": {}
              }
            ]
          }
        },
        "5f53c5e2d3554c02b8b6a0fadcacbf8a": {
          "model_module": "@jupyter-widgets/base",
          "model_name": "LayoutModel",
          "model_module_version": "1.2.0",
          "state": {
            "_model_module": "@jupyter-widgets/base",
            "_model_module_version": "1.2.0",
            "_model_name": "LayoutModel",
            "_view_count": null,
            "_view_module": "@jupyter-widgets/base",
            "_view_module_version": "1.2.0",
            "_view_name": "LayoutView",
            "align_content": null,
            "align_items": null,
            "align_self": null,
            "border": null,
            "bottom": null,
            "display": null,
            "flex": null,
            "flex_flow": null,
            "grid_area": null,
            "grid_auto_columns": null,
            "grid_auto_flow": null,
            "grid_auto_rows": null,
            "grid_column": null,
            "grid_gap": null,
            "grid_row": null,
            "grid_template_areas": null,
            "grid_template_columns": null,
            "grid_template_rows": null,
            "height": null,
            "justify_content": null,
            "justify_items": null,
            "left": null,
            "margin": null,
            "max_height": null,
            "max_width": null,
            "min_height": null,
            "min_width": null,
            "object_fit": null,
            "object_position": null,
            "order": null,
            "overflow": null,
            "overflow_x": null,
            "overflow_y": null,
            "padding": null,
            "right": null,
            "top": null,
            "visibility": null,
            "width": null
          }
        }
      }
    }
  },
  "cells": [
    {
      "cell_type": "markdown",
      "metadata": {
        "id": "view-in-github",
        "colab_type": "text"
      },
      "source": [
        "<a href=\"https://colab.research.google.com/github/NestorSaenz/Desafios-1-y-2/blob/main/Desafio_2.ipynb\" target=\"_parent\"><img src=\"https://colab.research.google.com/assets/colab-badge.svg\" alt=\"Open In Colab\"/></a>"
      ]
    },
    {
      "cell_type": "markdown",
      "source": [
        "#Preparación de entorno\n",
        "\n"
      ],
      "metadata": {
        "id": "hsUCRGZC2M5S"
      }
    },
    {
      "cell_type": "code",
      "source": [
        "!pip install sentence-transformers\n",
        "# !pip install spacy\n",
        "# !python -m spacy download en_core_web_sm\n",
        "# !python -m spacy download es_core_news_sm\n",
        "!apt-get update\n",
        "!apt-get install -y tesseract-ocr\n",
        "!apt-get install -y libtesseract-dev\n",
        "!pip install ocrmypdf PyPDF2\n",
        "!apt-get install -y ghostscript\n",
        "!pip install flair\n",
        "!pip install transformers\n"
      ],
      "metadata": {
        "id": "hDXy1mLFyKok",
        "collapsed": true
      },
      "execution_count": null,
      "outputs": []
    },
    {
      "cell_type": "markdown",
      "source": [
        "#Librerías"
      ],
      "metadata": {
        "id": "R1wB7uzv2pgp"
      }
    },
    {
      "cell_type": "code",
      "source": [
        "import re\n",
        "from google.colab import files\n",
        "import os\n",
        "from sentence_transformers import SentenceTransformer\n",
        "from sklearn.metrics.pairwise import cosine_similarity\n",
        "import numpy as np\n",
        "from transformers import pipeline\n",
        "from flair.data import Sentence\n",
        "from flair.models import SequenceTagger\n",
        "import ocrmypdf\n",
        "import PyPDF2"
      ],
      "metadata": {
        "id": "q23ix5GYXG55",
        "collapsed": true
      },
      "execution_count": null,
      "outputs": []
    },
    {
      "cell_type": "markdown",
      "source": [
        "#Carga de archivos pdf (CVs)"
      ],
      "metadata": {
        "id": "a5X4CZRG2x2J"
      }
    },
    {
      "cell_type": "code",
      "source": [
        "# Configura las carpetas donde se guardarán los PDFs y los textos extraídos\n",
        "carpeta_pdf = './CVs'\n",
        "carpeta_txt = './Texto_2'\n",
        "\n",
        "# Crear las carpetas si no existen\n",
        "os.makedirs(carpeta_pdf, exist_ok=True)\n",
        "os.makedirs(carpeta_txt, exist_ok=True)\n",
        "\n",
        "# Cargar archivos desde la máquina local\n",
        "uploaded = files.upload()\n",
        "\n",
        "# Guardar los archivos cargados en la carpeta designada\n",
        "for archivo in uploaded.keys():\n",
        "    # Mover los archivos cargados a la carpeta de PDFs\n",
        "    os.rename(archivo, os.path.join(carpeta_pdf, archivo))\n",
        "\n",
        "print(f\"Archivos cargados: {list(uploaded.keys())}\")\n"
      ],
      "metadata": {
        "id": "10hVMt8d1Dyp",
        "collapsed": true,
        "colab": {
          "base_uri": "https://localhost:8080/",
          "height": 388
        },
        "outputId": "6b668fff-2f04-4392-d3cb-b5b336e85591"
      },
      "execution_count": 4,
      "outputs": [
        {
          "output_type": "display_data",
          "data": {
            "text/plain": [
              "<IPython.core.display.HTML object>"
            ],
            "text/html": [
              "\n",
              "     <input type=\"file\" id=\"files-95174073-950b-4aa1-8512-2ed67c877f60\" name=\"files[]\" multiple disabled\n",
              "        style=\"border:none\" />\n",
              "     <output id=\"result-95174073-950b-4aa1-8512-2ed67c877f60\">\n",
              "      Upload widget is only available when the cell has been executed in the\n",
              "      current browser session. Please rerun this cell to enable.\n",
              "      </output>\n",
              "      <script>// Copyright 2017 Google LLC\n",
              "//\n",
              "// Licensed under the Apache License, Version 2.0 (the \"License\");\n",
              "// you may not use this file except in compliance with the License.\n",
              "// You may obtain a copy of the License at\n",
              "//\n",
              "//      http://www.apache.org/licenses/LICENSE-2.0\n",
              "//\n",
              "// Unless required by applicable law or agreed to in writing, software\n",
              "// distributed under the License is distributed on an \"AS IS\" BASIS,\n",
              "// WITHOUT WARRANTIES OR CONDITIONS OF ANY KIND, either express or implied.\n",
              "// See the License for the specific language governing permissions and\n",
              "// limitations under the License.\n",
              "\n",
              "/**\n",
              " * @fileoverview Helpers for google.colab Python module.\n",
              " */\n",
              "(function(scope) {\n",
              "function span(text, styleAttributes = {}) {\n",
              "  const element = document.createElement('span');\n",
              "  element.textContent = text;\n",
              "  for (const key of Object.keys(styleAttributes)) {\n",
              "    element.style[key] = styleAttributes[key];\n",
              "  }\n",
              "  return element;\n",
              "}\n",
              "\n",
              "// Max number of bytes which will be uploaded at a time.\n",
              "const MAX_PAYLOAD_SIZE = 100 * 1024;\n",
              "\n",
              "function _uploadFiles(inputId, outputId) {\n",
              "  const steps = uploadFilesStep(inputId, outputId);\n",
              "  const outputElement = document.getElementById(outputId);\n",
              "  // Cache steps on the outputElement to make it available for the next call\n",
              "  // to uploadFilesContinue from Python.\n",
              "  outputElement.steps = steps;\n",
              "\n",
              "  return _uploadFilesContinue(outputId);\n",
              "}\n",
              "\n",
              "// This is roughly an async generator (not supported in the browser yet),\n",
              "// where there are multiple asynchronous steps and the Python side is going\n",
              "// to poll for completion of each step.\n",
              "// This uses a Promise to block the python side on completion of each step,\n",
              "// then passes the result of the previous step as the input to the next step.\n",
              "function _uploadFilesContinue(outputId) {\n",
              "  const outputElement = document.getElementById(outputId);\n",
              "  const steps = outputElement.steps;\n",
              "\n",
              "  const next = steps.next(outputElement.lastPromiseValue);\n",
              "  return Promise.resolve(next.value.promise).then((value) => {\n",
              "    // Cache the last promise value to make it available to the next\n",
              "    // step of the generator.\n",
              "    outputElement.lastPromiseValue = value;\n",
              "    return next.value.response;\n",
              "  });\n",
              "}\n",
              "\n",
              "/**\n",
              " * Generator function which is called between each async step of the upload\n",
              " * process.\n",
              " * @param {string} inputId Element ID of the input file picker element.\n",
              " * @param {string} outputId Element ID of the output display.\n",
              " * @return {!Iterable<!Object>} Iterable of next steps.\n",
              " */\n",
              "function* uploadFilesStep(inputId, outputId) {\n",
              "  const inputElement = document.getElementById(inputId);\n",
              "  inputElement.disabled = false;\n",
              "\n",
              "  const outputElement = document.getElementById(outputId);\n",
              "  outputElement.innerHTML = '';\n",
              "\n",
              "  const pickedPromise = new Promise((resolve) => {\n",
              "    inputElement.addEventListener('change', (e) => {\n",
              "      resolve(e.target.files);\n",
              "    });\n",
              "  });\n",
              "\n",
              "  const cancel = document.createElement('button');\n",
              "  inputElement.parentElement.appendChild(cancel);\n",
              "  cancel.textContent = 'Cancel upload';\n",
              "  const cancelPromise = new Promise((resolve) => {\n",
              "    cancel.onclick = () => {\n",
              "      resolve(null);\n",
              "    };\n",
              "  });\n",
              "\n",
              "  // Wait for the user to pick the files.\n",
              "  const files = yield {\n",
              "    promise: Promise.race([pickedPromise, cancelPromise]),\n",
              "    response: {\n",
              "      action: 'starting',\n",
              "    }\n",
              "  };\n",
              "\n",
              "  cancel.remove();\n",
              "\n",
              "  // Disable the input element since further picks are not allowed.\n",
              "  inputElement.disabled = true;\n",
              "\n",
              "  if (!files) {\n",
              "    return {\n",
              "      response: {\n",
              "        action: 'complete',\n",
              "      }\n",
              "    };\n",
              "  }\n",
              "\n",
              "  for (const file of files) {\n",
              "    const li = document.createElement('li');\n",
              "    li.append(span(file.name, {fontWeight: 'bold'}));\n",
              "    li.append(span(\n",
              "        `(${file.type || 'n/a'}) - ${file.size} bytes, ` +\n",
              "        `last modified: ${\n",
              "            file.lastModifiedDate ? file.lastModifiedDate.toLocaleDateString() :\n",
              "                                    'n/a'} - `));\n",
              "    const percent = span('0% done');\n",
              "    li.appendChild(percent);\n",
              "\n",
              "    outputElement.appendChild(li);\n",
              "\n",
              "    const fileDataPromise = new Promise((resolve) => {\n",
              "      const reader = new FileReader();\n",
              "      reader.onload = (e) => {\n",
              "        resolve(e.target.result);\n",
              "      };\n",
              "      reader.readAsArrayBuffer(file);\n",
              "    });\n",
              "    // Wait for the data to be ready.\n",
              "    let fileData = yield {\n",
              "      promise: fileDataPromise,\n",
              "      response: {\n",
              "        action: 'continue',\n",
              "      }\n",
              "    };\n",
              "\n",
              "    // Use a chunked sending to avoid message size limits. See b/62115660.\n",
              "    let position = 0;\n",
              "    do {\n",
              "      const length = Math.min(fileData.byteLength - position, MAX_PAYLOAD_SIZE);\n",
              "      const chunk = new Uint8Array(fileData, position, length);\n",
              "      position += length;\n",
              "\n",
              "      const base64 = btoa(String.fromCharCode.apply(null, chunk));\n",
              "      yield {\n",
              "        response: {\n",
              "          action: 'append',\n",
              "          file: file.name,\n",
              "          data: base64,\n",
              "        },\n",
              "      };\n",
              "\n",
              "      let percentDone = fileData.byteLength === 0 ?\n",
              "          100 :\n",
              "          Math.round((position / fileData.byteLength) * 100);\n",
              "      percent.textContent = `${percentDone}% done`;\n",
              "\n",
              "    } while (position < fileData.byteLength);\n",
              "  }\n",
              "\n",
              "  // All done.\n",
              "  yield {\n",
              "    response: {\n",
              "      action: 'complete',\n",
              "    }\n",
              "  };\n",
              "}\n",
              "\n",
              "scope.google = scope.google || {};\n",
              "scope.google.colab = scope.google.colab || {};\n",
              "scope.google.colab._files = {\n",
              "  _uploadFiles,\n",
              "  _uploadFilesContinue,\n",
              "};\n",
              "})(self);\n",
              "</script> "
            ]
          },
          "metadata": {}
        },
        {
          "output_type": "stream",
          "name": "stdout",
          "text": [
            "Saving 1724342646_CV1.pdf to 1724342646_CV1.pdf\n",
            "Saving 1724342661_CV2.pdf to 1724342661_CV2.pdf\n",
            "Saving 1724342673_CV3.pdf to 1724342673_CV3.pdf\n",
            "Saving 1724342683_CV4.pdf to 1724342683_CV4.pdf\n",
            "Saving 1724342694_CV5.pdf to 1724342694_CV5.pdf\n",
            "Saving 1724342704_CV6.pdf to 1724342704_CV6.pdf\n",
            "Saving 1724342714_CV7.pdf to 1724342714_CV7.pdf\n",
            "Saving 1724342728_CV8.pdf to 1724342728_CV8.pdf\n",
            "Saving 1724342738_CV9.pdf to 1724342738_CV9.pdf\n",
            "Archivos cargados: ['1724342646_CV1.pdf', '1724342661_CV2.pdf', '1724342673_CV3.pdf', '1724342683_CV4.pdf', '1724342694_CV5.pdf', '1724342704_CV6.pdf', '1724342714_CV7.pdf', '1724342728_CV8.pdf', '1724342738_CV9.pdf']\n"
          ]
        }
      ]
    },
    {
      "cell_type": "markdown",
      "source": [
        "#Procesamiento de archivos pdf"
      ],
      "metadata": {
        "id": "Da8RIwTP34TC"
      }
    },
    {
      "cell_type": "code",
      "source": [
        "# Paso 2: Configuración de carpetas\n",
        "carpeta_pdf = '/content/CVs'\n",
        "carpeta_txt = '/content/Texto_2'\n",
        "\n",
        "os.makedirs(carpeta_pdf, exist_ok=True)\n",
        "os.makedirs(carpeta_txt, exist_ok=True)\n",
        "\n",
        "\n",
        "# Paso 4: Procesar los PDFs\n",
        "for archivo in os.listdir(carpeta_pdf):\n",
        "    if archivo.endswith('.pdf'):\n",
        "        archivo_pdf = os.path.join(carpeta_pdf, archivo)\n",
        "\n",
        "        archivo_pdf_con_ocr = os.path.join(carpeta_txt, f'{os.path.splitext(archivo)[0]}_ocr.pdf')\n",
        "\n",
        "        # Aplicar OCR al PDF\n",
        "        ocrmypdf.ocr(archivo_pdf, archivo_pdf_con_ocr, force_ocr=True)# reconocimiento optico de caracteres\n",
        "\n",
        "        # Extraer texto del PDF procesado\n",
        "        texto_extraido = \"\"\n",
        "        with open(archivo_pdf_con_ocr, 'rb') as pdf_con_ocr:\n",
        "            pdf_reader = PyPDF2.PdfReader(pdf_con_ocr)\n",
        "            for pagina in pdf_reader.pages:\n",
        "                texto_extraido += pagina.extract_text()\n",
        "\n",
        "        # Guardar texto extraído como archivo .txt\n",
        "        archivo_salida = os.path.join(carpeta_txt, f'{os.path.splitext(archivo)[0]}.txt')\n",
        "        with open(archivo_salida, 'w', encoding='utf-8') as f:\n",
        "            f.write(texto_extraido)\n",
        "\n",
        "        print(f'Texto extraído y guardado de: {archivo}')"
      ],
      "metadata": {
        "id": "yTN0Xyxl19oK"
      },
      "execution_count": null,
      "outputs": []
    },
    {
      "cell_type": "markdown",
      "source": [
        "#Desarrollo y pruebas"
      ],
      "metadata": {
        "id": "-DOUpua54CJc"
      }
    },
    {
      "cell_type": "markdown",
      "source": [
        "##Funciones"
      ],
      "metadata": {
        "id": "8LRglN2zN6zo"
      }
    },
    {
      "cell_type": "code",
      "source": [
        "def normalizar_texto(texto):\n",
        "    \"\"\"\n",
        "    Normaliza el texto eliminando caracteres invisibles, espacios extra y puntuación innecesaria.\n",
        "\n",
        "    Args:\n",
        "        texto (str): Texto a normalizar.\n",
        "\n",
        "    Returns:\n",
        "        str: Texto normalizado.\n",
        "    \"\"\"\n",
        "    # Eliminar caracteres no alfabéticos o espaciales y convertir a minúsculas\n",
        "    texto_normalizado = re.sub(r'[^\\w\\s]', '', texto.lower())  # Elimina puntuación\n",
        "    texto_normalizado = re.sub(r'\\s+', ' ', texto_normalizado).strip()  # Elimina espacios extra\n",
        "    return texto_normalizado"
      ],
      "metadata": {
        "id": "5ootGzKON-Lh"
      },
      "execution_count": 6,
      "outputs": []
    },
    {
      "cell_type": "code",
      "source": [
        "def calcular_coincidencias(cv, frases_ia):\n",
        "    \"\"\"\n",
        "    Calcula las coincidencias exactas de palabras o frases en un CV y devuelve las frases coincidentes.\n",
        "\n",
        "    Args:\n",
        "        cv (str): Texto del CV.\n",
        "        frases_ia (list): Lista de palabras o frases clave.\n",
        "\n",
        "    Returns:\n",
        "        tuple: Número de coincidencias y lista de frases coincidentes.\n",
        "    \"\"\"\n",
        "    # Normalizamos el CV\n",
        "    cv_normalizado = normalizar_texto(cv)\n",
        "\n",
        "    frases_encontradas = []\n",
        "    for frase in frases_ia:\n",
        "        frase_normalizada = normalizar_texto(frase)  # Normalizamos la frase clave\n",
        "\n",
        "        # Verificamos si la frase normalizada está contenida en el CV normalizado\n",
        "        if frase_normalizada in cv_normalizado:\n",
        "            frases_encontradas.append(frase)\n",
        "\n",
        "    return len(frases_encontradas), frases_encontradas"
      ],
      "metadata": {
        "id": "C4-f5JcjOE46"
      },
      "execution_count": 7,
      "outputs": []
    },
    {
      "cell_type": "code",
      "source": [
        "def mostrar_similitudes_semanticas(cvs:list, frases_ia:list, similitudes:np.array, limite_caracteres:int=50) -> None:\n",
        "    \"\"\"\n",
        "    Muestra los primeros caracteres de cada CV y sus similitudes semánticas promedio con frases IA.\n",
        "\n",
        "    Args:\n",
        "        cvs (list): Lista de textos de los CVs.\n",
        "        frases_ia (list): Lista de frases relacionadas con IA.\n",
        "        similitudes (ndarray): Matriz de similitudes calculadas (CVs x frases IA).\n",
        "        limite_caracteres (int): Número de caracteres iniciales a mostrar por CV.\n",
        "    \"\"\"\n",
        "    print(\"Similitudes semánticas por CV:\")\n",
        "    for i, cv in enumerate(cvs):\n",
        "        texto_corto = cv[:limite_caracteres] + \"...\" if len(cv) > limite_caracteres else cv\n",
        "        similitud_promedio = similitudes[i].mean()\n",
        "        print(f\"CV {i+1}:\")\n",
        "        print(f\"Texto: {texto_corto}\")\n",
        "        print(f\"Similitud semántica promedio: {similitud_promedio:.4f}\\n\")"
      ],
      "metadata": {
        "id": "MQK18nSVOMQi"
      },
      "execution_count": 8,
      "outputs": []
    },
    {
      "cell_type": "code",
      "source": [
        "def calcular_puntaje(cvs:list, frases_ia:list, embeddings_cvs:list, embeddings_frases:list, w1:float=0.8, w2:float=0.2, factor_coincidencias:int=16, factor_similitud:int=9) -> list:\n",
        "    \"\"\"\n",
        "    Calcula el puntaje ajustado para cada CV y lo escala individualmente entre 1 y 10,\n",
        "    permitiendo ajustar los pesos de las coincidencias exactas y las similitudes semánticas,\n",
        "    con factores adicionales para amplificar las influencias.\n",
        "\n",
        "    Args:\n",
        "        cvs (list): Lista de textos de los CVs.\n",
        "        frases_ia (list): Lista de palabras y frases relacionadas con IA.\n",
        "        embeddings_cvs (list): Embeddings de los CVs.\n",
        "        embeddings_frases (list): Embeddings de las frases/ palabras clave de IA.\n",
        "        w1 (float): Peso para las coincidencias exactas (entre 0 y 1).\n",
        "        w2 (float): Peso para las similitudes semánticas (entre 0 y 1).\n",
        "        factor_coincidencias (float): Factor para amplificar el impacto de las coincidencias exactas.\n",
        "        factor_similitud (float): Factor para amplificar el impacto de la similitud semántica.\n",
        "\n",
        "    Returns:\n",
        "        list: Puntajes escalados entre 1 y 10 para cada CV.\n",
        "    \"\"\"\n",
        "    puntajes_ajustados = []\n",
        "\n",
        "    # Asegurarse de que la suma de w1 y w2 sea 1\n",
        "    if w1 + w2 != 1:\n",
        "        raise ValueError(\"La suma de los pesos w1 y w2 debe ser 1.\")\n",
        "\n",
        "    # Para cada CV\n",
        "    for cv, embedding_cv in zip(cvs, embeddings_cvs):\n",
        "        coincidencias = 0\n",
        "        similitudes_semanticas = []\n",
        "\n",
        "        # Calcular coincidencias exactas\n",
        "        for frase in frases_ia:\n",
        "            if frase.lower() in cv.lower():\n",
        "                coincidencias += 1\n",
        "\n",
        "        # Calcular similitudes semánticas\n",
        "        for embedding_frase in embeddings_frases_ia:\n",
        "            similitud = np.dot(embedding_cv, embedding_frase) / (np.linalg.norm(embedding_cv) * np.linalg.norm(embedding_frase))\n",
        "            similitudes_semanticas.append(similitud)\n",
        "\n",
        "        # Promedio de similitudes semánticas\n",
        "        similitud_promedio = np.mean(similitudes_semanticas) if similitudes_semanticas else 0\n",
        "\n",
        "        # Amplificar el impacto de las coincidencias exactas y similitudes semánticas\n",
        "        coincidencias_ajustadas = coincidencias * factor_coincidencias\n",
        "        similitud_ajustada = similitud_promedio * factor_similitud\n",
        "\n",
        "        # Calcular el puntaje ajustado\n",
        "        puntaje_ajustado = (w1 * coincidencias_ajustadas) + (w2 * similitud_ajustada)\n",
        "\n",
        "        # Escalar el puntaje entre 1 y 10\n",
        "        min_local = 0  # valor mínimo esperado (puede ajustarse)\n",
        "        max_local = 30  # valor máximo esperado (puede ajustarse)\n",
        "\n",
        "        puntaje_escalado = 1 + 9 * (puntaje_ajustado - min_local) / (max_local - min_local)\n",
        "\n",
        "        # Agregar el puntaje escalado a la lista\n",
        "        puntajes_ajustados.append(puntaje_escalado)\n",
        "\n",
        "    return puntajes_ajustados\n"
      ],
      "metadata": {
        "id": "lB4dUjZjOUKb"
      },
      "execution_count": 9,
      "outputs": []
    },
    {
      "cell_type": "markdown",
      "source": [
        "##Generación de embeddings"
      ],
      "metadata": {
        "id": "MSA3K2xV5GQu"
      }
    },
    {
      "cell_type": "markdown",
      "source": [
        "###Resumen del código\n",
        "\n",
        "El objetivo es analizar CVs en formato texto para determinar su relevancia hacia temas relacionados con IA. Utiliza dos enfoques principales:\n",
        "\n",
        "1. **Coincidencias exactas:** Identifica frases clave relacionadas con IA dentro de los textos de los CVs.\n",
        "2. **Similitud semántica:** Calcula qué tan similares son los textos de los CVs a una lista de frases clave, evaluando el significado.\n",
        "\n",
        "###Componentes clave\n",
        "\n",
        "####**Modelo de lenguaje preentrenado**\n",
        "Se utiliza un modelo `SentenceTransformer` preentrenado (`distilbert-base-nli-stsb-mean-tokens`) para convertir tanto las frases clave como los CVs en vectores numéricos (embeddings). Esto permite medir similitudes semánticas entre los textos.\n",
        "\n",
        "####**Lista de frases clave**\n",
        "Se define una lista extensa de términos y frases relacionadas con IA, como \"Machine Learning\", \"Deep Learning\", \"Redes Neuronales\", etc. Estas frases son el punto de referencia para evaluar la relevancia de los CVs.\n",
        "\n",
        "####**Carga de CVs**\n",
        "Los archivos .txt que contienen los CVs se leen desde una carpeta específica y su contenido se almacena en una lista para procesarlos posteriormente.\n",
        "\n",
        "###Procesos principales\n",
        "\n",
        "####**Cálculo de similitud semántica**\n",
        "Se generan embeddings para los CVs y las frases clave. Luego, se utiliza la similitud de coseno para medir qué tan cercanos son los embeddings de los CVs a los de las frases clave, permitiendo una evaluación semántica más profunda.\n",
        "\n",
        "####**Búsqueda de coincidencias exactas**\n",
        "Se normaliza el texto de los CVs y las frases clave (eliminando puntuación y caracteres invisibles). Se busca si las frases clave aparecen exactamente en cada CV, devolviendo la cantidad de coincidencias y las frases encontradas.\n",
        "\n",
        "###Resultados esperados\n",
        "\n",
        "- **Coincidencias exactas:** Se informa cuántas frases clave aparecen en cada CV y cuáles son.\n",
        "- **Similitudes semánticas:** Se calcula y muestra el promedio de similitudes para cada CV, lo que permite evaluar la relación general del texto con los temas de IA.\n",
        "\n",
        "###Aplicaciones\n",
        "Este análisis puede ser útil para filtrar y priorizar CVs en procesos de selección relacionados con puestos en IA, ayudando a identificar candidatos con experiencia o interés en el área.\n"
      ],
      "metadata": {
        "id": "u91wDfjB5NPW"
      }
    },
    {
      "cell_type": "code",
      "source": [
        "# Cargar el modelo preentrenado para generar los embeddings\n",
        "modelo = SentenceTransformer('distilbert-base-nli-stsb-mean-tokens')"
      ],
      "metadata": {
        "id": "vZJYs3ZnyPt8",
        "colab": {
          "base_uri": "https://localhost:8080/",
          "height": 493,
          "referenced_widgets": [
            "d77c4588870d4fac85a719c098848688",
            "d53b3e8b95f9450f85a96afecc45c7c9",
            "e1e4c537ed1e4cd38ce26d1c3f2b5442",
            "0bdf939d86434b29b75de0d03f3947f3",
            "72a2effc31d749ccb3c7575b5ac743f5",
            "5b413d1b5296476e928226ca49910876",
            "3be08083d9d5465bb6a1ae4aa82d7f5f",
            "cfa1e56ee68d449391d788e129bb915b",
            "29b7466d8e5544588a7e17b968335b6b",
            "81c7f2773ea4431eb48866990fabc399",
            "b74646a956554c3bac86896023bd6452",
            "20f9da5b3bd84386a2d1c781bdea2cbb",
            "2f84ffe498b84c21b3585e57484557cb",
            "e073222b2c0841d1a2b30102fcf0a34d",
            "d3691aa54fec4016b456871932f7638c",
            "64cfe2c2776d402ebe45fde7047bb023",
            "a1d37385245c4ba6a2cb901e734f5256",
            "12167879f0f447c1a3a31954b6ecdcd9",
            "750fcf9ea77f4526a319278777b7786b",
            "1be4d5e4292542c8ba40db7d02ea3d26",
            "52fed378587844ff9ed57b1a05f1df98",
            "97a29faacbf54d4980c9a4d264153f4a",
            "a948a5240bda4a0b8274862f33852960",
            "9a845acdb6434d65a7f86a4de08eea1f",
            "0e0e6f7f5fb0459c97adedbbd29cb621",
            "19d74ccc7d584ce480514d76bfd2360b",
            "e61dfbeb3be04ef0b783a18272e02032",
            "7e69982aa6844e54988397c3468697df",
            "b4074f15ff6945c6ba8d1df6307c926b",
            "a3db6b17a9ee4e9cb07aa9fa45eb9700",
            "65c6a1bf4565494387595e739727e4f6",
            "63cf4265d2924a1d8a8747b3d76a8491",
            "f33a417ebe124321a7f3c3f3b5e7541e",
            "2a013a082ac24eeabc9086db390753cd",
            "c1c85514d11a47d8abea0fdc9b38665c",
            "ca15b27dbd814daa8be43a51d235d5fa",
            "20b7f48cd8db4020b320f5e31386b967",
            "294bd48ca00c4a1f895a7c13a0523688",
            "95d292c67ff94ca29aa51641fa04ba3c",
            "678662349cc0429b997571d921dd0d1d",
            "d96216a844574c2695934a42a558e2b0",
            "f0fb3cfd679a44f1a74ff3e9d758d6b2",
            "8b32989ab33e4e659aed70d8bde39b56",
            "9120efdabda64c1ca1f0767d62a6b021",
            "2fc435aaacf14a469e2fe4c76e0d3cb6",
            "ef5fc998eb294e56aa3ea12f5c71bdf6",
            "6286d3b7599e4b4191c456da87577b93",
            "1e7b98dd7a1348d2b2aa823e5ab35506",
            "7ea292eeafd54b29881609752c762da3",
            "80540ef31e164612bd899239a7d346de",
            "fa6439ffba0e48989279898b0ba7247b",
            "c71331c02e5c4c888056abe68062eb77",
            "5fd074cdd0e54f819517246296a31721",
            "e9edf9b55bf64f26b1230ffcdadb6903",
            "3e6f15ff0d06423b8297df9bf5def8f1",
            "cf2ce5e1910949bbb1dfb967bdd1771a",
            "5020cafd8c3c4dd2bfe7ec3b6fdbe7b1",
            "ca4e7373b8df4956886654c4efeb2863",
            "32b268519cf2491b915702399d574ac4",
            "85017b3b5c774cfa9f003c9fe429575c",
            "a65fe195b19e42b899ca99e5ffd5ef01",
            "86ede8eda2c34b16aac57e56fd3b10a6",
            "0190e08fbe7d47d28346e9bd8d3b9ad9",
            "23bee6455848402287974d59e83910d9",
            "d57986d429764c1c999d975123ac5a1d",
            "e1817ca9fcee4a6bbb96d5cc03633afd",
            "92a187e705854bd78de6f2722c9e4f9f",
            "0daa3a9a81324b47bbdfa74c9c0c990c",
            "f8e4ec94aa5a4f449d49f654f766031d",
            "ddde981ae33c418e96f9a92d4d4ff3e3",
            "06c273a8de98442c9721a3ec76ce2ab7",
            "cfc00249e17041cead8a47b6010f2ce2",
            "dd68176f826146ee876339f9ef80c0cb",
            "1a6864b433ac40949551e508c3e23f9e",
            "ccae4770fac947beba05cfb48573c247",
            "b36f209f8a014c3e96c75050cd1b5fd0",
            "d796ed6f1c8a42299a5a8fd0d7041008",
            "8acb79c5c01f4a8fb1ecc227e7b3c25f",
            "0db7758329ee447581fef34a0ecc83dc",
            "8c154e8bfec3471ea0b1bc0e36150d3b",
            "8e53874cf4bf42d59ee04784d9b7180d",
            "f67d5007c11d4c32b7112c55deef1894",
            "f76ff3de683b409ca6288781ceac8b92",
            "b3b28e1068394a38bd0904eaa55f72d6",
            "37090d8d165e4305997333ffb71e7f3c",
            "9dce17ae878047089d7b6d35c24a26f1",
            "b7c72116411c4921ae42f7a69edc72f6",
            "574df3651ce24ee483be4adcdf515235",
            "18328d0cce8946a59c7d2d2a880d2c74",
            "d7dcc73a359c4a9e9a98ac6a9b9df112",
            "0cee910d47dc439baa3f45b78917aed9",
            "abbb3aa3450f42868b54d826c8aa48b4",
            "9086aa72a15f434eb24a2cd07ae73056",
            "804b3a53365348349770153ea8e76c42",
            "3dd2c244d23a4bb8af2319e6ee34002b",
            "dadade482b7c4698b1a8113a607e762f",
            "841bed38b2d74b1a850c1b7b68261cb6",
            "e16111cd62c44e13bfce46a30e2dbf0e",
            "f0eeffdb4f0041dda4e1684aa4ecac8a",
            "8c434bb83c664fa483c40b3643a0d9ec",
            "406163d5d67a4061aa39350da8bd1c43",
            "9e3f8b42e5b64be08f355b2ff2e907e8",
            "e24655552cef4733bcc2630c167f42b5",
            "ff6e4f1f4f4e41aaa793e56703442cae",
            "632f59a3170840b88fe3a55e26cd32f8",
            "8b2cbf599c1c44f8b95f57578d34c3b2",
            "1755558c489b4c1fbf49563ed85a9aa0",
            "7c9b661b5f4d4260b9baabbba2b75e4b",
            "f99806b38c0444d882fe7c1825609456",
            "cfbd131a77d147338ee99d9557347e4f",
            "ffb3cd1d9674445fb6f818eff3281f0b",
            "c1736c83acc74b8e85d6c8b5c139a66a",
            "c9dbb007f0394dd7976e660c0dd22158",
            "582fa870a20d45c8a0ea94517f87d185",
            "f193d268c1944f62bd0bf417fcd78959",
            "55dbf071cbc54b9899dfc7af4ff9bce9",
            "8b6629a2ec8e4a4c9697091ab7ffd02e",
            "d2943265fca749d68030ebecff98d8ae",
            "e13df794eed6407db66469710113ee76",
            "45982513053f49909ec2982859cc3af4",
            "f06fe437805c4bfe8b4652186d82e135"
          ]
        },
        "outputId": "800d9efb-0f9d-418c-9625-4abdb07c6dec"
      },
      "execution_count": 10,
      "outputs": [
        {
          "output_type": "stream",
          "name": "stderr",
          "text": [
            "/usr/local/lib/python3.10/dist-packages/huggingface_hub/utils/_auth.py:94: UserWarning: \n",
            "The secret `HF_TOKEN` does not exist in your Colab secrets.\n",
            "To authenticate with the Hugging Face Hub, create a token in your settings tab (https://huggingface.co/settings/tokens), set it as secret in your Google Colab and restart your session.\n",
            "You will be able to reuse this secret in all of your notebooks.\n",
            "Please note that authentication is recommended but still optional to access public models or datasets.\n",
            "  warnings.warn(\n"
          ]
        },
        {
          "output_type": "display_data",
          "data": {
            "text/plain": [
              "modules.json:   0%|          | 0.00/229 [00:00<?, ?B/s]"
            ],
            "application/vnd.jupyter.widget-view+json": {
              "version_major": 2,
              "version_minor": 0,
              "model_id": "d77c4588870d4fac85a719c098848688"
            }
          },
          "metadata": {}
        },
        {
          "output_type": "display_data",
          "data": {
            "text/plain": [
              "config_sentence_transformers.json:   0%|          | 0.00/122 [00:00<?, ?B/s]"
            ],
            "application/vnd.jupyter.widget-view+json": {
              "version_major": 2,
              "version_minor": 0,
              "model_id": "20f9da5b3bd84386a2d1c781bdea2cbb"
            }
          },
          "metadata": {}
        },
        {
          "output_type": "display_data",
          "data": {
            "text/plain": [
              "README.md:   0%|          | 0.00/4.05k [00:00<?, ?B/s]"
            ],
            "application/vnd.jupyter.widget-view+json": {
              "version_major": 2,
              "version_minor": 0,
              "model_id": "a948a5240bda4a0b8274862f33852960"
            }
          },
          "metadata": {}
        },
        {
          "output_type": "display_data",
          "data": {
            "text/plain": [
              "sentence_bert_config.json:   0%|          | 0.00/53.0 [00:00<?, ?B/s]"
            ],
            "application/vnd.jupyter.widget-view+json": {
              "version_major": 2,
              "version_minor": 0,
              "model_id": "2a013a082ac24eeabc9086db390753cd"
            }
          },
          "metadata": {}
        },
        {
          "output_type": "display_data",
          "data": {
            "text/plain": [
              "config.json:   0%|          | 0.00/555 [00:00<?, ?B/s]"
            ],
            "application/vnd.jupyter.widget-view+json": {
              "version_major": 2,
              "version_minor": 0,
              "model_id": "2fc435aaacf14a469e2fe4c76e0d3cb6"
            }
          },
          "metadata": {}
        },
        {
          "output_type": "display_data",
          "data": {
            "text/plain": [
              "model.safetensors:   0%|          | 0.00/265M [00:00<?, ?B/s]"
            ],
            "application/vnd.jupyter.widget-view+json": {
              "version_major": 2,
              "version_minor": 0,
              "model_id": "cf2ce5e1910949bbb1dfb967bdd1771a"
            }
          },
          "metadata": {}
        },
        {
          "output_type": "display_data",
          "data": {
            "text/plain": [
              "tokenizer_config.json:   0%|          | 0.00/505 [00:00<?, ?B/s]"
            ],
            "application/vnd.jupyter.widget-view+json": {
              "version_major": 2,
              "version_minor": 0,
              "model_id": "92a187e705854bd78de6f2722c9e4f9f"
            }
          },
          "metadata": {}
        },
        {
          "output_type": "display_data",
          "data": {
            "text/plain": [
              "vocab.txt:   0%|          | 0.00/232k [00:00<?, ?B/s]"
            ],
            "application/vnd.jupyter.widget-view+json": {
              "version_major": 2,
              "version_minor": 0,
              "model_id": "8acb79c5c01f4a8fb1ecc227e7b3c25f"
            }
          },
          "metadata": {}
        },
        {
          "output_type": "display_data",
          "data": {
            "text/plain": [
              "tokenizer.json:   0%|          | 0.00/466k [00:00<?, ?B/s]"
            ],
            "application/vnd.jupyter.widget-view+json": {
              "version_major": 2,
              "version_minor": 0,
              "model_id": "18328d0cce8946a59c7d2d2a880d2c74"
            }
          },
          "metadata": {}
        },
        {
          "output_type": "display_data",
          "data": {
            "text/plain": [
              "special_tokens_map.json:   0%|          | 0.00/112 [00:00<?, ?B/s]"
            ],
            "application/vnd.jupyter.widget-view+json": {
              "version_major": 2,
              "version_minor": 0,
              "model_id": "8c434bb83c664fa483c40b3643a0d9ec"
            }
          },
          "metadata": {}
        },
        {
          "output_type": "display_data",
          "data": {
            "text/plain": [
              "1_Pooling/config.json:   0%|          | 0.00/190 [00:00<?, ?B/s]"
            ],
            "application/vnd.jupyter.widget-view+json": {
              "version_major": 2,
              "version_minor": 0,
              "model_id": "ffb3cd1d9674445fb6f818eff3281f0b"
            }
          },
          "metadata": {}
        }
      ]
    },
    {
      "cell_type": "code",
      "source": [
        "# Lista de frases clave relacionadas con IA\n",
        "frases_ia = [\n",
        "    \"Machine Learning\", \"Deep Learning\", \"Artificial Intelligence\", \"Neural Networks\",\n",
        "    \"Computer Vision\", \"Natural Language Processing\", \"Reinforcement Learning\",\n",
        "    \"Supervised Learning\", \"Unsupervised Learning\", \"Semi-Supervised Learning\",\n",
        "    \"Transfer Learning\", \"Explainable AI\", \"Edge Computing\", \"Generative AI\",\n",
        "    \"Big Data\", \"Data Mining\", \"Data Science\", \"Feature Engineering\", \"Model Optimization\",\n",
        "    \"Predictive Analytics\", \"Clustering Algorithms\", \"Classification Algorithms\",\n",
        "    \"Regression Algorithms\", \"Decision Trees\", \"Support Vector Machines\",\n",
        "    \"Convolutional Neural Networks\", \"Recurrent Neural Networks\", \"Transformers\",\n",
        "    \"Gradient Boosting\", \"Hyperparameter Tuning\", \"AutoML\", \"AI Ethics\", \"Fairness in AI\",\n",
        "    \"Bias Detection\", \"GPT\", \"BERT\", \"LLM (Large Language Models)\", \"NLP\", \"OCR\",\n",
        "    \"Speech Recognition\", \"Text-to-Speech\", \"Speech-to-Text\", \"GANs (Generative Adversarial Networks)\",\n",
        "    \"RL (Reinforcement Learning)\", \"AI for Healthcare\", \"AI for Finance\", \"AI for Education\",\n",
        "    \"AI for Industry 4.0\", \"Autonomous Systems\", \"AI Deployment\", \"AI Scalability\", \"AI Frameworks\",\n",
        "    \"AI Research\", \"Inteligencia Artificial\", \"Aprendizaje Automático\", \"Aprendizaje Supervisado\",\n",
        "    \"Aprendizaje No Supervisado\", \"Aprendizaje Semi-Supervisado\", \"Aprendizaje por Refuerzo\",\n",
        "    \"Aprendizaje Profundo\", \"Redes Neuronales\", \"Visión por Computadora\",\n",
        "    \"Procesamiento de Lenguaje Natural\", \"Analítica Predictiva\", \"Minería de Datos\", \"Ciencia de Datos\",\n",
        "    \"Ingeniería de Características\", \"Optimización de Modelos\", \"Análisis Predictivo\", \"Clústeres\",\n",
        "    \"Algoritmos de Clasificación\", \"Algoritmos de Regresión\", \"Árboles de Decisión\",\n",
        "    \"Máquinas de Soporte Vectorial\", \"Redes Neuronales Convolucionales\",\n",
        "    \"Redes Neuronales Recurrentes\", \"Transformadores\", \"Ajuste de Hiperparámetros\",\n",
        "    \"Modelos Explicables\", \"Modelos de Lenguaje Grande\", \"Toma de Decisiones Autónomas\",\n",
        "    \"Inteligencia Artificial Responsable\", \"Ética en IA\", \"Detección de Sesgos\", \"Reconocimiento de Voz\",\n",
        "    \"Texto a Voz\", \"Voz a Texto\", \"Generación de Imágenes\", \"Sistemas Autónomos\", \"IA en la Salud\",\n",
        "    \"IA en Finanzas\", \"IA en la Industria\", \"IA en la Educación\", \"Computación en el Borde\",\n",
        "    \"Datos Masivos\", \"Automatización de Procesos\", \"Investigación en IA\"\n",
        "]\n"
      ],
      "metadata": {
        "id": "CRbcflhVyYa8"
      },
      "execution_count": 11,
      "outputs": []
    },
    {
      "cell_type": "code",
      "source": [
        "# Generar embeddings para las frases clave\n",
        "embeddings_frases_ia = modelo.encode(frases_ia)"
      ],
      "metadata": {
        "id": "f9hFrteayZlU"
      },
      "execution_count": 12,
      "outputs": []
    },
    {
      "cell_type": "code",
      "source": [
        "# Mostrar algunos embeddings generados\n",
        "print(f\"Ejemplo de embedding para la frase 'Machine Learning':\\n{embeddings_frases_ia[0]}\")"
      ],
      "metadata": {
        "collapsed": true,
        "id": "4bc5hrICycVV",
        "colab": {
          "base_uri": "https://localhost:8080/"
        },
        "outputId": "fd104621-be6e-4787-8add-fb3276834636"
      },
      "execution_count": 13,
      "outputs": [
        {
          "output_type": "stream",
          "name": "stdout",
          "text": [
            "Ejemplo de embedding para la frase 'Machine Learning':\n",
            "[-9.50031638e-01  1.14055537e-01 -6.25737429e-01  3.18822473e-01\n",
            "  4.52961206e-01 -1.02995336e+00  7.90057302e-01  5.19041955e-01\n",
            "  3.74632999e-02 -8.40581775e-01  1.29867986e-01  8.20997179e-01\n",
            " -5.12508929e-01  1.76920481e-02  3.05397511e-02 -4.11688805e-01\n",
            " -4.69403744e-01 -7.49564111e-01 -6.53422952e-01 -5.27798116e-01\n",
            "  1.05027974e+00 -2.72644758e-01  1.01474613e-01  1.60405278e+00\n",
            " -2.52612382e-01 -9.35565308e-03  3.03009391e-01  3.62579107e-01\n",
            " -5.36725819e-01  4.69294012e-01 -7.91147172e-01 -4.01288480e-01\n",
            "  5.27140915e-01  7.01254010e-01  5.81638217e-01  9.17648554e-01\n",
            " -2.49910727e-02 -2.32714981e-01  1.55082300e-01  2.72262961e-01\n",
            "  3.21739167e-01  7.93310106e-01 -3.24822813e-01  3.10771286e-01\n",
            " -1.92007273e-01 -4.16371018e-01 -1.04466975e+00  3.36931869e-02\n",
            " -1.00996032e-01 -3.09452623e-01 -6.24544561e-01  1.87111825e-01\n",
            "  3.27712119e-01 -5.61110079e-01  7.52652064e-04  7.27179229e-01\n",
            " -6.94550991e-01  4.06167507e-01  4.43532228e-01 -7.35897422e-01\n",
            " -1.07339382e-01 -5.82733788e-02 -3.33378762e-01 -2.07316130e-03\n",
            "  9.65694338e-02 -1.30365357e-01  3.16975772e-01 -3.70488793e-01\n",
            "  3.87214929e-01 -9.51926470e-01  6.24287911e-02 -1.45010126e+00\n",
            " -9.61052060e-01 -8.54501605e-01  6.90208375e-01 -8.54921818e-01\n",
            "  3.62560511e-01 -1.32980883e-01  1.33745360e+00  4.83991206e-01\n",
            " -7.03355670e-01 -2.94549428e-02  7.13050604e-01  5.27694896e-02\n",
            "  2.34908789e-01 -3.98224890e-01 -3.83901075e-02  3.46664667e-01\n",
            " -8.61572027e-01  1.86403126e-01 -4.29404080e-01 -1.09300172e+00\n",
            " -6.14865601e-01 -4.69667464e-03 -5.93026042e-01  4.37355578e-01\n",
            " -7.97785819e-04  2.36894935e-01 -4.67790067e-01  9.69866037e-01\n",
            " -5.82771897e-01  3.90814468e-02  8.19845080e-01  6.75390720e-01\n",
            "  6.98611975e-01  4.07003276e-02  5.68407059e-01 -5.03356040e-01\n",
            " -1.43652707e-01 -7.34782666e-02 -5.59994578e-02 -6.00275159e-01\n",
            " -2.26509631e-01  7.52687216e-01  2.17612058e-01  5.44257283e-01\n",
            " -8.01959753e-01  4.01571989e-01  4.55637783e-01 -4.54686970e-01\n",
            "  2.05254570e-01  7.55068541e-01  2.95930743e-01  1.89274955e+00\n",
            " -5.46989501e-01  1.05598640e+00  2.65326023e-01 -4.91021633e-01\n",
            "  9.36361670e-01 -8.80853415e-01  1.29937232e+00  6.71294212e-01\n",
            "  3.53532851e-01 -5.55112481e-01  8.60819757e-01  3.71137679e-01\n",
            "  3.98413360e-01 -3.85449708e-01 -4.75360811e-01  6.16563380e-01\n",
            " -1.44961119e-01  2.98800841e-02  5.13142467e-01  1.79325342e-02\n",
            "  1.52414799e+00 -7.79986739e-01 -2.37813115e-01  6.73243284e-01\n",
            " -4.26489487e-02 -3.01552743e-01 -1.09743249e+00  1.79070622e-01\n",
            " -4.86590415e-01 -4.63111579e-01  4.62294668e-01  7.04441011e-01\n",
            " -9.94488418e-01 -7.00150251e-01  1.18032746e-01  5.15801132e-01\n",
            " -5.41713834e-01 -4.39843573e-02 -1.03686273e-01 -6.81908250e-01\n",
            " -1.47806072e+00 -9.76220295e-02  7.19792426e-01  2.18185097e-01\n",
            " -3.49835366e-01  4.29577708e-01  2.36789986e-01  2.90317927e-02\n",
            "  6.54555023e-01  5.31255826e-02 -1.29491568e+00  4.02112246e-01\n",
            "  2.15610892e-01 -1.28475273e+00 -1.28386632e-01 -2.68612087e-01\n",
            " -5.19993424e-01  1.42487884e-01  4.05035764e-01  9.40608978e-02\n",
            " -5.07258594e-01  2.47940868e-02  1.24104470e-01 -1.03430045e+00\n",
            " -1.14567959e+00  4.13614333e-01 -1.33875817e-01 -6.12888396e-01\n",
            " -1.07603028e-01  6.52072430e-02  3.82849634e-01  7.75322616e-01\n",
            " -6.58681214e-01 -7.07346648e-02 -1.18521638e-02 -1.87027961e-01\n",
            "  2.05394506e-01 -2.36167133e-01 -2.76356786e-01 -1.31404853e+00\n",
            " -5.46570778e-01 -4.99881536e-01 -3.39135110e-01 -4.80385363e-01\n",
            " -2.44188026e-01 -8.06062222e-01  2.45399833e-01  3.29542518e-01\n",
            " -5.12734771e-01  6.70238554e-01  1.38238177e-01  1.62883890e+00\n",
            " -7.25472093e-01 -9.68242824e-01 -2.82613635e-01  3.37196887e-01\n",
            "  4.45744336e-01 -7.05750585e-02  1.08060610e+00  5.15331388e-01\n",
            "  3.62406105e-01  6.45893216e-01  3.77947807e-01  7.65881062e-01\n",
            "  1.44659972e+00 -1.04991242e-01 -9.19717193e-01  2.41509214e-01\n",
            "  3.63641083e-02  1.47007895e+00  1.53635547e-01  2.13698074e-01\n",
            "  1.38964355e-01 -3.36282909e-01  2.41468459e-01  4.94953036e-01\n",
            " -1.43901765e-01  1.58912629e-01 -1.77004814e-01  4.17511202e-02\n",
            "  9.60813403e-01  2.63997287e-01 -5.16845107e-01  1.32423925e+00\n",
            "  1.20290995e+00 -3.84861678e-02 -1.29634902e-01  2.10795313e-01\n",
            " -1.97984278e-01 -5.11852980e-01 -5.96970201e-01  9.30526257e-02\n",
            " -5.88490963e-01  1.40025884e-01 -1.51350260e-01  1.17973554e+00\n",
            " -8.21745694e-01  1.56905428e-01 -1.34212449e-01  5.41152239e-01\n",
            "  3.28708470e-01 -5.39825976e-01 -1.03369868e+00 -7.69160986e-01\n",
            "  3.60863924e-01 -8.49945724e-01 -3.56544197e-01 -1.32620847e+00\n",
            "  2.92140305e-01  4.86845851e-01  4.62143898e-01 -4.69560742e-01\n",
            " -1.75509289e-01 -4.82358709e-02 -7.35219121e-01  5.95697872e-02\n",
            " -9.80113268e-01 -2.27972880e-01 -4.79035676e-01 -1.74101815e-01\n",
            " -5.91491640e-01  1.19701195e+00 -6.58411860e-01 -1.25257230e+00\n",
            " -7.81160831e-01 -3.52084279e-01 -5.76984048e-01  5.00458926e-02\n",
            " -8.46068144e-01  8.65355909e-01 -4.59523015e-02 -7.51193166e-01\n",
            "  5.33884406e-01 -6.27569854e-01  9.29105878e-01 -3.53758276e-01\n",
            "  3.11274558e-01  9.03214812e-01 -2.19388247e-01 -2.93658227e-01\n",
            " -4.35174108e-01 -1.31152555e-01  2.58614451e-01 -3.23919237e-01\n",
            " -4.88110960e-01 -2.89409727e-01  2.16525704e-01 -3.50037724e-01\n",
            "  2.10818708e-01 -7.07020998e-01  3.52641582e-01  6.94061220e-01\n",
            "  4.00441289e-01 -3.68200123e-01 -3.28816116e-01  2.12571293e-01\n",
            " -5.10850370e-01  8.30860436e-01 -5.93730271e-01 -3.10917377e-01\n",
            "  4.34068888e-01  6.52676821e-01 -5.43968901e-02 -3.60763371e-01\n",
            " -2.54905313e-01  4.59521323e-01  7.22413808e-02 -5.64098358e-04\n",
            " -6.94920659e-01  1.73963189e-01  1.90444484e-01 -1.13569424e-01\n",
            " -1.03829896e+00 -1.18103042e-01 -4.58666265e-01 -1.40325212e+00\n",
            " -3.99376065e-01 -2.93749362e-01 -1.27801359e-01 -4.13972646e-01\n",
            "  9.07314777e-01  6.91805959e-01  1.47917196e-01  2.97156364e-01\n",
            "  4.64678764e-01  4.93432045e-01  6.20062292e-01 -4.00605440e-01\n",
            "  4.58831847e-01  4.48379874e-01 -6.75140500e-01 -4.55367744e-01\n",
            "  8.24446797e-01  2.18858674e-01  1.04221851e-02  3.81940842e-01\n",
            "  1.03577828e+00  3.94293457e-01  5.89901984e-01 -7.69024611e-01\n",
            " -2.17808992e-01  1.24270618e+00 -7.47508287e-01  4.54277217e-01\n",
            " -3.28657806e-01  1.09024048e-02  9.02217627e-01 -1.04400134e+00\n",
            "  3.11863840e-01 -3.19437077e-03 -5.94695926e-01 -1.21101424e-01\n",
            " -3.17961425e-01  5.36683738e-01 -2.60615855e-01 -6.17394924e-01\n",
            " -4.13609266e-01 -9.16115522e-01 -2.74833560e-01 -6.73621371e-02\n",
            " -8.99587095e-01 -7.81086266e-01  2.18979686e-01  4.60224062e-01\n",
            "  3.60187739e-01 -3.87353420e-01 -2.30725586e-01 -1.36283711e-01\n",
            " -4.51173186e-01 -4.18038845e-01 -6.12449646e-01 -3.91429543e-01\n",
            " -8.14323127e-01  9.61722970e-01 -6.14085197e-01 -4.17523623e-01\n",
            "  5.71457386e-01 -1.82330832e-02  5.49402893e-01 -6.63568199e-01\n",
            "  1.07644653e+00  3.17924976e-01  3.86736751e-01 -2.99328834e-01\n",
            "  8.01962137e-01 -2.86295652e-01 -1.64690495e-01 -4.10450026e-02\n",
            "  6.78813100e-01  4.71487641e-01 -2.91039765e-01 -2.99628258e-01\n",
            "  2.04820812e-01  2.73366898e-01 -3.43625724e-01  4.51434135e-01\n",
            "  5.33548415e-01  3.34134877e-01 -9.60017562e-01  5.99728703e-01\n",
            "  9.84972060e-01 -6.43480182e-01  9.81738389e-01 -3.41954291e-01\n",
            " -1.71977833e-01 -6.26582876e-02  7.05920517e-01  4.38123122e-02\n",
            " -7.32700348e-01 -4.04408634e-01 -1.87131763e-01 -3.14620048e-01\n",
            "  1.52398455e+00 -9.13519740e-01  1.27469316e-01 -9.81098831e-01\n",
            "  2.28723437e-02  9.67067406e-02 -5.56018949e-01 -7.25320697e-01\n",
            " -4.52119470e-01  1.40274477e+00  2.28117228e-01  1.37421012e-01\n",
            "  4.42188323e-01 -4.80766088e-01  8.93532693e-01 -2.97699064e-01\n",
            "  8.69168997e-01 -3.09044480e-01 -8.49784553e-01  3.49991620e-01\n",
            " -3.17068428e-01  5.50747886e-02 -4.97533649e-01 -2.96975255e-01\n",
            "  1.65530741e-01  5.36056638e-01 -1.10332742e-01  4.25489724e-01\n",
            " -1.37414277e+00  8.85000527e-02 -1.83686882e-01  4.95723993e-01\n",
            "  9.28907990e-01  1.49050176e-01  1.41936675e-01  2.00832084e-01\n",
            " -2.78765142e-01  6.20071769e-01  3.45587730e-01 -8.06797445e-01\n",
            " -6.10839486e-01 -2.79716790e-01  8.71791393e-02 -4.95489180e-01\n",
            " -4.32941437e-01 -2.02287883e-02  2.37365991e-01  2.55397081e-01\n",
            "  1.35542095e-01 -5.84554613e-01  3.76289189e-01  4.51232076e-01\n",
            " -4.23785746e-01 -1.26075339e+00 -6.73137531e-02  3.99954259e-01\n",
            "  8.28974992e-02  1.08202629e-01 -3.78205419e-01 -1.10308602e-01\n",
            " -1.58743504e-02  2.45587856e-01 -3.10048312e-01 -1.00090340e-01\n",
            "  3.43965530e-01 -3.34864169e-01 -6.09695137e-01  8.45201731e-01\n",
            "  6.91065788e-01  5.34055114e-01 -8.24386895e-01 -2.06325218e-01\n",
            " -1.68681681e-01  2.77386546e-01  2.55248338e-01  4.32956696e-01\n",
            "  1.01080298e+00  3.03876907e-01  1.72889411e-01 -3.02148491e-01\n",
            " -3.04473281e-01  3.19367275e-02 -7.93560669e-02  1.68124169e-01\n",
            "  5.10972381e-01  1.54003993e-01 -3.95879567e-01 -6.61824763e-01\n",
            "  5.77915311e-01  1.47715151e-01  1.35340169e-02  2.42311701e-01\n",
            " -2.44907707e-01  3.55618894e-01  2.27863818e-01 -8.10765475e-02\n",
            " -2.09223539e-01 -1.56917727e+00  1.23087488e-01  2.30070442e-01\n",
            " -8.33420083e-03  6.09885156e-01 -1.68398127e-01  4.55701590e-01\n",
            " -1.38613701e-01  3.09855402e-01  1.03447676e+00 -4.80735973e-02\n",
            "  6.39724374e-01  4.24021542e-01  4.61013973e-01 -1.62291974e-01\n",
            " -3.26161563e-01  3.11286021e-02 -1.05033946e+00  1.01453543e+00\n",
            " -2.81449854e-01  4.11851168e-01 -1.86010063e+00 -5.89584351e-01\n",
            " -3.42590183e-01 -1.54396689e+00  6.32567257e-02  3.85622621e-01\n",
            " -5.62380016e-01  7.46943057e-01  3.46895456e-01 -1.19847929e+00\n",
            "  4.67545450e-01 -4.96099144e-01  3.46359789e-01 -3.98829699e-01\n",
            "  3.33581388e-01  6.02285266e-01  1.42277524e-01 -5.32947540e-01\n",
            " -3.19485813e-01  1.04910564e+00 -7.20082819e-02 -4.91937041e-01\n",
            "  5.11850655e-01  5.43535590e-01 -1.43773660e-01 -5.25899589e-01\n",
            " -3.26686092e-02 -4.41512883e-01 -3.75203431e-01 -7.42429435e-01\n",
            "  1.01397097e+00  8.46820995e-02 -4.19881344e-01 -1.02448487e+00\n",
            " -2.26224810e-01  6.69496059e-02 -7.04891980e-01  8.20029616e-01\n",
            " -7.28873685e-02  3.20025869e-02 -9.24306139e-02 -5.51422834e-01\n",
            " -8.48066658e-02 -1.52942970e-01  3.50581408e-01  4.60050106e-01\n",
            "  6.16270341e-02 -1.03906989e+00 -1.78555131e-01  5.88915199e-02\n",
            "  9.02428031e-01 -7.73297071e-01 -5.82873404e-01 -6.45517588e-01\n",
            "  3.24392736e-01  1.00754797e+00 -2.37957790e-01  3.23487788e-01\n",
            " -2.08660588e-01  7.66957462e-01  8.92127395e-01  3.72686476e-01\n",
            " -1.77139163e+00 -8.44558835e-01  2.90797055e-02  3.67340505e-01\n",
            " -8.46311808e-01 -3.02239060e-01 -1.72328949e-01 -4.04229492e-01\n",
            "  8.26171100e-01 -1.04202759e+00  1.86410576e-01  1.93606958e-01\n",
            "  1.10007310e-02 -3.69139820e-01  6.25727713e-01  1.03567231e+00\n",
            "  9.84341502e-01  5.95472574e-01 -6.19993508e-01 -1.46780062e+00\n",
            " -3.20089936e-01  4.68042374e-01 -9.38427925e-01 -3.88836384e-01\n",
            "  6.15587652e-01  8.36379111e-01  1.02859020e+00 -8.03390622e-01\n",
            "  7.71431983e-01 -1.05713516e-01 -1.37206197e-01 -5.00405073e-01\n",
            " -9.66505781e-02  6.23968244e-01 -1.88935235e-01  4.46030974e-01\n",
            " -4.27437097e-01 -5.20250797e-01  5.09840846e-02 -7.30396956e-02\n",
            " -1.66594088e-01  5.83605886e-01  5.45681238e-01  1.51906922e-01\n",
            " -5.56584954e-01  1.10560322e+00  7.35691428e-01 -5.33980131e-01\n",
            "  5.58014989e-01  4.04317528e-01 -1.00590765e-01 -2.36340150e-01\n",
            "  9.73687693e-03 -6.69416070e-01  6.29341125e-01 -6.15025721e-02\n",
            " -1.97676465e-01  2.58589596e-01  5.30945897e-01 -9.34381634e-02\n",
            " -4.72881138e-01  4.35335964e-01 -5.02071977e-01 -1.99334383e-01\n",
            "  9.18811202e-01  1.18141897e-01  1.56863749e-01 -5.04375279e-01\n",
            " -2.81065702e-01  3.41560423e-01  5.40758133e-01  1.26666546e-01\n",
            "  3.43486488e-01  6.04270175e-02  5.53038776e-01  1.09182462e-01\n",
            " -3.42073202e-01 -2.37851799e-01 -3.75902414e-01 -9.56444860e-01\n",
            " -7.92876840e-01  6.19079113e-01 -1.10628173e-01  6.44351125e-01\n",
            " -8.51865888e-01 -4.46581692e-01  1.34767473e-01 -3.56720746e-01\n",
            " -1.57797492e+00  8.54432583e-02  2.19677716e-01  1.08191955e+00\n",
            "  3.84947509e-01 -5.22278488e-01 -8.00930709e-03  1.05733097e+00\n",
            "  2.53529966e-01 -5.21270745e-02  8.98930281e-02 -1.81514546e-02\n",
            "  2.34009363e-02 -1.26826063e-01 -5.96773803e-01 -1.81807086e-01\n",
            "  3.44490469e-01 -6.33676291e-01  9.87127423e-02 -5.69979012e-01\n",
            " -2.74348080e-01  7.21625328e-01  6.26787066e-01 -9.87042904e-01\n",
            " -5.21261036e-01  3.01364899e-01  6.33137167e-01 -2.72819012e-01\n",
            "  1.62925839e-01  1.69243276e+00 -8.54267031e-02 -2.56760448e-01\n",
            " -6.53492630e-01 -1.15819417e-01  7.82680213e-01 -1.85719073e-01\n",
            " -2.46673599e-01  1.07934214e-01 -2.13156968e-01  3.34734440e-01\n",
            "  2.23990865e-02 -4.22955677e-03 -2.08888912e+00 -5.81586003e-01\n",
            " -4.17118013e-01 -2.85158545e-01  1.81317002e-01  5.24182856e-01\n",
            " -7.40121961e-01 -2.94636041e-01 -7.56907105e-01  1.21924996e-01\n",
            " -7.63007522e-01 -5.17428160e-01  2.55152918e-02  5.77676475e-01\n",
            "  2.80572288e-02 -1.31002843e-01 -1.31413758e-01  4.73441631e-01\n",
            "  8.57782483e-01 -3.45849723e-01 -3.23578477e-01  9.41543996e-01]\n"
          ]
        }
      ]
    },
    {
      "cell_type": "code",
      "source": [
        "len(embeddings_frases_ia[0])"
      ],
      "metadata": {
        "id": "w6sdsyedyqAs",
        "colab": {
          "base_uri": "https://localhost:8080/"
        },
        "outputId": "98915626-b0bf-4de5-d11a-dd11a2828968"
      },
      "execution_count": 14,
      "outputs": [
        {
          "output_type": "execute_result",
          "data": {
            "text/plain": [
              "768"
            ]
          },
          "metadata": {},
          "execution_count": 14
        }
      ]
    },
    {
      "cell_type": "code",
      "source": [
        "# Carpeta donde están los archivos .txt generados\n",
        "carpeta_txt = './Texto_2'\n",
        "\n",
        "# Lista para almacenar el contenido de los CVs\n",
        "cvs = []\n",
        "\n",
        "# Leer cada archivo .txt en la carpeta\n",
        "for archivo in os.listdir(carpeta_txt):\n",
        "    if archivo.endswith('.txt'):  # Solo procesar archivos .txt\n",
        "        archivo_ruta = os.path.join(carpeta_txt, archivo)\n",
        "        with open(archivo_ruta, 'r', encoding='utf-8') as f:\n",
        "            contenido = f.read()\n",
        "            cvs.append(contenido)  # Agregar el contenido del archivo a la lista\n",
        "\n",
        "# Verificar que se hayan cargado los textos correctamente\n",
        "print(f\"Se cargaron {len(cvs)} CVs en la lista.\")\n"
      ],
      "metadata": {
        "id": "PD4L3x092vRr",
        "colab": {
          "base_uri": "https://localhost:8080/"
        },
        "outputId": "dea55cf1-0651-4d49-e33c-062dcb268d01"
      },
      "execution_count": 15,
      "outputs": [
        {
          "output_type": "stream",
          "name": "stdout",
          "text": [
            "Se cargaron 9 CVs en la lista.\n"
          ]
        }
      ]
    },
    {
      "cell_type": "code",
      "source": [
        "cvs"
      ],
      "metadata": {
        "collapsed": true,
        "id": "1p8I2XSU3WRE",
        "colab": {
          "base_uri": "https://localhost:8080/"
        },
        "outputId": "d9bdb754-3cdc-41a6-d414-d9144b5357e1"
      },
      "execution_count": 16,
      "outputs": [
        {
          "output_type": "execute_result",
          "data": {
            "text/plain": [
              "['Michael  Smith\\nBI / Big Data/ Azure\\nManchester,  UK- Email me on Indeed: indeed.  com/r/falicent/140749dacebdc26f\\n10+ years of Experience  in Designing,  Development,  Administration,  Analysis,\\nManagement  inthe Business Intelligence  Data warehousing,  Client Server\\nTechnologies,  Web-based  Applications,  cloud solutions  and Databases.\\nData warehouse:  Data analysis,  star/ snow flake schema data modeling  and design\\nspecific  todata warehousing  and business  intelligence  environment.\\nDatabase:  Experience  in database  designing,  scalability,  back-up  and recovery,\\nwriting  andoptimizing  SQL code and Stored Procedures,  creating  functions,  views,\\ntriggers  and indexes.\\nCloud platform:  Worked on Microsoft  Azure cloud services  like Document  DB, SQL\\nAzure, StreamAnalytics,  Event hub, Power BI, Web Job, Web App, Power BI, Azure\\ndata lake analytics(U-SQL).\\nBig Data: Worked  Azure data lake store/analytics  for big data processing  and Azure\\ndata factoryto  schedule  U-SQL jobs. Designed  and developed  end to end big data\\nsolution  for data insights.\\nWilling  to relocate:  Anywhere\\nWORK EXPERIENCESoftware  Engineer\\nMicrosoft  - Manchester,  UK.\\nDecember  2015 to Present\\n1. Microsoft  Rewards  Live dashboards:\\nDescription:  - Microsoft  rewards is loyalty program that rewards Users for\\nbrowsing  and shopping  online. Microsoft  Rewards members can earn points when\\nsearching  with Bing, browsing  with Microsoft  Edge and making purchases  at the\\nXbox Store, the Windows  Store and the Microsoft  Store. Plus, user can pick up\\nbonus points for taking  daily quizzes  and tours on the Microsoft  rewards  website.\\nRewards  live dashboards  gives a live picture  of usage world-wide  and by markets\\nlike US, Canada, Australia,  new user registration  count, top/bottom  performing\\nrewards  offers, orders stats and weekly  trends of user activities,  orders and new\\nuser registrations.  the PBI tiles gets refreshed  in different  frequencies  starting\\nfrom 5 seconds  to 30 minutes.\\nTechnology/Tools  used\\nEvent hub, stream analytics  and Power BI.\\nResponsibilities\\nCreated  stream analytics  jobs to process  event hub data\\nCreated  Power BI live dashboard  to show live usage traffic,  weekly  trends, cards,\\ncharts to showtop/bottom  10 offers and usage metrics.\\n2. Microsoft  Rewards  Data Insights:\\nDescription:  - Microsoft  rewards is loyalty program that rewards Users for\\nbrowsing  and shopping  online. Microsoft  Rewards members can earn points when\\nsearching  with Bing, browsing  with Microsoft  Edge and making purchases  at the\\nXbox Store, the Windows  Store and the Microsoft  Store. Plus, user can pick up\\nbonus points for taking  daily quizzes  and tours on the Microsoft  rewards  website.\\nRewards data insights  is data analytics  and reporting  platform,  processes  20\\nmillion  users daily activities  and redemption  across different  markets  like US,\\nCanada, Australia.\\nTechnology/Tools  used\\nCosmos (Microsoft  big-data  platform),  c#, X-flow job monitoring,  Power BI.\\nResponsibilities\\nCreated  big data scripts  in cosmos\\nC# data extractors,  processors  and reducers  for data transformation\\nPower BI dashboards\\n3. End to end tracking  Tool:\\nDescription:  - This is real-time  Tracking  tool to track different  business\\ntransactions  like order, order response,  functional  acknowledgement,  invoice\\nflowing  inside ICOE. It gives flexibility  to customers  to track their transactions\\nand appropriate  error information  in-case  of any failure.  Based on resource  based\\naccess control  the tool gives flexibility  to end user to perform  different  actions\\nlike view transactions,  search based on different  filter criteria  and view and\\ndownload  actual message payload. End to end tracking  tool stitches  all the\\nbusiness  transaction  like order to cash flow and connects  different  hops inside\\nICOE like gateway,  routing  server, Processing  server. It also connects  different\\nsystems  like ICOE, partner  end point and SAP.\\nTechnology/Tools  used\\nAzure Document  db, Azure web job and Web APP, RBAC, Angular  JS.\\nResponsibilities\\nDocument  dB stored  procedures.\\nWeb job to process  event hub data and populate  Document  dbe Web App API.\\nStream analytics  job to transform  data\\nPower BI reports\\n4, Biztrack  Tracking  Tool:\\nDescription:  - This is real-time  Tracking  tool to track different  business\\ntransactions  like order, order response,  functional  acknowledgement,  invoice\\nflowing  inside ICOE. It gives flexibility  to customers  to track their transactions\\nand appropriate  error information  in-case  of any failure.  Based on resource  based\\naccess control  the tool gives flexibility  to end user to perform  different  actions\\nlike view transactions,  search based on different  filter criteria  and view and\\ndownload  actual message  payload.\\nTechnology/Tools  used\\nSQL server 2014, SSIS, .net API, Angular  JS.\\nResponsibilities\\nETL solution  to transform  business  transactions  data stored in Biztalk  tables.\\nSQL azure tables, stored procedures,  User defined  functions.\\nPerformance  tuning.\\nWeb API enhancements.\\nKDUCATION\\nThe University  of Manchester  —- UK\\n2007\\nSKILLS\\nproblem  solving  (Less than 1 year), project  Lifecycle  (Less than 1 year), project\\nmanager  (Less than 1 year), technical  assistance.  (Less than 1 year)\\nADDITIONAL  INFORMATION\\nProfessional  Skills\\nExcellent  analytical,  problem solving, communication,  knowledge  transfer  and\\ninterpersonalskills  with ability  to interact  with individuals  at all the levels\\nQuick learner  and maintains  cordial relationship  with project  manager  and team\\nmembers  andgood  performer  both in team and independent  job environments\\nPositive  attitude  towards  superiors  éamp; peers\\nSupervised  junior developers  throughout  project  lifecycle  and provided  technical\\nassistance.\\n',\n",
              " \"POWELL\\nFINWOOD\\nWORK  EXPERIENCE\\nAccount  Sales Executive© Sandrine Logistics\\nA global  logistics  firm that provides  supply  chain\\nservices  across  various  Industries\\nMarch 2023 to August  2025\\n(2 years, 5 months)\\n¢« Boosted  sales activities  by 30% in the Grayerville\\narea by overseeing  the generation  to closing  of\\ndeals\\ne Maintained  a 100% client satisfaction  rating and\\ngenerated  10% growth  In annual  revenue  by\\nworking  closely  with sales and support  teams\\n« Opened  five new accounts  by providing  prompt,\\nconsistent,  quality  customer  service\\nField Sales Executive©) Errandeo  Services\\nNovember  2021 to January  2023\\n(1 year, 2 months)\\ne Increased  customer  loyalty  by 40% within six\\nopportunities  for partnership  with various\\ncompanies\\n« Boosted  customer  satisfaction  by 10% by\\nof asale\\nSales Intern\\nErrandeo  Services\\nMarch 2021 to June 2021 (3 months)\\ne Learned  about  the operations  of the company's\\nsales and marketing  department\\n¢ Coordinated  communications  between  multiple\\nteamsmonths  by managing  key accounts  in Fairhill  and\\nserving  as a coordinator  with the operations  team\\ne Achieved  a 5% growth  in our client base by finding\\nintroducing  a feedback  check-in  after three monthsSALES  EXECUTIVE\\n© linkedin.com/in/name\\n© hello@reallygreatsite.com\\n© +123-456-7890\\nCLICK  HERE FOR MY\\nPORTFOLIO\\nRELEVANT  SKILLS\\ne Account  Management\\ne Customer  Relationship\\nManagement  Software\\ne Strategic  and Social\\nSelling\\nEDUCATION  HISTORY\\nMajor  in Supply  Chain Management\\nUniversity  of Roseton\\n2021> Bachelor  of Science  in Business  Administration,\\ne Cum Laude\\ne Best Thesis\\ne President,  Roseton  Debate  Club\\nAssociate's  Degree  in Sales  and Marketing\\nDe Loureigh  University\\n2019\\ne Awardee,  DLU Scholarship\\nVOLUNTEER  WORK,  AWARDS,\\nAFFILIATIONS,  AND INTERESTS\\nInbound  Sales  and Marketing  Certificate\\nMurrayfield  School  of Marketing\\n2023\\n| completed  an online  program  that covered  how to\\nidentify  new sales prospects  and build an inbound\\nmarketing  strategy.\\nVolunteer  Teacher\\nLily River Children's  Foundation\\n2021 to Present\\nEvery month,  | volunteer  to teach children  ages 5 to\\n7 years old how to read and write in English.\\n© linkedin.com/in/name\\n© hello@reallygreatsite.com\\n© +123-456-7890CLICK  HERE FOR MY\\nPORTFOLIO\\n\",\n",
              " 'Phone  and WhatsApp:\\n+62 8577 7124 773\\nEmail:\\ndhikayudano@gmail.com\\nLine ID:\\nbanger-dhika-roze\\nAddress\\nCluster  British, Block D number  31, Gading\\nSerpong,  Kabupaten  Tangerang,  Banten,\\nIndonesia\\nInstagram:\\n@dhikayudantoro\\nSkills\\ne Business  Communication\\ne Managerial  AccountingBorn in Jakarta, || June 2002 to a musical  family,\\nteamwork  is the thing | learned  first time with my\\nfamily during  our time as a church musician.  As an\\nextrovert  | could easily get along with people  and\\nenjoy being surrounded  by them.\\nExperience\\n2017\\nEquipment  Department\\nPersonnel\\nADETGS  2018\\n2019\\nBand Competition  Division\\nPersonnel\\nCAROL  FAIR 2019\\n2017 — Present\\nChurch Musician\\nDrummer\\nGBI KENISAH,  GBI VIFA\\n2020\\nLiaison Officer\\nPersonnel\\nBNEC NEO 2020\\n2020 - 2021\\nTalent Director\\nPersonnel\\nUKM BERSAMA  DALAM  MUSIK\\n2021 - 2022\\nBoard of Directors\\nCEO\\nUKM BERSAMA  DALAM  MUSIK\\n2021 — 2021\\nFreshmen  Leader\\nPersonnel\\nBINUS UNIVERSITY\\n2021 — Present\\nFreshmen  Partner\\nPersonnel\\nBINUS UNIVERSITY\\n2021 — Present\\nStudent  Mentor\\nPersonnel\\nBINUS UNIVERSITY\\nEducation\\n2008 - 2014\\nSD TARAKANITA  GADING  SERPONG\\n2014 - 2017\\nSMP TARAKANITA  GADING  SERPONG\\n2017 - 2020\\nSMA TARAKANITA  GADING  SERPONG\\n2020 — Present\\nBINA NUSANTARA  UNIVERSITY,  FACULTY  OF\\nBUSINESS,  MAJOR:  INTERNATIONAL  BUSINESS\\nMANAGEMENT\\n2021\\nMARKPLUS  INSTITUTE,  ANALYTICAL  AND\\nCREATIVE  THINKING  COURSE\\nAchievements  &\\nActivities\\nBack in high school | used to compete  in English\\ncompetitions,  placing  third place in the OSTAR\\nTangerang  Region Speech Competition  2017, third\\nplace in the NSDC Tangerang  Regency  English\\nCompetition  2019, and being the Tangerang\\nRegency  Representative  for the NSDC Banten\\nProvince  English Competition  2019. | Used to\\nstudy Mandarin  and could understand  Javanese.\\nGrowing  up in a musical  family makes me capable\\nof playing  the drums, guitar, bass, and piano. During\\nmy spare time | enjoyed  playing badminton,  cycling,\\nand making  drum covers.\\nMARKPLUS\\nINSTITUTE\\nAdvancing  Competencies\\nCERTIFICATE  OF COMPLETION\\nDhika Yudantoro\\nHAS SUCCESFULLY  COMPLETED\\nE-LEARNING  PROGRAM\\nAnalytical  and Creative  Thinking  Certification  - BINUS\\nDiberikan  padatanggal:  2021-12-22\\n',\n",
              " 'Dyah\\nHediyati  $S.Kom\\nRINGKASAN  PROFESIONAL\\nLulusan  S1 dengan  spesialisasi  analisa\\ndata, memiliki  pengalaman  3 tahun\\ndalam mengolah  dan menganalisa\\ndata transaksi.  Seorang  problem\\nsolver  kreatif  dengan  kemampuan\\ninterpersonal  yang kuat. Memiliki\\nketerampilan  berpikir  kritis,\\nmanajemen  waktu,  dan kolaborasi\\nyang kuat.\\nPENDIDIKAN  TERAKHIR\\nUniversitas  Negeri  Surabaya\\nTeknik  Informatika\\nTahun 2021 | IPK 3.52\\nKEAHLIAN\\ne Pemrograman  Dasar\\ne Jaringan  Dasar\\ne Analisis\\ne Administrasi\\ne Manajemen\\ne Leadership\\ne Pengolah  kata (Ms. Word)\\ne Pengolah  angka (Ms. Excel)\\nPENGALAMAN  ORGANISASI\\nOSIS SMK Negeri  2 Bojonegoro\\nKetua\\nJuli 2014 - Juli 2015\\nHimpunan  Mahasiswa  Jurusan  Teknik\\nInformatika\\nSekretaris\\nApril 2017 - April 2019\\nDewan  Perwakilan  Mahasiswa  Fakultas\\nTeknik  Unesa\\nKetua Komisi  Audit dan Pengawasan\\nApril 2019 - Desember  2019Tuban,  Jawa Timur\\n+62 85287404232\\ndyahhediyati@gmail.com\\nPENGALAMAN  KERJA\\nStaf Administrasi\\nGsmart  IT Solution\\nSeptember  2019 - Juni 2020\\nMelakukan  pekerjaan  administratif  perusahaan  seperti\\nsurat menyurat,  mengelola  absensi  karyawan  dan\\npengelolaan  berkas.\\nStaf Akuntan\\nGsmart  IT Solution\\nJuli 2019 - September  2021\\nMenganalisa  dan mengolah  data transaksi  sehingga\\nmenghasilkan  lapornan  yang dapat digunakan  untuk\\npelaporan  perpajakan  dan perencanaan  bisnis perusahaan.\\nKeuangan\\nGsmart  IT Solution\\nAgustus  2021 - Sekarang\\nMembuat  proporsal  penawaran,  penerbitan  invoice,\\npencatatan  keuangan  dan pembayaran  tagihan\\nperusahaan.\\nPENGALAMAN  KEGIATAN\\nProgram  Kreativitas  mahasiswa\\nRISTEK  DIKTI | 2018\\n\"Petik Wong Gaptek  (Pejuang  Teknologi  Informasi\\ndan Komunikasi  Workshop  Menghapus  Gagap\\nTeknologi)  di Desa Mojomalang  Kecamatan\\nParengan  Kabupaten  Tuban\\nPenelitian  Mahasiswa\\nLPPM Unesal  2018\\n“Perancangan  dan Analisa  IPv6 dan IPv4 Dalam\\nRouting  BGP (BorderGateway  Protocol)  Untuk\\nPeningkatan  Layanan  Jaringan”\\nPenelitian  Mahasiswa\\nLPPM Unesal  2019\\n\"Analisa  dan Pengembangan  Mekanisme  Keamanan\\nRouter  Mikrotik  terhadap  Zero-Day-Mikrotik’\\n',\n",
              " 'Alice Clark\\nAl / Machine  Learning\\nDelhi, India Email me on Indeed\\ne 20+ years of experience  in data handling,  design,  and development\\ne Data Warehouse:  Data analysis,  star/snow  flake scema data modelling  and design specific  to\\ndata warehousing  and business  intelligence\\ne Database:  Experience  in database  designing,  scalability,  back-up  and recovery,  writing  and\\noptimizing  SQL code and Stored Procedures,  creating  functions,  views, triggers  and indexes.\\nCloud platform:  Worked  on Microsoft  Azure cloud services  like Document  DB, SQL Azure,\\nStream  Analytics,  Event hub, Power BI, Web Job, Web App, Power BI, Azure data lake\\nanalytics(U-SQL)\\nWilling  to relocate  anywhere\\nWORK  EXPERIENCE\\nSoftware  Engineer\\nMicrosoft  — Bangalore,  Karnataka\\nJanuary  2000 to Present\\n1. Microsoft  Rewards  Live dashboards:\\nDescription:  - Microsoft  rewards  is loyalty  program  that rewards  Users for browsing  and shopping\\nonline. Microsoft  Rewards  members  can earn points when searching  with Bing, browsing  with\\nMicrosoft  Edge and making  purchases  at the Xbox Store, the Windows  Store and the Microsoft\\nStore. Plus, user can pick up bonus points for taking  daily quizzes  and tours on the Microsoft\\nrewards  website.  Rewards  live dashboards  gives a live picture  of usage world-wide  and by\\nmarkets  like US, Canada,  Australia, new user registration  count, top/bottom  performing  rewards\\noffers, orders  stats and weekly  trends  of user activities,  orders  and new user registrations.  the\\nPBI tiles gets refreshed  in different  frequencies  starting  from 5 seconds  to 30 minutes.\\nTechnology/Tools  used\\nEDUCATION\\nIndian Institute  of Technology  —  Mumbai\\n2001\\nSKILLS\\nMachine  Learning,  Natural  Language  Processing,  and Big Data Handling\\nADDITIONAL  INFORMATION\\nProfessional  Skills\\ne Excellent  analytical,  problem  solving,  communication,  knowledge  transfer  and interpersonal\\nskills with ability  to interact  with individuals  at all the levels\\n¢ Quick learner  and maintains  cordial relationship  with project  manager  and team members  and\\ngood performer  both in team and independent  job environments\\ne Positive  attitude  towards  superiors  &amp; peers\\ne Supervised  junior developers  throughout  project  lifecycle  and provided  technical  assistance\\n',\n",
              " 'MOH PUJI JUNAEDI\\nFULLSTACK DEVELOPER\\nBojonegoro, Jawa Timur/+6282331472499|  me@junae.id  | /junaedipuji §\\nPROFILE  SUMMARY\\nlam Junaedi,  a programmer  who has experience  working  in the field of software  development  for\\nmore than 6 years. have good reasoning  and problem solving and interested  in developing  my\\nskills and career  in a company  that develops  applications  with Al and machine  learning  in order to\\ncompete  with other companies\\nTECHNICAL  SKILL\\nanalysis Development Tools Server\\ne Business  Model e MySQL e GIT e Linux\\ne ERD ¢ MongoDB e Visual Studio  Code e Apache2\\n¢ Flow Chart e PHP e Word ¢ Nginx\\ne API Design e Python ¢ Spread  Sheet ¢ Docker\\n¢ NodeJs ¢ SSH\\n¢ HTML\\ne CSS\\ne Java Script\\nCommunication  Adaptation Leadership\\ne Indonesian\\ne English\\ne Javanese  language\\nEDUCATION\\nAhli Muda,  information  management Jun, 2016 - Apr, 2018\\nState Polytechnic  of Malang,  Malang\\ne Head of HMJ Information  Management\\n¢ Focus on programming\\ne Have participated  in several  programming  competitions\\nWORK EXPERIENCE\\nFullstack  Developer Sept, 2016 - Sept, 2019\\nSkayrain,  Bojonegoro\\nMapping  the business  model\\nDesigning  Flow Diagrams  and ERD\\nDetermine  the right technology  to implement  into the system\\nDesigning  the API that will be applied  to the system\\nCreating  applications  using PHP, HTML,  JavaScript\\nConfiguring  Server  (Apache2,  Mysql, PHP)\\nFullstack  Developer Nov, 2019 - March,  2020\\nTraspac,  Surabaya\\nDevelop  an existing  web-based  regional  budget  management  and design program  (using PHP\\nwith Codeigniter  and Laravel  frameworks)  with MsSql and Mysql databases\\nUsing microservice  architecture\\nUsing the prototype  development  method\\nVersioning  with SVN\\nTroubleshoot  existing  programmatic  problems  and fix them\\nDesign  and build new features  as needed\\nDo a demo when the new feature  has been tested  and ready  to use\\nFullstack  Developer Apr, 2020 - Apr, 2021\\nMoving  Bytes Digital,  Surabaya\\nDevelop  a web-based  ERP program  that focuses  on manufacturing  to financial  management\\n(Using NodeJs  with React and Express  frameworks)  with a Mysql database\\nUsing Agile Scrum Develooment  Method\\nVersioning  with Git\\nTroubleshoot  existing  programmatic  problems  and fix them\\nDesign  and build new features  as needed\\nCreate  automated  testing\\nAnalyze  the data provided  so that it can be implemented  into the program\\nDo a demo when the new feature  has been tested  and ready  to use\\nFullstack  Developer  & Project  Manager May 2021 - Present\\nGsmart  IT Solution,  Surabaya\\nManage  existing  programs\\nMake a bid proposal\\nAnalyze  user needs and wants\\nAnalyze  the needs and duration  of the program\\nDesign  and create  ERD and Flow Diagrams\\nDesigning  and designing  API\\nConfigure  the server  that the program  will or is currently  using\\nCreating  programs\\nDoing testing  on the program\\nCommunication  with users regarding  the program\\nDemonstration  of the use of the program  to be used\\nPROJECT\\ne Sistem  Informasi  Pendataan  kampung  KB Bojonegoro\\ne NurulHayat(member  of Skyrain  team)\\n¢ HCD Tools (member  of Skyrain  team)\\ne Abadidentals  (member  of Skyrain  team)\\n¢ Helio (member  of Skyrain  team)\\ne IDREN (member  of Skyrain  team)\\ne Digischool  (member  of Skyrain  team)\\n¢ CBT Digischool  (member  of Skyrain  team)\\ne SI Payroll (member  of Skyrain  team)\\ne¢ Toko Pertanian  Barokah  Agro Sejahtera\\ne PMS Hotel\\n° Cloud Digischool  (member  of Skyrain  team)\\ne Scrapping  Marketplace\\n¢ SIM pembangunan  Malang  (member  of Traspac  team)\\ne SKT / ERP (Member  of Moving  Bytes team)\\ne ScubaSpa  System  Management\\ne ERP BJB (member  of Gsmart  Team)\\ne ERP CMP (member  of Gsmart  Team)\\ne ERP MCB (member  of Gsmart  Team)\\ne ERP Maju Jaya (member  of Gsmart  Team)\\n¢ BDG Mobile  Apps (member  of Gsmart  Team)\\n',\n",
              " 'DR.SANTOSH  KAKADE\\na\\nDR.SANTOSH  KAKADE\\nMS (Surgery),  D.Ortho,  FICS, LL.M., PhD in Law, MBA (Hosp.Mgmt.),  Executive  MBA (Finance),  FCLM\\nACHE member,  International  Fellow  of American  College  of Legal Medicine\\ndrsantoshkakade@gmail.com,  drsantoshkakade@ciilm.com  Flat 2, Sahitya  Samrat  Apartment,\\nMobile:  09850671175 1495, Sadashiv  Peth,\\n09422071490 Pune: 411 030, India\\nPhone:  020-24444490\\nBiodata\\nProfile\\ne Core India Institute  of Legal Medicine,  Pune www.ciilm.com\\nFounder  MD & Chief Executive  Officer\\nMedico  legal Consultant,  the organization  for shaping  the future of legal medicine  in India.\\nResponsible  for development,  growth  and establishment  of the organization  all over India that\\nwill create balance  between  patient  safety and medical  professional’s  liability.\\nSelf-motivated  General,  Trauma  and Orthopedic  Surgeon  with 20 years of practical  experience  in\\npatient  care and surgery.  = Unique  blend of Surgical  Skills with Legal Knowledge  and the vision to\\nnovel technologies  that impact  Hospital  Management.\\nTop Management  (CEO and Medical  Director  Positions)  experience  cultivating  successful  and\\nlong lasting interactions  with hospital  employees.  Strong interest  in all aspects  of Medico  Legal\\nResearch  = Strong  Motivator  and Creative  Thinker,  Dedicated  to surpassing  expectations.\\nInstitutions  : RST Regional  Cancer  Hospital,  Nagpur,  BGS Global Hospital,  Bangalore,  Ruby Hall\\nClinic, Pune, Aditya Birla Memorial  Hospital,  Chinchwad,  Pune, Sahyadri  Hospital,  Pune,\\nVivekanand  Hospital,  Latur\\nAcademic  Credentials\\nM.S. General  Surgery  from Shivaji University,  Maharashtra  in 1995\\nDiploma  in Orthopedics  from Shivaji,  Maharashtra  in 1991\\nLL.B from Shivaji,  Maharashtra  in 2000\\nLL.M. from Pune University,  Maharashtra  in 2004\\nPhD in LAW from Symbiosis  International  University,  Pune 2013, with title of research,\\n“Changing  Trends  in the Law of Medical  Negligence  under  Consumer  Protection  Act 1986”.\\nMBA Hospital  Management  from Alagappa  University  2008\\nExecutive  MBA Finance,  Pune University,  India in Dec. 2010\\nIRCA Approved  Lead Auditor  training  for Quality  Management  under ISO 9001:2008  (E) at DNV\\nTraining  Institute,  Pune, India\\nNABH Assessor  and Implementation  Workshops  successfully  completed\\nAdvanced  Diploma  in Hospital  Administration,  Institute  of Health care Administration,  Chennai,\\nIndia\\nDR.SANTOSH  KAKADE\\ne Postgraduate  Diploma  in Medico  Legal Systems,  Symbiosis  Institute  of Health Sciences,  Pune,\\nIndia\\ne Postgraduate  Diploma in Human Resource  Optimization,  Autonomous,  Jnana Prabodhini\\nInstitute  of Psychology,  Pune, India\\ne ACLS and ITLS Instructor  (Certified  by American  Heart Association)\\nAcademic  Achievement  in the offing\\ne Authorized  to appear  for Board of Governor’s  Examination  of American  College  of Healthcare\\nExecutives,  USA to achieve  FACHE  Credential.\\ne Authorized  to appear for Board of Governor’s  Examination  of American  College of Legal\\nMedicine,  USA to achieve  ABLM Credential\\nMaharashtra  Medical  Council Continuing  Medical  Education  Program\\nSpeaker  Name District  Name Registration Speaker  Code\\n1 Santosh  Keshav  Kakade PUNE 60861/21/1 MMC/MAS/04536/2015\\nHonors  and Community  Engagements\\ne Only one to get selected  for the Prestigious  Award of Scholarship  2011 from American  College\\nof Healthcare  Executives,  Chicago  (ACHE)  to attend  three Executive  Programs  (EP) in USA.\\ne Was awarded  Scholarship  by Cleveland  Clinic, Ohio, USA to participate  in the Executive\\nProgram  on Healthcare  Business  Management  of Samson  Global Leadership  Academy  in April-\\nMay 2012.Participated  in the academy  and successfully  completed.\\ne Visited 11 hospitals  in USA (Washington,  New York, Cleveland,  Chicago,  San Diego, San\\nFrancisco,  Orlando between June to October 2011 to observe Best practices,  Quality\\nManagement  and interacted  with various  healthcare  executives.\\ne Was invited as Speaker  at 55 Annual Meeting  of American  College  of Legal, Medicine  at Las\\nVegas, USA ( 26\" Feb. to 1°t March 2015)\\nProfessional  Affiliations\\ne American  College  of Legal Medicine\\ne World Association  of Medical  Law\\ne American  College  of Healthcare  Executives,  Chicago\\ne Indian Academy  of Hospital  Administration.\\ne Indian Medical  Association\\ne Association  of Surgeons  of India\\ne International  College  of Surgeons,  Indian Section\\ne Indian Orthopedic  Association\\ne Bombay  Orthopedic  Society\\n',\n",
              " 'Education\\nTechnical  Skills\\nProfessional\\nExperience\\nLanguages345 W. Fullerton  Pkwy. #2101 Phone 773-665-1234\\nChicago,  IL 60614-2853 E-mail  loren@shevitz.org\\nLoren  Shevitz\\n2002 University  of Chicago Chicago,  IL\\nMaster\\'s  of Science,  Computer  Science\\n1994 University  of Michigan Ann Arbor, MI\\nBachelor  of Arts, Psychology\\nProductivity\\ne =6MS Office (Word,  Excel, Powerpoint,  Access)\\ne Adobe  Photoshop\\ne §=Various  “Code-  Your-Own-  Website”  programs  (InDesign,  Dreamweaver,  etc.)\\ne Windows,  Mac, Unix\\nWorld Wide  Web\\n¢ HTML,  PHP, XML, Javascript\\nLanguages\\ne =6Java, C, C+, Pascal,  BASIC,  Logo.\\n2003-present\\nIllinois  Art Institute,  Chicago,  IL\\ne = Instructor  of Computer  Literacy\\n1996-present\\nShircago,  Chicago,  IL\\ne Founder  and director  of Jewish  a cappella  group\\ne Maintains  website\\n2001-present\\nLISTEN  UP! a cappella,  Chicago,  IL\\ne Performs  and travels  internationally  as member  of a semi-pro  group\\n¢ Creates  sheet music in Finale and upload  it to server\\nSummer,  2001\\nCatholic  Theological  Union,  Chicago,  IL\\nHelp Desk  Attendant\\ne Assisted  users with MS Office,  Internet,  Windows  98, 2000\\n1999-2000\\nKAM Isaiah,  Chiacgo,  IL\\nSunday  School  Teacher\\n¢ Taught  9\" graders;  developed  lesson  plans; facilitated  discussions  on ethics\\nFluent  in Spanish  and Hebrew\\n',\n",
              " 'Ringgi  Cahyo  Dwiputra\\nSouth Tangerang,  Banten  ¢ ringgicahyo  @ gmail.com  * 085157115062  « linkedin.com/in/ringgicahyo/\\nEducation\\nUniversitas  Indonesia Depok,  West Java\\nBachelor  of Computer  Science,  Majoring  in Information  System  — GPA: 3.62 Sep 2017 — Sep 2021\\nProfessional  Experiences\\nPT Kita Lulus  Internasional  (EduTech,  Seed Funding,  200k+  Users) West Jakarta,  DKI Jakarta\\nAssociate  Product  Manager Feb 2021 — Present\\ne Managing  the whole mobile  application  products,  contributing  to gaining  over 100k installations  with a\\nDAU to MAU  ratio of 20% and increasing  the average  engagement  time per session  by 150%\\ne Developing  a job marketplace  platform  for low-to-mid  job levels that reaches  more than 46k job\\napplications  with an average  of 2k+ job applications  per day in less than 2 months\\ne Executing  a community  feature  to connect  between  job seekers,  resulting  in more than 11k community\\nmembers  with 300+ activities  per day across 10 communities\\ne Collaborating  with 1 technical  lead, 2 product  managers,  2 designers,  10+ engineers,  and 3 quality\\nassurance  engineers  in solving  users’ problems  based on the product  requirement  documents  made\\ne Coordinating  with 5+ internal  teams and stakeholders  to gather  insights,  requirements,  and feedbacks\\ne Establishing  product  roadmap  and product  requirement  documents,  ideation,  prioritizing  features,  and\\nmonitoring  key success  metrics\\nFaculty  of Computer  Science,  Universitas  Indonesia Depok,  West Java\\nQuality  Assurance Nov 2020 — Jan 2021\\ne Created  user documentation  how to use the system\\ne Established  a technical  documentation  for further  development\\ne Made test cases as a guide to test the flow of the system\\nTeaching  Assistant  of Business  Management  Course Sept 2020 — Jan 2021\\ne Helped  the lecturers  to manage  the course  by giving  assistance  to the students  related  to the course\\nFull-Stack  Developer June 2020 — Sept 2020\\ne Developed  further  a lecturer  teaching  assignment  information  system  for management  team with more\\nthan 7 main features\\ne Tested  all features  to ensure  the system  is free of errors and bugs\\ne Fixed all errors and bugs found within  the system\\nXWORK  & Tempat.com West Jakarta,  DKI Jakarta\\nQuality  Assurance  Intern Aug 2019\\nSearched  for errors and bugs, gave alternative  solutions  to fix them\\nTested  more than 25 existing  and new features,  checked  whether  they worked\\nCreated  user documentation  how to use the system\\nCommunicated  with 5 developer  team members  to provide  testing  feedback  and resolve  issues\\nProjects\\nLecturer  Teaching  Assignment  Information  System https://sirando-kp.cs.ui.ac.id/\\nFull-Stack  Developer Jun 2020 — Jan 2021\\ne An information  system  for Faculty  of Computer  Science  at Universitas  Indonesia  which  includes  more\\nthan 7 main features  to help the management  team allocating  their lecturer  teaching\\ne User and technical  documentation\\ne Stack and tools used: Python,  Django,  PostgreSQL,  Docker\\nSales Management  Information  System https://sipola.herokuapp.com/\\nProject  Manager Feb 2020 — Jul 2020\\ne Sales management  IS for PT SixAB Tehnik  Industri  with integrated  data, easy-to-use,  and mobile-\\nfriendly  display  to support  end-to-end  business  process  and to help company  to analyze  strategies  by\\nlooking  at past performance\\ne Led 4 engineers  and developed  through  project  life-cycle  phases  with more than 13 use cases\\ne Full system  documentation\\ne Stack and tools used: Java, Spring  Boot, VueJS,  PostgreSQL\\nSkills & Interests\\nBusiness:  ClickUp,  Trello,  Figma,  Balsamiq,  Google  Firebase,  Metabase,  Microsoft  Office\\nTechnical:  Java, Python,  HTML,  CSS, JavaScript,  Django,  Spring  Boot, VueJS,  Bootstrap,  SQL, Git\\nInterests:  Product  Management,  UX Research,  Data Analysis\\nLeadership  Experiences\\nBadan  Eksekutif  Mahasiswa  Fasilkom  UI Jan 2019 — Dec 2019\\nHead of Human  Resource  Development  Bureau\\ne Led 12 people  and participated  in the success  of more than 10 work programs\\ne Developed  interpersonal  skills of every organization  member  and maintained  internal  relations\\nPembinaan  Mahasiswa  Baru Fasilkom  UI Jun 2018 — Dec 2018\\nMentor\\ne Guided  and took care of 9 new students  to be adaptive  at college  by being a good colleague  for them\\nSyukuran  dan Pelepasan  Wisudawan  Genap  Fasilkom  UI Apr 2018 — Aug 2018\\nVice Person  in Charge  of Event  Division\\ne Helped  the PIC of Event Division  in making  rundowns  and controlled  the running  of the event\\ne Oversaw  8 members  to make sure that they did the tasks given following  the job description\\n']"
            ]
          },
          "metadata": {},
          "execution_count": 16
        }
      ]
    },
    {
      "cell_type": "code",
      "source": [
        "# Generar embeddings para los CVs\n",
        "embeddings_cvs = modelo.encode(cvs)"
      ],
      "metadata": {
        "id": "CXExNEdtzWs-"
      },
      "execution_count": 17,
      "outputs": []
    },
    {
      "cell_type": "code",
      "source": [
        "# Mostrar ejemplo de un embedding generado\n",
        "print(f\"Ejemplo de embedding para el CV 1:\\n{embeddings_cvs[0]}\")"
      ],
      "metadata": {
        "collapsed": true,
        "id": "jgcb4NBxzaDu",
        "colab": {
          "base_uri": "https://localhost:8080/"
        },
        "outputId": "d4e23f3c-31d9-4c20-8a52-dbe439e820c5"
      },
      "execution_count": 18,
      "outputs": [
        {
          "output_type": "stream",
          "name": "stdout",
          "text": [
            "Ejemplo de embedding para el CV 1:\n",
            "[-5.63250303e-01  9.53032136e-01  3.84109497e-01 -6.76836431e-01\n",
            "  7.46969104e-01 -2.66111016e-01 -1.47088349e-01  2.55297303e-01\n",
            " -2.48559117e-01 -9.89969909e-01 -3.38894814e-01  3.57796699e-02\n",
            " -6.73568487e-01 -1.70226127e-01  2.55729973e-01  1.72189593e-01\n",
            " -1.24836475e-01 -9.05466229e-02  4.94886786e-01  2.75339857e-02\n",
            "  6.01494312e-01  1.77186519e-01 -1.97801918e-01  3.37003350e-01\n",
            "  3.18897367e-01 -6.80381179e-01 -2.04827085e-01  6.11871928e-02\n",
            "  3.61361839e-02 -2.12908790e-01  5.84136188e-01 -7.22769976e-01\n",
            " -1.25026613e-01  4.54623178e-02  7.86480084e-02  6.64389431e-01\n",
            "  8.43510404e-03  3.59361731e-02 -5.97563505e-01  3.64278853e-01\n",
            "  1.67294204e-01  1.76374912e-01  1.98954999e-01 -2.45382249e-01\n",
            " -2.28350312e-01  3.05531144e-01 -3.81485701e-01  9.72590446e-02\n",
            " -6.07297540e-01 -1.10270366e-01  1.31748796e-01 -2.43950456e-01\n",
            " -7.31350303e-01 -1.02624249e+00  6.49735257e-02  1.87579095e-01\n",
            " -2.23858014e-01 -3.91542971e-01  2.57793963e-01  3.21188956e-01\n",
            " -3.95149320e-01 -1.42060667e-01  1.04101576e-01 -1.67752996e-01\n",
            "  9.11503196e-01 -6.12846136e-01 -7.44059011e-02  4.26866934e-02\n",
            " -4.84566063e-01 -6.40906692e-01  3.28408256e-02 -1.10988967e-01\n",
            " -5.09652317e-01 -2.07979664e-01  2.96723675e-02 -2.72607088e-01\n",
            " -2.31998831e-01  4.32050824e-01  1.32435575e-01  6.76151872e-01\n",
            " -2.01891676e-01 -5.90662122e-01  6.43187761e-03  5.94674647e-01\n",
            "  2.68148810e-01 -6.84324056e-02  9.40851927e-01  7.06269145e-01\n",
            "  2.72865474e-01  3.61311100e-02  1.06275171e-01 -8.68466020e-01\n",
            "  4.70499635e-01 -6.20872248e-03  2.50856817e-01  9.74371582e-02\n",
            " -7.88150281e-02 -1.05744302e-01 -1.03522651e-01 -1.68904975e-01\n",
            " -5.59731245e-01  8.59244317e-02  2.41494551e-01 -2.05435142e-01\n",
            " -9.91216823e-02  5.36207318e-01 -1.93619013e-01  5.05260944e-01\n",
            " -5.08807421e-01  1.34027243e-01  7.75883347e-02  6.44378066e-02\n",
            " -1.22662807e+00  4.29446608e-01  9.25072312e-01 -2.61951536e-01\n",
            "  3.34391057e-01  5.95127583e-01  4.34812844e-01  1.16608039e-01\n",
            "  8.84522274e-02  1.03203952e+00  6.71007156e-01 -2.70227909e-01\n",
            "  3.76905322e-01  2.02553302e-01 -1.75236538e-03 -2.82886028e-01\n",
            "  6.51054800e-01  7.33608603e-02  2.25774348e-01 -3.24247181e-01\n",
            " -2.25904524e-01  7.20872402e-01  5.21330893e-01  1.02547646e-01\n",
            " -1.49337947e-01  6.44138977e-02 -3.25189680e-02  1.62508011e-01\n",
            " -8.46021533e-01 -2.52384633e-01  1.16795123e+00  1.48784339e-01\n",
            "  5.13834238e-01 -1.35026515e-01 -1.06067672e-01 -6.30595088e-02\n",
            " -5.51448166e-01  1.33364405e-02  5.19201636e-01  4.27303195e-01\n",
            " -2.68301427e-01 -5.54225922e-01  6.86480403e-01  3.18788141e-01\n",
            " -4.60453257e-02 -2.32943863e-01 -5.64506173e-01  2.14368165e-01\n",
            " -1.33132911e+00  3.39999944e-01  4.84115541e-01  1.70477092e-01\n",
            " -8.34657907e-01 -1.24637976e-01  8.88312101e-01 -9.59028244e-01\n",
            " -6.73420191e-01 -4.67995763e-01  3.10472012e-01  2.51603544e-01\n",
            " -4.42798316e-01  3.52621675e-01 -1.47542953e-01  6.46211028e-01\n",
            "  2.16568053e-01 -2.94597358e-01 -2.53202796e-01 -4.27425712e-01\n",
            "  4.48868513e-01  2.93894529e-01  2.34534830e-01  1.03956155e-01\n",
            "  1.38666928e-01  1.72538236e-02  2.10963964e-01  3.54935527e-01\n",
            " -6.37355208e-01 -4.22552288e-01 -3.21352303e-01  7.06217885e-02\n",
            "  5.87186396e-01 -1.38902105e-03  1.15745954e-01 -1.21780396e-01\n",
            "  2.14479808e-02  4.85407829e-01  2.18436629e-01 -1.13740325e-01\n",
            "  3.48752886e-02 -4.61277366e-01 -2.83752769e-01 -8.29392791e-01\n",
            "  9.25432742e-01 -9.26715434e-01  1.89201996e-01  2.49476731e-01\n",
            " -4.95423853e-01 -4.57047552e-01  3.02455068e-01 -5.74953109e-03\n",
            " -3.25163662e-01  2.52784729e-01 -5.43606162e-01  1.20550728e+00\n",
            " -1.68239802e-01  6.18097633e-02  5.67759052e-02 -5.07757843e-01\n",
            "  6.87561691e-01 -5.62381923e-01  3.75946581e-01 -5.34967184e-01\n",
            " -2.61986792e-01 -2.02129513e-01  1.99614912e-01 -1.06555605e+00\n",
            "  1.20598817e+00 -2.50478894e-01  4.41979855e-01  9.23784822e-02\n",
            " -8.66182148e-01  1.16395995e-01  7.06973433e-01 -3.78276289e-01\n",
            "  1.49815917e-01 -1.76450312e-01  2.46090442e-01  1.84559554e-01\n",
            " -7.52216727e-02 -7.20704436e-01 -4.03188437e-01 -6.12473547e-01\n",
            "  3.57484400e-01  5.70257068e-01 -7.01550603e-01  8.65126371e-01\n",
            "  2.68190801e-01  1.29927304e-02 -4.75584678e-02  2.99441386e-02\n",
            " -2.54237354e-01 -5.81129372e-01  9.59475935e-02  2.14941233e-01\n",
            "  3.34039390e-01 -3.19645405e-01  8.84366930e-02  1.40918863e+00\n",
            " -4.59067598e-02 -1.94384098e-01 -5.52300178e-02  1.25427172e-01\n",
            " -1.94855049e-01  2.39302933e-01  2.98096351e-02 -1.43480480e-01\n",
            "  1.05416492e-01 -1.89380229e-01 -7.81741858e-01 -3.88346374e-01\n",
            " -6.62602261e-02  6.66651130e-01  5.46192825e-01  2.90684879e-01\n",
            "  3.51358578e-03 -2.55546689e-01  7.60763437e-02  1.20125264e-01\n",
            " -6.73549891e-01  3.04591984e-01 -2.22725809e-01 -4.85710979e-01\n",
            "  1.39236361e-01 -2.34959304e-01 -6.19141638e-01 -9.17701840e-01\n",
            "  6.16882980e-01 -1.73839070e-02  3.80068779e-01  1.16637468e+00\n",
            "  5.86787723e-02  4.51578796e-01  2.50595659e-01 -4.61640567e-01\n",
            "  2.70374976e-02 -6.28133297e-01  6.62134541e-03  5.40269792e-01\n",
            " -3.53283823e-01  1.78689912e-01 -7.37642229e-01 -3.32279921e-01\n",
            "  2.32028157e-01 -1.13609461e-02 -6.48177415e-02 -1.96221143e-01\n",
            " -9.33106661e-01 -1.84027404e-01  5.12148023e-01 -4.10980970e-01\n",
            "  1.16667613e-01 -2.38001391e-01 -1.81772523e-02  2.87663847e-01\n",
            "  5.36848485e-01 -1.06256962e-01 -4.78129059e-01 -1.67519897e-02\n",
            " -1.96522981e-01 -4.66138124e-01 -6.32474273e-02  2.80209720e-01\n",
            " -2.50230759e-01  7.87924647e-01  4.14517820e-01 -2.89790869e-01\n",
            " -9.08266664e-01 -3.94872427e-01  5.86156487e-01 -6.93828583e-01\n",
            " -6.47455007e-02 -3.81677181e-01 -7.97666907e-02  5.55714488e-01\n",
            " -1.56641111e-01  7.19981074e-01  7.39268005e-01  4.64895554e-03\n",
            " -4.14774954e-01  3.58062148e-01  2.93951362e-01  1.12805009e-01\n",
            "  1.39128521e-01  3.94577742e-01 -4.07760948e-01 -5.75110674e-01\n",
            "  3.62551033e-01 -2.53632784e-01 -5.28095782e-01 -9.33041751e-01\n",
            "  4.33180779e-01 -1.34454608e-01 -1.88598514e-01 -3.07176448e-03\n",
            "  5.65268874e-01  3.08673948e-01  4.22084332e-01 -2.30493814e-01\n",
            " -1.57641262e-01 -4.49034333e-01  5.20880401e-01 -5.63628614e-01\n",
            "  9.02266800e-01 -1.20707333e-01 -3.41785282e-01 -5.44036627e-01\n",
            "  4.04336423e-01  2.62786746e-01  4.96032745e-01 -2.86557768e-02\n",
            "  2.18600780e-01  3.32488775e-01 -2.35119730e-01  6.15216911e-01\n",
            " -4.86040115e-01 -2.59203553e-01 -1.26658395e-01 -1.41795725e-01\n",
            "  3.50275815e-01 -2.94359207e-01  4.10424694e-02 -6.55692816e-01\n",
            " -1.60716064e-02 -1.48809165e-01 -8.40959549e-01 -2.25136727e-01\n",
            "  3.31863761e-01 -2.31363028e-01 -3.71168733e-01 -3.41719955e-01\n",
            "  3.66155744e-01 -2.82972828e-02  8.80306736e-02  4.66897301e-02\n",
            "  1.94886684e-01  4.07935619e-01  4.80794966e-01 -7.97762275e-01\n",
            " -4.51731354e-01  2.77090967e-01  1.22107041e+00  7.89078832e-01\n",
            "  4.70085144e-01  2.00431287e-01 -4.02204514e-01 -5.83671451e-01\n",
            "  3.57761711e-01 -1.71379298e-01  2.76541591e-01  2.15282232e-01\n",
            "  4.51331913e-01 -4.13276553e-01 -4.01903570e-01 -4.88244712e-01\n",
            " -1.01426870e-01  3.21759060e-02 -3.65291119e-01  5.60525656e-01\n",
            " -2.45320812e-01 -5.47148705e-01 -2.42430404e-01  4.30913538e-01\n",
            "  1.75657943e-01  2.00691849e-01  6.84464455e-01 -3.09010267e-01\n",
            " -3.69281888e-01 -2.72309721e-01  4.96700406e-01  8.63008440e-01\n",
            " -2.84425884e-01 -1.03678621e-01  1.12773705e+00  1.41348553e+00\n",
            "  4.72459555e-01  8.04875977e-03 -1.97889939e-01 -3.05057347e-01\n",
            "  1.23307168e-01  2.53880620e-01  1.43225700e-01  6.75069809e-01\n",
            "  8.59071538e-02 -6.86460212e-02 -7.85941005e-01 -1.42272130e-01\n",
            "  7.53137946e-01  4.01735365e-01  4.44032103e-01 -2.67652571e-01\n",
            "  8.10389936e-01 -5.93684092e-02 -1.88572615e-01  4.57136519e-02\n",
            " -5.83779633e-01 -2.60536581e-01 -8.75486732e-01  4.86408949e-01\n",
            " -3.10737818e-01 -4.10811871e-01  1.44547492e-01 -6.59300908e-02\n",
            " -6.26240298e-02 -4.26438153e-01  2.27041528e-01  9.90705490e-02\n",
            "  4.10944551e-01  1.92242444e-01  1.89485267e-01  4.63070303e-01\n",
            " -2.25524306e-01 -2.34311640e-01  1.64931491e-01  7.22295403e-01\n",
            "  1.67814374e-01 -6.01789892e-01 -3.02404732e-01 -1.17521554e-01\n",
            " -9.79147494e-01 -5.34830570e-01 -1.29791841e-01  5.29834628e-01\n",
            " -5.29274344e-04 -1.09062880e-01  1.71138078e-01  5.19192696e-01\n",
            " -8.02636296e-02 -1.40062749e-01  4.85830069e-01 -5.06887197e-01\n",
            " -5.53729795e-02  7.44989753e-01  2.84209937e-01  1.01691775e-01\n",
            " -4.64189023e-01  7.18021393e-01 -2.68131793e-01 -8.26142803e-02\n",
            "  5.44299722e-01 -1.06663004e-01  1.22451276e-01 -3.86710912e-01\n",
            " -3.86897847e-02 -1.86590642e-01 -8.90954062e-02  1.33387864e-01\n",
            " -3.70562732e-01  8.13134238e-02 -3.62840593e-01 -7.91892260e-02\n",
            "  9.14793164e-02 -3.00450504e-01 -6.85687840e-01 -5.50757408e-01\n",
            " -2.94267863e-01  1.80936217e-01  5.02143204e-02 -3.76957864e-01\n",
            " -2.20429629e-01  9.51717645e-02 -2.77225189e-02 -3.77027929e-01\n",
            "  1.56761855e-01  7.03657448e-01  5.69279082e-02  1.56836852e-01\n",
            "  5.33163309e-01  3.37163597e-01  1.21413544e-01 -5.39984822e-01\n",
            "  1.92972153e-01 -2.61402130e-01  6.31408811e-01 -2.94414997e-01\n",
            "  1.61230654e-01 -1.06194949e+00  3.33107173e-01 -4.49676454e-01\n",
            " -5.86122930e-01  5.55930495e-01  5.63290790e-02 -5.20494938e-01\n",
            " -1.02554262e-01 -2.25986335e-02 -1.59317940e-01  4.59948003e-01\n",
            "  1.84332371e-01 -5.16176939e-01 -2.23830104e-01  1.65244997e-01\n",
            " -2.34948859e-01 -5.11224508e-01 -6.52767777e-01  4.11677033e-01\n",
            " -1.14669180e+00 -3.16083789e-01  5.20835891e-02  5.71302533e-01\n",
            "  5.52252889e-01  1.93317056e-01  9.45519581e-02  8.86916041e-01\n",
            " -3.68055761e-01 -5.10221183e-01 -2.58615524e-01 -8.12740147e-01\n",
            " -1.60609275e-01  3.88604969e-01 -5.55399776e-01 -4.55477625e-01\n",
            " -4.32276100e-01  4.64574665e-01 -1.74489971e-02 -1.37514219e-01\n",
            " -3.83245528e-01 -7.63305366e-01  1.75391153e-01 -1.60395592e-01\n",
            " -6.88224256e-01  6.56513125e-02  1.89833313e-01 -9.01126415e-02\n",
            "  7.05464482e-02  2.15989441e-01  4.58425730e-01  1.86371893e-01\n",
            " -3.67684692e-01 -2.11037695e-01  2.55428720e-02  2.21191496e-01\n",
            " -6.76739573e-01 -4.60894346e-01  1.39353335e+00 -8.08268547e-01\n",
            "  7.60944366e-01  3.33173364e-01  1.90498054e-01  6.28293991e-01\n",
            " -2.65454501e-01 -1.26228130e+00 -6.59202099e-01 -2.06912011e-01\n",
            "  8.74030441e-02 -5.02913117e-01  7.16580272e-01  5.36232948e-01\n",
            " -1.61517024e-01  2.12486535e-01 -7.86036611e-01 -3.82179081e-01\n",
            "  1.61026895e-01  1.52657166e-01  1.11526847e+00  2.72852881e-03\n",
            " -1.05944514e+00 -8.44448447e-01  2.96287742e-02  4.47382271e-01\n",
            " -1.39166176e-01  4.50166702e-01 -9.03347850e-01  1.00480266e-01\n",
            " -4.24440920e-01 -2.07728565e-01 -3.39028835e-01  1.42850935e-01\n",
            " -3.08923244e-01 -7.09742904e-01 -1.47056997e-01  2.69954950e-01\n",
            " -1.54802054e-01  2.60820359e-01 -4.46676284e-01 -3.08642030e-01\n",
            " -7.82659173e-01 -4.70003515e-01  5.10423295e-02  4.96364310e-02\n",
            " -7.32232809e-01 -1.55627698e-01  1.00378048e+00  7.61604309e-01\n",
            "  5.37404418e-01  1.42786115e-01 -5.10706544e-01 -3.59225929e-01\n",
            " -4.38472569e-01  3.26846451e-01 -2.79799074e-01  7.63128996e-02\n",
            " -3.88865083e-01 -1.19394588e+00 -8.84182513e-01 -1.11429647e-01\n",
            "  9.17771608e-02  3.10601473e-01 -9.55540165e-02 -5.42201281e-01\n",
            " -2.69150048e-01 -8.22366834e-01 -1.53229669e-01 -1.30787045e-02\n",
            " -1.60136700e-01  1.04273558e-01 -1.08475232e+00  3.17844719e-01\n",
            "  1.82240561e-01 -1.19001940e-01  3.06571066e-01  1.10456908e+00\n",
            " -5.91170907e-01  1.37718663e-01 -5.27718544e-01 -6.45559251e-01\n",
            "  2.31392205e-01  3.75109881e-01 -6.73700213e-01 -2.37104163e-01\n",
            " -3.65564525e-02 -8.17511044e-03 -4.25902642e-02 -6.66237295e-01\n",
            " -2.16034383e-01 -2.62696147e-02 -2.93009460e-01 -5.33745348e-01\n",
            " -3.03115174e-02 -3.61775488e-01  2.72844702e-01  3.10888290e-01\n",
            " -4.09129933e-02 -2.58400857e-01 -3.79209578e-01  2.72753030e-01\n",
            " -1.36428058e-01  5.02989411e-01  1.40714511e-01  3.47564548e-01\n",
            "  3.95706654e-01  3.65960151e-01 -3.67920876e-01 -6.66563153e-01\n",
            " -6.14069641e-01 -1.05645880e-01  8.16267252e-01  1.55552402e-02\n",
            " -1.41142439e-02  2.10791230e-02 -2.81806648e-01 -7.64870718e-02\n",
            "  3.92652214e-01 -2.64983978e-02 -1.14000537e-01  6.98689669e-02\n",
            " -7.67248929e-01  5.56105256e-01 -4.49015349e-01  3.68063524e-02\n",
            " -4.11044657e-01 -5.02218381e-02 -1.80441543e-01  4.08017159e-01\n",
            " -3.78875375e-01  2.01482475e-01  2.87621081e-01  3.57824892e-01\n",
            "  2.94224620e-01  3.62941653e-01  4.70049620e-01 -5.19230008e-01\n",
            "  6.67759240e-01  5.49589336e-01 -4.07162517e-01 -5.68518162e-01\n",
            " -6.83319569e-03 -4.68862265e-01  5.06777763e-01  6.38880968e-01\n",
            " -5.70514917e-01  2.48432279e-01 -5.15025198e-01  4.94267613e-01\n",
            "  1.17028363e-01  7.42360651e-01 -5.13980985e-01  1.01479518e+00\n",
            " -7.95862079e-01  7.75833368e-01  1.32196397e-01 -1.39072970e-01\n",
            "  1.29256546e-01  4.69372898e-01  2.30956584e-01  1.05922714e-01\n",
            " -3.30262721e-01 -1.46726787e-01 -5.36773920e-01 -3.08503211e-01\n",
            " -5.63246161e-02  4.48279977e-01 -1.53555777e-02  3.43384415e-01\n",
            "  3.97818327e-01 -3.73966217e-01 -2.68073499e-01  1.31996423e-01]\n"
          ]
        }
      ]
    },
    {
      "cell_type": "code",
      "source": [
        "len(embeddings_cvs[0])"
      ],
      "metadata": {
        "id": "e0GzyNbhzeje",
        "colab": {
          "base_uri": "https://localhost:8080/"
        },
        "outputId": "8c7700f4-976b-4fd6-8633-f1449d07b534"
      },
      "execution_count": 19,
      "outputs": [
        {
          "output_type": "execute_result",
          "data": {
            "text/plain": [
              "768"
            ]
          },
          "metadata": {},
          "execution_count": 19
        }
      ]
    },
    {
      "cell_type": "code",
      "source": [
        "# Calcular la similitud de coseno entre los embeddings de los CVs y las frases clave\n",
        "similitudes = cosine_similarity(embeddings_cvs, embeddings_frases_ia)"
      ],
      "metadata": {
        "id": "icaOKwB6z7nX"
      },
      "execution_count": 20,
      "outputs": []
    },
    {
      "cell_type": "code",
      "source": [
        "similitudes"
      ],
      "metadata": {
        "collapsed": true,
        "id": "UsbXYNYI0OmP",
        "colab": {
          "base_uri": "https://localhost:8080/"
        },
        "outputId": "2d248970-8e72-4f29-8e8c-90007549a968"
      },
      "execution_count": 21,
      "outputs": [
        {
          "output_type": "execute_result",
          "data": {
            "text/plain": [
              "array([[ 2.48850375e-01,  1.91605374e-01,  1.44962892e-01,\n",
              "        -1.10994605e-02,  9.74710733e-02,  1.76070094e-01,\n",
              "         6.60039112e-02,  1.56717613e-01,  2.37745922e-02,\n",
              "         1.23778425e-01,  1.70175031e-01,  1.21600091e-01,\n",
              "         1.04314476e-01,  1.55257434e-01,  1.06914736e-01,\n",
              "         3.81193101e-01,  3.10381770e-01,  1.17795557e-01,\n",
              "         1.87948525e-01,  1.33883297e-01,  2.22433627e-01,\n",
              "         1.56928837e-01,  1.26519710e-01,  4.93159443e-02,\n",
              "         1.59396008e-01,  3.97074372e-02,  1.71726979e-02,\n",
              "         1.17040444e-02,  5.33507168e-02,  1.82604611e-01,\n",
              "         1.73129737e-01,  1.02351308e-01,  1.17736287e-01,\n",
              "         1.22627921e-01,  1.11862026e-01,  4.19683345e-02,\n",
              "         2.64044136e-01, -1.44061632e-02, -1.71818826e-02,\n",
              "         1.39104426e-01,  1.14131011e-01,  1.73127741e-01,\n",
              "         1.76811725e-01,  1.30310863e-01,  5.19397222e-02,\n",
              "         1.33811206e-01,  1.15443617e-01,  2.50052750e-01,\n",
              "         6.60171583e-02,  1.44137576e-01,  1.75424799e-01,\n",
              "         1.99749142e-01,  1.60017103e-01,  1.64868921e-01,\n",
              "         9.20739472e-02,  1.41661763e-01,  1.23755492e-01,\n",
              "         1.48756802e-01,  1.69819653e-01,  1.83948576e-01,\n",
              "        -2.12152228e-02,  1.59796089e-01,  1.05690911e-01,\n",
              "         6.88601658e-02,  1.17872003e-02,  7.93102384e-03,\n",
              "         7.25180358e-02,  5.03256246e-02,  1.11775666e-01,\n",
              "         4.97313663e-02,  1.99700609e-01,  1.83086619e-01,\n",
              "         6.75937682e-02,  1.61594599e-01,  2.55899932e-02,\n",
              "        -2.59353220e-03,  2.82208268e-02,  1.47532746e-01,\n",
              "         2.37903416e-01,  4.17524427e-02, -1.66118797e-02,\n",
              "         1.75394163e-01,  1.06694303e-01,  1.83983967e-01,\n",
              "         1.21748887e-01,  5.85023127e-02,  4.88235243e-02,\n",
              "         1.03790425e-01,  1.07868612e-01,  9.27117020e-02,\n",
              "         4.37054522e-02,  1.17566474e-01,  2.08402231e-01,\n",
              "         1.31916225e-01,  3.58768404e-02,  2.20346764e-01,\n",
              "         1.39085561e-01],\n",
              "       [ 2.34853644e-02,  1.62485510e-01, -5.24865016e-02,\n",
              "        -1.11460581e-01, -6.45030886e-02,  2.64626835e-03,\n",
              "         4.70078140e-02,  6.78796396e-02, -9.93692428e-02,\n",
              "         8.56783688e-02,  2.22427007e-02,  1.27032856e-02,\n",
              "         1.57602467e-02,  2.97377426e-02, -1.01721529e-02,\n",
              "         1.11347005e-01,  2.37239376e-02,  7.29022399e-02,\n",
              "         1.20887682e-01,  1.64972633e-01,  1.60399944e-01,\n",
              "         8.57101530e-02,  4.66365255e-02, -7.61911497e-02,\n",
              "         1.48436785e-01, -4.68936563e-02, -2.48223403e-03,\n",
              "        -1.38510922e-02, -2.69525871e-03,  1.85656354e-01,\n",
              "         6.83499873e-03,  1.00048773e-01,  1.08054049e-01,\n",
              "         4.68410552e-03, -6.33291900e-02, -1.04356833e-01,\n",
              "         1.34731233e-01, -8.17627981e-02, -5.86035922e-02,\n",
              "         3.56637165e-02, -2.93752365e-02,  2.04039365e-02,\n",
              "         1.69588000e-01,  9.27638263e-02,  4.46222350e-02,\n",
              "         2.85662822e-02,  8.15001875e-03,  1.56015083e-01,\n",
              "        -1.10105425e-01,  9.56238806e-02,  1.08297549e-01,\n",
              "         2.14326829e-02,  3.85072231e-02, -1.16458908e-03,\n",
              "         6.27515614e-02,  8.85695964e-02,  4.32332531e-02,\n",
              "         1.28405645e-01,  1.43188372e-01,  8.01083520e-02,\n",
              "        -5.85769787e-02, -3.80711630e-04,  4.09036875e-03,\n",
              "         7.17943311e-02, -6.98051155e-02, -9.61019024e-02,\n",
              "         3.35693359e-02, -1.83154717e-02,  1.04269579e-01,\n",
              "        -1.87951438e-02,  2.41841935e-02, -2.71769054e-02,\n",
              "        -6.55386597e-02,  8.14123601e-02, -1.87080223e-02,\n",
              "         4.63437438e-02,  2.13945154e-02,  1.23434529e-01,\n",
              "         9.55287367e-02, -5.89297228e-02, -8.96937549e-02,\n",
              "         3.85081917e-02,  1.29069490e-02, -3.43813002e-02,\n",
              "         8.04459304e-03, -1.56857893e-01, -1.42834306e-01,\n",
              "        -7.04527274e-03,  3.50428000e-03,  1.32944100e-02,\n",
              "         1.01331383e-01,  7.63650090e-02,  1.03667460e-01,\n",
              "         6.56510890e-02, -1.08086780e-01,  2.66131759e-02,\n",
              "         1.08996928e-01],\n",
              "       [ 1.26158848e-01,  2.46796489e-01,  4.84854616e-02,\n",
              "        -6.12301454e-02,  5.05987071e-02,  1.82580039e-01,\n",
              "         1.33422107e-01,  1.48140728e-01,  5.14309034e-02,\n",
              "         1.10493064e-01,  7.87936002e-02,  5.04052937e-02,\n",
              "        -8.04049075e-02,  4.99215983e-02, -1.47908013e-02,\n",
              "         8.50853026e-02,  9.06480253e-02, -1.41522009e-02,\n",
              "        -6.17520772e-02,  1.24300733e-01,  7.32845291e-02,\n",
              "         2.67532803e-02,  3.86014394e-03, -3.66181917e-02,\n",
              "         6.57857209e-02,  2.22251043e-02,  3.49670164e-02,\n",
              "        -9.07505304e-03, -4.43157852e-02,  2.05181137e-01,\n",
              "        -2.46266276e-02,  1.29368246e-01,  1.22522503e-01,\n",
              "        -5.22241816e-02,  3.11954021e-02, -3.36243026e-02,\n",
              "         6.94312900e-02, -2.43071228e-01, -1.48120046e-01,\n",
              "         1.03047781e-01,  1.11198880e-01,  1.66298464e-01,\n",
              "         1.33840203e-01,  1.67400688e-01,  9.16673243e-02,\n",
              "         1.03427574e-01,  1.24149710e-01,  2.07305223e-01,\n",
              "        -5.90504743e-02,  1.22185521e-01,  1.44886851e-01,\n",
              "         5.63892499e-02,  9.04054269e-02,  1.38856813e-01,\n",
              "        -2.80929655e-02,  4.43592370e-02, -4.89528431e-03,\n",
              "         3.72508988e-02,  3.95960100e-02,  6.02676999e-03,\n",
              "        -3.39037925e-02,  3.46778370e-02,  8.29390287e-02,\n",
              "         6.04689121e-05, -3.98741364e-02,  6.97999448e-02,\n",
              "         7.92879611e-02, -8.49302635e-02,  8.02170187e-02,\n",
              "        -1.29240409e-01,  3.79307233e-02, -4.35913056e-02,\n",
              "        -1.18342206e-01,  7.75879472e-02,  4.05194946e-02,\n",
              "         1.58845261e-02, -5.00767753e-02,  6.20925762e-02,\n",
              "        -3.18247341e-02, -8.22368637e-02, -4.06720340e-02,\n",
              "         1.73601747e-01, -5.15872464e-02, -4.13330197e-02,\n",
              "        -4.87727933e-02, -5.96745238e-02, -4.25572135e-02,\n",
              "        -1.68456901e-02,  2.23517884e-02, -9.50943977e-02,\n",
              "        -2.87550148e-02, -3.56658027e-02,  2.97878031e-02,\n",
              "         4.94559333e-02, -6.70415955e-03,  5.67241795e-02,\n",
              "         4.25811037e-02],\n",
              "       [ 1.67870373e-01,  1.02375463e-01,  1.55198857e-01,\n",
              "         3.89888063e-02,  9.17155743e-02,  1.53538495e-01,\n",
              "         1.10407397e-01,  1.19297333e-01,  3.56130600e-02,\n",
              "         1.15745157e-01,  2.13986948e-01,  1.22801825e-01,\n",
              "         5.55636920e-02,  3.11067998e-01,  1.90768540e-02,\n",
              "         1.12095430e-01,  1.52559429e-01,  1.55769467e-01,\n",
              "         2.25077316e-01,  7.07127620e-03,  2.41404667e-01,\n",
              "         2.60453343e-01,  2.06014872e-01,  1.75275609e-01,\n",
              "         1.72196478e-01,  1.56886980e-01,  4.97114211e-02,\n",
              "         1.73675731e-01,  2.13223398e-01,  2.55321503e-01,\n",
              "         1.61241367e-01,  2.12943465e-01,  1.35753408e-01,\n",
              "         1.03080966e-01,  2.62375295e-01,  1.80704355e-01,\n",
              "         2.50377864e-01,  1.16750211e-01,  1.87505692e-01,\n",
              "         1.47085711e-01,  1.25978857e-01,  1.82892039e-01,\n",
              "         3.71660590e-01,  2.81587809e-01,  6.12979420e-02,\n",
              "         1.08819686e-01,  9.07954723e-02,  1.31991416e-01,\n",
              "         2.10771844e-01,  9.39152464e-02,  1.13986820e-01,\n",
              "         1.63120091e-01,  1.44314066e-01,  2.66324520e-01,\n",
              "         2.48100191e-01,  3.24209511e-01,  3.01492333e-01,\n",
              "         3.42885494e-01,  3.47784817e-01,  3.80389631e-01,\n",
              "         3.65254283e-01,  2.43151769e-01,  3.89283687e-01,\n",
              "         2.84981430e-01,  2.06495792e-01,  3.82648468e-01,\n",
              "         2.81913549e-01,  9.40592736e-02,  3.43786687e-01,\n",
              "         1.63227841e-01,  3.63580495e-01,  2.43833691e-01,\n",
              "         2.14493006e-01,  3.23869765e-01,  4.36721534e-01,\n",
              "         3.02292109e-01,  2.57482231e-01,  3.81022096e-01,\n",
              "         2.08046719e-01,  2.06508666e-01,  1.94418639e-01,\n",
              "         2.93632269e-01,  1.63766474e-01,  3.51946592e-01,\n",
              "         2.55052537e-01,  2.48597249e-01,  2.12502137e-01,\n",
              "         2.25665629e-01,  3.50296080e-01,  2.44358629e-01,\n",
              "         1.37785494e-01,  1.31499723e-01,  2.56101727e-01,\n",
              "         2.66395509e-01,  3.41797382e-01,  2.78707802e-01,\n",
              "         1.81824982e-01],\n",
              "       [ 2.28908092e-01,  2.11019307e-01,  1.40773177e-01,\n",
              "         1.64863989e-01,  1.36268482e-01,  1.79744214e-01,\n",
              "         2.30416860e-02,  7.48922080e-02,  3.01327128e-02,\n",
              "         7.14172497e-02,  1.49278849e-01,  1.98744982e-01,\n",
              "         1.86929882e-01,  2.39562422e-01,  1.44108206e-01,\n",
              "         2.43767679e-01,  2.78904319e-01,  6.85926601e-02,\n",
              "         2.26480037e-01,  1.33623257e-01,  1.76965475e-01,\n",
              "         1.18967175e-01,  1.46977186e-01,  8.71048421e-02,\n",
              "         1.36003792e-01,  1.84189916e-01,  2.26352066e-01,\n",
              "        -1.29013598e-01,  6.68303594e-02,  2.27235734e-01,\n",
              "         2.15624332e-01,  2.33409882e-01,  1.57098174e-01,\n",
              "         5.00233434e-02,  1.74908992e-03, -1.09910950e-01,\n",
              "         2.50659108e-01, -2.33512595e-02, -2.50098854e-03,\n",
              "         4.08359878e-02,  1.20334126e-01,  1.31252721e-01,\n",
              "         1.45551458e-01,  1.26677752e-01,  1.47354484e-01,\n",
              "         1.72461823e-01,  1.94847032e-01,  1.97510064e-01,\n",
              "         2.01390497e-02,  2.68251270e-01,  2.56837487e-01,\n",
              "         2.45330155e-01,  2.95470595e-01,  1.34318233e-01,\n",
              "         5.03900237e-02,  3.56779248e-02,  3.02100256e-02,\n",
              "         6.82474449e-02,  7.91950971e-02,  6.45689368e-02,\n",
              "        -2.74315290e-03,  1.01462260e-01,  6.83023781e-02,\n",
              "         1.21203840e-01, -1.08381636e-01, -2.28120927e-02,\n",
              "         1.69579685e-01,  1.05269745e-01,  1.31181285e-01,\n",
              "        -2.99552530e-02,  1.08976737e-01,  5.26097938e-02,\n",
              "         4.16121855e-02,  1.49333715e-01,  7.82012045e-02,\n",
              "         7.90035576e-02,  7.10024163e-02,  7.77461678e-02,\n",
              "         1.98884904e-01,  5.19999564e-02, -5.86224981e-02,\n",
              "         1.38391241e-01,  9.04913694e-02,  1.05250422e-02,\n",
              "         1.45233527e-01,  4.82895859e-02,  4.74151261e-02,\n",
              "         1.24247432e-01,  7.78877586e-02,  8.51914734e-02,\n",
              "         1.91156641e-01,  1.31869525e-01,  1.97981089e-01,\n",
              "         2.84365453e-02, -6.20041564e-02,  1.09299183e-01,\n",
              "         1.03745535e-01],\n",
              "       [ 3.84161025e-01,  2.21524298e-01,  3.58369201e-01,\n",
              "         3.04897353e-02,  1.95305169e-01,  2.06563920e-01,\n",
              "         2.01975003e-01,  2.36010194e-01,  6.29935712e-02,\n",
              "         2.48250559e-01,  2.00248092e-01,  1.90585107e-01,\n",
              "         1.27317861e-01,  1.73767105e-01, -1.86100286e-02,\n",
              "         2.65472025e-01,  2.62252510e-01,  2.35479265e-01,\n",
              "         2.89634049e-01,  1.09768227e-01,  2.87114024e-01,\n",
              "         2.47990265e-01,  1.79319739e-01, -3.40039767e-02,\n",
              "         2.49253541e-01,  8.45813677e-02,  6.33868277e-02,\n",
              "         1.51513591e-01, -4.66360152e-02,  1.94752663e-01,\n",
              "         1.13754630e-01,  1.65374160e-01,  2.00561687e-01,\n",
              "         7.47886822e-02,  1.46330241e-02,  1.12386174e-01,\n",
              "         2.73394257e-01, -7.55330846e-02, -1.56315148e-01,\n",
              "         5.08436114e-02, -2.36638226e-02,  2.94993427e-02,\n",
              "         1.91536933e-01,  3.04592729e-01,  1.14065334e-01,\n",
              "         1.05023921e-01,  2.22630560e-01,  3.11579943e-01,\n",
              "         1.20435305e-01,  2.53860533e-01,  2.38901138e-01,\n",
              "         2.22705245e-01,  3.05159569e-01,  2.15315253e-01,\n",
              "         9.71606672e-02,  1.02023646e-01,  4.36634459e-02,\n",
              "         1.37077153e-01,  6.26109615e-02,  1.01809561e-01,\n",
              "         1.20224819e-01,  1.34629205e-01,  9.46685374e-02,\n",
              "         1.62202626e-01,  5.07608280e-02,  7.16838539e-02,\n",
              "         1.86450630e-01,  5.37641943e-02,  2.43338272e-01,\n",
              "        -4.13700715e-02,  1.09092593e-01,  8.55585933e-02,\n",
              "        -2.30171457e-02,  1.98796466e-01,  1.86648846e-01,\n",
              "         9.83024091e-02,  7.91454762e-02,  1.58608973e-01,\n",
              "         1.35289550e-01,  2.27318797e-02,  1.01541668e-01,\n",
              "         2.62236953e-01,  2.30892040e-02, -8.67707059e-02,\n",
              "        -1.77074336e-02, -9.19799581e-02, -1.00977316e-01,\n",
              "         2.96633765e-02,  1.20910652e-01,  2.50589363e-02,\n",
              "        -2.91076731e-02,  1.72207341e-01,  1.56980157e-01,\n",
              "         2.04052165e-01,  6.93555027e-02,  2.14908004e-01,\n",
              "         1.26654819e-01],\n",
              "       [ 1.32808477e-01,  1.42982364e-01,  1.21620066e-01,\n",
              "         5.10766618e-02,  1.31715864e-01,  1.23889223e-01,\n",
              "         5.27255163e-02,  7.06348196e-02, -4.08604853e-02,\n",
              "         7.92794153e-02,  1.56622231e-01,  1.46064922e-01,\n",
              "         6.86708912e-02,  2.27828667e-01,  9.95256379e-03,\n",
              "         5.04121967e-02,  1.83147073e-01,  2.29256481e-01,\n",
              "         1.88664779e-01,  8.29523429e-03,  1.96992785e-01,\n",
              "         1.13832831e-01,  1.19922407e-01,  7.86709413e-02,\n",
              "         2.02344000e-01,  1.79380208e-01,  5.84096871e-02,\n",
              "         3.40591148e-02,  1.10381804e-01,  2.19561249e-01,\n",
              "         1.22319281e-01,  2.81888515e-01,  1.22148849e-01,\n",
              "         2.85887346e-03,  2.06664205e-01, -1.41762942e-03,\n",
              "         2.83667713e-01, -5.55451885e-02,  2.95289587e-02,\n",
              "         2.93477364e-02,  8.05707723e-02,  1.40947342e-01,\n",
              "         2.31307477e-01,  1.83132246e-01,  3.10206622e-01,\n",
              "         7.72027969e-02,  1.60000011e-01,  1.79887220e-01,\n",
              "         3.02312449e-02,  1.77506685e-01,  2.03728527e-01,\n",
              "         1.77982852e-01,  2.51313448e-01,  1.07861198e-01,\n",
              "         3.20153199e-02,  2.31463015e-02,  1.92546584e-02,\n",
              "         5.89327216e-02,  5.31048402e-02,  6.44254088e-02,\n",
              "         1.39542907e-01,  1.70391262e-01,  1.87245965e-01,\n",
              "         2.23628581e-01,  5.79835325e-02,  1.26901373e-01,\n",
              "         3.41567785e-01,  9.80300680e-02,  2.37861127e-01,\n",
              "         1.09301750e-02,  1.28737211e-01,  3.55963558e-02,\n",
              "         1.19668394e-01,  2.66284585e-01,  2.37608194e-01,\n",
              "         1.43931046e-01,  1.24328345e-01,  1.01688549e-01,\n",
              "         1.20811522e-01,  8.23181048e-02,  8.02061856e-02,\n",
              "         1.29901141e-01,  1.55405223e-01,  8.77727270e-02,\n",
              "         5.13982475e-02,  7.06689283e-02,  6.56843036e-02,\n",
              "         1.65279761e-01,  6.39874488e-02,  9.51042250e-02,\n",
              "         9.44379717e-02,  8.17684457e-02,  1.64949208e-01,\n",
              "         1.55387580e-01,  8.32924247e-02,  1.10953219e-01,\n",
              "         1.11074075e-01],\n",
              "       [ 3.63999069e-01,  2.54022926e-01,  3.71198952e-01,\n",
              "         6.89991862e-02,  2.10981861e-01,  2.95666695e-01,\n",
              "         1.84518009e-01,  2.71108150e-01,  1.25560939e-01,\n",
              "         2.77529389e-01,  2.26668537e-01,  2.34605521e-01,\n",
              "         1.48939222e-01,  2.70499170e-01, -1.00357935e-01,\n",
              "         1.81287020e-01,  2.32055038e-01,  1.59031093e-01,\n",
              "         1.72660559e-01,  4.73809317e-02,  2.26055950e-01,\n",
              "         2.14010581e-01,  1.15947410e-01,  7.83776492e-02,\n",
              "         9.92928967e-02,  1.34318724e-01,  8.29878226e-02,\n",
              "         1.39277130e-01,  1.74057204e-02,  3.72146785e-01,\n",
              "         8.01966190e-02,  3.05134207e-01,  2.60451287e-01,\n",
              "         5.41368239e-02,  1.37495786e-01,  1.01793386e-01,\n",
              "         1.70923352e-01, -4.21822146e-02,  4.62664757e-03,\n",
              "         1.42699003e-01,  3.18147689e-02,  1.21659100e-01,\n",
              "         2.51889527e-01,  2.74334699e-01,  1.49860680e-01,\n",
              "         1.30261227e-01,  2.77372509e-01,  2.95816571e-01,\n",
              "         1.74940079e-01,  2.31909484e-01,  2.93750882e-01,\n",
              "         2.75035262e-01,  3.44407946e-01,  3.34933251e-01,\n",
              "         1.16769403e-01,  1.29152745e-01,  1.09713212e-01,\n",
              "         1.56479880e-01,  1.23362049e-01,  1.59392402e-01,\n",
              "         1.75599933e-01,  1.70832783e-01,  1.78433955e-01,\n",
              "         1.20193958e-01,  3.61590795e-02,  1.08151034e-01,\n",
              "         1.69188976e-01,  1.14950407e-02,  2.15067014e-01,\n",
              "        -7.36348517e-03,  1.43357024e-01,  6.26539364e-02,\n",
              "        -1.50321759e-02,  1.59392804e-01,  2.52999246e-01,\n",
              "         1.23547629e-01,  6.66580349e-02,  2.20864221e-01,\n",
              "         1.09481998e-01,  5.43658882e-02, -4.55901772e-02,\n",
              "         3.72931004e-01,  9.54017863e-02,  1.05719410e-01,\n",
              "        -1.06864339e-02, -3.43881398e-02, -4.56274636e-02,\n",
              "         1.33616656e-01,  1.98752254e-01,  5.74719757e-02,\n",
              "         3.63624245e-02,  1.47061557e-01,  1.97974235e-01,\n",
              "         1.45908177e-01,  7.97131136e-02,  1.57708153e-01,\n",
              "         1.03340328e-01],\n",
              "       [ 2.74073243e-01,  1.89543679e-01,  2.43882120e-01,\n",
              "         8.29469338e-02,  1.24764718e-01,  1.55082077e-01,\n",
              "         1.74063727e-01,  1.77129835e-01,  7.42693841e-02,\n",
              "         1.46084949e-01,  1.66136295e-01,  2.08579600e-01,\n",
              "         7.36439228e-02,  2.30206728e-01,  9.37354565e-03,\n",
              "         1.36268720e-01,  1.78183764e-01,  1.03966027e-01,\n",
              "         1.51985109e-01,  8.47347155e-02,  1.92140743e-01,\n",
              "         1.88208327e-01,  1.02248818e-01,  6.08690009e-02,\n",
              "         2.43535608e-01,  1.41790420e-01,  1.26577660e-01,\n",
              "         1.26415119e-01,  5.07768765e-02,  1.91969365e-01,\n",
              "         1.65115476e-01,  2.10985184e-01,  2.46387973e-01,\n",
              "        -2.08479501e-02,  1.18049122e-01,  1.55429587e-01,\n",
              "         2.15020955e-01, -7.56776519e-03, -6.65271422e-03,\n",
              "         1.17312923e-01,  1.13671556e-01,  1.52610481e-01,\n",
              "         2.79855430e-01,  2.72302866e-01,  1.40986562e-01,\n",
              "         1.55983746e-01,  2.08641395e-01,  2.19030768e-01,\n",
              "         1.61443681e-01,  2.30753392e-01,  2.61390597e-01,\n",
              "         2.17884392e-01,  2.06203580e-01,  2.83217788e-01,\n",
              "         2.18029022e-01,  2.63669789e-01,  2.54499167e-01,\n",
              "         2.40253374e-01,  1.70082361e-01,  2.13982910e-01,\n",
              "         2.19954252e-01,  1.71703368e-01,  2.53102362e-01,\n",
              "         1.79408818e-01,  7.34714270e-02,  2.38727972e-01,\n",
              "         1.64224654e-01,  5.33500314e-02,  2.42886484e-01,\n",
              "        -6.59471899e-02,  1.56988427e-01,  1.31301612e-01,\n",
              "         7.88040459e-02,  2.68564582e-01,  3.07056397e-01,\n",
              "         2.30614632e-01,  1.02248818e-01,  2.31919587e-01,\n",
              "         1.18083738e-01,  1.24352068e-01,  1.27334043e-01,\n",
              "         3.49282712e-01,  6.20109588e-02,  1.11663938e-01,\n",
              "         1.05147325e-01,  1.19542852e-01,  1.07174560e-01,\n",
              "         2.00095437e-02,  2.10651323e-01,  4.63689193e-02,\n",
              "         5.45228198e-02,  1.24006003e-01,  1.79999605e-01,\n",
              "         1.55244187e-01,  2.00288013e-01,  2.44681492e-01,\n",
              "         1.90309674e-01]], dtype=float32)"
            ]
          },
          "metadata": {},
          "execution_count": 21
        }
      ]
    },
    {
      "cell_type": "code",
      "source": [
        "# Mostrar coincidencias exactas para cada CV\n",
        "for i, cv in enumerate(cvs):\n",
        "    num_coincidencias, coincidencias = calcular_coincidencias(cv, frases_ia)\n",
        "    print(f\"CV {i+1}:\")\n",
        "    print(f\"Texto: {cv[:50]}...\")  # Muestra los primeros 50 caracteres del CV para contexto\n",
        "    print(f\"Coincidencias exactas: {num_coincidencias}\")\n",
        "\n",
        "    if num_coincidencias > 0:\n",
        "        print(f\"Frases coincidentes: {', '.join(coincidencias)}\")  # Muestra todas las frases coincidentes\n",
        "    else:\n",
        "        print(\"No se encontraron coincidencias exactas.\")\n",
        "\n",
        "    print(\"\\n\")"
      ],
      "metadata": {
        "id": "jsgXczgk0NFH",
        "collapsed": true,
        "colab": {
          "base_uri": "https://localhost:8080/"
        },
        "outputId": "c09c4bad-4d8c-4fc3-be30-03298584cc64"
      },
      "execution_count": 22,
      "outputs": [
        {
          "output_type": "stream",
          "name": "stdout",
          "text": [
            "CV 1:\n",
            "Texto: Michael  Smith\n",
            "BI / Big Data/ Azure\n",
            "Manchester,  U...\n",
            "Coincidencias exactas: 1\n",
            "Frases coincidentes: Big Data\n",
            "\n",
            "\n",
            "CV 2:\n",
            "Texto: POWELL\n",
            "FINWOOD\n",
            "WORK  EXPERIENCE\n",
            "Account  Sales Exe...\n",
            "Coincidencias exactas: 0\n",
            "No se encontraron coincidencias exactas.\n",
            "\n",
            "\n",
            "CV 3:\n",
            "Texto: Phone  and WhatsApp:\n",
            "+62 8577 7124 773\n",
            "Email:\n",
            "dhik...\n",
            "Coincidencias exactas: 0\n",
            "No se encontraron coincidencias exactas.\n",
            "\n",
            "\n",
            "CV 4:\n",
            "Texto: Dyah\n",
            "Hediyati  $S.Kom\n",
            "RINGKASAN  PROFESIONAL\n",
            "Lulus...\n",
            "Coincidencias exactas: 0\n",
            "No se encontraron coincidencias exactas.\n",
            "\n",
            "\n",
            "CV 5:\n",
            "Texto: Alice Clark\n",
            "Al / Machine  Learning\n",
            "Delhi, India Em...\n",
            "Coincidencias exactas: 3\n",
            "Frases coincidentes: Machine Learning, Natural Language Processing, Big Data\n",
            "\n",
            "\n",
            "CV 6:\n",
            "Texto: MOH PUJI JUNAEDI\n",
            "FULLSTACK DEVELOPER\n",
            "Bojonegoro, J...\n",
            "Coincidencias exactas: 1\n",
            "Frases coincidentes: Machine Learning\n",
            "\n",
            "\n",
            "CV 7:\n",
            "Texto: DR.SANTOSH  KAKADE\n",
            "a\n",
            "DR.SANTOSH  KAKADE\n",
            "MS (Surger...\n",
            "Coincidencias exactas: 0\n",
            "No se encontraron coincidencias exactas.\n",
            "\n",
            "\n",
            "CV 8:\n",
            "Texto: Education\n",
            "Technical  Skills\n",
            "Professional\n",
            "Experienc...\n",
            "Coincidencias exactas: 0\n",
            "No se encontraron coincidencias exactas.\n",
            "\n",
            "\n",
            "CV 9:\n",
            "Texto: Ringgi  Cahyo  Dwiputra\n",
            "South Tangerang,  Banten  ...\n",
            "Coincidencias exactas: 0\n",
            "No se encontraron coincidencias exactas.\n",
            "\n",
            "\n"
          ]
        }
      ]
    },
    {
      "cell_type": "code",
      "source": [
        "mostrar_similitudes_semanticas(cvs, frases_ia, similitudes)"
      ],
      "metadata": {
        "id": "Tc5f9CDi8lwt",
        "collapsed": true,
        "colab": {
          "base_uri": "https://localhost:8080/"
        },
        "outputId": "10031eaf-c2dd-4c20-c51d-638b07590073"
      },
      "execution_count": 23,
      "outputs": [
        {
          "output_type": "stream",
          "name": "stdout",
          "text": [
            "Similitudes semánticas por CV:\n",
            "CV 1:\n",
            "Texto: Michael  Smith\n",
            "BI / Big Data/ Azure\n",
            "Manchester,  U...\n",
            "Similitud semántica promedio: 0.1193\n",
            "\n",
            "CV 2:\n",
            "Texto: POWELL\n",
            "FINWOOD\n",
            "WORK  EXPERIENCE\n",
            "Account  Sales Exe...\n",
            "Similitud semántica promedio: 0.0266\n",
            "\n",
            "CV 3:\n",
            "Texto: Phone  and WhatsApp:\n",
            "+62 8577 7124 773\n",
            "Email:\n",
            "dhik...\n",
            "Similitud semántica promedio: 0.0331\n",
            "\n",
            "CV 4:\n",
            "Texto: Dyah\n",
            "Hediyati  $S.Kom\n",
            "RINGKASAN  PROFESIONAL\n",
            "Lulus...\n",
            "Similitud semántica promedio: 0.2087\n",
            "\n",
            "CV 5:\n",
            "Texto: Alice Clark\n",
            "Al / Machine  Learning\n",
            "Delhi, India Em...\n",
            "Similitud semántica promedio: 0.1116\n",
            "\n",
            "CV 6:\n",
            "Texto: MOH PUJI JUNAEDI\n",
            "FULLSTACK DEVELOPER\n",
            "Bojonegoro, J...\n",
            "Similitud semántica promedio: 0.1299\n",
            "\n",
            "CV 7:\n",
            "Texto: DR.SANTOSH  KAKADE\n",
            "a\n",
            "DR.SANTOSH  KAKADE\n",
            "MS (Surger...\n",
            "Similitud semántica promedio: 0.1212\n",
            "\n",
            "CV 8:\n",
            "Texto: Education\n",
            "Technical  Skills\n",
            "Professional\n",
            "Experienc...\n",
            "Similitud semántica promedio: 0.1518\n",
            "\n",
            "CV 9:\n",
            "Texto: Ringgi  Cahyo  Dwiputra\n",
            "South Tangerang,  Banten  ...\n",
            "Similitud semántica promedio: 0.1604\n",
            "\n"
          ]
        }
      ]
    },
    {
      "cell_type": "code",
      "source": [
        "# Llamada a la función para calcular los puntajes ajustados y escalados\n",
        "puntajes_escalados = calcular_puntaje(cvs, frases_ia, embeddings_cvs, embeddings_frases_ia)\n",
        "\n",
        "# Mostrar los puntajes escalados con los primeros 50 caracteres de cada CV\n",
        "for cv, puntaje_escalado in zip(cvs, puntajes_escalados):\n",
        "    print(f\"CV: {cv[:50]}... -> Puntaje escalado: {puntaje_escalado:.2f}\\n\\n\")\n"
      ],
      "metadata": {
        "id": "sEkqjWzj9QSO",
        "collapsed": true,
        "colab": {
          "base_uri": "https://localhost:8080/"
        },
        "outputId": "2980de7e-6177-4835-cd3f-faf018f1ff6a"
      },
      "execution_count": 24,
      "outputs": [
        {
          "output_type": "stream",
          "name": "stdout",
          "text": [
            "CV: Michael  Smith\n",
            "BI / Big Data/ Azure\n",
            "Manchester,  U... -> Puntaje escalado: 4.90\n",
            "\n",
            "\n",
            "CV: POWELL\n",
            "FINWOOD\n",
            "WORK  EXPERIENCE\n",
            "Account  Sales Exe... -> Puntaje escalado: 1.01\n",
            "\n",
            "\n",
            "CV: Phone  and WhatsApp:\n",
            "+62 8577 7124 773\n",
            "Email:\n",
            "dhik... -> Puntaje escalado: 1.02\n",
            "\n",
            "\n",
            "CV: Dyah\n",
            "Hediyati  $S.Kom\n",
            "RINGKASAN  PROFESIONAL\n",
            "Lulus... -> Puntaje escalado: 1.11\n",
            "\n",
            "\n",
            "CV: Alice Clark\n",
            "Al / Machine  Learning\n",
            "Delhi, India Em... -> Puntaje escalado: 4.90\n",
            "\n",
            "\n",
            "CV: MOH PUJI JUNAEDI\n",
            "FULLSTACK DEVELOPER\n",
            "Bojonegoro, J... -> Puntaje escalado: 1.07\n",
            "\n",
            "\n",
            "CV: DR.SANTOSH  KAKADE\n",
            "a\n",
            "DR.SANTOSH  KAKADE\n",
            "MS (Surger... -> Puntaje escalado: 1.07\n",
            "\n",
            "\n",
            "CV: Education\n",
            "Technical  Skills\n",
            "Professional\n",
            "Experienc... -> Puntaje escalado: 1.08\n",
            "\n",
            "\n",
            "CV: Ringgi  Cahyo  Dwiputra\n",
            "South Tangerang,  Banten  ... -> Puntaje escalado: 1.09\n",
            "\n",
            "\n"
          ]
        }
      ]
    },
    {
      "cell_type": "markdown",
      "source": [
        "##Extracción de datos"
      ],
      "metadata": {
        "id": "9-EvuPYZ6Ajv"
      }
    },
    {
      "cell_type": "markdown",
      "source": [
        "###Resumen del código\n",
        "\n",
        "El objetivo es analizar textos de CVs para extraer nombres de personas, correos electrónicos y números de teléfono utilizando técnicas avanzadas de procesamiento de lenguaje natural (NLP). Se evalúan diferentes estrategias, se combinan modelos para obtener mejores resultados, y se descarta una alternativa basada en SpaCy debido a su bajo rendimiento.\n",
        "\n",
        "###Modelos y herramientas utilizados\n",
        "\n",
        "####**Transformers (Hugging Face)**\n",
        "Se utilizó el modelo `dbmdz/bert-large-cased-finetuned-conll03-english` para el reconocimiento de entidades nombradas (NER), identificando entidades del tipo `PER` (personas).\n",
        "\n",
        "####**Expresiones regulares**\n",
        "Se emplearon patrones para detectar correos electrónicos y teléfonos en varios formatos.\n",
        "\n",
        "####**SpaCy**\n",
        "Aunque se probó como alternativa para el reconocimiento de nombres, no ofreció buenos resultados y se descartó.\n",
        "\n",
        "###Procesos principales\n",
        "\n",
        "####**Extracción con Transformers**\n",
        "1. Se utiliza un pipeline NER de Hugging Face para identificar entidades en los CVs.\n",
        "2. Se filtran las entidades etiquetadas como nombres de personas (`B-PER` e `I-PER`).\n",
        "3. Se procesan los tokens divididos (subpalabras marcadas con `##`) para reconstruir nombres completos.\n",
        "\n",
        "####**Búsqueda de correos y teléfonos**\n",
        "- **Correos electrónicos:** Se emplea una expresión regular para detectar direcciones de email.\n",
        "- **Números de teléfono:** Se diseñaron expresiones regulares avanzadas para capturar formatos internacionales y locales.\n",
        "\n",
        "###Estrategias de mejora\n",
        "\n",
        "####**Pruebas y ajustes**\n",
        "1. **Primera prueba:** Extracción inicial con NER y expresiones regulares básicas. Se identificaron problemas con subpalabras y formatos de teléfonos.\n",
        "2. **Segunda prueba:** Mejoras en las expresiones regulares para teléfonos y eliminación de subpalabras en los nombres.\n",
        "3. **Tercera prueba:** Uso de una estrategia de \"agregación simple\" en el pipeline NER para unificar resultados y evitar duplicados.\n",
        "\n",
        "####**Combinación de modelos**\n",
        "Se combinaron resultados de diferentes implementaciones del modelo NER para maximizar la cantidad y precisión de los nombres detectados, ya que cada enfoque capturaba nombres que el otro omitía.\n",
        "\n",
        "###Resultados esperados\n",
        "1. **Nombres:** Lista completa y unificada de nombres detectados en cada CV.\n",
        "2. **Correos electrónicos:** Identificación precisa de direcciones de email.\n",
        "3. **Teléfonos:** Captura de números en formatos internacionales y locales.\n",
        "\n",
        "###Aplicaciones\n",
        "Este código puede ser utilizado en procesos de reclutamiento automatizado, analizando grandes volúmenes de CVs para extraer información clave de contacto y nombres, facilitando la organización y clasificación de candidatos.\n"
      ],
      "metadata": {
        "id": "EJZ-HfRx9hr1"
      }
    },
    {
      "cell_type": "code",
      "source": [
        "# Usamos el pipeline de NER de Hugging Face\n",
        "ner_pipeline = pipeline(\"ner\", model=\"dbmdz/bert-large-cased-finetuned-conll03-english\")\n",
        "\n",
        "def extract_names_and_emails_and_phones_with_transformers(cvs):\n",
        "    # Lista para almacenar los resultados\n",
        "    results = []\n",
        "\n",
        "    # Expresiones regulares para buscar correos electrónicos y teléfonos\n",
        "    email_pattern = r'[a-zA-Z0-9._%+-]+@[a-zAZ0-9.-]+\\.[a-zA-Z]{2,}'\n",
        "    phone_pattern = r'\\+?\\(?\\d{1,3}\\)?[\\s\\-]?\\(?\\d{1,4}\\)?[\\s\\-]?\\d{1,4}[\\s\\-]?\\d{1,4}'  # Teléfonos con varios formatos\n",
        "\n",
        "    for cv in cvs:\n",
        "        # Buscar correos electrónicos y teléfonos\n",
        "        emails = re.findall(email_pattern, cv)\n",
        "        phones = re.findall(phone_pattern, cv)\n",
        "\n",
        "        # Obtener las entidades nombradas usando transformers\n",
        "        entities = ner_pipeline(cv)\n",
        "\n",
        "        # Filtrar por personas (entidades de tipo 'PER')\n",
        "        names = [entity['word'] for entity in entities if entity['entity'] == 'B-PER' or entity['entity'] == 'I-PER']\n",
        "\n",
        "        # Añadir a los resultados\n",
        "        results.append({\n",
        "            'Nombres': names,\n",
        "            'Emails': emails,\n",
        "            'Teléfonos': phones\n",
        "        })\n",
        "\n",
        "    return results"
      ],
      "metadata": {
        "id": "nraNI0A-gcuY",
        "colab": {
          "base_uri": "https://localhost:8080/",
          "height": 234,
          "referenced_widgets": [
            "4e3a9f97550c4f58bdb1e7cec6f2af1b",
            "9d928decf1eb4045939fc1e8a2bfd8cf",
            "364c880662a449a881cf89e43139b107",
            "e81e68af91da4b92a026fd6652293dcb",
            "6b8d60bad6ff4f0891b4d0955b2ed872",
            "3251d62e53724733ad206a2ebf3ce83b",
            "7433510acc7b4a289df46bda2180410c",
            "a13aacbb117a4fea82f921047c8db82b",
            "8ae8825090384afdb5be57ed82dc52cb",
            "23f3225d6edf424a8f6c40738647a4ba",
            "3a9b3538e05f4da0985f2094c907cdb0",
            "2c79ebaf2eda407898be08d0c4aa3e6c",
            "372e461473b342a4a14e5bc270c555ca",
            "74185b604f5a480091620820a8102f9d",
            "449b5b8ffbb94d44afc2e03a723698ba",
            "5204ea7b3f604403a0c834afcfe6601e",
            "497571bbb48d4c1fa157a53c473eca49",
            "371e757a2bb84cbc95f4fb8598db27c6",
            "ecb7d6ecd1f04bcea0ac0c781169ccb6",
            "65c2facdce4447f2aa978de44d4bcbb0",
            "7475e4157b354eb88e886cabc5680fc5",
            "13a7444e4fcd45f3a5b8f95d26331759",
            "f95458f4aa274d078259231d6520836c",
            "dd48182f7cb84fd3bd69eaabd708894d",
            "d97fcef1a8f1481c892b2aea67fe1a4e",
            "16171e602d514348b5bd8f22c55f0027",
            "63113a29348545bc8e97e2ab97652440",
            "2e15a1171fe64ce086e7a48d872b225b",
            "8292fa68f4a54077b444e14a846be1d4",
            "b520adaf231d4baa942604a71248b54e",
            "70c85a74a46844e290e2d48520de48db",
            "26557f71daf44e1c862ed1c752e45f6a",
            "f2cdf98ab432462d97d9aebf72bfe4b3",
            "13c0d1f817c44110825137eb11c60e0c",
            "deb76817abe34bd59f66da4f2bf8182d",
            "3669151b0e524a21bed473b25d8bbe20",
            "a04621a23ecf4dc7bde88ce9f3bfbc83",
            "868515e36bd64dceadca80f71d63d837",
            "03ca751375ce462f84466796b032dc62",
            "820c611b7abd4cf5a59c820eed0f7dbd",
            "4b4478f2add844638eaa12dca38e8fa0",
            "ebb21cc56fc14dc5971a284d8507cc47",
            "fa053e05ea3d4f12aa79ed5eca7b98dd",
            "e5e6a4cc22194b61af72a63309139886"
          ]
        },
        "outputId": "503c5bb3-5f64-4c7b-87e9-4d243bcff798"
      },
      "execution_count": 25,
      "outputs": [
        {
          "output_type": "display_data",
          "data": {
            "text/plain": [
              "config.json:   0%|          | 0.00/998 [00:00<?, ?B/s]"
            ],
            "application/vnd.jupyter.widget-view+json": {
              "version_major": 2,
              "version_minor": 0,
              "model_id": "4e3a9f97550c4f58bdb1e7cec6f2af1b"
            }
          },
          "metadata": {}
        },
        {
          "output_type": "display_data",
          "data": {
            "text/plain": [
              "model.safetensors:   0%|          | 0.00/1.33G [00:00<?, ?B/s]"
            ],
            "application/vnd.jupyter.widget-view+json": {
              "version_major": 2,
              "version_minor": 0,
              "model_id": "2c79ebaf2eda407898be08d0c4aa3e6c"
            }
          },
          "metadata": {}
        },
        {
          "output_type": "stream",
          "name": "stderr",
          "text": [
            "Some weights of the model checkpoint at dbmdz/bert-large-cased-finetuned-conll03-english were not used when initializing BertForTokenClassification: ['bert.pooler.dense.bias', 'bert.pooler.dense.weight']\n",
            "- This IS expected if you are initializing BertForTokenClassification from the checkpoint of a model trained on another task or with another architecture (e.g. initializing a BertForSequenceClassification model from a BertForPreTraining model).\n",
            "- This IS NOT expected if you are initializing BertForTokenClassification from the checkpoint of a model that you expect to be exactly identical (initializing a BertForSequenceClassification model from a BertForSequenceClassification model).\n"
          ]
        },
        {
          "output_type": "display_data",
          "data": {
            "text/plain": [
              "tokenizer_config.json:   0%|          | 0.00/60.0 [00:00<?, ?B/s]"
            ],
            "application/vnd.jupyter.widget-view+json": {
              "version_major": 2,
              "version_minor": 0,
              "model_id": "f95458f4aa274d078259231d6520836c"
            }
          },
          "metadata": {}
        },
        {
          "output_type": "display_data",
          "data": {
            "text/plain": [
              "vocab.txt:   0%|          | 0.00/213k [00:00<?, ?B/s]"
            ],
            "application/vnd.jupyter.widget-view+json": {
              "version_major": 2,
              "version_minor": 0,
              "model_id": "13c0d1f817c44110825137eb11c60e0c"
            }
          },
          "metadata": {}
        },
        {
          "output_type": "stream",
          "name": "stderr",
          "text": [
            "Hardware accelerator e.g. GPU is available in the environment, but no `device` argument is passed to the `Pipeline` object. Model will be on CPU.\n"
          ]
        }
      ]
    },
    {
      "cell_type": "code",
      "source": [
        "# Extraer nombres, correos y teléfonos\n",
        "extracted_data = extract_names_and_emails_and_phones_with_transformers(cvs)\n",
        "\n",
        "# Mostrar los resultados\n",
        "for idx, data in enumerate(extracted_data, 1):\n",
        "    print(f\"CV {idx}:\")\n",
        "    print(\"Nombres:\", data['Nombres'])\n",
        "    print(\"Emails:\", data['Emails'])\n",
        "    print(\"Teléfonos:\", data['Teléfonos'])\n",
        "    print(\"-\" * 40)"
      ],
      "metadata": {
        "id": "ydrSrvQCgecn",
        "colab": {
          "base_uri": "https://localhost:8080/"
        },
        "outputId": "20bc9563-80ee-4dd5-e551-cbcdb8294251"
      },
      "execution_count": 26,
      "outputs": [
        {
          "output_type": "stream",
          "name": "stdout",
          "text": [
            "CV 1:\n",
            "Nombres: ['Michael']\n",
            "Emails: []\n",
            "Teléfonos: ['140749', '2015', '2014', '2007']\n",
            "----------------------------------------\n",
            "CV 2:\n",
            "Nombres: []\n",
            "Emails: ['hello@reallygreatsite.com', 'hello@reallygreatsite.com']\n",
            "Teléfonos: ['2023', '2025', '2021', '2023', '2021', '2021', '+123-456-7890', '2021', '2019', '2023', '2021', '+123-456-7890']\n",
            "----------------------------------------\n",
            "CV 3:\n",
            "Nombres: []\n",
            "Emails: ['dhikayudano@gmail.com']\n",
            "Teléfonos: ['+62 8577 7124 773', '2002', '2017', '2018\\n2019', '2019\\n2017', '2020', '2020\\n2020', '2021', '2021', '2022', '2021', '2021', '2021', '2021', '2008', '2014', '2014', '2017', '2017', '2020', '2020', '2021', '2017', '2019', '2019', '2021-12-22']\n",
            "----------------------------------------\n",
            "CV 4:\n",
            "Nombres: []\n",
            "Emails: ['dyahhediyati@gmail.com']\n",
            "Teléfonos: ['2021', '2014', '2015', '2017', '2019', '2019', '2019', '+62 85287404232', '2019', '2020', '2019', '2021', '2021', '2018', '2018', '2019']\n",
            "----------------------------------------\n",
            "CV 5:\n",
            "Nombres: []\n",
            "Emails: []\n",
            "Teléfonos: ['2000', '2001']\n",
            "----------------------------------------\n",
            "CV 6:\n",
            "Nombres: ['la', '##m', 'Jun', '##ae', '##di']\n",
            "Emails: ['me@junae.id']\n",
            "Teléfonos: ['+6282331472499', '2016', '2018', '2016', '2019', '2019', '2020', '2020', '2021', '2021']\n",
            "----------------------------------------\n",
            "CV 7:\n",
            "Nombres: ['##v']\n",
            "Emails: ['drsantoshkakade@gmail.com', 'drsantoshkakade@ciilm.com']\n",
            "Teléfonos: ['09850671175 1495', '09422071490', '411 030', '020-24444490', '1995', '1991', '2000', '2004', '2013', '1986', '2008', '2010', '9001', '2008', '60861', '04536', '2015', '2011', '2012', '2011', '2015']\n",
            "----------------------------------------\n",
            "CV 8:\n",
            "Nombres: []\n",
            "Emails: ['loren@shevitz.org']\n",
            "Teléfonos: ['2101', '773-665-1234', '60614-2853', '2002', '1994', '2003', '1996', '2001', '2001', '2000\\n1999-2000']\n",
            "----------------------------------------\n",
            "CV 9:\n",
            "Nombres: []\n",
            "Emails: []\n",
            "Teléfonos: ['085157115062', '2017', '2021', '2021', '2020', '2021', '2020', '2021', '2020', '2020', '2019', '2020', '2021', '2020', '2020', '2019', '2019', '2018', '2018', '2018', '2018']\n",
            "----------------------------------------\n"
          ]
        }
      ]
    },
    {
      "cell_type": "code",
      "source": [
        "# Cargar el pipeline de NER de transformers\n",
        "ner = pipeline(\"ner\", model=\"dbmdz/bert-large-cased-finetuned-conll03-english\")\n",
        "\n",
        "# Función para extraer nombres de personas usando NER\n",
        "def extract_names_with_ner(text):\n",
        "    # Ejecutar NER sobre el texto\n",
        "    entities = ner(text)\n",
        "\n",
        "    # Unir los tokens de nombres que están divididos en subpalabras\n",
        "    names = []\n",
        "    current_name = []\n",
        "\n",
        "    for entity in entities:\n",
        "        # Filtrar solo las entidades que son personas (label 'PER')\n",
        "        if entity['entity'] == 'B-PER' or entity['entity'] == 'I-PER':\n",
        "            word = entity['word']\n",
        "\n",
        "            # Si el token tiene '##', es parte de una palabra anterior, así que lo añadimos\n",
        "            if word.startswith('##'):\n",
        "                if current_name:  # Asegurarnos de que current_name no esté vacío\n",
        "                    current_name[-1] += word[2:]  # Añadir a la palabra anterior\n",
        "            else:\n",
        "                if current_name:  # Añadir el nombre completo anterior\n",
        "                    names.append(\" \".join(current_name))\n",
        "                current_name = [word]  # Iniciar un nuevo nombre\n",
        "\n",
        "    # Añadir el último nombre si lo hay\n",
        "    if current_name:\n",
        "        names.append(\" \".join(current_name))\n",
        "\n",
        "    return names"
      ],
      "metadata": {
        "id": "bCJKayVPjl3V",
        "colab": {
          "base_uri": "https://localhost:8080/"
        },
        "outputId": "e2793fec-d2ea-4735-c0b0-7bd22cb78bd7"
      },
      "execution_count": 29,
      "outputs": [
        {
          "output_type": "stream",
          "name": "stderr",
          "text": [
            "Some weights of the model checkpoint at dbmdz/bert-large-cased-finetuned-conll03-english were not used when initializing BertForTokenClassification: ['bert.pooler.dense.bias', 'bert.pooler.dense.weight']\n",
            "- This IS expected if you are initializing BertForTokenClassification from the checkpoint of a model trained on another task or with another architecture (e.g. initializing a BertForSequenceClassification model from a BertForPreTraining model).\n",
            "- This IS NOT expected if you are initializing BertForTokenClassification from the checkpoint of a model that you expect to be exactly identical (initializing a BertForSequenceClassification model from a BertForSequenceClassification model).\n",
            "Hardware accelerator e.g. GPU is available in the environment, but no `device` argument is passed to the `Pipeline` object. Model will be on CPU.\n"
          ]
        }
      ]
    },
    {
      "cell_type": "code",
      "source": [
        "# Extraer la información de cada CV\n",
        "for i, cv in enumerate(cvs, start=1):\n",
        "    print(f\"CV {i}:\")\n",
        "\n",
        "    # Extraer nombres usando transformers\n",
        "    names = extract_names_with_ner(cv)\n",
        "    print(f\"Nombres: {names}\")\n",
        "\n",
        "    # Extraer emails usando NER (para ejemplo, aunque no es necesario con transformers)\n",
        "    emails = re.findall(r'[a-zA-Z0-9._%+-]+@[a-zA-Z0-9.-]+\\.[a-zA-Z]{2,}', cv)\n",
        "    print(f\"Emails: {emails}\")\n",
        "\n",
        "    # Extraer teléfonos con el mismo enfoque anterior\n",
        "    phones = re.findall(r'(\\+?\\d{1,4}[-\\s]?)?(\\(?\\d{1,4}\\)?[-\\s]?)?[\\d]{6,13}', cv)\n",
        "    print(f\"Teléfonos: {[''.join(phone).strip() for phone in phones if len(''.join(phone).strip()) > 8]}\")\n",
        "\n",
        "    print(\"-\" * 40)"
      ],
      "metadata": {
        "id": "wc9AAWhkjnDc",
        "colab": {
          "base_uri": "https://localhost:8080/"
        },
        "outputId": "29ae2644-3441-4569-cdd8-7c1fabb546f8"
      },
      "execution_count": 30,
      "outputs": [
        {
          "output_type": "stream",
          "name": "stdout",
          "text": [
            "CV 1:\n",
            "Nombres: ['Michael']\n",
            "Emails: []\n",
            "Teléfonos: []\n",
            "----------------------------------------\n",
            "CV 2:\n",
            "Nombres: []\n",
            "Emails: ['hello@reallygreatsite.com', 'hello@reallygreatsite.com']\n",
            "Teléfonos: []\n",
            "----------------------------------------\n",
            "CV 3:\n",
            "Nombres: []\n",
            "Emails: ['dhikayudano@gmail.com']\n",
            "Teléfonos: []\n",
            "----------------------------------------\n",
            "CV 4:\n",
            "Nombres: []\n",
            "Emails: ['dyahhediyati@gmail.com']\n",
            "Teléfonos: []\n",
            "----------------------------------------\n",
            "CV 5:\n",
            "Nombres: []\n",
            "Emails: []\n",
            "Teléfonos: []\n",
            "----------------------------------------\n",
            "CV 6:\n",
            "Nombres: ['lam', 'Junaedi']\n",
            "Emails: ['me@junae.id']\n",
            "Teléfonos: []\n",
            "----------------------------------------\n",
            "CV 7:\n",
            "Nombres: []\n",
            "Emails: ['drsantoshkakade@gmail.com', 'drsantoshkakade@ciilm.com']\n",
            "Teléfonos: []\n",
            "----------------------------------------\n",
            "CV 8:\n",
            "Nombres: []\n",
            "Emails: ['loren@shevitz.org']\n",
            "Teléfonos: []\n",
            "----------------------------------------\n",
            "CV 9:\n",
            "Nombres: []\n",
            "Emails: []\n",
            "Teléfonos: []\n",
            "----------------------------------------\n"
          ]
        }
      ]
    },
    {
      "cell_type": "code",
      "source": [
        "# Cargar el pipeline de NER con aggregation_strategy=\"simple\"\n",
        "ner = pipeline(\"ner\", model=\"dbmdz/bert-large-cased-finetuned-conll03-english\", aggregation_strategy=\"simple\")\n",
        "\n",
        "# Expresión regular ajustada para teléfonos\n",
        "phone_regex = re.compile(r'\\+?\\d{1,3}?[ -]?\\(?\\d{2,4}\\)?[ -]?\\d{2,4}[ -]?\\d{4,6}')\n",
        "\n",
        "email_regex = re.compile(r'\\b[A-Za-z0-9._%+-]+@[A-Za-z0-9.-]+\\.[A-Z|a-z]{2,}\\b')\n",
        "\n",
        "def extract_info_with_ner(text):\n",
        "    # Detectar entidades con el modelo\n",
        "    entities = ner(text)\n",
        "\n",
        "    # Inicializar estructuras de datos\n",
        "    names = set()\n",
        "    emails = set(email_regex.findall(text))\n",
        "    raw_phones = phone_regex.findall(text)\n",
        "\n",
        "    # Limpiar y filtrar teléfonos\n",
        "    phones = set()\n",
        "    for phone in raw_phones:\n",
        "        cleaned_phone = re.sub(r'[^\\d+]', '', phone)  # Mantener solo dígitos y +\n",
        "        if len(cleaned_phone) >= 8:  # Teléfonos de al menos 10 dígitos\n",
        "            phones.add(cleaned_phone)\n",
        "\n",
        "    # Procesar entidades detectadas\n",
        "    for entity in entities:\n",
        "        if entity['entity_group'] == 'PER':  # Nombres de personas\n",
        "            names.add(entity['word'])\n",
        "\n",
        "    return {\n",
        "        \"names\": sorted(names),\n",
        "        \"emails\": sorted(emails),\n",
        "        \"phones\": sorted(phones)\n",
        "    }"
      ],
      "metadata": {
        "id": "E6xY7EixyAAt",
        "colab": {
          "base_uri": "https://localhost:8080/"
        },
        "outputId": "71b4c46b-402a-4865-a605-dd72916bcdfd"
      },
      "execution_count": 31,
      "outputs": [
        {
          "output_type": "stream",
          "name": "stderr",
          "text": [
            "Some weights of the model checkpoint at dbmdz/bert-large-cased-finetuned-conll03-english were not used when initializing BertForTokenClassification: ['bert.pooler.dense.bias', 'bert.pooler.dense.weight']\n",
            "- This IS expected if you are initializing BertForTokenClassification from the checkpoint of a model trained on another task or with another architecture (e.g. initializing a BertForSequenceClassification model from a BertForPreTraining model).\n",
            "- This IS NOT expected if you are initializing BertForTokenClassification from the checkpoint of a model that you expect to be exactly identical (initializing a BertForSequenceClassification model from a BertForSequenceClassification model).\n",
            "Hardware accelerator e.g. GPU is available in the environment, but no `device` argument is passed to the `Pipeline` object. Model will be on CPU.\n"
          ]
        }
      ]
    },
    {
      "cell_type": "code",
      "source": [
        "# Procesar cada CV\n",
        "for i, cv in enumerate(cvs, start=1):\n",
        "    info = extract_info_with_ner(cv)\n",
        "    print(f\"CV {i}:\")\n",
        "    print(f\"Nombres: {info['names']}\")\n",
        "    print(f\"Emails: {info['emails']}\")\n",
        "    print(f\"Teléfonos: {info['phones']}\")\n",
        "    print(\"-\" * 40)"
      ],
      "metadata": {
        "id": "7EP8G9JXyBOV",
        "colab": {
          "base_uri": "https://localhost:8080/"
        },
        "outputId": "b21a7cda-eb38-44cf-9072-eb0dce84e6e7"
      },
      "execution_count": 32,
      "outputs": [
        {
          "output_type": "stream",
          "name": "stdout",
          "text": [
            "CV 1:\n",
            "Nombres: ['Michael']\n",
            "Emails: []\n",
            "Teléfonos: []\n",
            "----------------------------------------\n",
            "CV 2:\n",
            "Nombres: []\n",
            "Emails: ['hello@reallygreatsite.com']\n",
            "Teléfonos: ['+1234567890']\n",
            "----------------------------------------\n",
            "CV 3:\n",
            "Nombres: []\n",
            "Emails: ['dhikayudano@gmail.com']\n",
            "Teléfonos: ['+6285777124']\n",
            "----------------------------------------\n",
            "CV 4:\n",
            "Nombres: []\n",
            "Emails: ['dyahhediyati@gmail.com']\n",
            "Teléfonos: ['+6285287404232']\n",
            "----------------------------------------\n",
            "CV 5:\n",
            "Nombres: []\n",
            "Emails: []\n",
            "Teléfonos: []\n",
            "----------------------------------------\n",
            "CV 6:\n",
            "Nombres: ['lam Junaedi']\n",
            "Emails: ['me@junae.id']\n",
            "Teléfonos: ['+6282331472499']\n",
            "----------------------------------------\n",
            "CV 7:\n",
            "Nombres: ['##v']\n",
            "Emails: ['drsantoshkakade@ciilm.com', 'drsantoshkakade@gmail.com']\n",
            "Teléfonos: ['02024444490', '09422071490', '09850671175']\n",
            "----------------------------------------\n",
            "CV 8:\n",
            "Nombres: []\n",
            "Emails: ['loren@shevitz.org']\n",
            "Teléfonos: ['606142853', '7736651234']\n",
            "----------------------------------------\n",
            "CV 9:\n",
            "Nombres: []\n",
            "Emails: []\n",
            "Teléfonos: ['085157115062']\n",
            "----------------------------------------\n"
          ]
        }
      ]
    },
    {
      "cell_type": "code",
      "source": [
        "# Cargar el pipeline de NER\n",
        "ner = pipeline(\"ner\", model=\"dbmdz/bert-large-cased-finetuned-conll03-english\", aggregation_strategy=\"simple\")\n",
        "\n",
        "# Expresión regular ajustada para teléfonos\n",
        "phone_regex = re.compile(r'\\+?\\d{1,3}?[ -]?\\(?\\d{2,4}\\)?[ -]?\\d{2,4}[ -]?\\d{4,6}')\n",
        "\n",
        "email_regex = re.compile(r'\\b[A-Za-z0-9._%+-]+@[A-Za-z0-9.-]+\\.[A-Z|a-z]{2,}\\b')\n",
        "\n",
        "def extract_info_with_ner(text):\n",
        "    # Detectar entidades con el modelo\n",
        "    entities = ner(text)\n",
        "\n",
        "    # Inicializar estructuras de datos\n",
        "    names = set()\n",
        "    emails = set(email_regex.findall(text))\n",
        "    raw_phones = phone_regex.findall(text)\n",
        "\n",
        "    # Limpiar y filtrar teléfonos\n",
        "    phones = set()\n",
        "    for phone in raw_phones:\n",
        "        cleaned_phone = re.sub(r'[^\\d+]', '', phone)  # Mantener solo dígitos y +\n",
        "        if len(cleaned_phone) >= 8:  # Teléfonos de al menos 10 dígitos\n",
        "            phones.add(cleaned_phone)\n",
        "\n",
        "    # Procesar entidades detectadas\n",
        "    for entity in entities:\n",
        "        if entity['entity_group'] == 'PER':  # Nombres de personas\n",
        "            # Eliminar fragmentos innecesarios como '##v' o tokens mal formateados\n",
        "            if not entity['word'].startswith('##'):\n",
        "                names.add(entity['word'])\n",
        "\n",
        "    return {\n",
        "        \"names\": sorted(names),\n",
        "        \"emails\": sorted(emails),\n",
        "        \"phones\": sorted(phones)\n",
        "    }"
      ],
      "metadata": {
        "id": "Pf15PG8F58Hh",
        "colab": {
          "base_uri": "https://localhost:8080/"
        },
        "outputId": "091acea6-9b35-4c88-eec7-64b8a76b8b63"
      },
      "execution_count": 33,
      "outputs": [
        {
          "output_type": "stream",
          "name": "stderr",
          "text": [
            "Some weights of the model checkpoint at dbmdz/bert-large-cased-finetuned-conll03-english were not used when initializing BertForTokenClassification: ['bert.pooler.dense.bias', 'bert.pooler.dense.weight']\n",
            "- This IS expected if you are initializing BertForTokenClassification from the checkpoint of a model trained on another task or with another architecture (e.g. initializing a BertForSequenceClassification model from a BertForPreTraining model).\n",
            "- This IS NOT expected if you are initializing BertForTokenClassification from the checkpoint of a model that you expect to be exactly identical (initializing a BertForSequenceClassification model from a BertForSequenceClassification model).\n",
            "Hardware accelerator e.g. GPU is available in the environment, but no `device` argument is passed to the `Pipeline` object. Model will be on CPU.\n"
          ]
        }
      ]
    },
    {
      "cell_type": "code",
      "source": [
        "# Procesar cada CV\n",
        "for i, cv in enumerate(cvs, start=1):\n",
        "    info = extract_info_with_ner(cv)\n",
        "    print(f\"CV {i}:\")\n",
        "    print(f\"Nombres: {info['names']}\")\n",
        "    print(f\"Emails: {info['emails']}\")\n",
        "    print(f\"Teléfonos: {info['phones']}\")\n",
        "    print(\"-\" * 40)"
      ],
      "metadata": {
        "id": "MTT6V0rb5-06",
        "colab": {
          "base_uri": "https://localhost:8080/"
        },
        "outputId": "79da5644-bce1-4ec7-8f41-bbb9cd55de60"
      },
      "execution_count": 34,
      "outputs": [
        {
          "output_type": "stream",
          "name": "stdout",
          "text": [
            "CV 1:\n",
            "Nombres: ['Michael']\n",
            "Emails: []\n",
            "Teléfonos: []\n",
            "----------------------------------------\n",
            "CV 2:\n",
            "Nombres: []\n",
            "Emails: ['hello@reallygreatsite.com']\n",
            "Teléfonos: ['+1234567890']\n",
            "----------------------------------------\n",
            "CV 3:\n",
            "Nombres: []\n",
            "Emails: ['dhikayudano@gmail.com']\n",
            "Teléfonos: ['+6285777124']\n",
            "----------------------------------------\n",
            "CV 4:\n",
            "Nombres: []\n",
            "Emails: ['dyahhediyati@gmail.com']\n",
            "Teléfonos: ['+6285287404232']\n",
            "----------------------------------------\n",
            "CV 5:\n",
            "Nombres: []\n",
            "Emails: []\n",
            "Teléfonos: []\n",
            "----------------------------------------\n",
            "CV 6:\n",
            "Nombres: ['lam Junaedi']\n",
            "Emails: ['me@junae.id']\n",
            "Teléfonos: ['+6282331472499']\n",
            "----------------------------------------\n",
            "CV 7:\n",
            "Nombres: []\n",
            "Emails: ['drsantoshkakade@ciilm.com', 'drsantoshkakade@gmail.com']\n",
            "Teléfonos: ['02024444490', '09422071490', '09850671175']\n",
            "----------------------------------------\n",
            "CV 8:\n",
            "Nombres: []\n",
            "Emails: ['loren@shevitz.org']\n",
            "Teléfonos: ['606142853', '7736651234']\n",
            "----------------------------------------\n",
            "CV 9:\n",
            "Nombres: []\n",
            "Emails: []\n",
            "Teléfonos: ['085157115062']\n",
            "----------------------------------------\n"
          ]
        }
      ]
    },
    {
      "cell_type": "code",
      "source": [
        "# Cargar el pipeline de NER\n",
        "ner = pipeline(\"ner\", model=\"dbmdz/bert-large-cased-finetuned-conll03-english\", aggregation_strategy=\"simple\")\n",
        "\n",
        "# Expresión regular ajustada para teléfonos\n",
        "phone_regex = re.compile(r'\\+?\\d{1,3}?[ -]?\\(?\\d{2,4}\\)?[ -]?\\d{2,4}[ -]?\\d{4,6}')\n",
        "\n",
        "email_regex = re.compile(r'\\b[A-Za-z0-9._%+-]+@[A-Za-z0-9.-]+\\.[A-Z|a-z]{2,}\\b')\n",
        "\n",
        "def extract_info_with_ner(text):\n",
        "    # Detectar entidades con el modelo\n",
        "    entities = ner(text)\n",
        "\n",
        "    # Inicializar estructuras de datos\n",
        "    names = set()\n",
        "    emails = set(email_regex.findall(text))\n",
        "    raw_phones = phone_regex.findall(text)\n",
        "\n",
        "    # Limpiar y filtrar teléfonos\n",
        "    phones = set()\n",
        "    for phone in raw_phones:\n",
        "        cleaned_phone = re.sub(r'[^\\d+]', '', phone)  # Mantener solo dígitos y +\n",
        "        if len(cleaned_phone) >= 8:  # Teléfonos de al menos 10 dígitos\n",
        "            phones.add(cleaned_phone)\n",
        "\n",
        "    # Procesar entidades detectadas\n",
        "    # Agrupar nombres compuestos (por ejemplo, 'Juan Pérez' debe ser una única entidad)\n",
        "    temp_names = []\n",
        "    for entity in entities:\n",
        "        if entity['entity_group'] == 'PER':  # Nombres de personas\n",
        "            # Eliminar fragmentos innecesarios como '##v' o tokens mal formateados\n",
        "            if not entity['word'].startswith('##'):\n",
        "                temp_names.append(entity['word'])\n",
        "\n",
        "    # Agrupar los nombres compuestos\n",
        "    if temp_names:\n",
        "        combined_names = []\n",
        "        previous_name = None\n",
        "        for name in temp_names:\n",
        "            if previous_name:\n",
        "                # Si el nombre anterior es un apellido y este uno de los primeros nombres, lo combinamos\n",
        "                combined_names.append(f\"{previous_name} {name}\" if len(name.split()) == 1 else previous_name)\n",
        "                previous_name = name\n",
        "            else:\n",
        "                previous_name = name\n",
        "        names = set(combined_names)\n",
        "\n",
        "    return {\n",
        "        \"names\": sorted(names),\n",
        "        \"emails\": sorted(emails),\n",
        "        \"phones\": sorted(phones)\n",
        "    }"
      ],
      "metadata": {
        "id": "W6dO3bKN6qBE",
        "colab": {
          "base_uri": "https://localhost:8080/"
        },
        "outputId": "2e2a3657-558d-4112-dd27-e70f0eb2ad06"
      },
      "execution_count": 35,
      "outputs": [
        {
          "output_type": "stream",
          "name": "stderr",
          "text": [
            "Some weights of the model checkpoint at dbmdz/bert-large-cased-finetuned-conll03-english were not used when initializing BertForTokenClassification: ['bert.pooler.dense.bias', 'bert.pooler.dense.weight']\n",
            "- This IS expected if you are initializing BertForTokenClassification from the checkpoint of a model trained on another task or with another architecture (e.g. initializing a BertForSequenceClassification model from a BertForPreTraining model).\n",
            "- This IS NOT expected if you are initializing BertForTokenClassification from the checkpoint of a model that you expect to be exactly identical (initializing a BertForSequenceClassification model from a BertForSequenceClassification model).\n",
            "Hardware accelerator e.g. GPU is available in the environment, but no `device` argument is passed to the `Pipeline` object. Model will be on CPU.\n"
          ]
        }
      ]
    },
    {
      "cell_type": "code",
      "source": [
        "# Procesar cada CV\n",
        "for i, cv in enumerate(cvs, start=1):\n",
        "    info = extract_info_with_ner(cv)\n",
        "    print(f\"CV {i}:\")\n",
        "    print(f\"Nombres: {info['names']}\")\n",
        "    print(f\"Emails: {info['emails']}\")\n",
        "    print(f\"Teléfonos: {info['phones']}\")\n",
        "    print(\"-\" * 40)"
      ],
      "metadata": {
        "id": "EVFOnbsW6sX7",
        "colab": {
          "base_uri": "https://localhost:8080/"
        },
        "outputId": "cea7da7e-f126-4ac3-8471-df95efe78553"
      },
      "execution_count": 36,
      "outputs": [
        {
          "output_type": "stream",
          "name": "stdout",
          "text": [
            "CV 1:\n",
            "Nombres: []\n",
            "Emails: []\n",
            "Teléfonos: []\n",
            "----------------------------------------\n",
            "CV 2:\n",
            "Nombres: []\n",
            "Emails: ['hello@reallygreatsite.com']\n",
            "Teléfonos: ['+1234567890']\n",
            "----------------------------------------\n",
            "CV 3:\n",
            "Nombres: []\n",
            "Emails: ['dhikayudano@gmail.com']\n",
            "Teléfonos: ['+6285777124']\n",
            "----------------------------------------\n",
            "CV 4:\n",
            "Nombres: []\n",
            "Emails: ['dyahhediyati@gmail.com']\n",
            "Teléfonos: ['+6285287404232']\n",
            "----------------------------------------\n",
            "CV 5:\n",
            "Nombres: []\n",
            "Emails: []\n",
            "Teléfonos: []\n",
            "----------------------------------------\n",
            "CV 6:\n",
            "Nombres: []\n",
            "Emails: ['me@junae.id']\n",
            "Teléfonos: ['+6282331472499']\n",
            "----------------------------------------\n",
            "CV 7:\n",
            "Nombres: []\n",
            "Emails: ['drsantoshkakade@ciilm.com', 'drsantoshkakade@gmail.com']\n",
            "Teléfonos: ['02024444490', '09422071490', '09850671175']\n",
            "----------------------------------------\n",
            "CV 8:\n",
            "Nombres: []\n",
            "Emails: ['loren@shevitz.org']\n",
            "Teléfonos: ['606142853', '7736651234']\n",
            "----------------------------------------\n",
            "CV 9:\n",
            "Nombres: []\n",
            "Emails: []\n",
            "Teléfonos: ['085157115062']\n",
            "----------------------------------------\n"
          ]
        }
      ]
    },
    {
      "cell_type": "code",
      "source": [
        "# Cargar el pipeline de NER\n",
        "ner = pipeline(\"ner\", model=\"dbmdz/bert-large-cased-finetuned-conll03-english\", aggregation_strategy=\"simple\")\n",
        "\n",
        "# Expresión regular ajustada para teléfonos\n",
        "phone_regex = re.compile(r'\\+?\\d{1,3}?[ -]?\\(?\\d{2,4}\\)?[ -]?\\d{2,4}[ -]?\\d{4,6}')\n",
        "\n",
        "email_regex = re.compile(r'\\b[A-Za-z0-9._%+-]+@[A-Za-z0-9.-]+\\.[A-Z|a-z]{2,}\\b')\n",
        "\n",
        "def extract_info_with_ner(text):\n",
        "    # Detectar entidades con el modelo\n",
        "    entities = ner(text)\n",
        "\n",
        "    # Inicializar estructuras de datos\n",
        "    names = set()\n",
        "    emails = set(email_regex.findall(text))\n",
        "    raw_phones = phone_regex.findall(text)\n",
        "\n",
        "    # Limpiar y filtrar teléfonos\n",
        "    phones = set()\n",
        "    for phone in raw_phones:\n",
        "        cleaned_phone = re.sub(r'[^\\d+]', '', phone)  # Mantener solo dígitos y +\n",
        "        if len(cleaned_phone) >= 8:  # Teléfonos de al menos 10 dígitos\n",
        "            phones.add(cleaned_phone)\n",
        "\n",
        "    # Filtrar y mejorar la detección de nombres\n",
        "    for entity in entities:\n",
        "        if entity['entity_group'] == 'PER':  # Nombres de personas\n",
        "            # Asegurarse de que se mantengan nombres compuestos correctamente\n",
        "            name = entity['word']\n",
        "            if name not in names:\n",
        "                names.add(name)\n",
        "\n",
        "    # Agrupar nombres en caso de que haya múltiples entidades relacionadas\n",
        "    combined_names = []\n",
        "    for name in names:\n",
        "        # Si el nombre tiene más de una palabra (como 'Juan Pérez'), lo guardamos como un nombre compuesto\n",
        "        if len(name.split()) > 1:\n",
        "            combined_names.append(name)\n",
        "\n",
        "    # Retornar los resultados\n",
        "    return {\n",
        "        \"names\": sorted(combined_names),\n",
        "        \"emails\": sorted(emails),\n",
        "        \"phones\": sorted(phones)\n",
        "    }"
      ],
      "metadata": {
        "id": "bt2bVV5N72Wm",
        "colab": {
          "base_uri": "https://localhost:8080/"
        },
        "outputId": "1ab79121-cc94-4b90-a385-24e0a15c857b"
      },
      "execution_count": 37,
      "outputs": [
        {
          "output_type": "stream",
          "name": "stderr",
          "text": [
            "Some weights of the model checkpoint at dbmdz/bert-large-cased-finetuned-conll03-english were not used when initializing BertForTokenClassification: ['bert.pooler.dense.bias', 'bert.pooler.dense.weight']\n",
            "- This IS expected if you are initializing BertForTokenClassification from the checkpoint of a model trained on another task or with another architecture (e.g. initializing a BertForSequenceClassification model from a BertForPreTraining model).\n",
            "- This IS NOT expected if you are initializing BertForTokenClassification from the checkpoint of a model that you expect to be exactly identical (initializing a BertForSequenceClassification model from a BertForSequenceClassification model).\n",
            "Hardware accelerator e.g. GPU is available in the environment, but no `device` argument is passed to the `Pipeline` object. Model will be on CPU.\n"
          ]
        }
      ]
    },
    {
      "cell_type": "code",
      "source": [
        "# Procesar cada CV\n",
        "for i, cv in enumerate(cvs, start=1):\n",
        "    info = extract_info_with_ner(cv)\n",
        "    print(f\"CV {i}:\")\n",
        "    print(f\"Nombres: {info['names']}\")\n",
        "    print(f\"Emails: {info['emails']}\")\n",
        "    print(f\"Teléfonos: {info['phones']}\")\n",
        "    print(\"-\" * 40)"
      ],
      "metadata": {
        "id": "15-BjOjz73oW",
        "colab": {
          "base_uri": "https://localhost:8080/"
        },
        "outputId": "738a31b9-ab9a-43f4-8815-7dff089cb1ac"
      },
      "execution_count": 38,
      "outputs": [
        {
          "output_type": "stream",
          "name": "stdout",
          "text": [
            "CV 1:\n",
            "Nombres: []\n",
            "Emails: []\n",
            "Teléfonos: []\n",
            "----------------------------------------\n",
            "CV 2:\n",
            "Nombres: []\n",
            "Emails: ['hello@reallygreatsite.com']\n",
            "Teléfonos: ['+1234567890']\n",
            "----------------------------------------\n",
            "CV 3:\n",
            "Nombres: []\n",
            "Emails: ['dhikayudano@gmail.com']\n",
            "Teléfonos: ['+6285777124']\n",
            "----------------------------------------\n",
            "CV 4:\n",
            "Nombres: []\n",
            "Emails: ['dyahhediyati@gmail.com']\n",
            "Teléfonos: ['+6285287404232']\n",
            "----------------------------------------\n",
            "CV 5:\n",
            "Nombres: []\n",
            "Emails: []\n",
            "Teléfonos: []\n",
            "----------------------------------------\n",
            "CV 6:\n",
            "Nombres: ['lam Junaedi']\n",
            "Emails: ['me@junae.id']\n",
            "Teléfonos: ['+6282331472499']\n",
            "----------------------------------------\n",
            "CV 7:\n",
            "Nombres: []\n",
            "Emails: ['drsantoshkakade@ciilm.com', 'drsantoshkakade@gmail.com']\n",
            "Teléfonos: ['02024444490', '09422071490', '09850671175']\n",
            "----------------------------------------\n",
            "CV 8:\n",
            "Nombres: []\n",
            "Emails: ['loren@shevitz.org']\n",
            "Teléfonos: ['606142853', '7736651234']\n",
            "----------------------------------------\n",
            "CV 9:\n",
            "Nombres: []\n",
            "Emails: []\n",
            "Teléfonos: ['085157115062']\n",
            "----------------------------------------\n"
          ]
        }
      ]
    },
    {
      "cell_type": "markdown",
      "source": [
        "### Modelo flair"
      ],
      "metadata": {
        "id": "7mFw0YXfKkfl"
      }
    },
    {
      "cell_type": "code",
      "source": [
        "# Cargar el modelo de Flair para NER\n",
        "tagger = SequenceTagger.load(\"flair/ner-english\")\n",
        "\n",
        "# Expresión regular ajustada para teléfonos\n",
        "phone_regex = re.compile(r'\\+?\\d{1,3}?[ -]?\\(?\\d{2,4}\\)?[ -]?\\d{2,4}[ -]?\\d{4,6}')\n",
        "email_regex = re.compile(r'\\b[A-Za-z0-9._%+-]+@[A-Za-z0-9.-]+\\.[A-Z|a-z]{2,}\\b')\n",
        "\n",
        "def extract_info_with_flair(text):\n",
        "    # Crear una Sentence en Flair\n",
        "    sentence = Sentence(text)\n",
        "\n",
        "    # Realizar la anotación NER con Flair\n",
        "    tagger.predict(sentence)\n",
        "\n",
        "    # Inicializar estructuras de datos\n",
        "    names = set()\n",
        "    emails = set(email_regex.findall(text))\n",
        "    raw_phones = phone_regex.findall(text)\n",
        "\n",
        "    # Limpiar y filtrar teléfonos\n",
        "    phones = set()\n",
        "    for phone in raw_phones:\n",
        "        cleaned_phone = re.sub(r'[^\\d+]', '', phone)  # Mantener solo dígitos y +\n",
        "        if len(cleaned_phone) >= 8:  # Teléfonos de al menos 10 dígitos\n",
        "            phones.add(cleaned_phone)\n",
        "\n",
        "    # Filtrar y mejorar la detección de nombres\n",
        "    for entity in sentence.get_spans('ner'):\n",
        "        if entity.get_label().value == 'PER':  # Nombres de personas\n",
        "            names.add(entity.text.strip())\n",
        "\n",
        "    # Retornar los resultados\n",
        "    return {\n",
        "        \"names\": sorted(names),\n",
        "        \"emails\": sorted(emails),\n",
        "        \"phones\": sorted(phones)\n",
        "    }"
      ],
      "metadata": {
        "id": "jTUKKHaa_z81",
        "colab": {
          "base_uri": "https://localhost:8080/",
          "height": 86,
          "referenced_widgets": [
            "adcf930b59ad496b9125a08f95a82902",
            "f1326424dc19451ab8d06a75253ec88b",
            "81b9dc93b38f4645a719511de5b11b81",
            "c497421591b14202bcb83848ad1e0537",
            "e750e28eff4147ccacb1af91c2587146",
            "87260037d7db4f1c93c197e0e65a8a72",
            "d7a581dc04bb4072a4177d81e4643603",
            "8b4793d367ac4d469601bad637705436",
            "8222d0a0e13d4aa9b299d307cb5cefa0",
            "ebc5e4e496ec4576a20ffe480f170bce",
            "4ea2a3c1365b4cad84b8c67c271caf09"
          ]
        },
        "outputId": "1c6222bb-d779-49c1-c726-d76f2c131f86"
      },
      "execution_count": 39,
      "outputs": [
        {
          "output_type": "display_data",
          "data": {
            "text/plain": [
              "pytorch_model.bin:   0%|          | 0.00/419M [00:00<?, ?B/s]"
            ],
            "application/vnd.jupyter.widget-view+json": {
              "version_major": 2,
              "version_minor": 0,
              "model_id": "adcf930b59ad496b9125a08f95a82902"
            }
          },
          "metadata": {}
        },
        {
          "output_type": "stream",
          "name": "stdout",
          "text": [
            "2024-12-04 23:12:05,096 SequenceTagger predicts: Dictionary with 20 tags: <unk>, O, S-ORG, S-MISC, B-PER, E-PER, S-LOC, B-ORG, E-ORG, I-PER, S-PER, B-MISC, I-MISC, E-MISC, I-ORG, B-LOC, E-LOC, I-LOC, <START>, <STOP>\n"
          ]
        }
      ]
    },
    {
      "cell_type": "code",
      "source": [
        "# Iterar sobre los CVs y aplicar la función para extraer la información\n",
        "for idx, cv_text in enumerate(cvs, 1):\n",
        "    extracted_info = extract_info_with_flair(cv_text)\n",
        "    print(f\"CV {idx}: Nombres: {extracted_info['names']}, Emails: {extracted_info['emails']}, Teléfonos: {extracted_info['phones']}\")"
      ],
      "metadata": {
        "id": "JnmmZVpNAAU1",
        "colab": {
          "base_uri": "https://localhost:8080/"
        },
        "outputId": "a5a6f84b-e14d-489a-b53b-d9ca5460e446"
      },
      "execution_count": 40,
      "outputs": [
        {
          "output_type": "stream",
          "name": "stdout",
          "text": [
            "CV 1: Nombres: ['Michael  Smith'], Emails: [], Teléfonos: []\n",
            "CV 2: Nombres: [], Emails: ['hello@reallygreatsite.com'], Teléfonos: ['+1234567890']\n",
            "CV 3: Nombres: [], Emails: ['dhikayudano@gmail.com'], Teléfonos: ['+6285777124']\n",
            "CV 4: Nombres: ['Dyah Hediyati', 'Jawa Timur', 'Melakukan  pekerjaan  administratif  perusahaan', 'Menganalisa  dan mengolah', 'Petik Wong Gaptek'], Emails: ['dyahhediyati@gmail.com'], Teléfonos: ['+6285287404232']\n",
            "CV 5: Nombres: ['Alice Clark Al'], Emails: [], Teléfonos: []\n",
            "CV 6: Nombres: ['Junaedi'], Emails: ['me@junae.id'], Teléfonos: ['+6282331472499']\n",
            "CV 7: Nombres: ['DR.SANTOSH  KAKADE'], Emails: ['drsantoshkakade@ciilm.com', 'drsantoshkakade@gmail.com'], Teléfonos: ['02024444490', '09422071490', '09850671175']\n",
            "CV 8: Nombres: [], Emails: ['loren@shevitz.org'], Teléfonos: ['606142853', '7736651234']\n",
            "CV 9: Nombres: [], Emails: [], Teléfonos: ['085157115062']\n"
          ]
        }
      ]
    },
    {
      "cell_type": "code",
      "source": [
        "# Cargar el modelo de Flair para NER\n",
        "tagger = SequenceTagger.load(\"flair/ner-english\")\n",
        "\n",
        "# Expresión regular ajustada para teléfonos\n",
        "phone_regex = re.compile(r'\\+?\\d{1,3}?[ -]?\\(?\\d{2,4}\\)?[ -]?\\d{2,4}[ -]?\\d{4,6}')\n",
        "email_regex = re.compile(r'\\b[A-Za-z0-9._%+-]+@[A-Za-z0-9.-]+\\.[A-Z|a-z]{2,}\\b')\n",
        "\n",
        "def extract_info_with_flair(text):\n",
        "    # Crear una Sentence en Flair\n",
        "    sentence = Sentence(text)\n",
        "\n",
        "    # Realizar la anotación NER con Flair\n",
        "    tagger.predict(sentence)\n",
        "\n",
        "    # Inicializar estructuras de datos\n",
        "    names = set()\n",
        "    emails = set(email_regex.findall(text))\n",
        "    raw_phones = phone_regex.findall(text)\n",
        "\n",
        "    # Limpiar y filtrar teléfonos\n",
        "    phones = set()\n",
        "    for phone in raw_phones:\n",
        "        cleaned_phone = re.sub(r'[^\\d+]', '', phone)  # Mantener solo dígitos y +\n",
        "        if len(cleaned_phone) >= 8:  # Teléfonos de al menos 8 dígitos\n",
        "            phones.add(cleaned_phone)\n",
        "\n",
        "    # Extraer y almacenar nombres solo si son etiquetados como 'PER'\n",
        "    for entity in sentence.get_spans('ner'):\n",
        "        if entity.get_label().value == 'PER':  # Nombres de personas\n",
        "            name = entity.text.strip()\n",
        "            # Verificar que el nombre no esté vacío y que sea relevante\n",
        "            if name:\n",
        "                names.add(name)\n",
        "\n",
        "    # Retornar los resultados\n",
        "    return {\n",
        "        \"names\": sorted(names),\n",
        "        \"emails\": sorted(emails),\n",
        "        \"phones\": sorted(phones)\n",
        "    }"
      ],
      "metadata": {
        "id": "zodBf12rDL4C",
        "colab": {
          "base_uri": "https://localhost:8080/"
        },
        "outputId": "2299ec09-7c35-4178-cdcb-8e74447537d8"
      },
      "execution_count": 41,
      "outputs": [
        {
          "output_type": "stream",
          "name": "stdout",
          "text": [
            "2024-12-04 23:12:24,379 SequenceTagger predicts: Dictionary with 20 tags: <unk>, O, S-ORG, S-MISC, B-PER, E-PER, S-LOC, B-ORG, E-ORG, I-PER, S-PER, B-MISC, I-MISC, E-MISC, I-ORG, B-LOC, E-LOC, I-LOC, <START>, <STOP>\n"
          ]
        }
      ]
    },
    {
      "cell_type": "code",
      "source": [
        "# Iterar sobre los CVs y aplicar la función para extraer la información\n",
        "for idx, cv_text in enumerate(cvs, 1):\n",
        "    extracted_info = extract_info_with_flair(cv_text)\n",
        "    print(f\"CV {idx}: Nombres: {extracted_info['names']}, Emails: {extracted_info['emails']}, Teléfonos: {extracted_info['phones']}\")"
      ],
      "metadata": {
        "id": "gYW4zWodDmQD",
        "colab": {
          "base_uri": "https://localhost:8080/"
        },
        "outputId": "d99d2f4a-f37e-4882-fef6-9d1cb921ff08"
      },
      "execution_count": 42,
      "outputs": [
        {
          "output_type": "stream",
          "name": "stdout",
          "text": [
            "CV 1: Nombres: ['Michael  Smith'], Emails: [], Teléfonos: []\n",
            "CV 2: Nombres: [], Emails: ['hello@reallygreatsite.com'], Teléfonos: ['+1234567890']\n",
            "CV 3: Nombres: [], Emails: ['dhikayudano@gmail.com'], Teléfonos: ['+6285777124']\n",
            "CV 4: Nombres: ['Dyah Hediyati', 'Jawa Timur', 'Melakukan  pekerjaan  administratif  perusahaan', 'Menganalisa  dan mengolah', 'Petik Wong Gaptek'], Emails: ['dyahhediyati@gmail.com'], Teléfonos: ['+6285287404232']\n",
            "CV 5: Nombres: ['Alice Clark Al'], Emails: [], Teléfonos: []\n",
            "CV 6: Nombres: ['Junaedi'], Emails: ['me@junae.id'], Teléfonos: ['+6282331472499']\n",
            "CV 7: Nombres: ['DR.SANTOSH  KAKADE'], Emails: ['drsantoshkakade@ciilm.com', 'drsantoshkakade@gmail.com'], Teléfonos: ['02024444490', '09422071490', '09850671175']\n",
            "CV 8: Nombres: [], Emails: ['loren@shevitz.org'], Teléfonos: ['606142853', '7736651234']\n",
            "CV 9: Nombres: [], Emails: [], Teléfonos: ['085157115062']\n"
          ]
        }
      ]
    },
    {
      "cell_type": "markdown",
      "source": [
        "Modelo combinado Bert y Flair"
      ],
      "metadata": {
        "id": "T_AyjgxNK6uK"
      }
    },
    {
      "cell_type": "code",
      "source": [
        "# Cargar el pipeline de NER para BERT\n",
        "ner = pipeline(\"ner\", model=\"dbmdz/bert-large-cased-finetuned-conll03-english\", aggregation_strategy=\"simple\")\n",
        "\n",
        "# Cargar el modelo de Flair para NER\n",
        "tagger = SequenceTagger.load(\"flair/ner-english\")\n",
        "\n",
        "# Expresión regular ajustada para teléfonos\n",
        "phone_regex = re.compile(r'\\+?\\d{1,3}?[ -]?\\(?\\d{2,4}\\)?[ -]?\\d{2,4}[ -]?\\d{4,6}')\n",
        "email_regex = re.compile(r'\\b[A-Za-z0-9._%+-]+@[A-Za-z0-9.-]+\\.[A-Z|a-z]{2,}\\b')\n",
        "\n",
        "def extract_info_with_ner(text):\n",
        "    # Detectar entidades con el modelo BERT\n",
        "    entities = ner(text)\n",
        "\n",
        "    # Inicializar estructuras de datos\n",
        "    names = set()\n",
        "    emails = set(email_regex.findall(text))\n",
        "    raw_phones = phone_regex.findall(text)\n",
        "\n",
        "    # Limpiar y filtrar teléfonos\n",
        "    phones = set()\n",
        "    for phone in raw_phones:\n",
        "        cleaned_phone = re.sub(r'[^\\d+]', '', phone)  # Mantener solo dígitos y +\n",
        "        if len(cleaned_phone) >= 8:  # Teléfonos de al menos 10 dígitos\n",
        "            phones.add(cleaned_phone)\n",
        "\n",
        "    # Filtrar y mejorar la detección de nombres\n",
        "    for entity in entities:\n",
        "        if entity['entity_group'] == 'PER':  # Nombres de personas\n",
        "            names.add(entity['word'])\n",
        "\n",
        "    # Retornar los resultados de BERT\n",
        "    return {\n",
        "        \"names\": names,\n",
        "        \"emails\": emails,\n",
        "        \"phones\": phones\n",
        "    }\n",
        "\n",
        "def extract_info_with_flair(text):\n",
        "    # Crear una Sentence en Flair\n",
        "    sentence = Sentence(text)\n",
        "\n",
        "    # Realizar la anotación NER con Flair\n",
        "    tagger.predict(sentence)\n",
        "\n",
        "    # Inicializar estructuras de datos\n",
        "    names = set()\n",
        "    emails = set(email_regex.findall(text))\n",
        "    raw_phones = phone_regex.findall(text)\n",
        "\n",
        "    # Limpiar y filtrar teléfonos\n",
        "    phones = set()\n",
        "    for phone in raw_phones:\n",
        "        cleaned_phone = re.sub(r'[^\\d+]', '', phone)  # Mantener solo dígitos y +\n",
        "        if len(cleaned_phone) >= 8:  # Teléfonos de al menos 10 dígitos\n",
        "            phones.add(cleaned_phone)\n",
        "\n",
        "    # Filtrar y mejorar la detección de nombres\n",
        "    for entity in sentence.get_spans('ner'):\n",
        "        if entity.get_label().value == 'PER':  # Nombres de personas\n",
        "            names.add(entity.text.strip())\n",
        "\n",
        "    # Retornar los resultados de Flair\n",
        "    return {\n",
        "        \"names\": names,\n",
        "        \"emails\": emails,\n",
        "        \"phones\": phones\n",
        "    }\n",
        "\n",
        "# Función para combinar los resultados sin duplicados\n",
        "def combine_results(results_ner, results_flair):\n",
        "    # Combinamos los resultados de nombres, correos electrónicos y teléfonos\n",
        "    combined_names = results_ner[\"names\"].union(results_flair[\"names\"])\n",
        "    combined_emails = results_ner[\"emails\"].union(results_flair[\"emails\"])\n",
        "    combined_phones = results_ner[\"phones\"].union(results_flair[\"phones\"])\n",
        "\n",
        "    return {\n",
        "        \"names\": sorted(combined_names),\n",
        "        \"emails\": sorted(combined_emails),\n",
        "        \"phones\": sorted(combined_phones)\n",
        "    }"
      ],
      "metadata": {
        "id": "p8MwkuRkKzl_",
        "colab": {
          "base_uri": "https://localhost:8080/"
        },
        "outputId": "06f0515b-6527-4556-d7e9-b81c3c3e5fe6"
      },
      "execution_count": 43,
      "outputs": [
        {
          "output_type": "stream",
          "name": "stderr",
          "text": [
            "Some weights of the model checkpoint at dbmdz/bert-large-cased-finetuned-conll03-english were not used when initializing BertForTokenClassification: ['bert.pooler.dense.bias', 'bert.pooler.dense.weight']\n",
            "- This IS expected if you are initializing BertForTokenClassification from the checkpoint of a model trained on another task or with another architecture (e.g. initializing a BertForSequenceClassification model from a BertForPreTraining model).\n",
            "- This IS NOT expected if you are initializing BertForTokenClassification from the checkpoint of a model that you expect to be exactly identical (initializing a BertForSequenceClassification model from a BertForSequenceClassification model).\n",
            "Hardware accelerator e.g. GPU is available in the environment, but no `device` argument is passed to the `Pipeline` object. Model will be on CPU.\n"
          ]
        },
        {
          "output_type": "stream",
          "name": "stdout",
          "text": [
            "2024-12-04 23:12:43,464 SequenceTagger predicts: Dictionary with 20 tags: <unk>, O, S-ORG, S-MISC, B-PER, E-PER, S-LOC, B-ORG, E-ORG, I-PER, S-PER, B-MISC, I-MISC, E-MISC, I-ORG, B-LOC, E-LOC, I-LOC, <START>, <STOP>\n"
          ]
        }
      ]
    },
    {
      "cell_type": "code",
      "source": [
        "for idx, cv_text in enumerate(cvs, 1):\n",
        "    # Extraer la información con ambos modelos\n",
        "    info_ner = extract_info_with_ner(cv_text)\n",
        "    info_flair = extract_info_with_flair(cv_text)\n",
        "\n",
        "    # Combinar los resultados sin duplicados\n",
        "    combined_info = combine_results(info_ner, info_flair)\n",
        "\n",
        "    # Mostrar resultados\n",
        "    print(f\"CV {idx}:\")\n",
        "    print(f\"Nombres: {combined_info['names']}\")\n",
        "    print(f\"Emails: {combined_info['emails']}\")\n",
        "    print(f\"Teléfonos: {combined_info['phones']}\")\n",
        "    print(\"-\" * 40)"
      ],
      "metadata": {
        "id": "lo0sRBLqK2PH",
        "colab": {
          "base_uri": "https://localhost:8080/"
        },
        "outputId": "f0f6ea5b-aa3c-4553-a0cb-1b0f4bedfaf1"
      },
      "execution_count": 44,
      "outputs": [
        {
          "output_type": "stream",
          "name": "stdout",
          "text": [
            "CV 1:\n",
            "Nombres: ['Michael', 'Michael  Smith']\n",
            "Emails: []\n",
            "Teléfonos: []\n",
            "----------------------------------------\n",
            "CV 2:\n",
            "Nombres: []\n",
            "Emails: ['hello@reallygreatsite.com']\n",
            "Teléfonos: ['+1234567890']\n",
            "----------------------------------------\n",
            "CV 3:\n",
            "Nombres: []\n",
            "Emails: ['dhikayudano@gmail.com']\n",
            "Teléfonos: ['+6285777124']\n",
            "----------------------------------------\n",
            "CV 4:\n",
            "Nombres: ['Dyah Hediyati', 'Jawa Timur', 'Melakukan  pekerjaan  administratif  perusahaan', 'Menganalisa  dan mengolah', 'Petik Wong Gaptek']\n",
            "Emails: ['dyahhediyati@gmail.com']\n",
            "Teléfonos: ['+6285287404232']\n",
            "----------------------------------------\n",
            "CV 5:\n",
            "Nombres: ['Alice Clark Al']\n",
            "Emails: []\n",
            "Teléfonos: []\n",
            "----------------------------------------\n",
            "CV 6:\n",
            "Nombres: ['Junaedi', 'lam Junaedi']\n",
            "Emails: ['me@junae.id']\n",
            "Teléfonos: ['+6282331472499']\n",
            "----------------------------------------\n",
            "CV 7:\n",
            "Nombres: ['##v', 'DR.SANTOSH  KAKADE']\n",
            "Emails: ['drsantoshkakade@ciilm.com', 'drsantoshkakade@gmail.com']\n",
            "Teléfonos: ['02024444490', '09422071490', '09850671175']\n",
            "----------------------------------------\n",
            "CV 8:\n",
            "Nombres: []\n",
            "Emails: ['loren@shevitz.org']\n",
            "Teléfonos: ['606142853', '7736651234']\n",
            "----------------------------------------\n",
            "CV 9:\n",
            "Nombres: []\n",
            "Emails: []\n",
            "Teléfonos: ['085157115062']\n",
            "----------------------------------------\n"
          ]
        }
      ]
    },
    {
      "cell_type": "markdown",
      "source": [
        "##Pipeline\n"
      ],
      "metadata": {
        "id": "KVJQaUObJk3q"
      }
    },
    {
      "cell_type": "code",
      "source": [
        "!pip install sentence-transformers\n",
        "# !pip install spacy\n",
        "# !python -m spacy download en_core_web_sm\n",
        "# !python -m spacy download es_core_news_sm\n",
        "!apt-get update\n",
        "!apt-get install -y tesseract-ocr\n",
        "!apt-get install -y libtesseract-dev\n",
        "!pip install ocrmypdf PyPDF2\n",
        "!apt-get install -y ghostscript\n",
        "!pip install flair\n",
        "!pip install transformers"
      ],
      "metadata": {
        "collapsed": true,
        "id": "auToqPzIKxA8",
        "colab": {
          "base_uri": "https://localhost:8080/"
        },
        "outputId": "6530a77b-2d1e-44e4-dd23-4cec45a7f2da"
      },
      "execution_count": 45,
      "outputs": [
        {
          "output_type": "stream",
          "name": "stdout",
          "text": [
            "Requirement already satisfied: sentence-transformers in /usr/local/lib/python3.10/dist-packages (3.2.1)\n",
            "Requirement already satisfied: transformers<5.0.0,>=4.41.0 in /usr/local/lib/python3.10/dist-packages (from sentence-transformers) (4.46.2)\n",
            "Requirement already satisfied: tqdm in /usr/local/lib/python3.10/dist-packages (from sentence-transformers) (4.66.6)\n",
            "Requirement already satisfied: torch>=1.11.0 in /usr/local/lib/python3.10/dist-packages (from sentence-transformers) (2.5.1+cu121)\n",
            "Requirement already satisfied: scikit-learn in /usr/local/lib/python3.10/dist-packages (from sentence-transformers) (1.5.2)\n",
            "Requirement already satisfied: scipy in /usr/local/lib/python3.10/dist-packages (from sentence-transformers) (1.13.1)\n",
            "Requirement already satisfied: huggingface-hub>=0.20.0 in /usr/local/lib/python3.10/dist-packages (from sentence-transformers) (0.26.2)\n",
            "Requirement already satisfied: Pillow in /usr/local/lib/python3.10/dist-packages (from sentence-transformers) (11.0.0)\n",
            "Requirement already satisfied: filelock in /usr/local/lib/python3.10/dist-packages (from huggingface-hub>=0.20.0->sentence-transformers) (3.16.1)\n",
            "Requirement already satisfied: fsspec>=2023.5.0 in /usr/local/lib/python3.10/dist-packages (from huggingface-hub>=0.20.0->sentence-transformers) (2024.10.0)\n",
            "Requirement already satisfied: packaging>=20.9 in /usr/local/lib/python3.10/dist-packages (from huggingface-hub>=0.20.0->sentence-transformers) (24.2)\n",
            "Requirement already satisfied: pyyaml>=5.1 in /usr/local/lib/python3.10/dist-packages (from huggingface-hub>=0.20.0->sentence-transformers) (6.0.2)\n",
            "Requirement already satisfied: requests in /usr/local/lib/python3.10/dist-packages (from huggingface-hub>=0.20.0->sentence-transformers) (2.32.3)\n",
            "Requirement already satisfied: typing-extensions>=3.7.4.3 in /usr/local/lib/python3.10/dist-packages (from huggingface-hub>=0.20.0->sentence-transformers) (4.12.2)\n",
            "Requirement already satisfied: networkx in /usr/local/lib/python3.10/dist-packages (from torch>=1.11.0->sentence-transformers) (3.4.2)\n",
            "Requirement already satisfied: jinja2 in /usr/local/lib/python3.10/dist-packages (from torch>=1.11.0->sentence-transformers) (3.1.4)\n",
            "Requirement already satisfied: sympy==1.13.1 in /usr/local/lib/python3.10/dist-packages (from torch>=1.11.0->sentence-transformers) (1.13.1)\n",
            "Requirement already satisfied: mpmath<1.4,>=1.1.0 in /usr/local/lib/python3.10/dist-packages (from sympy==1.13.1->torch>=1.11.0->sentence-transformers) (1.3.0)\n",
            "Requirement already satisfied: numpy>=1.17 in /usr/local/lib/python3.10/dist-packages (from transformers<5.0.0,>=4.41.0->sentence-transformers) (1.26.4)\n",
            "Requirement already satisfied: regex!=2019.12.17 in /usr/local/lib/python3.10/dist-packages (from transformers<5.0.0,>=4.41.0->sentence-transformers) (2024.9.11)\n",
            "Requirement already satisfied: safetensors>=0.4.1 in /usr/local/lib/python3.10/dist-packages (from transformers<5.0.0,>=4.41.0->sentence-transformers) (0.4.5)\n",
            "Requirement already satisfied: tokenizers<0.21,>=0.20 in /usr/local/lib/python3.10/dist-packages (from transformers<5.0.0,>=4.41.0->sentence-transformers) (0.20.3)\n",
            "Requirement already satisfied: joblib>=1.2.0 in /usr/local/lib/python3.10/dist-packages (from scikit-learn->sentence-transformers) (1.4.2)\n",
            "Requirement already satisfied: threadpoolctl>=3.1.0 in /usr/local/lib/python3.10/dist-packages (from scikit-learn->sentence-transformers) (3.5.0)\n",
            "Requirement already satisfied: MarkupSafe>=2.0 in /usr/local/lib/python3.10/dist-packages (from jinja2->torch>=1.11.0->sentence-transformers) (3.0.2)\n",
            "Requirement already satisfied: charset-normalizer<4,>=2 in /usr/local/lib/python3.10/dist-packages (from requests->huggingface-hub>=0.20.0->sentence-transformers) (3.4.0)\n",
            "Requirement already satisfied: idna<4,>=2.5 in /usr/local/lib/python3.10/dist-packages (from requests->huggingface-hub>=0.20.0->sentence-transformers) (3.10)\n",
            "Requirement already satisfied: urllib3<3,>=1.21.1 in /usr/local/lib/python3.10/dist-packages (from requests->huggingface-hub>=0.20.0->sentence-transformers) (2.2.3)\n",
            "Requirement already satisfied: certifi>=2017.4.17 in /usr/local/lib/python3.10/dist-packages (from requests->huggingface-hub>=0.20.0->sentence-transformers) (2024.8.30)\n",
            "Hit:1 https://cloud.r-project.org/bin/linux/ubuntu jammy-cran40/ InRelease\n",
            "Hit:2 https://developer.download.nvidia.com/compute/cuda/repos/ubuntu2204/x86_64  InRelease\n",
            "Get:3 http://security.ubuntu.com/ubuntu jammy-security InRelease [129 kB]\n",
            "Hit:4 https://r2u.stat.illinois.edu/ubuntu jammy InRelease\n",
            "Hit:5 http://archive.ubuntu.com/ubuntu jammy InRelease\n",
            "Hit:6 http://archive.ubuntu.com/ubuntu jammy-updates InRelease\n",
            "Hit:7 http://archive.ubuntu.com/ubuntu jammy-backports InRelease\n",
            "Hit:8 https://ppa.launchpadcontent.net/deadsnakes/ppa/ubuntu jammy InRelease\n",
            "Hit:9 https://ppa.launchpadcontent.net/graphics-drivers/ppa/ubuntu jammy InRelease\n",
            "Hit:10 https://ppa.launchpadcontent.net/ubuntugis/ppa/ubuntu jammy InRelease\n",
            "Fetched 129 kB in 1s (125 kB/s)\n",
            "Reading package lists... Done\n",
            "W: Skipping acquire of configured file 'main/source/Sources' as repository 'https://r2u.stat.illinois.edu/ubuntu jammy InRelease' does not seem to provide it (sources.list entry misspelt?)\n",
            "Reading package lists... Done\n",
            "Building dependency tree... Done\n",
            "Reading state information... Done\n",
            "tesseract-ocr is already the newest version (4.1.1-2.1build1).\n",
            "0 upgraded, 0 newly installed, 0 to remove and 50 not upgraded.\n",
            "Reading package lists... Done\n",
            "Building dependency tree... Done\n",
            "Reading state information... Done\n",
            "libtesseract-dev is already the newest version (4.1.1-2.1build1).\n",
            "0 upgraded, 0 newly installed, 0 to remove and 50 not upgraded.\n",
            "Requirement already satisfied: ocrmypdf in /usr/local/lib/python3.10/dist-packages (16.6.2)\n",
            "Requirement already satisfied: PyPDF2 in /usr/local/lib/python3.10/dist-packages (3.0.1)\n",
            "Requirement already satisfied: deprecation>=2.1.0 in /usr/local/lib/python3.10/dist-packages (from ocrmypdf) (2.1.0)\n",
            "Requirement already satisfied: img2pdf>=0.5 in /usr/local/lib/python3.10/dist-packages (from ocrmypdf) (0.5.1)\n",
            "Requirement already satisfied: packaging>=20 in /usr/local/lib/python3.10/dist-packages (from ocrmypdf) (24.2)\n",
            "Requirement already satisfied: pdfminer-six>=20220319 in /usr/local/lib/python3.10/dist-packages (from ocrmypdf) (20240706)\n",
            "Requirement already satisfied: pi-heif in /usr/local/lib/python3.10/dist-packages (from ocrmypdf) (0.21.0)\n",
            "Requirement already satisfied: pikepdf>=8.10.1 in /usr/local/lib/python3.10/dist-packages (from ocrmypdf) (9.4.2)\n",
            "Requirement already satisfied: pillow>=10.0.1 in /usr/local/lib/python3.10/dist-packages (from ocrmypdf) (11.0.0)\n",
            "Requirement already satisfied: pluggy>=1 in /usr/local/lib/python3.10/dist-packages (from ocrmypdf) (1.5.0)\n",
            "Requirement already satisfied: rich>=13 in /usr/local/lib/python3.10/dist-packages (from ocrmypdf) (13.9.4)\n",
            "Requirement already satisfied: charset-normalizer>=2.0.0 in /usr/local/lib/python3.10/dist-packages (from pdfminer-six>=20220319->ocrmypdf) (3.4.0)\n",
            "Requirement already satisfied: cryptography>=36.0.0 in /usr/local/lib/python3.10/dist-packages (from pdfminer-six>=20220319->ocrmypdf) (43.0.3)\n",
            "Requirement already satisfied: Deprecated in /usr/local/lib/python3.10/dist-packages (from pikepdf>=8.10.1->ocrmypdf) (1.2.15)\n",
            "Requirement already satisfied: lxml>=4.8 in /usr/local/lib/python3.10/dist-packages (from pikepdf>=8.10.1->ocrmypdf) (5.3.0)\n",
            "Requirement already satisfied: markdown-it-py>=2.2.0 in /usr/local/lib/python3.10/dist-packages (from rich>=13->ocrmypdf) (3.0.0)\n",
            "Requirement already satisfied: pygments<3.0.0,>=2.13.0 in /usr/local/lib/python3.10/dist-packages (from rich>=13->ocrmypdf) (2.18.0)\n",
            "Requirement already satisfied: typing-extensions<5.0,>=4.0.0 in /usr/local/lib/python3.10/dist-packages (from rich>=13->ocrmypdf) (4.12.2)\n",
            "Requirement already satisfied: cffi>=1.12 in /usr/local/lib/python3.10/dist-packages (from cryptography>=36.0.0->pdfminer-six>=20220319->ocrmypdf) (1.17.1)\n",
            "Requirement already satisfied: mdurl~=0.1 in /usr/local/lib/python3.10/dist-packages (from markdown-it-py>=2.2.0->rich>=13->ocrmypdf) (0.1.2)\n",
            "Requirement already satisfied: wrapt<2,>=1.10 in /usr/local/lib/python3.10/dist-packages (from Deprecated->pikepdf>=8.10.1->ocrmypdf) (1.16.0)\n",
            "Requirement already satisfied: pycparser in /usr/local/lib/python3.10/dist-packages (from cffi>=1.12->cryptography>=36.0.0->pdfminer-six>=20220319->ocrmypdf) (2.22)\n",
            "Reading package lists... Done\n",
            "Building dependency tree... Done\n",
            "Reading state information... Done\n",
            "ghostscript is already the newest version (9.55.0~dfsg1-0ubuntu5.10).\n",
            "0 upgraded, 0 newly installed, 0 to remove and 50 not upgraded.\n",
            "Requirement already satisfied: flair in /usr/local/lib/python3.10/dist-packages (0.14.0)\n",
            "Requirement already satisfied: boto3>=1.20.27 in /usr/local/lib/python3.10/dist-packages (from flair) (1.35.75)\n",
            "Requirement already satisfied: conllu<5.0.0,>=4.0 in /usr/local/lib/python3.10/dist-packages (from flair) (4.5.3)\n",
            "Requirement already satisfied: deprecated>=1.2.13 in /usr/local/lib/python3.10/dist-packages (from flair) (1.2.15)\n",
            "Requirement already satisfied: ftfy>=6.1.0 in /usr/local/lib/python3.10/dist-packages (from flair) (6.3.1)\n",
            "Requirement already satisfied: gdown>=4.4.0 in /usr/local/lib/python3.10/dist-packages (from flair) (5.2.0)\n",
            "Requirement already satisfied: huggingface-hub>=0.10.0 in /usr/local/lib/python3.10/dist-packages (from flair) (0.26.2)\n",
            "Requirement already satisfied: langdetect>=1.0.9 in /usr/local/lib/python3.10/dist-packages (from flair) (1.0.9)\n",
            "Requirement already satisfied: lxml>=4.8.0 in /usr/local/lib/python3.10/dist-packages (from flair) (5.3.0)\n",
            "Requirement already satisfied: matplotlib>=2.2.3 in /usr/local/lib/python3.10/dist-packages (from flair) (3.8.0)\n",
            "Requirement already satisfied: more-itertools>=8.13.0 in /usr/local/lib/python3.10/dist-packages (from flair) (10.5.0)\n",
            "Requirement already satisfied: mpld3>=0.3 in /usr/local/lib/python3.10/dist-packages (from flair) (0.5.10)\n",
            "Requirement already satisfied: pptree>=3.1 in /usr/local/lib/python3.10/dist-packages (from flair) (3.1)\n",
            "Requirement already satisfied: python-dateutil>=2.8.2 in /usr/local/lib/python3.10/dist-packages (from flair) (2.8.2)\n",
            "Requirement already satisfied: pytorch-revgrad>=0.2.0 in /usr/local/lib/python3.10/dist-packages (from flair) (0.2.0)\n",
            "Requirement already satisfied: regex>=2022.1.18 in /usr/local/lib/python3.10/dist-packages (from flair) (2024.9.11)\n",
            "Requirement already satisfied: scikit-learn>=1.0.2 in /usr/local/lib/python3.10/dist-packages (from flair) (1.5.2)\n",
            "Requirement already satisfied: segtok>=1.5.11 in /usr/local/lib/python3.10/dist-packages (from flair) (1.5.11)\n",
            "Requirement already satisfied: sqlitedict>=2.0.0 in /usr/local/lib/python3.10/dist-packages (from flair) (2.1.0)\n",
            "Requirement already satisfied: tabulate>=0.8.10 in /usr/local/lib/python3.10/dist-packages (from flair) (0.9.0)\n",
            "Requirement already satisfied: torch!=1.8,>=1.5.0 in /usr/local/lib/python3.10/dist-packages (from flair) (2.5.1+cu121)\n",
            "Requirement already satisfied: tqdm>=4.63.0 in /usr/local/lib/python3.10/dist-packages (from flair) (4.66.6)\n",
            "Requirement already satisfied: transformer-smaller-training-vocab>=0.2.3 in /usr/local/lib/python3.10/dist-packages (from flair) (0.4.0)\n",
            "Requirement already satisfied: transformers<5.0.0,>=4.18.0 in /usr/local/lib/python3.10/dist-packages (from transformers[sentencepiece]<5.0.0,>=4.18.0->flair) (4.46.2)\n",
            "Requirement already satisfied: wikipedia-api>=0.5.7 in /usr/local/lib/python3.10/dist-packages (from flair) (0.7.1)\n",
            "Requirement already satisfied: semver<4.0.0,>=3.0.0 in /usr/local/lib/python3.10/dist-packages (from flair) (3.0.2)\n",
            "Requirement already satisfied: bioc<3.0.0,>=2.0.0 in /usr/local/lib/python3.10/dist-packages (from flair) (2.1)\n",
            "Requirement already satisfied: jsonlines>=1.2.0 in /usr/local/lib/python3.10/dist-packages (from bioc<3.0.0,>=2.0.0->flair) (4.0.0)\n",
            "Requirement already satisfied: intervaltree in /usr/local/lib/python3.10/dist-packages (from bioc<3.0.0,>=2.0.0->flair) (3.1.0)\n",
            "Requirement already satisfied: docopt in /usr/local/lib/python3.10/dist-packages (from bioc<3.0.0,>=2.0.0->flair) (0.6.2)\n",
            "Requirement already satisfied: botocore<1.36.0,>=1.35.75 in /usr/local/lib/python3.10/dist-packages (from boto3>=1.20.27->flair) (1.35.75)\n",
            "Requirement already satisfied: jmespath<2.0.0,>=0.7.1 in /usr/local/lib/python3.10/dist-packages (from boto3>=1.20.27->flair) (1.0.1)\n",
            "Requirement already satisfied: s3transfer<0.11.0,>=0.10.0 in /usr/local/lib/python3.10/dist-packages (from boto3>=1.20.27->flair) (0.10.4)\n",
            "Requirement already satisfied: wrapt<2,>=1.10 in /usr/local/lib/python3.10/dist-packages (from deprecated>=1.2.13->flair) (1.16.0)\n",
            "Requirement already satisfied: wcwidth in /usr/local/lib/python3.10/dist-packages (from ftfy>=6.1.0->flair) (0.2.13)\n",
            "Requirement already satisfied: beautifulsoup4 in /usr/local/lib/python3.10/dist-packages (from gdown>=4.4.0->flair) (4.12.3)\n",
            "Requirement already satisfied: filelock in /usr/local/lib/python3.10/dist-packages (from gdown>=4.4.0->flair) (3.16.1)\n",
            "Requirement already satisfied: requests[socks] in /usr/local/lib/python3.10/dist-packages (from gdown>=4.4.0->flair) (2.32.3)\n",
            "Requirement already satisfied: fsspec>=2023.5.0 in /usr/local/lib/python3.10/dist-packages (from huggingface-hub>=0.10.0->flair) (2024.10.0)\n",
            "Requirement already satisfied: packaging>=20.9 in /usr/local/lib/python3.10/dist-packages (from huggingface-hub>=0.10.0->flair) (24.2)\n",
            "Requirement already satisfied: pyyaml>=5.1 in /usr/local/lib/python3.10/dist-packages (from huggingface-hub>=0.10.0->flair) (6.0.2)\n",
            "Requirement already satisfied: typing-extensions>=3.7.4.3 in /usr/local/lib/python3.10/dist-packages (from huggingface-hub>=0.10.0->flair) (4.12.2)\n",
            "Requirement already satisfied: six in /usr/local/lib/python3.10/dist-packages (from langdetect>=1.0.9->flair) (1.16.0)\n",
            "Requirement already satisfied: contourpy>=1.0.1 in /usr/local/lib/python3.10/dist-packages (from matplotlib>=2.2.3->flair) (1.3.1)\n",
            "Requirement already satisfied: cycler>=0.10 in /usr/local/lib/python3.10/dist-packages (from matplotlib>=2.2.3->flair) (0.12.1)\n",
            "Requirement already satisfied: fonttools>=4.22.0 in /usr/local/lib/python3.10/dist-packages (from matplotlib>=2.2.3->flair) (4.55.0)\n",
            "Requirement already satisfied: kiwisolver>=1.0.1 in /usr/local/lib/python3.10/dist-packages (from matplotlib>=2.2.3->flair) (1.4.7)\n",
            "Requirement already satisfied: numpy<2,>=1.21 in /usr/local/lib/python3.10/dist-packages (from matplotlib>=2.2.3->flair) (1.26.4)\n",
            "Requirement already satisfied: pillow>=6.2.0 in /usr/local/lib/python3.10/dist-packages (from matplotlib>=2.2.3->flair) (11.0.0)\n",
            "Requirement already satisfied: pyparsing>=2.3.1 in /usr/local/lib/python3.10/dist-packages (from matplotlib>=2.2.3->flair) (3.2.0)\n",
            "Requirement already satisfied: jinja2 in /usr/local/lib/python3.10/dist-packages (from mpld3>=0.3->flair) (3.1.4)\n",
            "Requirement already satisfied: scipy>=1.6.0 in /usr/local/lib/python3.10/dist-packages (from scikit-learn>=1.0.2->flair) (1.13.1)\n",
            "Requirement already satisfied: joblib>=1.2.0 in /usr/local/lib/python3.10/dist-packages (from scikit-learn>=1.0.2->flair) (1.4.2)\n",
            "Requirement already satisfied: threadpoolctl>=3.1.0 in /usr/local/lib/python3.10/dist-packages (from scikit-learn>=1.0.2->flair) (3.5.0)\n",
            "Requirement already satisfied: networkx in /usr/local/lib/python3.10/dist-packages (from torch!=1.8,>=1.5.0->flair) (3.4.2)\n",
            "Requirement already satisfied: sympy==1.13.1 in /usr/local/lib/python3.10/dist-packages (from torch!=1.8,>=1.5.0->flair) (1.13.1)\n",
            "Requirement already satisfied: mpmath<1.4,>=1.1.0 in /usr/local/lib/python3.10/dist-packages (from sympy==1.13.1->torch!=1.8,>=1.5.0->flair) (1.3.0)\n",
            "Requirement already satisfied: safetensors>=0.4.1 in /usr/local/lib/python3.10/dist-packages (from transformers<5.0.0,>=4.18.0->transformers[sentencepiece]<5.0.0,>=4.18.0->flair) (0.4.5)\n",
            "Requirement already satisfied: tokenizers<0.21,>=0.20 in /usr/local/lib/python3.10/dist-packages (from transformers<5.0.0,>=4.18.0->transformers[sentencepiece]<5.0.0,>=4.18.0->flair) (0.20.3)\n",
            "Requirement already satisfied: protobuf in /usr/local/lib/python3.10/dist-packages (from transformers[sentencepiece]<5.0.0,>=4.18.0->flair) (4.25.5)\n",
            "Requirement already satisfied: sentencepiece!=0.1.92,>=0.1.91 in /usr/local/lib/python3.10/dist-packages (from transformers[sentencepiece]<5.0.0,>=4.18.0->flair) (0.2.0)\n",
            "Requirement already satisfied: urllib3!=2.2.0,<3,>=1.25.4 in /usr/local/lib/python3.10/dist-packages (from botocore<1.36.0,>=1.35.75->boto3>=1.20.27->flair) (2.2.3)\n",
            "Requirement already satisfied: attrs>=19.2.0 in /usr/local/lib/python3.10/dist-packages (from jsonlines>=1.2.0->bioc<3.0.0,>=2.0.0->flair) (24.2.0)\n",
            "Requirement already satisfied: accelerate>=0.26.0 in /usr/local/lib/python3.10/dist-packages (from transformers[sentencepiece,torch]<5.0,>=4.1->transformer-smaller-training-vocab>=0.2.3->flair) (1.1.1)\n",
            "Requirement already satisfied: soupsieve>1.2 in /usr/local/lib/python3.10/dist-packages (from beautifulsoup4->gdown>=4.4.0->flair) (2.6)\n",
            "Requirement already satisfied: sortedcontainers<3.0,>=2.0 in /usr/local/lib/python3.10/dist-packages (from intervaltree->bioc<3.0.0,>=2.0.0->flair) (2.4.0)\n",
            "Requirement already satisfied: MarkupSafe>=2.0 in /usr/local/lib/python3.10/dist-packages (from jinja2->mpld3>=0.3->flair) (3.0.2)\n",
            "Requirement already satisfied: charset-normalizer<4,>=2 in /usr/local/lib/python3.10/dist-packages (from requests[socks]->gdown>=4.4.0->flair) (3.4.0)\n",
            "Requirement already satisfied: idna<4,>=2.5 in /usr/local/lib/python3.10/dist-packages (from requests[socks]->gdown>=4.4.0->flair) (3.10)\n",
            "Requirement already satisfied: certifi>=2017.4.17 in /usr/local/lib/python3.10/dist-packages (from requests[socks]->gdown>=4.4.0->flair) (2024.8.30)\n",
            "Requirement already satisfied: PySocks!=1.5.7,>=1.5.6 in /usr/local/lib/python3.10/dist-packages (from requests[socks]->gdown>=4.4.0->flair) (1.7.1)\n",
            "Requirement already satisfied: psutil in /usr/local/lib/python3.10/dist-packages (from accelerate>=0.26.0->transformers[sentencepiece,torch]<5.0,>=4.1->transformer-smaller-training-vocab>=0.2.3->flair) (5.9.5)\n",
            "Requirement already satisfied: transformers in /usr/local/lib/python3.10/dist-packages (4.46.2)\n",
            "Requirement already satisfied: filelock in /usr/local/lib/python3.10/dist-packages (from transformers) (3.16.1)\n",
            "Requirement already satisfied: huggingface-hub<1.0,>=0.23.2 in /usr/local/lib/python3.10/dist-packages (from transformers) (0.26.2)\n",
            "Requirement already satisfied: numpy>=1.17 in /usr/local/lib/python3.10/dist-packages (from transformers) (1.26.4)\n",
            "Requirement already satisfied: packaging>=20.0 in /usr/local/lib/python3.10/dist-packages (from transformers) (24.2)\n",
            "Requirement already satisfied: pyyaml>=5.1 in /usr/local/lib/python3.10/dist-packages (from transformers) (6.0.2)\n",
            "Requirement already satisfied: regex!=2019.12.17 in /usr/local/lib/python3.10/dist-packages (from transformers) (2024.9.11)\n",
            "Requirement already satisfied: requests in /usr/local/lib/python3.10/dist-packages (from transformers) (2.32.3)\n",
            "Requirement already satisfied: safetensors>=0.4.1 in /usr/local/lib/python3.10/dist-packages (from transformers) (0.4.5)\n",
            "Requirement already satisfied: tokenizers<0.21,>=0.20 in /usr/local/lib/python3.10/dist-packages (from transformers) (0.20.3)\n",
            "Requirement already satisfied: tqdm>=4.27 in /usr/local/lib/python3.10/dist-packages (from transformers) (4.66.6)\n",
            "Requirement already satisfied: fsspec>=2023.5.0 in /usr/local/lib/python3.10/dist-packages (from huggingface-hub<1.0,>=0.23.2->transformers) (2024.10.0)\n",
            "Requirement already satisfied: typing-extensions>=3.7.4.3 in /usr/local/lib/python3.10/dist-packages (from huggingface-hub<1.0,>=0.23.2->transformers) (4.12.2)\n",
            "Requirement already satisfied: charset-normalizer<4,>=2 in /usr/local/lib/python3.10/dist-packages (from requests->transformers) (3.4.0)\n",
            "Requirement already satisfied: idna<4,>=2.5 in /usr/local/lib/python3.10/dist-packages (from requests->transformers) (3.10)\n",
            "Requirement already satisfied: urllib3<3,>=1.21.1 in /usr/local/lib/python3.10/dist-packages (from requests->transformers) (2.2.3)\n",
            "Requirement already satisfied: certifi>=2017.4.17 in /usr/local/lib/python3.10/dist-packages (from requests->transformers) (2024.8.30)\n"
          ]
        }
      ]
    },
    {
      "cell_type": "code",
      "source": [
        "import re\n",
        "from google.colab import files\n",
        "import os\n",
        "from sentence_transformers import SentenceTransformer\n",
        "from sklearn.metrics.pairwise import cosine_similarity\n",
        "import numpy as np\n",
        "from transformers import pipeline\n",
        "from flair.data import Sentence\n",
        "from flair.models import SequenceTagger\n",
        "import ocrmypdf\n",
        "import PyPDF2\n"
      ],
      "metadata": {
        "collapsed": true,
        "id": "ZL-GPS7fNcPY"
      },
      "execution_count": 46,
      "outputs": []
    },
    {
      "cell_type": "code",
      "source": [
        "carpeta_pdf = './CVs'\n",
        "carpeta_txt = './Texto_2'\n",
        "\n",
        "os.makedirs(carpeta_pdf, exist_ok=True)\n",
        "os.makedirs(carpeta_txt, exist_ok=True)\n",
        "\n",
        "uploaded = files.upload()\n",
        "\n",
        "for archivo in uploaded.keys():\n",
        "    os.rename(archivo, os.path.join(carpeta_pdf, archivo))\n",
        "carpeta_pdf = '/content/CVs'\n",
        "carpeta_txt = '/content/Texto_2'\n",
        "os.makedirs(carpeta_pdf, exist_ok=True)\n",
        "os.makedirs(carpeta_txt, exist_ok=True)\n",
        "\n",
        "for archivo in os.listdir(carpeta_pdf):\n",
        "    if archivo.endswith('.pdf'):\n",
        "        archivo_pdf = os.path.join(carpeta_pdf, archivo)\n",
        "        archivo_pdf_con_ocr = os.path.join(carpeta_txt, f'{os.path.splitext(archivo)[0]}_ocr.pdf')\n",
        "        ocrmypdf.ocr(archivo_pdf, archivo_pdf_con_ocr, force_ocr=True)\n",
        "        texto_extraido = \"\"\n",
        "        with open(archivo_pdf_con_ocr, 'rb') as pdf_con_ocr:\n",
        "            pdf_reader = PyPDF2.PdfReader(pdf_con_ocr)\n",
        "            for pagina in pdf_reader.pages:\n",
        "                texto_extraido += pagina.extract_text()\n",
        "        archivo_salida = os.path.join(carpeta_txt, f'{os.path.splitext(archivo)[0]}.txt')\n",
        "        with open(archivo_salida, 'w', encoding='utf-8') as f:\n",
        "            f.write(texto_extraido)\n"
      ],
      "metadata": {
        "collapsed": true,
        "id": "EyinQfytNZwg",
        "colab": {
          "base_uri": "https://localhost:8080/",
          "height": 1000,
          "referenced_widgets": [
            "735f6b0d2ffc4af592edb19cb71f404b",
            "56ff6e706dd14fc19a04cdcaed07d726",
            "6632693b05114540b86279ac18449175",
            "c301366ccf07448ba749e86cc7664ed6",
            "635efb74f7b74f5ea70b532aa11b2781",
            "1e198e0054004f4daf90849730cfc1b6",
            "c6b9d545f231418fa4b16f8a990b1a75",
            "8d5e998880ea4cb8b4b8c529f59ddd5f",
            "f8f658976bbc4846a0195d192ae1f6bf",
            "610c1a02ec2c44e3a6dcf1ef4f950dd2",
            "9dbcae531ba8467f8e74b11574a5fe11",
            "bbd6e5f884cb4a9ea6142b39ac626de0",
            "7aa40f37ba4047fcaeec2e435a4109d4",
            "af826bf5e14d4eea9b37e0312b927f67",
            "5efcbf07d1984494ab27a51385150c16",
            "b998ec7243f44c58b072d3806792228d",
            "f2de9f242dce4e42864a5ac2dafd32ba",
            "ecdba036123b49e089073df65e7065f2",
            "1506c6a08c514f498bf96d51f9264728",
            "535236bb26c74e7e8b29ece05c39aa2c",
            "7f0a91b7f4944041a366104294c9f5b6",
            "ca9009b468b84143b4250e5bdc50f58e",
            "c31bbeb341fd4da7bcd3c7897a761c32",
            "38c6145436a8419ba48d77d670b965ea",
            "83d6128c52cc41368a22b378b15d611a",
            "e20cdeac2c1a446da56fff48e4cae8ff",
            "df88875d510b48cd91544747ec7a10de",
            "31e27a1b3c564e5b8f9755048e424df9",
            "0e02819c534c46729435a04b0bb74662",
            "22f9a5c860224a4ea6eeabe32c5e6beb",
            "a7ea315e3896455abdba1a30cf18c942",
            "ad1c562373724a05b4f81299653761ec",
            "872a702fb6474bc3badd3f02f37f06be",
            "726ab1f9ea6744f98bd1b658349889e5",
            "565ae30099cf4351bbc8895ab71ae151",
            "085ac9afd00240ebaef798f050404cbe",
            "023219eb08994242b668ae31050b2cc3",
            "d5de9720ca0d43bcb184a0034670a8ce",
            "dfbfbd3dfd5c4dcaa8ba8578a4377c8a",
            "26c30a65f50044dca2285354e56b4644",
            "a53b8958bf0042fa9ea99f66aab5e35d",
            "5519a894c5d34042934e4cb8686a0035",
            "2d6ce04dc42f4a52ac11060d65c46e82",
            "d0fcfa339d32482a9ea72de40f5ef696",
            "983a51c2b000432fa15e8f1739e83011",
            "3faa4841c26d4ef8a2045b03dd86835c",
            "f1741887cf5745d7b4c92e739b187262",
            "ab9ff0c795704b229d2e4b10b5124a9c",
            "576a1fab91c1461d8ca1766350687652",
            "aa5ec3e3afaa4a5b979050fde42a1b9c",
            "ad98f86f900843cbbb76ac3d952a1c26",
            "70843f17c80c4dd2912263895bdf5f2e",
            "bce372fb90ca4e7d8a3aaba8793b17d9",
            "0ed790afc06b4a799cf73354a0929456",
            "e996096d60b5424898bc208f8dd67ccc",
            "c21705687fac4cd982faf263968593d9",
            "6f2ded4076da42db94da16dd28195dda",
            "4c49633ce35347a6ae791a0c4b8ce3e3",
            "790b433b969f493aae5a8fbca84b2eb6",
            "175bb39ea60b49b383aa47d48798eac5",
            "f026fc589f624a6489e8f47ae1f6a0db",
            "3e65cc93f1db43068a976b72b869ed0b",
            "319acfd27f84417aa7c9d10372eab2ce",
            "d09ef3b1f3d74f85829a40f9e642ad8f",
            "50a4752590954405b463160dcc206922",
            "564f3f6afde44e909a4586299043cab3",
            "a862532370fb41d781f3f9cadf0ad912",
            "c38a6070006c4135afcbdf026d991afe",
            "e718756bdfed4f12a5627aae40f91960",
            "415e557c0a704f49936450f9a4656bcd",
            "88a52343208f49c0b1ff1f993a7b35e1",
            "e8a62b72c5de41e3a502f3eade536e82",
            "35c73ff4143c4c909375658b28faecd2",
            "bc24680e5699411983fbd027fccecc05",
            "dfa4eebf55fc40cd9b47a6b8c5b105f0",
            "3de1db4c6ba04258994b815e76376a5d",
            "cb9ee1d9d73e490ab0de10b7f8ca48a3",
            "8189612306ae4e5ea54b7570e2a25571",
            "9c3fb9559e3e4e30b4cf947f6910b12b",
            "c4a9ba30b29945a2bdc09d62b0d368d8",
            "da60af0ba52942f48bee50f8df1fba2b",
            "c1a5c70b5e314a6b8714ab6b94d2dc4b",
            "5f6928c7785e4df380672ab4f4a24576",
            "76fa91828035412c9f57ad7213508a00",
            "8f0c9a0ddfb94a31a37ee19b80b760a7",
            "6b2e05546d4c48c68a70d2971906d22c",
            "256aeb274bd649d9a19b50a04fcc40f7",
            "a4a38842b40044768e5fa8d3316c3858",
            "42e28018f25d4676b15621f315dd6c6d",
            "f8a01cdab6a5463690a41545710b3dc2",
            "ea36851b1d554ba8a1a515c367624ecd",
            "4f116a20de77400a8749070a98682b8b",
            "71b194f7a5d64ff68d21bdd70351c49b",
            "87f0f0aa0bc54d39b3041f4ec22f9a88",
            "192f63ae1afd4dcd9d2c54acf6b6afc5",
            "2c8ef862591a41a7bd06355ebdbc5c1d",
            "3d85a483e01b4901b45b4b1d774fef6b",
            "114745d040d94b699c2e22496b3f4cd4",
            "7e2b395b19804434a61a7812d56ab97c",
            "2aacde189e884c858a966ba4775f0ae6",
            "94e116ac08a54452811a3b51e59a11fe",
            "1153edb2ec2e4d7d9f2a1f8095a16972",
            "0bd286ddb37d4c8a88d09df51c7954b2",
            "dcdc214d27d746229c0ac1250a9c91e3",
            "cb5113c83e454599b917780b7c8fd9cb",
            "06b46b2cbec6470d8cca1464a7c01dbe",
            "c03d2bb5251c4954954db42e90fabb17",
            "5ea83de0e5484826a1448b2fb81c9ead",
            "cf05f7693cc84fc89c7dd432b96b4086",
            "0c50282bbf7e437db34d76251151a4d8",
            "dc8d19e7bae9479db315af0feeb1876d",
            "3980f357df2e475d85c6650661df83de",
            "5dda88908e9c4e6bba02c78129cd8fa3",
            "68a5b44f1a784097900cac36bfbbd9fa",
            "fcf4417a7b8e4af485147b2268b2d802",
            "13066fed296b4bb39e4c606c101e6e88",
            "b92580aed992480b81ba676316b3be52",
            "3612ba472e2842419d99ec0218586903",
            "45414cf5883a432e8cf83ad8d1aaf8c7",
            "435301848fa949cb82773ac149e9f67e",
            "33f4bb83985a4d5d8ed64cecb44601cb",
            "0d53770ea6d14b1197fe20f8f804fd39",
            "6dcc82ac8ed044a887260fd091feb969",
            "2a1c514f0b504a0c818cec8c1c93374c",
            "f87b219ab46149ee95c5ef0f50915a89",
            "5f53c5e2d3554c02b8b6a0fadcacbf8a"
          ]
        },
        "outputId": "fe6f6cf5-2738-411a-fdfa-39de043c9ba7"
      },
      "execution_count": 47,
      "outputs": [
        {
          "output_type": "display_data",
          "data": {
            "text/plain": [
              "<IPython.core.display.HTML object>"
            ],
            "text/html": [
              "\n",
              "     <input type=\"file\" id=\"files-365e263f-2474-4999-85c2-c57ef0253922\" name=\"files[]\" multiple disabled\n",
              "        style=\"border:none\" />\n",
              "     <output id=\"result-365e263f-2474-4999-85c2-c57ef0253922\">\n",
              "      Upload widget is only available when the cell has been executed in the\n",
              "      current browser session. Please rerun this cell to enable.\n",
              "      </output>\n",
              "      <script>// Copyright 2017 Google LLC\n",
              "//\n",
              "// Licensed under the Apache License, Version 2.0 (the \"License\");\n",
              "// you may not use this file except in compliance with the License.\n",
              "// You may obtain a copy of the License at\n",
              "//\n",
              "//      http://www.apache.org/licenses/LICENSE-2.0\n",
              "//\n",
              "// Unless required by applicable law or agreed to in writing, software\n",
              "// distributed under the License is distributed on an \"AS IS\" BASIS,\n",
              "// WITHOUT WARRANTIES OR CONDITIONS OF ANY KIND, either express or implied.\n",
              "// See the License for the specific language governing permissions and\n",
              "// limitations under the License.\n",
              "\n",
              "/**\n",
              " * @fileoverview Helpers for google.colab Python module.\n",
              " */\n",
              "(function(scope) {\n",
              "function span(text, styleAttributes = {}) {\n",
              "  const element = document.createElement('span');\n",
              "  element.textContent = text;\n",
              "  for (const key of Object.keys(styleAttributes)) {\n",
              "    element.style[key] = styleAttributes[key];\n",
              "  }\n",
              "  return element;\n",
              "}\n",
              "\n",
              "// Max number of bytes which will be uploaded at a time.\n",
              "const MAX_PAYLOAD_SIZE = 100 * 1024;\n",
              "\n",
              "function _uploadFiles(inputId, outputId) {\n",
              "  const steps = uploadFilesStep(inputId, outputId);\n",
              "  const outputElement = document.getElementById(outputId);\n",
              "  // Cache steps on the outputElement to make it available for the next call\n",
              "  // to uploadFilesContinue from Python.\n",
              "  outputElement.steps = steps;\n",
              "\n",
              "  return _uploadFilesContinue(outputId);\n",
              "}\n",
              "\n",
              "// This is roughly an async generator (not supported in the browser yet),\n",
              "// where there are multiple asynchronous steps and the Python side is going\n",
              "// to poll for completion of each step.\n",
              "// This uses a Promise to block the python side on completion of each step,\n",
              "// then passes the result of the previous step as the input to the next step.\n",
              "function _uploadFilesContinue(outputId) {\n",
              "  const outputElement = document.getElementById(outputId);\n",
              "  const steps = outputElement.steps;\n",
              "\n",
              "  const next = steps.next(outputElement.lastPromiseValue);\n",
              "  return Promise.resolve(next.value.promise).then((value) => {\n",
              "    // Cache the last promise value to make it available to the next\n",
              "    // step of the generator.\n",
              "    outputElement.lastPromiseValue = value;\n",
              "    return next.value.response;\n",
              "  });\n",
              "}\n",
              "\n",
              "/**\n",
              " * Generator function which is called between each async step of the upload\n",
              " * process.\n",
              " * @param {string} inputId Element ID of the input file picker element.\n",
              " * @param {string} outputId Element ID of the output display.\n",
              " * @return {!Iterable<!Object>} Iterable of next steps.\n",
              " */\n",
              "function* uploadFilesStep(inputId, outputId) {\n",
              "  const inputElement = document.getElementById(inputId);\n",
              "  inputElement.disabled = false;\n",
              "\n",
              "  const outputElement = document.getElementById(outputId);\n",
              "  outputElement.innerHTML = '';\n",
              "\n",
              "  const pickedPromise = new Promise((resolve) => {\n",
              "    inputElement.addEventListener('change', (e) => {\n",
              "      resolve(e.target.files);\n",
              "    });\n",
              "  });\n",
              "\n",
              "  const cancel = document.createElement('button');\n",
              "  inputElement.parentElement.appendChild(cancel);\n",
              "  cancel.textContent = 'Cancel upload';\n",
              "  const cancelPromise = new Promise((resolve) => {\n",
              "    cancel.onclick = () => {\n",
              "      resolve(null);\n",
              "    };\n",
              "  });\n",
              "\n",
              "  // Wait for the user to pick the files.\n",
              "  const files = yield {\n",
              "    promise: Promise.race([pickedPromise, cancelPromise]),\n",
              "    response: {\n",
              "      action: 'starting',\n",
              "    }\n",
              "  };\n",
              "\n",
              "  cancel.remove();\n",
              "\n",
              "  // Disable the input element since further picks are not allowed.\n",
              "  inputElement.disabled = true;\n",
              "\n",
              "  if (!files) {\n",
              "    return {\n",
              "      response: {\n",
              "        action: 'complete',\n",
              "      }\n",
              "    };\n",
              "  }\n",
              "\n",
              "  for (const file of files) {\n",
              "    const li = document.createElement('li');\n",
              "    li.append(span(file.name, {fontWeight: 'bold'}));\n",
              "    li.append(span(\n",
              "        `(${file.type || 'n/a'}) - ${file.size} bytes, ` +\n",
              "        `last modified: ${\n",
              "            file.lastModifiedDate ? file.lastModifiedDate.toLocaleDateString() :\n",
              "                                    'n/a'} - `));\n",
              "    const percent = span('0% done');\n",
              "    li.appendChild(percent);\n",
              "\n",
              "    outputElement.appendChild(li);\n",
              "\n",
              "    const fileDataPromise = new Promise((resolve) => {\n",
              "      const reader = new FileReader();\n",
              "      reader.onload = (e) => {\n",
              "        resolve(e.target.result);\n",
              "      };\n",
              "      reader.readAsArrayBuffer(file);\n",
              "    });\n",
              "    // Wait for the data to be ready.\n",
              "    let fileData = yield {\n",
              "      promise: fileDataPromise,\n",
              "      response: {\n",
              "        action: 'continue',\n",
              "      }\n",
              "    };\n",
              "\n",
              "    // Use a chunked sending to avoid message size limits. See b/62115660.\n",
              "    let position = 0;\n",
              "    do {\n",
              "      const length = Math.min(fileData.byteLength - position, MAX_PAYLOAD_SIZE);\n",
              "      const chunk = new Uint8Array(fileData, position, length);\n",
              "      position += length;\n",
              "\n",
              "      const base64 = btoa(String.fromCharCode.apply(null, chunk));\n",
              "      yield {\n",
              "        response: {\n",
              "          action: 'append',\n",
              "          file: file.name,\n",
              "          data: base64,\n",
              "        },\n",
              "      };\n",
              "\n",
              "      let percentDone = fileData.byteLength === 0 ?\n",
              "          100 :\n",
              "          Math.round((position / fileData.byteLength) * 100);\n",
              "      percent.textContent = `${percentDone}% done`;\n",
              "\n",
              "    } while (position < fileData.byteLength);\n",
              "  }\n",
              "\n",
              "  // All done.\n",
              "  yield {\n",
              "    response: {\n",
              "      action: 'complete',\n",
              "    }\n",
              "  };\n",
              "}\n",
              "\n",
              "scope.google = scope.google || {};\n",
              "scope.google.colab = scope.google.colab || {};\n",
              "scope.google.colab._files = {\n",
              "  _uploadFiles,\n",
              "  _uploadFilesContinue,\n",
              "};\n",
              "})(self);\n",
              "</script> "
            ]
          },
          "metadata": {}
        },
        {
          "output_type": "stream",
          "name": "stdout",
          "text": [
            "Saving 1724342646_CV1.pdf to 1724342646_CV1.pdf\n",
            "Saving 1724342661_CV2.pdf to 1724342661_CV2.pdf\n",
            "Saving 1724342673_CV3.pdf to 1724342673_CV3.pdf\n",
            "Saving 1724342683_CV4.pdf to 1724342683_CV4.pdf\n",
            "Saving 1724342694_CV5.pdf to 1724342694_CV5.pdf\n",
            "Saving 1724342704_CV6.pdf to 1724342704_CV6.pdf\n",
            "Saving 1724342714_CV7.pdf to 1724342714_CV7.pdf\n",
            "Saving 1724342728_CV8.pdf to 1724342728_CV8.pdf\n",
            "Saving 1724342738_CV9.pdf to 1724342738_CV9.pdf\n"
          ]
        },
        {
          "output_type": "display_data",
          "data": {
            "text/plain": [
              "Output()"
            ],
            "application/vnd.jupyter.widget-view+json": {
              "version_major": 2,
              "version_minor": 0,
              "model_id": "735f6b0d2ffc4af592edb19cb71f404b"
            }
          },
          "metadata": {}
        },
        {
          "output_type": "display_data",
          "data": {
            "text/plain": [],
            "text/html": [
              "<pre style=\"white-space:pre;overflow-x:auto;line-height:normal;font-family:Menlo,'DejaVu Sans Mono',consolas,'Courier New',monospace\"></pre>\n"
            ]
          },
          "metadata": {}
        },
        {
          "output_type": "stream",
          "name": "stderr",
          "text": [
            "WARNING:ocrmypdf._pipeline:This PDF is marked as a Tagged PDF. This often indicates that the PDF was generated from an office document and does not need OCR. PDF pages processed by OCRmyPDF may not be tagged correctly.\n"
          ]
        },
        {
          "output_type": "display_data",
          "data": {
            "text/plain": [
              "Output()"
            ],
            "application/vnd.jupyter.widget-view+json": {
              "version_major": 2,
              "version_minor": 0,
              "model_id": "6632693b05114540b86279ac18449175"
            }
          },
          "metadata": {}
        },
        {
          "output_type": "display_data",
          "data": {
            "text/plain": [],
            "text/html": [
              "<pre style=\"white-space:pre;overflow-x:auto;line-height:normal;font-family:Menlo,'DejaVu Sans Mono',consolas,'Courier New',monospace\"></pre>\n"
            ]
          },
          "metadata": {}
        },
        {
          "output_type": "display_data",
          "data": {
            "text/plain": [
              "Output()"
            ],
            "application/vnd.jupyter.widget-view+json": {
              "version_major": 2,
              "version_minor": 0,
              "model_id": "635efb74f7b74f5ea70b532aa11b2781"
            }
          },
          "metadata": {}
        },
        {
          "output_type": "display_data",
          "data": {
            "text/plain": [],
            "text/html": [
              "<pre style=\"white-space:pre;overflow-x:auto;line-height:normal;font-family:Menlo,'DejaVu Sans Mono',consolas,'Courier New',monospace\"></pre>\n"
            ]
          },
          "metadata": {}
        },
        {
          "output_type": "display_data",
          "data": {
            "text/plain": [
              "Output()"
            ],
            "application/vnd.jupyter.widget-view+json": {
              "version_major": 2,
              "version_minor": 0,
              "model_id": "c6b9d545f231418fa4b16f8a990b1a75"
            }
          },
          "metadata": {}
        },
        {
          "output_type": "stream",
          "name": "stderr",
          "text": [
            "WARNING:ocrmypdf._metadata:Some input metadata could not be copied because it is not permitted in PDF/A. You may wish to examine the output PDF's XMP metadata.\n"
          ]
        },
        {
          "output_type": "display_data",
          "data": {
            "text/plain": [],
            "text/html": [
              "<pre style=\"white-space:pre;overflow-x:auto;line-height:normal;font-family:Menlo,'DejaVu Sans Mono',consolas,'Courier New',monospace\"></pre>\n"
            ]
          },
          "metadata": {}
        },
        {
          "output_type": "display_data",
          "data": {
            "text/plain": [
              "Output()"
            ],
            "application/vnd.jupyter.widget-view+json": {
              "version_major": 2,
              "version_minor": 0,
              "model_id": "f8f658976bbc4846a0195d192ae1f6bf"
            }
          },
          "metadata": {}
        },
        {
          "output_type": "display_data",
          "data": {
            "text/plain": [],
            "text/html": [
              "<pre style=\"white-space:pre;overflow-x:auto;line-height:normal;font-family:Menlo,'DejaVu Sans Mono',consolas,'Courier New',monospace\"></pre>\n"
            ]
          },
          "metadata": {}
        },
        {
          "output_type": "display_data",
          "data": {
            "text/plain": [
              "Output()"
            ],
            "application/vnd.jupyter.widget-view+json": {
              "version_major": 2,
              "version_minor": 0,
              "model_id": "9dbcae531ba8467f8e74b11574a5fe11"
            }
          },
          "metadata": {}
        },
        {
          "output_type": "display_data",
          "data": {
            "text/plain": [],
            "text/html": [
              "<pre style=\"white-space:pre;overflow-x:auto;line-height:normal;font-family:Menlo,'DejaVu Sans Mono',consolas,'Courier New',monospace\"></pre>\n"
            ]
          },
          "metadata": {}
        },
        {
          "output_type": "display_data",
          "data": {
            "text/plain": [
              "Output()"
            ],
            "application/vnd.jupyter.widget-view+json": {
              "version_major": 2,
              "version_minor": 0,
              "model_id": "7aa40f37ba4047fcaeec2e435a4109d4"
            }
          },
          "metadata": {}
        },
        {
          "output_type": "display_data",
          "data": {
            "text/plain": [],
            "text/html": [
              "<pre style=\"white-space:pre;overflow-x:auto;line-height:normal;font-family:Menlo,'DejaVu Sans Mono',consolas,'Courier New',monospace\"></pre>\n"
            ]
          },
          "metadata": {}
        },
        {
          "output_type": "stream",
          "name": "stderr",
          "text": [
            "WARNING:ocrmypdf._validation:The output file size is 6.09× larger than the input file.\n",
            "Possible reasons for this include:\n",
            "--force-ocr was issued, causing transcoding.\n",
            "The optional dependency 'jbig2' was not found, so some image optimizations could not be attempted.\n",
            "The optional dependency 'pngquant' was not found, so some image optimizations could not be attempted.\n",
            "PDF/A conversion was enabled. (Try `--output-type pdf`.)\n",
            "\n"
          ]
        },
        {
          "output_type": "display_data",
          "data": {
            "text/plain": [
              "Output()"
            ],
            "application/vnd.jupyter.widget-view+json": {
              "version_major": 2,
              "version_minor": 0,
              "model_id": "5efcbf07d1984494ab27a51385150c16"
            }
          },
          "metadata": {}
        },
        {
          "output_type": "display_data",
          "data": {
            "text/plain": [],
            "text/html": [
              "<pre style=\"white-space:pre;overflow-x:auto;line-height:normal;font-family:Menlo,'DejaVu Sans Mono',consolas,'Courier New',monospace\"></pre>\n"
            ]
          },
          "metadata": {}
        },
        {
          "output_type": "stream",
          "name": "stderr",
          "text": [
            "WARNING:ocrmypdf._pipeline:This PDF is marked as a Tagged PDF. This often indicates that the PDF was generated from an office document and does not need OCR. PDF pages processed by OCRmyPDF may not be tagged correctly.\n"
          ]
        },
        {
          "output_type": "display_data",
          "data": {
            "text/plain": [
              "Output()"
            ],
            "application/vnd.jupyter.widget-view+json": {
              "version_major": 2,
              "version_minor": 0,
              "model_id": "f2de9f242dce4e42864a5ac2dafd32ba"
            }
          },
          "metadata": {}
        },
        {
          "output_type": "display_data",
          "data": {
            "text/plain": [],
            "text/html": [
              "<pre style=\"white-space:pre;overflow-x:auto;line-height:normal;font-family:Menlo,'DejaVu Sans Mono',consolas,'Courier New',monospace\"></pre>\n"
            ]
          },
          "metadata": {}
        },
        {
          "output_type": "display_data",
          "data": {
            "text/plain": [
              "Output()"
            ],
            "application/vnd.jupyter.widget-view+json": {
              "version_major": 2,
              "version_minor": 0,
              "model_id": "1506c6a08c514f498bf96d51f9264728"
            }
          },
          "metadata": {}
        },
        {
          "output_type": "display_data",
          "data": {
            "text/plain": [],
            "text/html": [
              "<pre style=\"white-space:pre;overflow-x:auto;line-height:normal;font-family:Menlo,'DejaVu Sans Mono',consolas,'Courier New',monospace\"></pre>\n"
            ]
          },
          "metadata": {}
        },
        {
          "output_type": "display_data",
          "data": {
            "text/plain": [
              "Output()"
            ],
            "application/vnd.jupyter.widget-view+json": {
              "version_major": 2,
              "version_minor": 0,
              "model_id": "7f0a91b7f4944041a366104294c9f5b6"
            }
          },
          "metadata": {}
        },
        {
          "output_type": "stream",
          "name": "stderr",
          "text": [
            "WARNING:ocrmypdf._metadata:Some input metadata could not be copied because it is not permitted in PDF/A. You may wish to examine the output PDF's XMP metadata.\n"
          ]
        },
        {
          "output_type": "display_data",
          "data": {
            "text/plain": [],
            "text/html": [
              "<pre style=\"white-space:pre;overflow-x:auto;line-height:normal;font-family:Menlo,'DejaVu Sans Mono',consolas,'Courier New',monospace\"></pre>\n"
            ]
          },
          "metadata": {}
        },
        {
          "output_type": "display_data",
          "data": {
            "text/plain": [
              "Output()"
            ],
            "application/vnd.jupyter.widget-view+json": {
              "version_major": 2,
              "version_minor": 0,
              "model_id": "c31bbeb341fd4da7bcd3c7897a761c32"
            }
          },
          "metadata": {}
        },
        {
          "output_type": "display_data",
          "data": {
            "text/plain": [],
            "text/html": [
              "<pre style=\"white-space:pre;overflow-x:auto;line-height:normal;font-family:Menlo,'DejaVu Sans Mono',consolas,'Courier New',monospace\"></pre>\n"
            ]
          },
          "metadata": {}
        },
        {
          "output_type": "display_data",
          "data": {
            "text/plain": [
              "Output()"
            ],
            "application/vnd.jupyter.widget-view+json": {
              "version_major": 2,
              "version_minor": 0,
              "model_id": "83d6128c52cc41368a22b378b15d611a"
            }
          },
          "metadata": {}
        },
        {
          "output_type": "display_data",
          "data": {
            "text/plain": [],
            "text/html": [
              "<pre style=\"white-space:pre;overflow-x:auto;line-height:normal;font-family:Menlo,'DejaVu Sans Mono',consolas,'Courier New',monospace\"></pre>\n"
            ]
          },
          "metadata": {}
        },
        {
          "output_type": "display_data",
          "data": {
            "text/plain": [
              "Output()"
            ],
            "application/vnd.jupyter.widget-view+json": {
              "version_major": 2,
              "version_minor": 0,
              "model_id": "df88875d510b48cd91544747ec7a10de"
            }
          },
          "metadata": {}
        },
        {
          "output_type": "display_data",
          "data": {
            "text/plain": [],
            "text/html": [
              "<pre style=\"white-space:pre;overflow-x:auto;line-height:normal;font-family:Menlo,'DejaVu Sans Mono',consolas,'Courier New',monospace\"></pre>\n"
            ]
          },
          "metadata": {}
        },
        {
          "output_type": "stream",
          "name": "stderr",
          "text": [
            "WARNING:ocrmypdf._validation:The output file size is 5.71× larger than the input file.\n",
            "Possible reasons for this include:\n",
            "--force-ocr was issued, causing transcoding.\n",
            "The optional dependency 'jbig2' was not found, so some image optimizations could not be attempted.\n",
            "The optional dependency 'pngquant' was not found, so some image optimizations could not be attempted.\n",
            "PDF/A conversion was enabled. (Try `--output-type pdf`.)\n",
            "\n"
          ]
        },
        {
          "output_type": "display_data",
          "data": {
            "text/plain": [
              "Output()"
            ],
            "application/vnd.jupyter.widget-view+json": {
              "version_major": 2,
              "version_minor": 0,
              "model_id": "0e02819c534c46729435a04b0bb74662"
            }
          },
          "metadata": {}
        },
        {
          "output_type": "display_data",
          "data": {
            "text/plain": [],
            "text/html": [
              "<pre style=\"white-space:pre;overflow-x:auto;line-height:normal;font-family:Menlo,'DejaVu Sans Mono',consolas,'Courier New',monospace\"></pre>\n"
            ]
          },
          "metadata": {}
        },
        {
          "output_type": "display_data",
          "data": {
            "text/plain": [
              "Output()"
            ],
            "application/vnd.jupyter.widget-view+json": {
              "version_major": 2,
              "version_minor": 0,
              "model_id": "a7ea315e3896455abdba1a30cf18c942"
            }
          },
          "metadata": {}
        },
        {
          "output_type": "display_data",
          "data": {
            "text/plain": [],
            "text/html": [
              "<pre style=\"white-space:pre;overflow-x:auto;line-height:normal;font-family:Menlo,'DejaVu Sans Mono',consolas,'Courier New',monospace\"></pre>\n"
            ]
          },
          "metadata": {}
        },
        {
          "output_type": "display_data",
          "data": {
            "text/plain": [
              "Output()"
            ],
            "application/vnd.jupyter.widget-view+json": {
              "version_major": 2,
              "version_minor": 0,
              "model_id": "872a702fb6474bc3badd3f02f37f06be"
            }
          },
          "metadata": {}
        },
        {
          "output_type": "display_data",
          "data": {
            "text/plain": [],
            "text/html": [
              "<pre style=\"white-space:pre;overflow-x:auto;line-height:normal;font-family:Menlo,'DejaVu Sans Mono',consolas,'Courier New',monospace\"></pre>\n"
            ]
          },
          "metadata": {}
        },
        {
          "output_type": "display_data",
          "data": {
            "text/plain": [
              "Output()"
            ],
            "application/vnd.jupyter.widget-view+json": {
              "version_major": 2,
              "version_minor": 0,
              "model_id": "565ae30099cf4351bbc8895ab71ae151"
            }
          },
          "metadata": {}
        },
        {
          "output_type": "stream",
          "name": "stderr",
          "text": [
            "WARNING:ocrmypdf._metadata:Some input metadata could not be copied because it is not permitted in PDF/A. You may wish to examine the output PDF's XMP metadata.\n"
          ]
        },
        {
          "output_type": "display_data",
          "data": {
            "text/plain": [],
            "text/html": [
              "<pre style=\"white-space:pre;overflow-x:auto;line-height:normal;font-family:Menlo,'DejaVu Sans Mono',consolas,'Courier New',monospace\"></pre>\n"
            ]
          },
          "metadata": {}
        },
        {
          "output_type": "display_data",
          "data": {
            "text/plain": [
              "Output()"
            ],
            "application/vnd.jupyter.widget-view+json": {
              "version_major": 2,
              "version_minor": 0,
              "model_id": "023219eb08994242b668ae31050b2cc3"
            }
          },
          "metadata": {}
        },
        {
          "output_type": "display_data",
          "data": {
            "text/plain": [],
            "text/html": [
              "<pre style=\"white-space:pre;overflow-x:auto;line-height:normal;font-family:Menlo,'DejaVu Sans Mono',consolas,'Courier New',monospace\"></pre>\n"
            ]
          },
          "metadata": {}
        },
        {
          "output_type": "display_data",
          "data": {
            "text/plain": [
              "Output()"
            ],
            "application/vnd.jupyter.widget-view+json": {
              "version_major": 2,
              "version_minor": 0,
              "model_id": "dfbfbd3dfd5c4dcaa8ba8578a4377c8a"
            }
          },
          "metadata": {}
        },
        {
          "output_type": "display_data",
          "data": {
            "text/plain": [],
            "text/html": [
              "<pre style=\"white-space:pre;overflow-x:auto;line-height:normal;font-family:Menlo,'DejaVu Sans Mono',consolas,'Courier New',monospace\"></pre>\n"
            ]
          },
          "metadata": {}
        },
        {
          "output_type": "display_data",
          "data": {
            "text/plain": [
              "Output()"
            ],
            "application/vnd.jupyter.widget-view+json": {
              "version_major": 2,
              "version_minor": 0,
              "model_id": "a53b8958bf0042fa9ea99f66aab5e35d"
            }
          },
          "metadata": {}
        },
        {
          "output_type": "display_data",
          "data": {
            "text/plain": [],
            "text/html": [
              "<pre style=\"white-space:pre;overflow-x:auto;line-height:normal;font-family:Menlo,'DejaVu Sans Mono',consolas,'Courier New',monospace\"></pre>\n"
            ]
          },
          "metadata": {}
        },
        {
          "output_type": "stream",
          "name": "stderr",
          "text": [
            "WARNING:ocrmypdf._validation:The output file size is 6.38× larger than the input file.\n",
            "Possible reasons for this include:\n",
            "--force-ocr was issued, causing transcoding.\n",
            "The optional dependency 'jbig2' was not found, so some image optimizations could not be attempted.\n",
            "The optional dependency 'pngquant' was not found, so some image optimizations could not be attempted.\n",
            "PDF/A conversion was enabled. (Try `--output-type pdf`.)\n",
            "\n"
          ]
        },
        {
          "output_type": "display_data",
          "data": {
            "text/plain": [
              "Output()"
            ],
            "application/vnd.jupyter.widget-view+json": {
              "version_major": 2,
              "version_minor": 0,
              "model_id": "2d6ce04dc42f4a52ac11060d65c46e82"
            }
          },
          "metadata": {}
        },
        {
          "output_type": "display_data",
          "data": {
            "text/plain": [],
            "text/html": [
              "<pre style=\"white-space:pre;overflow-x:auto;line-height:normal;font-family:Menlo,'DejaVu Sans Mono',consolas,'Courier New',monospace\"></pre>\n"
            ]
          },
          "metadata": {}
        },
        {
          "output_type": "display_data",
          "data": {
            "text/plain": [
              "Output()"
            ],
            "application/vnd.jupyter.widget-view+json": {
              "version_major": 2,
              "version_minor": 0,
              "model_id": "983a51c2b000432fa15e8f1739e83011"
            }
          },
          "metadata": {}
        },
        {
          "output_type": "display_data",
          "data": {
            "text/plain": [],
            "text/html": [
              "<pre style=\"white-space:pre;overflow-x:auto;line-height:normal;font-family:Menlo,'DejaVu Sans Mono',consolas,'Courier New',monospace\"></pre>\n"
            ]
          },
          "metadata": {}
        },
        {
          "output_type": "display_data",
          "data": {
            "text/plain": [
              "Output()"
            ],
            "application/vnd.jupyter.widget-view+json": {
              "version_major": 2,
              "version_minor": 0,
              "model_id": "f1741887cf5745d7b4c92e739b187262"
            }
          },
          "metadata": {}
        },
        {
          "output_type": "display_data",
          "data": {
            "text/plain": [],
            "text/html": [
              "<pre style=\"white-space:pre;overflow-x:auto;line-height:normal;font-family:Menlo,'DejaVu Sans Mono',consolas,'Courier New',monospace\"></pre>\n"
            ]
          },
          "metadata": {}
        },
        {
          "output_type": "display_data",
          "data": {
            "text/plain": [
              "Output()"
            ],
            "application/vnd.jupyter.widget-view+json": {
              "version_major": 2,
              "version_minor": 0,
              "model_id": "576a1fab91c1461d8ca1766350687652"
            }
          },
          "metadata": {}
        },
        {
          "output_type": "display_data",
          "data": {
            "text/plain": [],
            "text/html": [
              "<pre style=\"white-space:pre;overflow-x:auto;line-height:normal;font-family:Menlo,'DejaVu Sans Mono',consolas,'Courier New',monospace\"></pre>\n"
            ]
          },
          "metadata": {}
        },
        {
          "output_type": "display_data",
          "data": {
            "text/plain": [
              "Output()"
            ],
            "application/vnd.jupyter.widget-view+json": {
              "version_major": 2,
              "version_minor": 0,
              "model_id": "ad98f86f900843cbbb76ac3d952a1c26"
            }
          },
          "metadata": {}
        },
        {
          "output_type": "display_data",
          "data": {
            "text/plain": [],
            "text/html": [
              "<pre style=\"white-space:pre;overflow-x:auto;line-height:normal;font-family:Menlo,'DejaVu Sans Mono',consolas,'Courier New',monospace\"></pre>\n"
            ]
          },
          "metadata": {}
        },
        {
          "output_type": "display_data",
          "data": {
            "text/plain": [
              "Output()"
            ],
            "application/vnd.jupyter.widget-view+json": {
              "version_major": 2,
              "version_minor": 0,
              "model_id": "bce372fb90ca4e7d8a3aaba8793b17d9"
            }
          },
          "metadata": {}
        },
        {
          "output_type": "display_data",
          "data": {
            "text/plain": [],
            "text/html": [
              "<pre style=\"white-space:pre;overflow-x:auto;line-height:normal;font-family:Menlo,'DejaVu Sans Mono',consolas,'Courier New',monospace\"></pre>\n"
            ]
          },
          "metadata": {}
        },
        {
          "output_type": "display_data",
          "data": {
            "text/plain": [
              "Output()"
            ],
            "application/vnd.jupyter.widget-view+json": {
              "version_major": 2,
              "version_minor": 0,
              "model_id": "e996096d60b5424898bc208f8dd67ccc"
            }
          },
          "metadata": {}
        },
        {
          "output_type": "display_data",
          "data": {
            "text/plain": [],
            "text/html": [
              "<pre style=\"white-space:pre;overflow-x:auto;line-height:normal;font-family:Menlo,'DejaVu Sans Mono',consolas,'Courier New',monospace\"></pre>\n"
            ]
          },
          "metadata": {}
        },
        {
          "output_type": "stream",
          "name": "stderr",
          "text": [
            "WARNING:ocrmypdf._validation:The output file size is 7.31× larger than the input file.\n",
            "Possible reasons for this include:\n",
            "--force-ocr was issued, causing transcoding.\n",
            "The optional dependency 'jbig2' was not found, so some image optimizations could not be attempted.\n",
            "The optional dependency 'pngquant' was not found, so some image optimizations could not be attempted.\n",
            "PDF/A conversion was enabled. (Try `--output-type pdf`.)\n",
            "\n"
          ]
        },
        {
          "output_type": "display_data",
          "data": {
            "text/plain": [
              "Output()"
            ],
            "application/vnd.jupyter.widget-view+json": {
              "version_major": 2,
              "version_minor": 0,
              "model_id": "6f2ded4076da42db94da16dd28195dda"
            }
          },
          "metadata": {}
        },
        {
          "output_type": "display_data",
          "data": {
            "text/plain": [],
            "text/html": [
              "<pre style=\"white-space:pre;overflow-x:auto;line-height:normal;font-family:Menlo,'DejaVu Sans Mono',consolas,'Courier New',monospace\"></pre>\n"
            ]
          },
          "metadata": {}
        },
        {
          "output_type": "stream",
          "name": "stderr",
          "text": [
            "WARNING:ocrmypdf._pipeline:This PDF is marked as a Tagged PDF. This often indicates that the PDF was generated from an office document and does not need OCR. PDF pages processed by OCRmyPDF may not be tagged correctly.\n"
          ]
        },
        {
          "output_type": "display_data",
          "data": {
            "text/plain": [
              "Output()"
            ],
            "application/vnd.jupyter.widget-view+json": {
              "version_major": 2,
              "version_minor": 0,
              "model_id": "790b433b969f493aae5a8fbca84b2eb6"
            }
          },
          "metadata": {}
        },
        {
          "output_type": "display_data",
          "data": {
            "text/plain": [],
            "text/html": [
              "<pre style=\"white-space:pre;overflow-x:auto;line-height:normal;font-family:Menlo,'DejaVu Sans Mono',consolas,'Courier New',monospace\"></pre>\n"
            ]
          },
          "metadata": {}
        },
        {
          "output_type": "display_data",
          "data": {
            "text/plain": [
              "Output()"
            ],
            "application/vnd.jupyter.widget-view+json": {
              "version_major": 2,
              "version_minor": 0,
              "model_id": "f026fc589f624a6489e8f47ae1f6a0db"
            }
          },
          "metadata": {}
        },
        {
          "output_type": "display_data",
          "data": {
            "text/plain": [],
            "text/html": [
              "<pre style=\"white-space:pre;overflow-x:auto;line-height:normal;font-family:Menlo,'DejaVu Sans Mono',consolas,'Courier New',monospace\"></pre>\n"
            ]
          },
          "metadata": {}
        },
        {
          "output_type": "display_data",
          "data": {
            "text/plain": [
              "Output()"
            ],
            "application/vnd.jupyter.widget-view+json": {
              "version_major": 2,
              "version_minor": 0,
              "model_id": "319acfd27f84417aa7c9d10372eab2ce"
            }
          },
          "metadata": {}
        },
        {
          "output_type": "stream",
          "name": "stderr",
          "text": [
            "WARNING:ocrmypdf._metadata:Some input metadata could not be copied because it is not permitted in PDF/A. You may wish to examine the output PDF's XMP metadata.\n"
          ]
        },
        {
          "output_type": "display_data",
          "data": {
            "text/plain": [],
            "text/html": [
              "<pre style=\"white-space:pre;overflow-x:auto;line-height:normal;font-family:Menlo,'DejaVu Sans Mono',consolas,'Courier New',monospace\"></pre>\n"
            ]
          },
          "metadata": {}
        },
        {
          "output_type": "display_data",
          "data": {
            "text/plain": [
              "Output()"
            ],
            "application/vnd.jupyter.widget-view+json": {
              "version_major": 2,
              "version_minor": 0,
              "model_id": "50a4752590954405b463160dcc206922"
            }
          },
          "metadata": {}
        },
        {
          "output_type": "display_data",
          "data": {
            "text/plain": [],
            "text/html": [
              "<pre style=\"white-space:pre;overflow-x:auto;line-height:normal;font-family:Menlo,'DejaVu Sans Mono',consolas,'Courier New',monospace\"></pre>\n"
            ]
          },
          "metadata": {}
        },
        {
          "output_type": "display_data",
          "data": {
            "text/plain": [
              "Output()"
            ],
            "application/vnd.jupyter.widget-view+json": {
              "version_major": 2,
              "version_minor": 0,
              "model_id": "a862532370fb41d781f3f9cadf0ad912"
            }
          },
          "metadata": {}
        },
        {
          "output_type": "display_data",
          "data": {
            "text/plain": [],
            "text/html": [
              "<pre style=\"white-space:pre;overflow-x:auto;line-height:normal;font-family:Menlo,'DejaVu Sans Mono',consolas,'Courier New',monospace\"></pre>\n"
            ]
          },
          "metadata": {}
        },
        {
          "output_type": "display_data",
          "data": {
            "text/plain": [
              "Output()"
            ],
            "application/vnd.jupyter.widget-view+json": {
              "version_major": 2,
              "version_minor": 0,
              "model_id": "e718756bdfed4f12a5627aae40f91960"
            }
          },
          "metadata": {}
        },
        {
          "output_type": "display_data",
          "data": {
            "text/plain": [],
            "text/html": [
              "<pre style=\"white-space:pre;overflow-x:auto;line-height:normal;font-family:Menlo,'DejaVu Sans Mono',consolas,'Courier New',monospace\"></pre>\n"
            ]
          },
          "metadata": {}
        },
        {
          "output_type": "stream",
          "name": "stderr",
          "text": [
            "WARNING:ocrmypdf._validation:The output file size is 6.44× larger than the input file.\n",
            "Possible reasons for this include:\n",
            "--force-ocr was issued, causing transcoding.\n",
            "The optional dependency 'jbig2' was not found, so some image optimizations could not be attempted.\n",
            "The optional dependency 'pngquant' was not found, so some image optimizations could not be attempted.\n",
            "PDF/A conversion was enabled. (Try `--output-type pdf`.)\n",
            "\n"
          ]
        },
        {
          "output_type": "display_data",
          "data": {
            "text/plain": [
              "Output()"
            ],
            "application/vnd.jupyter.widget-view+json": {
              "version_major": 2,
              "version_minor": 0,
              "model_id": "88a52343208f49c0b1ff1f993a7b35e1"
            }
          },
          "metadata": {}
        },
        {
          "output_type": "display_data",
          "data": {
            "text/plain": [],
            "text/html": [
              "<pre style=\"white-space:pre;overflow-x:auto;line-height:normal;font-family:Menlo,'DejaVu Sans Mono',consolas,'Courier New',monospace\"></pre>\n"
            ]
          },
          "metadata": {}
        },
        {
          "output_type": "display_data",
          "data": {
            "text/plain": [
              "Output()"
            ],
            "application/vnd.jupyter.widget-view+json": {
              "version_major": 2,
              "version_minor": 0,
              "model_id": "35c73ff4143c4c909375658b28faecd2"
            }
          },
          "metadata": {}
        },
        {
          "output_type": "display_data",
          "data": {
            "text/plain": [],
            "text/html": [
              "<pre style=\"white-space:pre;overflow-x:auto;line-height:normal;font-family:Menlo,'DejaVu Sans Mono',consolas,'Courier New',monospace\"></pre>\n"
            ]
          },
          "metadata": {}
        },
        {
          "output_type": "display_data",
          "data": {
            "text/plain": [
              "Output()"
            ],
            "application/vnd.jupyter.widget-view+json": {
              "version_major": 2,
              "version_minor": 0,
              "model_id": "dfa4eebf55fc40cd9b47a6b8c5b105f0"
            }
          },
          "metadata": {}
        },
        {
          "output_type": "display_data",
          "data": {
            "text/plain": [],
            "text/html": [
              "<pre style=\"white-space:pre;overflow-x:auto;line-height:normal;font-family:Menlo,'DejaVu Sans Mono',consolas,'Courier New',monospace\"></pre>\n"
            ]
          },
          "metadata": {}
        },
        {
          "output_type": "display_data",
          "data": {
            "text/plain": [
              "Output()"
            ],
            "application/vnd.jupyter.widget-view+json": {
              "version_major": 2,
              "version_minor": 0,
              "model_id": "cb9ee1d9d73e490ab0de10b7f8ca48a3"
            }
          },
          "metadata": {}
        },
        {
          "output_type": "display_data",
          "data": {
            "text/plain": [],
            "text/html": [
              "<pre style=\"white-space:pre;overflow-x:auto;line-height:normal;font-family:Menlo,'DejaVu Sans Mono',consolas,'Courier New',monospace\"></pre>\n"
            ]
          },
          "metadata": {}
        },
        {
          "output_type": "display_data",
          "data": {
            "text/plain": [
              "Output()"
            ],
            "application/vnd.jupyter.widget-view+json": {
              "version_major": 2,
              "version_minor": 0,
              "model_id": "9c3fb9559e3e4e30b4cf947f6910b12b"
            }
          },
          "metadata": {}
        },
        {
          "output_type": "display_data",
          "data": {
            "text/plain": [],
            "text/html": [
              "<pre style=\"white-space:pre;overflow-x:auto;line-height:normal;font-family:Menlo,'DejaVu Sans Mono',consolas,'Courier New',monospace\"></pre>\n"
            ]
          },
          "metadata": {}
        },
        {
          "output_type": "display_data",
          "data": {
            "text/plain": [
              "Output()"
            ],
            "application/vnd.jupyter.widget-view+json": {
              "version_major": 2,
              "version_minor": 0,
              "model_id": "da60af0ba52942f48bee50f8df1fba2b"
            }
          },
          "metadata": {}
        },
        {
          "output_type": "display_data",
          "data": {
            "text/plain": [],
            "text/html": [
              "<pre style=\"white-space:pre;overflow-x:auto;line-height:normal;font-family:Menlo,'DejaVu Sans Mono',consolas,'Courier New',monospace\"></pre>\n"
            ]
          },
          "metadata": {}
        },
        {
          "output_type": "display_data",
          "data": {
            "text/plain": [
              "Output()"
            ],
            "application/vnd.jupyter.widget-view+json": {
              "version_major": 2,
              "version_minor": 0,
              "model_id": "5f6928c7785e4df380672ab4f4a24576"
            }
          },
          "metadata": {}
        },
        {
          "output_type": "display_data",
          "data": {
            "text/plain": [],
            "text/html": [
              "<pre style=\"white-space:pre;overflow-x:auto;line-height:normal;font-family:Menlo,'DejaVu Sans Mono',consolas,'Courier New',monospace\"></pre>\n"
            ]
          },
          "metadata": {}
        },
        {
          "output_type": "stream",
          "name": "stderr",
          "text": [
            "WARNING:ocrmypdf._validation:The output file size is 1.52× larger than the input file.\n",
            "Possible reasons for this include:\n",
            "--force-ocr was issued, causing transcoding.\n",
            "The optional dependency 'jbig2' was not found, so some image optimizations could not be attempted.\n",
            "The optional dependency 'pngquant' was not found, so some image optimizations could not be attempted.\n",
            "PDF/A conversion was enabled. (Try `--output-type pdf`.)\n",
            "\n"
          ]
        },
        {
          "output_type": "display_data",
          "data": {
            "text/plain": [
              "Output()"
            ],
            "application/vnd.jupyter.widget-view+json": {
              "version_major": 2,
              "version_minor": 0,
              "model_id": "8f0c9a0ddfb94a31a37ee19b80b760a7"
            }
          },
          "metadata": {}
        },
        {
          "output_type": "display_data",
          "data": {
            "text/plain": [],
            "text/html": [
              "<pre style=\"white-space:pre;overflow-x:auto;line-height:normal;font-family:Menlo,'DejaVu Sans Mono',consolas,'Courier New',monospace\"></pre>\n"
            ]
          },
          "metadata": {}
        },
        {
          "output_type": "display_data",
          "data": {
            "text/plain": [
              "Output()"
            ],
            "application/vnd.jupyter.widget-view+json": {
              "version_major": 2,
              "version_minor": 0,
              "model_id": "256aeb274bd649d9a19b50a04fcc40f7"
            }
          },
          "metadata": {}
        },
        {
          "output_type": "display_data",
          "data": {
            "text/plain": [],
            "text/html": [
              "<pre style=\"white-space:pre;overflow-x:auto;line-height:normal;font-family:Menlo,'DejaVu Sans Mono',consolas,'Courier New',monospace\"></pre>\n"
            ]
          },
          "metadata": {}
        },
        {
          "output_type": "display_data",
          "data": {
            "text/plain": [
              "Output()"
            ],
            "application/vnd.jupyter.widget-view+json": {
              "version_major": 2,
              "version_minor": 0,
              "model_id": "42e28018f25d4676b15621f315dd6c6d"
            }
          },
          "metadata": {}
        },
        {
          "output_type": "display_data",
          "data": {
            "text/plain": [],
            "text/html": [
              "<pre style=\"white-space:pre;overflow-x:auto;line-height:normal;font-family:Menlo,'DejaVu Sans Mono',consolas,'Courier New',monospace\"></pre>\n"
            ]
          },
          "metadata": {}
        },
        {
          "output_type": "display_data",
          "data": {
            "text/plain": [
              "Output()"
            ],
            "application/vnd.jupyter.widget-view+json": {
              "version_major": 2,
              "version_minor": 0,
              "model_id": "ea36851b1d554ba8a1a515c367624ecd"
            }
          },
          "metadata": {}
        },
        {
          "output_type": "display_data",
          "data": {
            "text/plain": [],
            "text/html": [
              "<pre style=\"white-space:pre;overflow-x:auto;line-height:normal;font-family:Menlo,'DejaVu Sans Mono',consolas,'Courier New',monospace\"></pre>\n"
            ]
          },
          "metadata": {}
        },
        {
          "output_type": "display_data",
          "data": {
            "text/plain": [
              "Output()"
            ],
            "application/vnd.jupyter.widget-view+json": {
              "version_major": 2,
              "version_minor": 0,
              "model_id": "71b194f7a5d64ff68d21bdd70351c49b"
            }
          },
          "metadata": {}
        },
        {
          "output_type": "display_data",
          "data": {
            "text/plain": [],
            "text/html": [
              "<pre style=\"white-space:pre;overflow-x:auto;line-height:normal;font-family:Menlo,'DejaVu Sans Mono',consolas,'Courier New',monospace\"></pre>\n"
            ]
          },
          "metadata": {}
        },
        {
          "output_type": "display_data",
          "data": {
            "text/plain": [
              "Output()"
            ],
            "application/vnd.jupyter.widget-view+json": {
              "version_major": 2,
              "version_minor": 0,
              "model_id": "192f63ae1afd4dcd9d2c54acf6b6afc5"
            }
          },
          "metadata": {}
        },
        {
          "output_type": "display_data",
          "data": {
            "text/plain": [],
            "text/html": [
              "<pre style=\"white-space:pre;overflow-x:auto;line-height:normal;font-family:Menlo,'DejaVu Sans Mono',consolas,'Courier New',monospace\"></pre>\n"
            ]
          },
          "metadata": {}
        },
        {
          "output_type": "display_data",
          "data": {
            "text/plain": [
              "Output()"
            ],
            "application/vnd.jupyter.widget-view+json": {
              "version_major": 2,
              "version_minor": 0,
              "model_id": "3d85a483e01b4901b45b4b1d774fef6b"
            }
          },
          "metadata": {}
        },
        {
          "output_type": "display_data",
          "data": {
            "text/plain": [],
            "text/html": [
              "<pre style=\"white-space:pre;overflow-x:auto;line-height:normal;font-family:Menlo,'DejaVu Sans Mono',consolas,'Courier New',monospace\"></pre>\n"
            ]
          },
          "metadata": {}
        },
        {
          "output_type": "stream",
          "name": "stderr",
          "text": [
            "WARNING:ocrmypdf._validation:The output file size is 3.67× larger than the input file.\n",
            "Possible reasons for this include:\n",
            "--force-ocr was issued, causing transcoding.\n",
            "The optional dependency 'jbig2' was not found, so some image optimizations could not be attempted.\n",
            "The optional dependency 'pngquant' was not found, so some image optimizations could not be attempted.\n",
            "PDF/A conversion was enabled. (Try `--output-type pdf`.)\n",
            "\n"
          ]
        },
        {
          "output_type": "display_data",
          "data": {
            "text/plain": [
              "Output()"
            ],
            "application/vnd.jupyter.widget-view+json": {
              "version_major": 2,
              "version_minor": 0,
              "model_id": "7e2b395b19804434a61a7812d56ab97c"
            }
          },
          "metadata": {}
        },
        {
          "output_type": "display_data",
          "data": {
            "text/plain": [],
            "text/html": [
              "<pre style=\"white-space:pre;overflow-x:auto;line-height:normal;font-family:Menlo,'DejaVu Sans Mono',consolas,'Courier New',monospace\"></pre>\n"
            ]
          },
          "metadata": {}
        },
        {
          "output_type": "stream",
          "name": "stderr",
          "text": [
            "WARNING:ocrmypdf._pipeline:This PDF is marked as a Tagged PDF. This often indicates that the PDF was generated from an office document and does not need OCR. PDF pages processed by OCRmyPDF may not be tagged correctly.\n"
          ]
        },
        {
          "output_type": "display_data",
          "data": {
            "text/plain": [
              "Output()"
            ],
            "application/vnd.jupyter.widget-view+json": {
              "version_major": 2,
              "version_minor": 0,
              "model_id": "94e116ac08a54452811a3b51e59a11fe"
            }
          },
          "metadata": {}
        },
        {
          "output_type": "display_data",
          "data": {
            "text/plain": [],
            "text/html": [
              "<pre style=\"white-space:pre;overflow-x:auto;line-height:normal;font-family:Menlo,'DejaVu Sans Mono',consolas,'Courier New',monospace\"></pre>\n"
            ]
          },
          "metadata": {}
        },
        {
          "output_type": "display_data",
          "data": {
            "text/plain": [
              "Output()"
            ],
            "application/vnd.jupyter.widget-view+json": {
              "version_major": 2,
              "version_minor": 0,
              "model_id": "0bd286ddb37d4c8a88d09df51c7954b2"
            }
          },
          "metadata": {}
        },
        {
          "output_type": "display_data",
          "data": {
            "text/plain": [],
            "text/html": [
              "<pre style=\"white-space:pre;overflow-x:auto;line-height:normal;font-family:Menlo,'DejaVu Sans Mono',consolas,'Courier New',monospace\"></pre>\n"
            ]
          },
          "metadata": {}
        },
        {
          "output_type": "display_data",
          "data": {
            "text/plain": [
              "Output()"
            ],
            "application/vnd.jupyter.widget-view+json": {
              "version_major": 2,
              "version_minor": 0,
              "model_id": "cb5113c83e454599b917780b7c8fd9cb"
            }
          },
          "metadata": {}
        },
        {
          "output_type": "display_data",
          "data": {
            "text/plain": [],
            "text/html": [
              "<pre style=\"white-space:pre;overflow-x:auto;line-height:normal;font-family:Menlo,'DejaVu Sans Mono',consolas,'Courier New',monospace\"></pre>\n"
            ]
          },
          "metadata": {}
        },
        {
          "output_type": "display_data",
          "data": {
            "text/plain": [
              "Output()"
            ],
            "application/vnd.jupyter.widget-view+json": {
              "version_major": 2,
              "version_minor": 0,
              "model_id": "c03d2bb5251c4954954db42e90fabb17"
            }
          },
          "metadata": {}
        },
        {
          "output_type": "display_data",
          "data": {
            "text/plain": [],
            "text/html": [
              "<pre style=\"white-space:pre;overflow-x:auto;line-height:normal;font-family:Menlo,'DejaVu Sans Mono',consolas,'Courier New',monospace\"></pre>\n"
            ]
          },
          "metadata": {}
        },
        {
          "output_type": "display_data",
          "data": {
            "text/plain": [
              "Output()"
            ],
            "application/vnd.jupyter.widget-view+json": {
              "version_major": 2,
              "version_minor": 0,
              "model_id": "cf05f7693cc84fc89c7dd432b96b4086"
            }
          },
          "metadata": {}
        },
        {
          "output_type": "display_data",
          "data": {
            "text/plain": [],
            "text/html": [
              "<pre style=\"white-space:pre;overflow-x:auto;line-height:normal;font-family:Menlo,'DejaVu Sans Mono',consolas,'Courier New',monospace\"></pre>\n"
            ]
          },
          "metadata": {}
        },
        {
          "output_type": "display_data",
          "data": {
            "text/plain": [
              "Output()"
            ],
            "application/vnd.jupyter.widget-view+json": {
              "version_major": 2,
              "version_minor": 0,
              "model_id": "dc8d19e7bae9479db315af0feeb1876d"
            }
          },
          "metadata": {}
        },
        {
          "output_type": "display_data",
          "data": {
            "text/plain": [],
            "text/html": [
              "<pre style=\"white-space:pre;overflow-x:auto;line-height:normal;font-family:Menlo,'DejaVu Sans Mono',consolas,'Courier New',monospace\"></pre>\n"
            ]
          },
          "metadata": {}
        },
        {
          "output_type": "stream",
          "name": "stderr",
          "text": [
            "WARNING:ocrmypdf._validation:The output file size is 5.12× larger than the input file.\n",
            "Possible reasons for this include:\n",
            "--force-ocr was issued, causing transcoding.\n",
            "The optional dependency 'jbig2' was not found, so some image optimizations could not be attempted.\n",
            "The optional dependency 'pngquant' was not found, so some image optimizations could not be attempted.\n",
            "PDF/A conversion was enabled. (Try `--output-type pdf`.)\n",
            "\n"
          ]
        },
        {
          "output_type": "display_data",
          "data": {
            "text/plain": [
              "Output()"
            ],
            "application/vnd.jupyter.widget-view+json": {
              "version_major": 2,
              "version_minor": 0,
              "model_id": "5dda88908e9c4e6bba02c78129cd8fa3"
            }
          },
          "metadata": {}
        },
        {
          "output_type": "display_data",
          "data": {
            "text/plain": [],
            "text/html": [
              "<pre style=\"white-space:pre;overflow-x:auto;line-height:normal;font-family:Menlo,'DejaVu Sans Mono',consolas,'Courier New',monospace\"></pre>\n"
            ]
          },
          "metadata": {}
        },
        {
          "output_type": "stream",
          "name": "stderr",
          "text": [
            "WARNING:ocrmypdf._pipeline:This PDF is marked as a Tagged PDF. This often indicates that the PDF was generated from an office document and does not need OCR. PDF pages processed by OCRmyPDF may not be tagged correctly.\n"
          ]
        },
        {
          "output_type": "display_data",
          "data": {
            "text/plain": [
              "Output()"
            ],
            "application/vnd.jupyter.widget-view+json": {
              "version_major": 2,
              "version_minor": 0,
              "model_id": "fcf4417a7b8e4af485147b2268b2d802"
            }
          },
          "metadata": {}
        },
        {
          "output_type": "display_data",
          "data": {
            "text/plain": [],
            "text/html": [
              "<pre style=\"white-space:pre;overflow-x:auto;line-height:normal;font-family:Menlo,'DejaVu Sans Mono',consolas,'Courier New',monospace\"></pre>\n"
            ]
          },
          "metadata": {}
        },
        {
          "output_type": "display_data",
          "data": {
            "text/plain": [
              "Output()"
            ],
            "application/vnd.jupyter.widget-view+json": {
              "version_major": 2,
              "version_minor": 0,
              "model_id": "b92580aed992480b81ba676316b3be52"
            }
          },
          "metadata": {}
        },
        {
          "output_type": "display_data",
          "data": {
            "text/plain": [],
            "text/html": [
              "<pre style=\"white-space:pre;overflow-x:auto;line-height:normal;font-family:Menlo,'DejaVu Sans Mono',consolas,'Courier New',monospace\"></pre>\n"
            ]
          },
          "metadata": {}
        },
        {
          "output_type": "display_data",
          "data": {
            "text/plain": [
              "Output()"
            ],
            "application/vnd.jupyter.widget-view+json": {
              "version_major": 2,
              "version_minor": 0,
              "model_id": "45414cf5883a432e8cf83ad8d1aaf8c7"
            }
          },
          "metadata": {}
        },
        {
          "output_type": "stream",
          "name": "stderr",
          "text": [
            "WARNING:ocrmypdf._metadata:Some input metadata could not be copied because it is not permitted in PDF/A. You may wish to examine the output PDF's XMP metadata.\n"
          ]
        },
        {
          "output_type": "display_data",
          "data": {
            "text/plain": [],
            "text/html": [
              "<pre style=\"white-space:pre;overflow-x:auto;line-height:normal;font-family:Menlo,'DejaVu Sans Mono',consolas,'Courier New',monospace\"></pre>\n"
            ]
          },
          "metadata": {}
        },
        {
          "output_type": "display_data",
          "data": {
            "text/plain": [
              "Output()"
            ],
            "application/vnd.jupyter.widget-view+json": {
              "version_major": 2,
              "version_minor": 0,
              "model_id": "33f4bb83985a4d5d8ed64cecb44601cb"
            }
          },
          "metadata": {}
        },
        {
          "output_type": "display_data",
          "data": {
            "text/plain": [],
            "text/html": [
              "<pre style=\"white-space:pre;overflow-x:auto;line-height:normal;font-family:Menlo,'DejaVu Sans Mono',consolas,'Courier New',monospace\"></pre>\n"
            ]
          },
          "metadata": {}
        },
        {
          "output_type": "display_data",
          "data": {
            "text/plain": [
              "Output()"
            ],
            "application/vnd.jupyter.widget-view+json": {
              "version_major": 2,
              "version_minor": 0,
              "model_id": "6dcc82ac8ed044a887260fd091feb969"
            }
          },
          "metadata": {}
        },
        {
          "output_type": "display_data",
          "data": {
            "text/plain": [],
            "text/html": [
              "<pre style=\"white-space:pre;overflow-x:auto;line-height:normal;font-family:Menlo,'DejaVu Sans Mono',consolas,'Courier New',monospace\"></pre>\n"
            ]
          },
          "metadata": {}
        },
        {
          "output_type": "display_data",
          "data": {
            "text/plain": [
              "Output()"
            ],
            "application/vnd.jupyter.widget-view+json": {
              "version_major": 2,
              "version_minor": 0,
              "model_id": "f87b219ab46149ee95c5ef0f50915a89"
            }
          },
          "metadata": {}
        },
        {
          "output_type": "display_data",
          "data": {
            "text/plain": [],
            "text/html": [
              "<pre style=\"white-space:pre;overflow-x:auto;line-height:normal;font-family:Menlo,'DejaVu Sans Mono',consolas,'Courier New',monospace\"></pre>\n"
            ]
          },
          "metadata": {}
        }
      ]
    },
    {
      "cell_type": "code",
      "source": [
        "modelo = SentenceTransformer('distilbert-base-nli-stsb-mean-tokens')# se generan los embeddings\n",
        "tagger = SequenceTagger.load(\"flair/ner-english\")\n",
        "ner = pipeline(\"ner\", model=\"dbmdz/bert-large-cased-finetuned-conll03-english\", aggregation_strategy=\"simple\")\n",
        "\n",
        "frases_ia = [\n",
        "    \"Machine Learning\", \"Deep Learning\", \"Artificial Intelligence\", \"Neural Networks\",\n",
        "    \"Computer Vision\", \"Natural Language Processing\", \"Reinforcement Learning\",\n",
        "    \"Supervised Learning\", \"Unsupervised Learning\", \"Semi-Supervised Learning\",\n",
        "    \"Transfer Learning\", \"Explainable AI\", \"Edge Computing\", \"Generative AI\",\n",
        "    \"Big Data\", \"Data Mining\", \"Data Science\", \"Feature Engineering\", \"Model Optimization\",\n",
        "    \"Predictive Analytics\", \"Clustering Algorithms\", \"Classification Algorithms\",\n",
        "    \"Regression Algorithms\", \"Decision Trees\", \"Support Vector Machines\",\n",
        "    \"Convolutional Neural Networks\", \"Recurrent Neural Networks\", \"Transformers\",\n",
        "    \"Gradient Boosting\", \"Hyperparameter Tuning\", \"AutoML\", \"AI Ethics\", \"Fairness in AI\",\n",
        "    \"Bias Detection\", \"GPT\", \"BERT\", \"LLM (Large Language Models)\", \"NLP\", \"OCR\",\n",
        "    \"Speech Recognition\", \"Text-to-Speech\", \"Speech-to-Text\", \"GANs (Generative Adversarial Networks)\",\n",
        "    \"RL (Reinforcement Learning)\", \"AI for Healthcare\", \"AI for Finance\", \"AI for Education\",\n",
        "    \"AI for Industry 4.0\", \"Autonomous Systems\", \"AI Deployment\", \"AI Scalability\", \"AI Frameworks\",\n",
        "    \"AI Research\", \"Inteligencia Artificial\", \"Aprendizaje Automático\", \"Aprendizaje Supervisado\",\n",
        "    \"Aprendizaje No Supervisado\", \"Aprendizaje Semi-Supervisado\", \"Aprendizaje por Refuerzo\",\n",
        "    \"Aprendizaje Profundo\", \"Redes Neuronales\", \"Visión por Computadora\",\n",
        "    \"Procesamiento de Lenguaje Natural\", \"Analítica Predictiva\", \"Minería de Datos\", \"Ciencia de Datos\",\n",
        "    \"Ingeniería de Características\", \"Optimización de Modelos\", \"Análisis Predictivo\", \"Clústeres\",\n",
        "    \"Algoritmos de Clasificación\", \"Algoritmos de Regresión\", \"Árboles de Decisión\",\n",
        "    \"Máquinas de Soporte Vectorial\", \"Redes Neuronales Convolucionales\",\n",
        "    \"Redes Neuronales Recurrentes\", \"Transformadores\", \"Ajuste de Hiperparámetros\",\n",
        "    \"Modelos Explicables\", \"Modelos de Lenguaje Grande\", \"Toma de Decisiones Autónomas\",\n",
        "    \"Inteligencia Artificial Responsable\", \"Ética en IA\", \"Detección de Sesgos\", \"Reconocimiento de Voz\",\n",
        "    \"Texto a Voz\", \"Voz a Texto\", \"Generación de Imágenes\", \"Sistemas Autónomos\", \"IA en la Salud\",\n",
        "    \"IA en Finanzas\", \"IA en la Industria\", \"IA en la Educación\", \"Computación en el Borde\",\n",
        "    \"Datos Masivos\", \"Automatización de Procesos\", \"Investigación en IA\"\n",
        "]\n",
        "\n",
        "embeddings_frases_ia = modelo.encode(frases_ia)\n",
        "\n",
        "carpeta_txt = './Texto_2'\n",
        "cvs = []\n",
        "for archivo in os.listdir(carpeta_txt):\n",
        "    if archivo.endswith('.txt'):\n",
        "        archivo_ruta = os.path.join(carpeta_txt, archivo)\n",
        "        with open(archivo_ruta, 'r', encoding='utf-8') as f:\n",
        "            contenido = f.read()\n",
        "            cvs.append(contenido)\n",
        "embeddings_cvs = modelo.encode(cvs)\n",
        "similitudes = cosine_similarity(embeddings_cvs, embeddings_frases_ia)\n",
        "\n",
        "def normalizar_texto(texto):\n",
        "    texto_normalizado = re.sub(r'[^\\w\\s]', '', texto.lower())\n",
        "    texto_normalizado = re.sub(r'\\s+', ' ', texto_normalizado).strip()\n",
        "    return texto_normalizado\n",
        "\n",
        "def calcular_coincidencias(cv, frases_ia):\n",
        "    cv_normalizado = normalizar_texto(cv)\n",
        "    frases_encontradas = []\n",
        "    for frase in frases_ia:\n",
        "        frase_normalizada = normalizar_texto(frase)\n",
        "        if frase_normalizada in cv_normalizado:\n",
        "            frases_encontradas.append(frase)\n",
        "    return len(frases_encontradas), frases_encontradas\n",
        "\n",
        "\n",
        "phone_regex = re.compile(r'\\+?\\d{1,3}?[ -]?\\(?\\d{2,4}\\)?[ -]?\\d{2,4}[ -]?\\d{4,6}')\n",
        "email_regex = re.compile(r'\\b[A-Za-z0-9._%+-]+@[A-Za-z0-9.-]+\\.[A-Z|a-z]{2,}\\b')\n",
        "\n",
        "def extract_info_with_ner(text): # para extraer información\n",
        "    entities = ner(text)\n",
        "    names = set()\n",
        "    emails = set(email_regex.findall(text))\n",
        "    raw_phones = phone_regex.findall(text)\n",
        "    phones = set()\n",
        "    for phone in raw_phones:\n",
        "        cleaned_phone = re.sub(r'[^\\d+]', '', phone)\n",
        "        if len(cleaned_phone) >= 8:\n",
        "            phones.add(cleaned_phone)\n",
        "    for entity in entities:\n",
        "        if entity['entity_group'] == 'PER':\n",
        "            names.add(entity['word'])\n",
        "    return {\n",
        "        \"names\": names,\n",
        "        \"emails\": emails,\n",
        "        \"phones\": phones\n",
        "    }\n",
        "\n",
        "def extract_info_with_flair(text):\n",
        "    sentence = Sentence(text)\n",
        "    tagger.predict(sentence)\n",
        "    names = set()\n",
        "    emails = set(email_regex.findall(text))\n",
        "    raw_phones = phone_regex.findall(text)\n",
        "    phones = set()\n",
        "    for phone in raw_phones:\n",
        "        cleaned_phone = re.sub(r'[^\\d+]', '', phone)\n",
        "        if len(cleaned_phone) >= 8:\n",
        "            phones.add(cleaned_phone)\n",
        "    for entity in sentence.get_spans('ner'):\n",
        "        if entity.get_label().value == 'PER':\n",
        "            names.add(entity.text.strip())\n",
        "    return {\n",
        "        \"names\": names,\n",
        "        \"emails\": emails,\n",
        "        \"phones\": phones\n",
        "    }\n",
        "\n",
        "def combine_results(results_ner, results_flair):\n",
        "    combined_names = results_ner[\"names\"].union(results_flair[\"names\"])\n",
        "    combined_emails = results_ner[\"emails\"].union(results_flair[\"emails\"])\n",
        "    combined_phones = results_ner[\"phones\"].union(results_flair[\"phones\"])\n",
        "    return (sorted(combined_names), sorted(combined_emails), sorted(combined_phones))\n",
        "\n",
        "def extract_experience(text):\n",
        "    experience_patterns = [\n",
        "        r'(\\d+(\\.\\d+)?)\\s*(year|años?|yrs?|año)(s)?\\s*(experience)?',\n",
        "        r'(\\d+(\\.\\d+)?)\\s*(or more|o más)\\s*(years?|años?)',\n",
        "        r'(over|más de)\\s*(\\d+)\\s*(years?|años?)',\n",
        "        r'(\\d+)\\s*(year|años?)\\s*(experience|de experiencia)?'\n",
        "    ]\n",
        "\n",
        "    experience_years = []\n",
        "\n",
        "    for pattern in experience_patterns:\n",
        "        matches = re.findall(pattern, text, flags=re.IGNORECASE)\n",
        "        for match in matches:\n",
        "            try:\n",
        "                years = float(match[0])\n",
        "                if years not in experience_years:\n",
        "                    experience_years.append(years)\n",
        "            except ValueError:\n",
        "                continue\n",
        "    return experience_years\n",
        "\n",
        "\n",
        "def calcular_puntaje(cvs:list, frases_ia:list, embeddings_cvs:list, embeddings_frases:list, w1:float=0.8, w2:float=0.2, factor_coincidencias:int=16, factor_similitud:int=9) -> list:\n",
        "    puntajes_ajustados = []\n",
        "    if w1 + w2 != 1:\n",
        "        raise ValueError(\"La suma de los pesos w1 y w2 debe ser 1.\")\n",
        "    for cv, embedding_cv in zip(cvs, embeddings_cvs):\n",
        "        coincidencias = 0\n",
        "        similitudes_semanticas = []\n",
        "        for frase in frases_ia:\n",
        "            if frase.lower() in cv.lower():\n",
        "                coincidencias += 1\n",
        "        for embedding_frase in embeddings_frases_ia:\n",
        "            similitud = np.dot(embedding_cv, embedding_frase) / (np.linalg.norm(embedding_cv) * np.linalg.norm(embedding_frase))\n",
        "            similitudes_semanticas.append(similitud)\n",
        "        similitud_promedio = np.mean(similitudes_semanticas) if similitudes_semanticas else 0\n",
        "        coincidencias_ajustadas = coincidencias * factor_coincidencias\n",
        "        similitud_ajustada = similitud_promedio * factor_similitud\n",
        "        puntaje_ajustado = (w1 * coincidencias_ajustadas) + (w2 * similitud_ajustada)\n",
        "        min_local = 0\n",
        "        max_local = 30\n",
        "        puntaje_escalado = 1 + 9 * (puntaje_ajustado - min_local) / (max_local - min_local)\n",
        "        puntajes_ajustados.append(puntaje_escalado)\n",
        "\n",
        "    return puntajes_ajustados\n",
        "\n",
        "resultados_finales = []\n",
        "resultados_finales_esperados = []\n",
        "\n",
        "for idx, cv_text in enumerate(cvs, 1):\n",
        "    names, emails, phones = combine_results(extract_info_with_ner(cv_text), extract_info_with_ner(cv_text))\n",
        "    coincidencias, frases_coincidentes = calcular_coincidencias(cv_text, frases_ia)\n",
        "    tiene_formacion_ia = 'S' if coincidencias > 0 else 'N'\n",
        "    puntaje = round(calcular_puntaje(cvs, frases_ia, embeddings_cvs, embeddings_frases_ia)[idx-1],2)\n",
        "    experience_years = extract_experience(cv_text)\n",
        "\n",
        "    if experience_years:\n",
        "        experiencia = str(sum(experience_years))\n",
        "    else:\n",
        "        experiencia = 'No encontrado'\n",
        "\n",
        "    resultado = {\n",
        "        \"Nombre\": names if names else 'No encontrado',\n",
        "        \"Teléfono\": phones if phones else 'No encontrado',\n",
        "        \"Email\": emails if emails else 'No encontrado',\n",
        "        \"Años de experiencia\": experiencia,\n",
        "        \"¿Tiene formación en IA? (S/N)\": tiene_formacion_ia,\n",
        "        \"Puntaje\": puntaje\n",
        "    }\n",
        "\n",
        "    diccionario_esperado = {\n",
        "        \"Nombre\": names if names else None,\n",
        "        \"Teléfono\": phones if phones else None,\n",
        "        \"Email\": emails if emails else None,\n",
        "        \"Años de experiencia\": experiencia if experience_years else None,\n",
        "        \"¿Tiene formación en IA? (S/N)\": tiene_formacion_ia,\n",
        "        \"Puntaje\": 0 if not names or not emails or not phones or not experiencia else puntaje\n",
        "    }\n",
        "\n",
        "    resultados_finales.append(resultado)\n",
        "    resultados_finales_esperados.append(diccionario_esperado)\n",
        "\n",
        "print('\\n\\nResultados reales:\\n\\n')\n",
        "for resultado in resultados_finales:\n",
        "    print(resultado)\n",
        "    print('\\n\\n')\n",
        "print('\\n'*5)\n",
        "print('\\n\\nResultados esperados:\\n\\n')\n",
        "for resultado in resultados_finales_esperados:\n",
        "    print(resultado)\n",
        "    print('\\n\\n')\n"
      ],
      "metadata": {
        "id": "0Jqp7QQzJsgw",
        "colab": {
          "base_uri": "https://localhost:8080/"
        },
        "outputId": "bae05661-d2b6-457e-c6e6-1bd565fa1f9a"
      },
      "execution_count": 48,
      "outputs": [
        {
          "output_type": "stream",
          "name": "stdout",
          "text": [
            "2024-12-04 23:16:57,747 SequenceTagger predicts: Dictionary with 20 tags: <unk>, O, S-ORG, S-MISC, B-PER, E-PER, S-LOC, B-ORG, E-ORG, I-PER, S-PER, B-MISC, I-MISC, E-MISC, I-ORG, B-LOC, E-LOC, I-LOC, <START>, <STOP>\n"
          ]
        },
        {
          "output_type": "stream",
          "name": "stderr",
          "text": [
            "Some weights of the model checkpoint at dbmdz/bert-large-cased-finetuned-conll03-english were not used when initializing BertForTokenClassification: ['bert.pooler.dense.bias', 'bert.pooler.dense.weight']\n",
            "- This IS expected if you are initializing BertForTokenClassification from the checkpoint of a model trained on another task or with another architecture (e.g. initializing a BertForSequenceClassification model from a BertForPreTraining model).\n",
            "- This IS NOT expected if you are initializing BertForTokenClassification from the checkpoint of a model that you expect to be exactly identical (initializing a BertForSequenceClassification model from a BertForSequenceClassification model).\n",
            "Hardware accelerator e.g. GPU is available in the environment, but no `device` argument is passed to the `Pipeline` object. Model will be on CPU.\n"
          ]
        },
        {
          "output_type": "stream",
          "name": "stdout",
          "text": [
            "\n",
            "\n",
            "Resultados reales:\n",
            "\n",
            "\n",
            "{'Nombre': ['Michael'], 'Teléfono': 'No encontrado', 'Email': 'No encontrado', 'Años de experiencia': '1.0', '¿Tiene formación en IA? (S/N)': 'S', 'Puntaje': 4.9}\n",
            "\n",
            "\n",
            "\n",
            "{'Nombre': 'No encontrado', 'Teléfono': ['+1234567890'], 'Email': ['hello@reallygreatsite.com'], 'Años de experiencia': '10.0', '¿Tiene formación en IA? (S/N)': 'N', 'Puntaje': 1.01}\n",
            "\n",
            "\n",
            "\n",
            "{'Nombre': 'No encontrado', 'Teléfono': ['+6285777124'], 'Email': ['dhikayudano@gmail.com'], 'Años de experiencia': 'No encontrado', '¿Tiene formación en IA? (S/N)': 'N', 'Puntaje': 1.02}\n",
            "\n",
            "\n",
            "\n",
            "{'Nombre': 'No encontrado', 'Teléfono': ['+6285287404232'], 'Email': ['dyahhediyati@gmail.com'], 'Años de experiencia': 'No encontrado', '¿Tiene formación en IA? (S/N)': 'N', 'Puntaje': 1.11}\n",
            "\n",
            "\n",
            "\n",
            "{'Nombre': 'No encontrado', 'Teléfono': 'No encontrado', 'Email': 'No encontrado', 'Años de experiencia': 'No encontrado', '¿Tiene formación en IA? (S/N)': 'S', 'Puntaje': 4.9}\n",
            "\n",
            "\n",
            "\n",
            "{'Nombre': ['lam Junaedi'], 'Teléfono': ['+6282331472499'], 'Email': ['me@junae.id'], 'Años de experiencia': '6.0', '¿Tiene formación en IA? (S/N)': 'S', 'Puntaje': 1.07}\n",
            "\n",
            "\n",
            "\n",
            "{'Nombre': ['##v'], 'Teléfono': ['02024444490', '09422071490', '09850671175'], 'Email': ['drsantoshkakade@ciilm.com', 'drsantoshkakade@gmail.com'], 'Años de experiencia': '20.0', '¿Tiene formación en IA? (S/N)': 'N', 'Puntaje': 1.07}\n",
            "\n",
            "\n",
            "\n",
            "{'Nombre': 'No encontrado', 'Teléfono': ['606142853', '7736651234'], 'Email': ['loren@shevitz.org'], 'Años de experiencia': 'No encontrado', '¿Tiene formación en IA? (S/N)': 'N', 'Puntaje': 1.08}\n",
            "\n",
            "\n",
            "\n",
            "{'Nombre': 'No encontrado', 'Teléfono': ['085157115062'], 'Email': 'No encontrado', 'Años de experiencia': 'No encontrado', '¿Tiene formación en IA? (S/N)': 'N', 'Puntaje': 1.09}\n",
            "\n",
            "\n",
            "\n",
            "\n",
            "\n",
            "\n",
            "\n",
            "\n",
            "\n",
            "\n",
            "\n",
            "Resultados esperados:\n",
            "\n",
            "\n",
            "{'Nombre': ['Michael'], 'Teléfono': None, 'Email': None, 'Años de experiencia': '1.0', '¿Tiene formación en IA? (S/N)': 'S', 'Puntaje': 0}\n",
            "\n",
            "\n",
            "\n",
            "{'Nombre': None, 'Teléfono': ['+1234567890'], 'Email': ['hello@reallygreatsite.com'], 'Años de experiencia': '10.0', '¿Tiene formación en IA? (S/N)': 'N', 'Puntaje': 0}\n",
            "\n",
            "\n",
            "\n",
            "{'Nombre': None, 'Teléfono': ['+6285777124'], 'Email': ['dhikayudano@gmail.com'], 'Años de experiencia': None, '¿Tiene formación en IA? (S/N)': 'N', 'Puntaje': 0}\n",
            "\n",
            "\n",
            "\n",
            "{'Nombre': None, 'Teléfono': ['+6285287404232'], 'Email': ['dyahhediyati@gmail.com'], 'Años de experiencia': None, '¿Tiene formación en IA? (S/N)': 'N', 'Puntaje': 0}\n",
            "\n",
            "\n",
            "\n",
            "{'Nombre': None, 'Teléfono': None, 'Email': None, 'Años de experiencia': None, '¿Tiene formación en IA? (S/N)': 'S', 'Puntaje': 0}\n",
            "\n",
            "\n",
            "\n",
            "{'Nombre': ['lam Junaedi'], 'Teléfono': ['+6282331472499'], 'Email': ['me@junae.id'], 'Años de experiencia': '6.0', '¿Tiene formación en IA? (S/N)': 'S', 'Puntaje': 1.07}\n",
            "\n",
            "\n",
            "\n",
            "{'Nombre': ['##v'], 'Teléfono': ['02024444490', '09422071490', '09850671175'], 'Email': ['drsantoshkakade@ciilm.com', 'drsantoshkakade@gmail.com'], 'Años de experiencia': '20.0', '¿Tiene formación en IA? (S/N)': 'N', 'Puntaje': 1.07}\n",
            "\n",
            "\n",
            "\n",
            "{'Nombre': None, 'Teléfono': ['606142853', '7736651234'], 'Email': ['loren@shevitz.org'], 'Años de experiencia': None, '¿Tiene formación en IA? (S/N)': 'N', 'Puntaje': 0}\n",
            "\n",
            "\n",
            "\n",
            "{'Nombre': None, 'Teléfono': ['085157115062'], 'Email': None, 'Años de experiencia': None, '¿Tiene formación en IA? (S/N)': 'N', 'Puntaje': 0}\n",
            "\n",
            "\n",
            "\n"
          ]
        }
      ]
    }
  ]
}